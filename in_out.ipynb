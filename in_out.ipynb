{
 "cells": [
  {
   "cell_type": "code",
   "execution_count": null,
   "metadata": {},
   "outputs": [],
   "source": [
    "import pandas as pd\n",
    "import os\n",
    "import glob"
   ]
  },
  {
   "cell_type": "code",
   "execution_count": null,
   "metadata": {},
   "outputs": [],
   "source": [
    "def get_path(dir_path):\n",
    "    \"\"\"\n",
    "    @type dir_path: str\n",
    "    @param dir_path: okunacak klasöre ait path\n",
    "    @rtype: list\n",
    "    @returns: Belirtilen klasördeki excel dosyalarına ait yolun bir listesini döndürür.\n",
    "    \"\"\"\n",
    "\n",
    "    files = [f for f in glob.glob(dir_path + \"**/*.xlsx\", recursive=True)]\n",
    "    return files"
   ]
  },
  {
   "cell_type": "code",
   "execution_count": null,
   "metadata": {},
   "outputs": [],
   "source": [
    "def write_excel(path,df,file_name,prod_name):\n",
    "    directory_path = path+'\\\\'+prod_name + '\\\\'\n",
    "    if not os.path.exists(directory_path):\n",
    "        os.mkdir(directory_path)\n",
    "        if not os.path.exists(directory_path+'detail\\\\'):\n",
    "            os.mkdir(directory_path+'detail\\\\')\n",
    "    writer = pd.ExcelWriter(directory_path+ file_name+'.xlsx', engine='xlsxwriter')\n",
    "    df.to_excel(writer, sheet_name='Sheet1')\n",
    "    writer.save()"
   ]
  },
  {
   "cell_type": "code",
   "execution_count": null,
   "metadata": {},
   "outputs": [],
   "source": [
    "def write(name,full):\n",
    "    \"\"\"Excel'e yazar\n",
    "    Parameters:\n",
    "        name (str): \"\"\"\n",
    "    \n",
    "    path = 'C:\\\\Users\\\\ugur.eren\\\\Python Codes\\\\cefis2\\\\out\\\\'\n",
    "    hour_series = pd.date_range('2018-01-01-18', periods=23, freq='H')\n",
    "    hour_series = hour_series.time\n",
    "    for i in range(23):\n",
    "        fn = hour_series[i].strftime(\"%H-%M-%S\")        \n",
    "        write_excel(path=path,df=full.loc[hour_series[i]].dropna(),file_name=fn,prod_name=name)\n",
    "        write_excel(path=path,df=full.loc[hour_series[i]].describe(),file_name=fn+'_detail', prod_name=name+'\\\\detail')     "
   ]
  }
 ],
 "metadata": {
  "kernelspec": {
   "display_name": "Python 3",
   "language": "python",
   "name": "python3"
  },
  "language_info": {
   "codemirror_mode": {
    "name": "ipython",
    "version": 3
   },
   "file_extension": ".py",
   "mimetype": "text/x-python",
   "name": "python",
   "nbconvert_exporter": "python",
   "pygments_lexer": "ipython3",
   "version": "3.7.3"
  }
 },
 "nbformat": 4,
 "nbformat_minor": 2
}
