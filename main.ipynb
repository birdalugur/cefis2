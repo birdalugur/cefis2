{
 "cells": [
  {
   "cell_type": "markdown",
   "metadata": {
    "scrolled": true
   },
   "source": [
    "! jt -r"
   ]
  },
  {
   "cell_type": "code",
   "execution_count": 3,
   "metadata": {},
   "outputs": [
    {
     "data": {
      "text/plain": [
       "<module 'src.info' from 'C:\\\\Users\\\\ugur.eren\\\\Python Codes\\\\cefis2\\\\src\\\\info.py'>"
      ]
     },
     "execution_count": 3,
     "metadata": {},
     "output_type": "execute_result"
    }
   ],
   "source": [
    "from importlib import reload\n",
    "reload(aux)\n",
    "reload(con)\n",
    "reload(dt)\n",
    "reload(info)"
   ]
  },
  {
   "cell_type": "code",
   "execution_count": 4,
   "metadata": {},
   "outputs": [],
   "source": [
    "import pandas as pd\n",
    "import src.daily_data as dt\n",
    "import src.auxiliary_functions as aux\n",
    "import src.condition as con\n",
    "from datetime import time, datetime,date\n",
    "import src.info as info\n",
    "import src.in_out as io\n",
    "import numpy as np\n",
    "from src.density import Density, draw\n",
    "import itertools"
   ]
  },
  {
   "cell_type": "markdown",
   "metadata": {},
   "source": [
    "# Hazırlık Aşaması"
   ]
  },
  {
   "cell_type": "markdown",
   "metadata": {},
   "source": [
    "**data** klasöründeki tüm dosya yolları alınıyor\n",
    "```python\n",
    ">>> path_list\n",
    "Out []:\n",
    " ['C:\\\\Users\\\\ugur.eren\\\\Python Codes\\\\cefis2\\\\data\\\\20180906_6A_U8.xlsx',\n",
    " 'C:\\\\Users\\\\ugur.eren\\\\Python Codes\\\\cefis2\\\\data\\\\20180906_6B_U8.xlsx',\n",
    " 'C:\\\\Users\\\\ugur.eren\\\\Python Codes\\\\cefis2\\\\data\\\\20180906_6C_U8.xlsx',\n",
    " 'C:\\\\Users\\\\ugur.eren\\\\Python Codes\\\\cefis2\\\\data\\\\20180907_6A_U8.xlsx',\n",
    " 'C:\\\\Users\\\\ugur.eren\\\\Python Codes\\\\cefis2\\\\data\\\\20180907_6B_U8.xlsx',\n",
    " 'C:\\\\Users\\\\ugur.eren\\\\Python Codes\\\\cefis2\\\\data\\\\20180907_6C_U8.xlsx']\n",
    "```"
   ]
  },
  {
   "cell_type": "code",
   "execution_count": 5,
   "metadata": {},
   "outputs": [],
   "source": [
    "path_list = io.get_path('C:\\\\Users\\\\ugur.eren\\\\Python Codes\\\\cefis2\\\\data\\\\')"
   ]
  },
  {
   "cell_type": "markdown",
   "metadata": {},
   "source": [
    "Ürün adları sırayla alınıyor\n",
    "```py\n",
    ">>> product_names\n",
    "Out[]:\n",
    "['6AU8', '6BU8', '6CU8', '6AU8', '6BU8', '6CU8']```"
   ]
  },
  {
   "cell_type": "code",
   "execution_count": 6,
   "metadata": {},
   "outputs": [],
   "source": [
    "product_names = [info.get_productName(path) for path in path_list]"
   ]
  },
  {
   "cell_type": "markdown",
   "metadata": {},
   "source": [
    "Tarihler sırayla alınıyor\n",
    "```py\n",
    ">>> date_list\n",
    "Out[]:\n",
    "[Timestamp('2018-09-06 00:00:00'),\n",
    " Timestamp('2018-09-06 00:00:00'),\n",
    " Timestamp('2018-09-06 00:00:00'),\n",
    " Timestamp('2018-09-07 00:00:00'),\n",
    " Timestamp('2018-09-07 00:00:00'),\n",
    " Timestamp('2018-09-07 00:00:00')]\n",
    "```"
   ]
  },
  {
   "cell_type": "code",
   "execution_count": 7,
   "metadata": {},
   "outputs": [],
   "source": [
    "date_list = [info.get_productDate(path) for path in path_list]"
   ]
  },
  {
   "cell_type": "markdown",
   "metadata": {},
   "source": [
    "Hangi sütunlardaki verileri alacağımızı aşağıdaki listede belirityoruz"
   ]
  },
  {
   "cell_type": "code",
   "execution_count": 8,
   "metadata": {},
   "outputs": [],
   "source": [
    "cols= [\"Time\",\"BID price\",\"ASK price\"]"
   ]
  },
  {
   "cell_type": "markdown",
   "metadata": {},
   "source": [
    "Dosyalardan veriler dataframe olarak okunuyor ve listeye atılıyor.\n",
    "Okunan_veriler'in yapısı: <br/>\n",
    "```py\n",
    "list(pd.DataFrame,pd.DataFrame.....)\n",
    "```"
   ]
  },
  {
   "cell_type": "code",
   "execution_count": 9,
   "metadata": {},
   "outputs": [],
   "source": [
    "okunan_veriler = [pd.read_excel(path,usecols=cols) for path in path_list]"
   ]
  },
  {
   "cell_type": "markdown",
   "metadata": {},
   "source": [
    "Her bir DataFrame'deki sütunlar yeniden adlandırılıyor"
   ]
  },
  {
   "cell_type": "code",
   "execution_count": 10,
   "metadata": {},
   "outputs": [],
   "source": [
    "columns=['time','bid_price','ask_price']"
   ]
  },
  {
   "cell_type": "code",
   "execution_count": 11,
   "metadata": {},
   "outputs": [],
   "source": [
    "for df in okunan_veriler:\n",
    "    df.columns = columns"
   ]
  },
  {
   "cell_type": "code",
   "execution_count": 12,
   "metadata": {},
   "outputs": [],
   "source": [
    "time_stamp = okunan_veriler[0].time"
   ]
  },
  {
   "cell_type": "markdown",
   "metadata": {},
   "source": [
    "# Mid Price Hesaplama ve Saatlik Bölme "
   ]
  },
  {
   "cell_type": "markdown",
   "metadata": {},
   "source": [
    "hesaplanan her bir mid_price **list_of_mid_price** adlı listeye atılıyor. Listenin yapısı aşağıdaki gibidir:\n",
    "```py\n",
    "list(pd.Series,pd.Series,pd.Series...)\n",
    "```"
   ]
  },
  {
   "cell_type": "code",
   "execution_count": 13,
   "metadata": {},
   "outputs": [],
   "source": [
    "list_of_mid_price = list(map(info.get_mid_price,okunan_veriler))"
   ]
  },
  {
   "cell_type": "markdown",
   "metadata": {},
   "source": [
    "Bulunan mid price hiyerarşik indeksleme ile tek DataFrame'de birleştiriliyor."
   ]
  },
  {
   "cell_type": "code",
   "execution_count": 14,
   "metadata": {},
   "outputs": [],
   "source": [
    "arrays = [date_list,product_names]"
   ]
  },
  {
   "cell_type": "code",
   "execution_count": 15,
   "metadata": {
    "scrolled": true
   },
   "outputs": [],
   "source": [
    "df_mp = pd.DataFrame(data=list_of_mid_price, index = arrays)"
   ]
  },
  {
   "cell_type": "markdown",
   "metadata": {},
   "source": [
    "Bu dataframe zaman sütunu eklenip saatlik olarak bölünüyor."
   ]
  },
  {
   "cell_type": "code",
   "execution_count": 16,
   "metadata": {},
   "outputs": [],
   "source": [
    "df_mp_t = df_mp.T"
   ]
  },
  {
   "cell_type": "code",
   "execution_count": 17,
   "metadata": {},
   "outputs": [],
   "source": [
    "df_mp_t['time'] = time_stamp"
   ]
  },
  {
   "cell_type": "markdown",
   "metadata": {},
   "source": [
    "```py\n",
    ">>> len(list_of_hourly_mp)\n",
    "Out[]: 23\n",
    ">>> df.columns.levels\n",
    "Out[]:FrozenList([[2018-09-06 00:00:00, 2018-09-07 00:00:00, 'time'], ['6AU8', '6BU8', '6CU8', '']])\n",
    "```"
   ]
  },
  {
   "cell_type": "code",
   "execution_count": 18,
   "metadata": {},
   "outputs": [],
   "source": [
    "list_of_hourly_mp = info.split_df(df_mp_t,23)"
   ]
  },
  {
   "cell_type": "markdown",
   "metadata": {},
   "source": [
    "----"
   ]
  },
  {
   "cell_type": "markdown",
   "metadata": {},
   "source": [
    "# Ürünler Eşleştiriliyor"
   ]
  },
  {
   "cell_type": "markdown",
   "metadata": {},
   "source": [
    "```python\n",
    ">>> non_duplicate_dates\n",
    "Out[]:[Timestamp('2018-09-06 00:00:00'), Timestamp('2018-09-07 00:00:00')]\n",
    ">>> non_duplicate_names\n",
    "Out[]:['6AU8', '6BU8', '6CU8']\n",
    ">>> paired_products\n",
    "Out[]: [('6AU8', '6BU8'), ('6AU8', '6CU8'), ('6BU8', '6CU8')]\n",
    "```"
   ]
  },
  {
   "cell_type": "code",
   "execution_count": 19,
   "metadata": {},
   "outputs": [],
   "source": [
    "non_duplicate_dates = list(dict.fromkeys(date_list)) #tekrar eden tarihler kaldırıldı."
   ]
  },
  {
   "cell_type": "code",
   "execution_count": 20,
   "metadata": {},
   "outputs": [],
   "source": [
    "non_duplicate_names = list(dict.fromkeys(product_names)) #tekrar eden ürünler kaldırıldı."
   ]
  },
  {
   "cell_type": "code",
   "execution_count": 21,
   "metadata": {},
   "outputs": [],
   "source": [
    "paired_products = list(itertools.combinations(non_duplicate_names, 2)) #2'li kombinasyon kullanılarak ürünler eşleştiriliyor."
   ]
  },
  {
   "cell_type": "markdown",
   "metadata": {},
   "source": [
    "----"
   ]
  },
  {
   "cell_type": "markdown",
   "metadata": {},
   "source": [
    "# Spread Hesaplanıyor"
   ]
  },
  {
   "cell_type": "markdown",
   "metadata": {},
   "source": [
    "**list_of_hourly_mp** da hiyerarşi şu şekildedir: <br/>\n",
    "* Önce saate erişiriz\n",
    "* İkinci olarak tarihe erişiriz\n",
    "* Son olarak ürüne erişiriz <br/>\n",
    "**Buna göre spread hesaplamak için aşağıdaki yol izlenir:** <br/>\n",
    "    1. Her bir saate eriş\n",
    "    2. Her bir tarihe eriş\n",
    "    3. Pairleri al\n",
    "    4. *spread_hesapla(pair): return pd.Series*\n",
    "    "
   ]
  },
  {
   "cell_type": "code",
   "execution_count": 22,
   "metadata": {},
   "outputs": [],
   "source": [
    "values={'a_PNLTICK':10,\n",
    "'a_TICKSIZE':0.0001,\n",
    "'b_PNLTICK':6.25,\n",
    "'b_TICKSIZE':0.0001}"
   ]
  },
  {
   "cell_type": "code",
   "execution_count": 23,
   "metadata": {
    "scrolled": true
   },
   "outputs": [],
   "source": [
    "def spread_al(df):\n",
    "    spread_dict = {}\n",
    "    for date in non_duplicate_dates:\n",
    "        for pair in paired_products:\n",
    "            mp_1 = df[pd.Timestamp(date)][pair[0]]\n",
    "            mp_2 = df[pd.Timestamp(date)][pair[1]]\n",
    "            spread_dict[(date,pair[0]+\"_\"+pair[1])] = aux.find_spread(mp_1,mp_2,values)\n",
    "    new_df = pd.DataFrame(spread_dict)\n",
    "    new_df['time'] = df.time\n",
    "    return new_df"
   ]
  },
  {
   "cell_type": "code",
   "execution_count": 24,
   "metadata": {},
   "outputs": [],
   "source": [
    "spread = [spread_al(df) for df in list_of_hourly_mp]"
   ]
  },
  {
   "cell_type": "markdown",
   "metadata": {},
   "source": [
    "----"
   ]
  },
  {
   "cell_type": "markdown",
   "metadata": {},
   "source": [
    "# Change Hesaplanıyor"
   ]
  },
  {
   "cell_type": "code",
   "execution_count": 25,
   "metadata": {},
   "outputs": [],
   "source": [
    "pairs = [pair[0]+'_'+pair[1] for pair in paired_products]"
   ]
  },
  {
   "cell_type": "code",
   "execution_count": 26,
   "metadata": {},
   "outputs": [],
   "source": [
    "def change_al(df):\n",
    "    change_dict = {}\n",
    "    for date in non_duplicate_dates:\n",
    "        for pair in pairs:\n",
    "            sub_df = df[date][pair]            \n",
    "            change_dict[(date,pair)] = aux.find_change(sub_df)\n",
    "    new_df = pd.DataFrame(change_dict)\n",
    "    new_df['time'] = df.time\n",
    "    return new_df"
   ]
  },
  {
   "cell_type": "code",
   "execution_count": 27,
   "metadata": {
    "scrolled": true
   },
   "outputs": [],
   "source": [
    "change_list = [change_al(df) for df in spread]"
   ]
  },
  {
   "cell_type": "code",
   "execution_count": 55,
   "metadata": {
    "scrolled": true
   },
   "outputs": [
    {
     "data": {
      "text/html": [
       "<div>\n",
       "<style scoped>\n",
       "    .dataframe tbody tr th:only-of-type {\n",
       "        vertical-align: middle;\n",
       "    }\n",
       "\n",
       "    .dataframe tbody tr th {\n",
       "        vertical-align: top;\n",
       "    }\n",
       "\n",
       "    .dataframe thead tr th {\n",
       "        text-align: left;\n",
       "    }\n",
       "</style>\n",
       "<table border=\"1\" class=\"dataframe\">\n",
       "  <thead>\n",
       "    <tr>\n",
       "      <th></th>\n",
       "      <th colspan=\"3\" halign=\"left\">2018-09-06 00:00:00</th>\n",
       "      <th colspan=\"3\" halign=\"left\">2018-09-07 00:00:00</th>\n",
       "      <th>time</th>\n",
       "    </tr>\n",
       "    <tr>\n",
       "      <th></th>\n",
       "      <th>6AU8_6BU8</th>\n",
       "      <th>6AU8_6CU8</th>\n",
       "      <th>6BU8_6CU8</th>\n",
       "      <th>6AU8_6BU8</th>\n",
       "      <th>6AU8_6CU8</th>\n",
       "      <th>6BU8_6CU8</th>\n",
       "      <th></th>\n",
       "    </tr>\n",
       "  </thead>\n",
       "  <tbody>\n",
       "    <tr>\n",
       "      <th>1</th>\n",
       "      <td>31250.000</td>\n",
       "      <td>NaN</td>\n",
       "      <td>-50000.000</td>\n",
       "      <td>NaN</td>\n",
       "      <td>NaN</td>\n",
       "      <td>NaN</td>\n",
       "      <td>18:00:01</td>\n",
       "    </tr>\n",
       "    <tr>\n",
       "      <th>2</th>\n",
       "      <td>-5.000</td>\n",
       "      <td>-1.875</td>\n",
       "      <td>3.125</td>\n",
       "      <td>-5.000</td>\n",
       "      <td>-1.875</td>\n",
       "      <td>3.125</td>\n",
       "      <td>18:00:02</td>\n",
       "    </tr>\n",
       "    <tr>\n",
       "      <th>3</th>\n",
       "      <td>-3.125</td>\n",
       "      <td>0.000</td>\n",
       "      <td>5.000</td>\n",
       "      <td>-3.125</td>\n",
       "      <td>0.000</td>\n",
       "      <td>5.000</td>\n",
       "      <td>18:00:03</td>\n",
       "    </tr>\n",
       "    <tr>\n",
       "      <th>4</th>\n",
       "      <td>-3.125</td>\n",
       "      <td>0.000</td>\n",
       "      <td>5.000</td>\n",
       "      <td>-3.125</td>\n",
       "      <td>0.000</td>\n",
       "      <td>5.000</td>\n",
       "      <td>18:00:04</td>\n",
       "    </tr>\n",
       "    <tr>\n",
       "      <th>5</th>\n",
       "      <td>3.750</td>\n",
       "      <td>3.750</td>\n",
       "      <td>3.750</td>\n",
       "      <td>3.750</td>\n",
       "      <td>3.750</td>\n",
       "      <td>3.750</td>\n",
       "      <td>18:00:05</td>\n",
       "    </tr>\n",
       "    <tr>\n",
       "      <th>6</th>\n",
       "      <td>3.125</td>\n",
       "      <td>0.000</td>\n",
       "      <td>-5.000</td>\n",
       "      <td>3.125</td>\n",
       "      <td>0.000</td>\n",
       "      <td>-5.000</td>\n",
       "      <td>18:00:06</td>\n",
       "    </tr>\n",
       "    <tr>\n",
       "      <th>7</th>\n",
       "      <td>0.000</td>\n",
       "      <td>0.000</td>\n",
       "      <td>0.000</td>\n",
       "      <td>0.000</td>\n",
       "      <td>0.000</td>\n",
       "      <td>0.000</td>\n",
       "      <td>18:00:07</td>\n",
       "    </tr>\n",
       "    <tr>\n",
       "      <th>8</th>\n",
       "      <td>3.125</td>\n",
       "      <td>0.000</td>\n",
       "      <td>-5.000</td>\n",
       "      <td>3.125</td>\n",
       "      <td>0.000</td>\n",
       "      <td>-5.000</td>\n",
       "      <td>18:00:08</td>\n",
       "    </tr>\n",
       "    <tr>\n",
       "      <th>9</th>\n",
       "      <td>-3.125</td>\n",
       "      <td>0.000</td>\n",
       "      <td>5.000</td>\n",
       "      <td>-3.125</td>\n",
       "      <td>0.000</td>\n",
       "      <td>5.000</td>\n",
       "      <td>18:00:09</td>\n",
       "    </tr>\n",
       "    <tr>\n",
       "      <th>10</th>\n",
       "      <td>3.125</td>\n",
       "      <td>0.000</td>\n",
       "      <td>-5.000</td>\n",
       "      <td>3.125</td>\n",
       "      <td>0.000</td>\n",
       "      <td>-5.000</td>\n",
       "      <td>18:00:10</td>\n",
       "    </tr>\n",
       "    <tr>\n",
       "      <th>11</th>\n",
       "      <td>0.000</td>\n",
       "      <td>0.000</td>\n",
       "      <td>0.000</td>\n",
       "      <td>0.000</td>\n",
       "      <td>0.000</td>\n",
       "      <td>0.000</td>\n",
       "      <td>18:00:11</td>\n",
       "    </tr>\n",
       "    <tr>\n",
       "      <th>12</th>\n",
       "      <td>0.000</td>\n",
       "      <td>0.000</td>\n",
       "      <td>0.000</td>\n",
       "      <td>0.000</td>\n",
       "      <td>0.000</td>\n",
       "      <td>0.000</td>\n",
       "      <td>18:00:12</td>\n",
       "    </tr>\n",
       "    <tr>\n",
       "      <th>13</th>\n",
       "      <td>0.000</td>\n",
       "      <td>0.000</td>\n",
       "      <td>0.000</td>\n",
       "      <td>0.000</td>\n",
       "      <td>0.000</td>\n",
       "      <td>0.000</td>\n",
       "      <td>18:00:13</td>\n",
       "    </tr>\n",
       "    <tr>\n",
       "      <th>14</th>\n",
       "      <td>-6.250</td>\n",
       "      <td>0.000</td>\n",
       "      <td>10.000</td>\n",
       "      <td>-6.250</td>\n",
       "      <td>0.000</td>\n",
       "      <td>10.000</td>\n",
       "      <td>18:00:14</td>\n",
       "    </tr>\n",
       "    <tr>\n",
       "      <th>15</th>\n",
       "      <td>0.000</td>\n",
       "      <td>0.000</td>\n",
       "      <td>0.000</td>\n",
       "      <td>0.000</td>\n",
       "      <td>0.000</td>\n",
       "      <td>0.000</td>\n",
       "      <td>18:00:15</td>\n",
       "    </tr>\n",
       "    <tr>\n",
       "      <th>16</th>\n",
       "      <td>3.125</td>\n",
       "      <td>0.000</td>\n",
       "      <td>-5.000</td>\n",
       "      <td>3.125</td>\n",
       "      <td>0.000</td>\n",
       "      <td>-5.000</td>\n",
       "      <td>18:00:16</td>\n",
       "    </tr>\n",
       "    <tr>\n",
       "      <th>17</th>\n",
       "      <td>3.125</td>\n",
       "      <td>0.000</td>\n",
       "      <td>-5.000</td>\n",
       "      <td>3.125</td>\n",
       "      <td>0.000</td>\n",
       "      <td>-5.000</td>\n",
       "      <td>18:00:17</td>\n",
       "    </tr>\n",
       "    <tr>\n",
       "      <th>18</th>\n",
       "      <td>-6.250</td>\n",
       "      <td>0.000</td>\n",
       "      <td>10.000</td>\n",
       "      <td>-6.250</td>\n",
       "      <td>0.000</td>\n",
       "      <td>10.000</td>\n",
       "      <td>18:00:18</td>\n",
       "    </tr>\n",
       "    <tr>\n",
       "      <th>19</th>\n",
       "      <td>0.000</td>\n",
       "      <td>0.000</td>\n",
       "      <td>0.000</td>\n",
       "      <td>0.000</td>\n",
       "      <td>0.000</td>\n",
       "      <td>0.000</td>\n",
       "      <td>18:00:19</td>\n",
       "    </tr>\n",
       "    <tr>\n",
       "      <th>20</th>\n",
       "      <td>0.000</td>\n",
       "      <td>0.000</td>\n",
       "      <td>0.000</td>\n",
       "      <td>0.000</td>\n",
       "      <td>0.000</td>\n",
       "      <td>0.000</td>\n",
       "      <td>18:00:20</td>\n",
       "    </tr>\n",
       "    <tr>\n",
       "      <th>21</th>\n",
       "      <td>0.000</td>\n",
       "      <td>0.000</td>\n",
       "      <td>0.000</td>\n",
       "      <td>0.000</td>\n",
       "      <td>0.000</td>\n",
       "      <td>0.000</td>\n",
       "      <td>18:00:21</td>\n",
       "    </tr>\n",
       "    <tr>\n",
       "      <th>22</th>\n",
       "      <td>0.000</td>\n",
       "      <td>0.000</td>\n",
       "      <td>0.000</td>\n",
       "      <td>0.000</td>\n",
       "      <td>0.000</td>\n",
       "      <td>0.000</td>\n",
       "      <td>18:00:22</td>\n",
       "    </tr>\n",
       "    <tr>\n",
       "      <th>23</th>\n",
       "      <td>0.000</td>\n",
       "      <td>0.000</td>\n",
       "      <td>0.000</td>\n",
       "      <td>0.000</td>\n",
       "      <td>0.000</td>\n",
       "      <td>0.000</td>\n",
       "      <td>18:00:23</td>\n",
       "    </tr>\n",
       "    <tr>\n",
       "      <th>24</th>\n",
       "      <td>0.000</td>\n",
       "      <td>0.000</td>\n",
       "      <td>0.000</td>\n",
       "      <td>0.000</td>\n",
       "      <td>0.000</td>\n",
       "      <td>0.000</td>\n",
       "      <td>18:00:24</td>\n",
       "    </tr>\n",
       "    <tr>\n",
       "      <th>25</th>\n",
       "      <td>0.000</td>\n",
       "      <td>0.000</td>\n",
       "      <td>0.000</td>\n",
       "      <td>0.000</td>\n",
       "      <td>0.000</td>\n",
       "      <td>0.000</td>\n",
       "      <td>18:00:25</td>\n",
       "    </tr>\n",
       "    <tr>\n",
       "      <th>26</th>\n",
       "      <td>0.000</td>\n",
       "      <td>0.000</td>\n",
       "      <td>0.000</td>\n",
       "      <td>0.000</td>\n",
       "      <td>0.000</td>\n",
       "      <td>0.000</td>\n",
       "      <td>18:00:26</td>\n",
       "    </tr>\n",
       "    <tr>\n",
       "      <th>27</th>\n",
       "      <td>0.000</td>\n",
       "      <td>0.000</td>\n",
       "      <td>0.000</td>\n",
       "      <td>0.000</td>\n",
       "      <td>0.000</td>\n",
       "      <td>0.000</td>\n",
       "      <td>18:00:27</td>\n",
       "    </tr>\n",
       "    <tr>\n",
       "      <th>28</th>\n",
       "      <td>0.000</td>\n",
       "      <td>0.000</td>\n",
       "      <td>0.000</td>\n",
       "      <td>0.000</td>\n",
       "      <td>0.000</td>\n",
       "      <td>0.000</td>\n",
       "      <td>18:00:28</td>\n",
       "    </tr>\n",
       "    <tr>\n",
       "      <th>29</th>\n",
       "      <td>0.000</td>\n",
       "      <td>0.000</td>\n",
       "      <td>0.000</td>\n",
       "      <td>0.000</td>\n",
       "      <td>0.000</td>\n",
       "      <td>0.000</td>\n",
       "      <td>18:00:29</td>\n",
       "    </tr>\n",
       "    <tr>\n",
       "      <th>30</th>\n",
       "      <td>0.000</td>\n",
       "      <td>0.000</td>\n",
       "      <td>0.000</td>\n",
       "      <td>0.000</td>\n",
       "      <td>0.000</td>\n",
       "      <td>0.000</td>\n",
       "      <td>18:00:30</td>\n",
       "    </tr>\n",
       "    <tr>\n",
       "      <th>...</th>\n",
       "      <td>...</td>\n",
       "      <td>...</td>\n",
       "      <td>...</td>\n",
       "      <td>...</td>\n",
       "      <td>...</td>\n",
       "      <td>...</td>\n",
       "      <td>...</td>\n",
       "    </tr>\n",
       "    <tr>\n",
       "      <th>3422</th>\n",
       "      <td>0.000</td>\n",
       "      <td>NaN</td>\n",
       "      <td>0.000</td>\n",
       "      <td>0.000</td>\n",
       "      <td>NaN</td>\n",
       "      <td>0.000</td>\n",
       "      <td>18:57:02</td>\n",
       "    </tr>\n",
       "    <tr>\n",
       "      <th>3423</th>\n",
       "      <td>0.000</td>\n",
       "      <td>NaN</td>\n",
       "      <td>0.000</td>\n",
       "      <td>0.000</td>\n",
       "      <td>NaN</td>\n",
       "      <td>0.000</td>\n",
       "      <td>18:57:03</td>\n",
       "    </tr>\n",
       "    <tr>\n",
       "      <th>3424</th>\n",
       "      <td>0.000</td>\n",
       "      <td>NaN</td>\n",
       "      <td>0.000</td>\n",
       "      <td>0.000</td>\n",
       "      <td>NaN</td>\n",
       "      <td>0.000</td>\n",
       "      <td>18:57:04</td>\n",
       "    </tr>\n",
       "    <tr>\n",
       "      <th>3425</th>\n",
       "      <td>0.000</td>\n",
       "      <td>NaN</td>\n",
       "      <td>0.000</td>\n",
       "      <td>0.000</td>\n",
       "      <td>NaN</td>\n",
       "      <td>0.000</td>\n",
       "      <td>18:57:05</td>\n",
       "    </tr>\n",
       "    <tr>\n",
       "      <th>3426</th>\n",
       "      <td>0.000</td>\n",
       "      <td>NaN</td>\n",
       "      <td>0.000</td>\n",
       "      <td>0.000</td>\n",
       "      <td>NaN</td>\n",
       "      <td>0.000</td>\n",
       "      <td>18:57:06</td>\n",
       "    </tr>\n",
       "    <tr>\n",
       "      <th>3427</th>\n",
       "      <td>0.000</td>\n",
       "      <td>NaN</td>\n",
       "      <td>0.000</td>\n",
       "      <td>0.000</td>\n",
       "      <td>NaN</td>\n",
       "      <td>0.000</td>\n",
       "      <td>18:57:07</td>\n",
       "    </tr>\n",
       "    <tr>\n",
       "      <th>3428</th>\n",
       "      <td>0.000</td>\n",
       "      <td>NaN</td>\n",
       "      <td>0.000</td>\n",
       "      <td>0.000</td>\n",
       "      <td>NaN</td>\n",
       "      <td>0.000</td>\n",
       "      <td>18:57:08</td>\n",
       "    </tr>\n",
       "    <tr>\n",
       "      <th>3429</th>\n",
       "      <td>0.000</td>\n",
       "      <td>NaN</td>\n",
       "      <td>0.000</td>\n",
       "      <td>0.000</td>\n",
       "      <td>NaN</td>\n",
       "      <td>0.000</td>\n",
       "      <td>18:57:09</td>\n",
       "    </tr>\n",
       "    <tr>\n",
       "      <th>3430</th>\n",
       "      <td>-3.125</td>\n",
       "      <td>NaN</td>\n",
       "      <td>5.000</td>\n",
       "      <td>-3.125</td>\n",
       "      <td>NaN</td>\n",
       "      <td>5.000</td>\n",
       "      <td>18:57:10</td>\n",
       "    </tr>\n",
       "    <tr>\n",
       "      <th>3431</th>\n",
       "      <td>0.000</td>\n",
       "      <td>NaN</td>\n",
       "      <td>0.000</td>\n",
       "      <td>0.000</td>\n",
       "      <td>NaN</td>\n",
       "      <td>0.000</td>\n",
       "      <td>18:57:11</td>\n",
       "    </tr>\n",
       "    <tr>\n",
       "      <th>3432</th>\n",
       "      <td>0.000</td>\n",
       "      <td>NaN</td>\n",
       "      <td>0.000</td>\n",
       "      <td>0.000</td>\n",
       "      <td>NaN</td>\n",
       "      <td>0.000</td>\n",
       "      <td>18:57:12</td>\n",
       "    </tr>\n",
       "    <tr>\n",
       "      <th>3433</th>\n",
       "      <td>0.000</td>\n",
       "      <td>NaN</td>\n",
       "      <td>0.000</td>\n",
       "      <td>0.000</td>\n",
       "      <td>NaN</td>\n",
       "      <td>0.000</td>\n",
       "      <td>18:57:13</td>\n",
       "    </tr>\n",
       "    <tr>\n",
       "      <th>3434</th>\n",
       "      <td>0.000</td>\n",
       "      <td>NaN</td>\n",
       "      <td>0.000</td>\n",
       "      <td>0.000</td>\n",
       "      <td>NaN</td>\n",
       "      <td>0.000</td>\n",
       "      <td>18:57:14</td>\n",
       "    </tr>\n",
       "    <tr>\n",
       "      <th>3435</th>\n",
       "      <td>0.000</td>\n",
       "      <td>NaN</td>\n",
       "      <td>0.000</td>\n",
       "      <td>0.000</td>\n",
       "      <td>NaN</td>\n",
       "      <td>0.000</td>\n",
       "      <td>18:57:15</td>\n",
       "    </tr>\n",
       "    <tr>\n",
       "      <th>3436</th>\n",
       "      <td>0.000</td>\n",
       "      <td>NaN</td>\n",
       "      <td>0.000</td>\n",
       "      <td>0.000</td>\n",
       "      <td>NaN</td>\n",
       "      <td>0.000</td>\n",
       "      <td>18:57:16</td>\n",
       "    </tr>\n",
       "    <tr>\n",
       "      <th>3437</th>\n",
       "      <td>3.125</td>\n",
       "      <td>NaN</td>\n",
       "      <td>-5.000</td>\n",
       "      <td>3.125</td>\n",
       "      <td>NaN</td>\n",
       "      <td>-5.000</td>\n",
       "      <td>18:57:17</td>\n",
       "    </tr>\n",
       "    <tr>\n",
       "      <th>3438</th>\n",
       "      <td>-3.125</td>\n",
       "      <td>NaN</td>\n",
       "      <td>5.000</td>\n",
       "      <td>-3.125</td>\n",
       "      <td>NaN</td>\n",
       "      <td>5.000</td>\n",
       "      <td>18:57:18</td>\n",
       "    </tr>\n",
       "    <tr>\n",
       "      <th>3439</th>\n",
       "      <td>3.125</td>\n",
       "      <td>NaN</td>\n",
       "      <td>-5.000</td>\n",
       "      <td>3.125</td>\n",
       "      <td>NaN</td>\n",
       "      <td>-5.000</td>\n",
       "      <td>18:57:19</td>\n",
       "    </tr>\n",
       "    <tr>\n",
       "      <th>3440</th>\n",
       "      <td>-3.125</td>\n",
       "      <td>NaN</td>\n",
       "      <td>5.000</td>\n",
       "      <td>-3.125</td>\n",
       "      <td>NaN</td>\n",
       "      <td>5.000</td>\n",
       "      <td>18:57:20</td>\n",
       "    </tr>\n",
       "    <tr>\n",
       "      <th>3441</th>\n",
       "      <td>3.125</td>\n",
       "      <td>NaN</td>\n",
       "      <td>-5.000</td>\n",
       "      <td>3.125</td>\n",
       "      <td>NaN</td>\n",
       "      <td>-5.000</td>\n",
       "      <td>18:57:21</td>\n",
       "    </tr>\n",
       "    <tr>\n",
       "      <th>3442</th>\n",
       "      <td>-3.125</td>\n",
       "      <td>NaN</td>\n",
       "      <td>5.000</td>\n",
       "      <td>-3.125</td>\n",
       "      <td>NaN</td>\n",
       "      <td>5.000</td>\n",
       "      <td>18:57:22</td>\n",
       "    </tr>\n",
       "    <tr>\n",
       "      <th>3443</th>\n",
       "      <td>0.000</td>\n",
       "      <td>NaN</td>\n",
       "      <td>0.000</td>\n",
       "      <td>0.000</td>\n",
       "      <td>NaN</td>\n",
       "      <td>0.000</td>\n",
       "      <td>18:57:23</td>\n",
       "    </tr>\n",
       "    <tr>\n",
       "      <th>3444</th>\n",
       "      <td>0.000</td>\n",
       "      <td>NaN</td>\n",
       "      <td>0.000</td>\n",
       "      <td>0.000</td>\n",
       "      <td>NaN</td>\n",
       "      <td>0.000</td>\n",
       "      <td>18:57:24</td>\n",
       "    </tr>\n",
       "    <tr>\n",
       "      <th>3445</th>\n",
       "      <td>0.000</td>\n",
       "      <td>NaN</td>\n",
       "      <td>0.000</td>\n",
       "      <td>0.000</td>\n",
       "      <td>NaN</td>\n",
       "      <td>0.000</td>\n",
       "      <td>18:57:25</td>\n",
       "    </tr>\n",
       "    <tr>\n",
       "      <th>3446</th>\n",
       "      <td>0.000</td>\n",
       "      <td>NaN</td>\n",
       "      <td>0.000</td>\n",
       "      <td>0.000</td>\n",
       "      <td>NaN</td>\n",
       "      <td>0.000</td>\n",
       "      <td>18:57:26</td>\n",
       "    </tr>\n",
       "    <tr>\n",
       "      <th>3447</th>\n",
       "      <td>0.000</td>\n",
       "      <td>NaN</td>\n",
       "      <td>0.000</td>\n",
       "      <td>0.000</td>\n",
       "      <td>NaN</td>\n",
       "      <td>0.000</td>\n",
       "      <td>18:57:27</td>\n",
       "    </tr>\n",
       "    <tr>\n",
       "      <th>3448</th>\n",
       "      <td>0.000</td>\n",
       "      <td>NaN</td>\n",
       "      <td>0.000</td>\n",
       "      <td>0.000</td>\n",
       "      <td>NaN</td>\n",
       "      <td>0.000</td>\n",
       "      <td>18:57:28</td>\n",
       "    </tr>\n",
       "    <tr>\n",
       "      <th>3449</th>\n",
       "      <td>3.125</td>\n",
       "      <td>NaN</td>\n",
       "      <td>-5.000</td>\n",
       "      <td>3.125</td>\n",
       "      <td>NaN</td>\n",
       "      <td>-5.000</td>\n",
       "      <td>18:57:29</td>\n",
       "    </tr>\n",
       "    <tr>\n",
       "      <th>3450</th>\n",
       "      <td>-3.125</td>\n",
       "      <td>NaN</td>\n",
       "      <td>5.000</td>\n",
       "      <td>-3.125</td>\n",
       "      <td>NaN</td>\n",
       "      <td>5.000</td>\n",
       "      <td>18:57:30</td>\n",
       "    </tr>\n",
       "    <tr>\n",
       "      <th>3451</th>\n",
       "      <td>-3.125</td>\n",
       "      <td>NaN</td>\n",
       "      <td>5.000</td>\n",
       "      <td>-3.125</td>\n",
       "      <td>NaN</td>\n",
       "      <td>5.000</td>\n",
       "      <td>18:57:31</td>\n",
       "    </tr>\n",
       "  </tbody>\n",
       "</table>\n",
       "<p>3451 rows × 7 columns</p>\n",
       "</div>"
      ],
      "text/plain": [
       "     2018-09-06 00:00:00                      2018-09-07 00:00:00            \\\n",
       "               6AU8_6BU8 6AU8_6CU8  6BU8_6CU8           6AU8_6BU8 6AU8_6CU8   \n",
       "1              31250.000       NaN -50000.000                 NaN       NaN   \n",
       "2                 -5.000    -1.875      3.125              -5.000    -1.875   \n",
       "3                 -3.125     0.000      5.000              -3.125     0.000   \n",
       "4                 -3.125     0.000      5.000              -3.125     0.000   \n",
       "5                  3.750     3.750      3.750               3.750     3.750   \n",
       "6                  3.125     0.000     -5.000               3.125     0.000   \n",
       "7                  0.000     0.000      0.000               0.000     0.000   \n",
       "8                  3.125     0.000     -5.000               3.125     0.000   \n",
       "9                 -3.125     0.000      5.000              -3.125     0.000   \n",
       "10                 3.125     0.000     -5.000               3.125     0.000   \n",
       "11                 0.000     0.000      0.000               0.000     0.000   \n",
       "12                 0.000     0.000      0.000               0.000     0.000   \n",
       "13                 0.000     0.000      0.000               0.000     0.000   \n",
       "14                -6.250     0.000     10.000              -6.250     0.000   \n",
       "15                 0.000     0.000      0.000               0.000     0.000   \n",
       "16                 3.125     0.000     -5.000               3.125     0.000   \n",
       "17                 3.125     0.000     -5.000               3.125     0.000   \n",
       "18                -6.250     0.000     10.000              -6.250     0.000   \n",
       "19                 0.000     0.000      0.000               0.000     0.000   \n",
       "20                 0.000     0.000      0.000               0.000     0.000   \n",
       "21                 0.000     0.000      0.000               0.000     0.000   \n",
       "22                 0.000     0.000      0.000               0.000     0.000   \n",
       "23                 0.000     0.000      0.000               0.000     0.000   \n",
       "24                 0.000     0.000      0.000               0.000     0.000   \n",
       "25                 0.000     0.000      0.000               0.000     0.000   \n",
       "26                 0.000     0.000      0.000               0.000     0.000   \n",
       "27                 0.000     0.000      0.000               0.000     0.000   \n",
       "28                 0.000     0.000      0.000               0.000     0.000   \n",
       "29                 0.000     0.000      0.000               0.000     0.000   \n",
       "30                 0.000     0.000      0.000               0.000     0.000   \n",
       "...                  ...       ...        ...                 ...       ...   \n",
       "3422               0.000       NaN      0.000               0.000       NaN   \n",
       "3423               0.000       NaN      0.000               0.000       NaN   \n",
       "3424               0.000       NaN      0.000               0.000       NaN   \n",
       "3425               0.000       NaN      0.000               0.000       NaN   \n",
       "3426               0.000       NaN      0.000               0.000       NaN   \n",
       "3427               0.000       NaN      0.000               0.000       NaN   \n",
       "3428               0.000       NaN      0.000               0.000       NaN   \n",
       "3429               0.000       NaN      0.000               0.000       NaN   \n",
       "3430              -3.125       NaN      5.000              -3.125       NaN   \n",
       "3431               0.000       NaN      0.000               0.000       NaN   \n",
       "3432               0.000       NaN      0.000               0.000       NaN   \n",
       "3433               0.000       NaN      0.000               0.000       NaN   \n",
       "3434               0.000       NaN      0.000               0.000       NaN   \n",
       "3435               0.000       NaN      0.000               0.000       NaN   \n",
       "3436               0.000       NaN      0.000               0.000       NaN   \n",
       "3437               3.125       NaN     -5.000               3.125       NaN   \n",
       "3438              -3.125       NaN      5.000              -3.125       NaN   \n",
       "3439               3.125       NaN     -5.000               3.125       NaN   \n",
       "3440              -3.125       NaN      5.000              -3.125       NaN   \n",
       "3441               3.125       NaN     -5.000               3.125       NaN   \n",
       "3442              -3.125       NaN      5.000              -3.125       NaN   \n",
       "3443               0.000       NaN      0.000               0.000       NaN   \n",
       "3444               0.000       NaN      0.000               0.000       NaN   \n",
       "3445               0.000       NaN      0.000               0.000       NaN   \n",
       "3446               0.000       NaN      0.000               0.000       NaN   \n",
       "3447               0.000       NaN      0.000               0.000       NaN   \n",
       "3448               0.000       NaN      0.000               0.000       NaN   \n",
       "3449               3.125       NaN     -5.000               3.125       NaN   \n",
       "3450              -3.125       NaN      5.000              -3.125       NaN   \n",
       "3451              -3.125       NaN      5.000              -3.125       NaN   \n",
       "\n",
       "                    time  \n",
       "     6BU8_6CU8            \n",
       "1          NaN  18:00:01  \n",
       "2        3.125  18:00:02  \n",
       "3        5.000  18:00:03  \n",
       "4        5.000  18:00:04  \n",
       "5        3.750  18:00:05  \n",
       "6       -5.000  18:00:06  \n",
       "7        0.000  18:00:07  \n",
       "8       -5.000  18:00:08  \n",
       "9        5.000  18:00:09  \n",
       "10      -5.000  18:00:10  \n",
       "11       0.000  18:00:11  \n",
       "12       0.000  18:00:12  \n",
       "13       0.000  18:00:13  \n",
       "14      10.000  18:00:14  \n",
       "15       0.000  18:00:15  \n",
       "16      -5.000  18:00:16  \n",
       "17      -5.000  18:00:17  \n",
       "18      10.000  18:00:18  \n",
       "19       0.000  18:00:19  \n",
       "20       0.000  18:00:20  \n",
       "21       0.000  18:00:21  \n",
       "22       0.000  18:00:22  \n",
       "23       0.000  18:00:23  \n",
       "24       0.000  18:00:24  \n",
       "25       0.000  18:00:25  \n",
       "26       0.000  18:00:26  \n",
       "27       0.000  18:00:27  \n",
       "28       0.000  18:00:28  \n",
       "29       0.000  18:00:29  \n",
       "30       0.000  18:00:30  \n",
       "...        ...       ...  \n",
       "3422     0.000  18:57:02  \n",
       "3423     0.000  18:57:03  \n",
       "3424     0.000  18:57:04  \n",
       "3425     0.000  18:57:05  \n",
       "3426     0.000  18:57:06  \n",
       "3427     0.000  18:57:07  \n",
       "3428     0.000  18:57:08  \n",
       "3429     0.000  18:57:09  \n",
       "3430     5.000  18:57:10  \n",
       "3431     0.000  18:57:11  \n",
       "3432     0.000  18:57:12  \n",
       "3433     0.000  18:57:13  \n",
       "3434     0.000  18:57:14  \n",
       "3435     0.000  18:57:15  \n",
       "3436     0.000  18:57:16  \n",
       "3437    -5.000  18:57:17  \n",
       "3438     5.000  18:57:18  \n",
       "3439    -5.000  18:57:19  \n",
       "3440     5.000  18:57:20  \n",
       "3441    -5.000  18:57:21  \n",
       "3442     5.000  18:57:22  \n",
       "3443     0.000  18:57:23  \n",
       "3444     0.000  18:57:24  \n",
       "3445     0.000  18:57:25  \n",
       "3446     0.000  18:57:26  \n",
       "3447     0.000  18:57:27  \n",
       "3448     0.000  18:57:28  \n",
       "3449    -5.000  18:57:29  \n",
       "3450     5.000  18:57:30  \n",
       "3451     5.000  18:57:31  \n",
       "\n",
       "[3451 rows x 7 columns]"
      ]
     },
     "execution_count": 55,
     "metadata": {},
     "output_type": "execute_result"
    }
   ],
   "source": [
    "change_list[0]"
   ]
  },
  {
   "cell_type": "markdown",
   "metadata": {},
   "source": [
    "---"
   ]
  },
  {
   "cell_type": "markdown",
   "metadata": {},
   "source": [
    "# Duration ve Amplitude Hesaplanıyor"
   ]
  },
  {
   "cell_type": "markdown",
   "metadata": {},
   "source": [
    "Hesaplama ile birlikte birleştirme de yapılıyor.\n",
    "Birleştirme koşulu: <br/>\n",
    "1. Ürünler aynı olacak\n",
    "2. Tarihler farklı olacak\n",
    "3. Saat dilimi aynı olacak"
   ]
  },
  {
   "cell_type": "code",
   "execution_count": 28,
   "metadata": {},
   "outputs": [],
   "source": [
    "def unnamed1(df):\n",
    "    lengt = df.shape[1]\n",
    "    df_list = []\n",
    "    for i in range(lengt):\n",
    "        df_list.append(aux.find_duramp(df.iloc[:,1]))\n",
    "    return pd.concat(df_list).dropna()"
   ]
  },
  {
   "cell_type": "code",
   "execution_count": 29,
   "metadata": {},
   "outputs": [],
   "source": [
    "def unnamed2(df):\n",
    "    new_df = duzenle(df)\n",
    "    product = {}\n",
    "    for pair in pairs:\n",
    "        product[pair] = unnamed1(new_df[pair])\n",
    "    return product"
   ]
  },
  {
   "cell_type": "code",
   "execution_count": 30,
   "metadata": {},
   "outputs": [],
   "source": [
    "def duzenle(df):\n",
    "    new_df = df.set_index('time')\n",
    "    new_df = new_df.T.reset_index(level=0,drop=True).T\n",
    "    return new_df"
   ]
  },
  {
   "cell_type": "code",
   "execution_count": 31,
   "metadata": {
    "scrolled": true
   },
   "outputs": [],
   "source": [
    "duramp = [unnamed2(change) for change in change_list]"
   ]
  },
  {
   "cell_type": "markdown",
   "metadata": {},
   "source": [
    "---"
   ]
  },
  {
   "cell_type": "markdown",
   "metadata": {},
   "source": [
    "# Medyanı baz alarak verileri yeniden düzenliyoruz"
   ]
  },
  {
   "cell_type": "markdown",
   "metadata": {},
   "source": [
    "**pozitif ve negatif medyan, duration ve amplitude için ayrı ayrı baz alınarak hesaplanmıştır**\n",
    "```py\n",
    ">>> edited_data.keys()\n",
    "Out[]: dict_keys(['6AU8_6BU8', '6AU8_6CU8', '6BU8_6CU8'])\n",
    "```\n",
    "Bir ürüne ait tüm veriye erişmek için:\n",
    "```py\n",
    "edited_data['6AU8_6BU8']\n",
    "```\n",
    "Bir ürünün belirli bir saatine ait veriye erişmek için:\n",
    "```py\n",
    "edited_data['6AU8_6BU8'].loc[time(18)]\n",
    "```"
   ]
  },
  {
   "cell_type": "code",
   "execution_count": 38,
   "metadata": {},
   "outputs": [],
   "source": [
    "hour_series = pd.date_range('2018-01-01-18', periods=23, freq='H').time"
   ]
  },
  {
   "cell_type": "code",
   "execution_count": 40,
   "metadata": {},
   "outputs": [],
   "source": [
    "edited_data = {}"
   ]
  },
  {
   "cell_type": "code",
   "execution_count": 41,
   "metadata": {},
   "outputs": [],
   "source": [
    "for pair in pairs:\n",
    "    con_list = []\n",
    "    for i in range(23):\n",
    "        current = duramp[i][pair]\n",
    "        con_df = con.single_scan(current)\n",
    "        con_list.append(con_df)\n",
    "    edited_data[pair] = pd.concat(con_list,keys=hour_series)"
   ]
  },
  {
   "cell_type": "raw",
   "metadata": {},
   "source": []
  },
  {
   "cell_type": "raw",
   "metadata": {},
   "source": []
  },
  {
   "cell_type": "raw",
   "metadata": {},
   "source": []
  },
  {
   "cell_type": "raw",
   "metadata": {},
   "source": []
  },
  {
   "cell_type": "raw",
   "metadata": {},
   "source": [
    "all_density:\n",
    "```json\n",
    "{\"6BU8_6CU8\": {\"18:00:00\": \"Density Object\", \"19:00:00\": \"Density Object\"...},\n",
    " \"6AU8_6CU8\":{\"18:00:00\": \"Density Object\", \"19:00:00\": \"Density Object\"...},\n",
    " ....}\n",
    "```"
   ]
  },
  {
   "cell_type": "raw",
   "metadata": {},
   "source": [
    "all_density= {}"
   ]
  },
  {
   "cell_type": "raw",
   "metadata": {
    "scrolled": true
   },
   "source": [
    "for product in all_products:\n",
    "    densities = {}\n",
    "    for hour in hour_series:\n",
    "        df = combined_days[product].loc[hour]\n",
    "        densities[hour]= Density(df)\n",
    "    all_density[product] = densities"
   ]
  },
  {
   "cell_type": "raw",
   "metadata": {},
   "source": [
    "--------------------------------"
   ]
  },
  {
   "cell_type": "raw",
   "metadata": {},
   "source": [
    "# Example"
   ]
  },
  {
   "cell_type": "raw",
   "metadata": {},
   "source": [
    "data_of_the_eighteenth_clock = all_density['6AU8_6BU8'][time(18)]"
   ]
  },
  {
   "cell_type": "raw",
   "metadata": {},
   "source": [
    "data_of_the_eighteenth_clock.data"
   ]
  },
  {
   "cell_type": "raw",
   "metadata": {},
   "source": [
    "data_of_the_eighteenth_clock.density_data"
   ]
  },
  {
   "cell_type": "raw",
   "metadata": {
    "scrolled": false
   },
   "source": [
    "data_of_the_eighteenth_clock.draw()"
   ]
  },
  {
   "cell_type": "raw",
   "metadata": {},
   "source": []
  },
  {
   "cell_type": "code",
   "execution_count": null,
   "metadata": {},
   "outputs": [],
   "source": []
  },
  {
   "cell_type": "code",
   "execution_count": null,
   "metadata": {},
   "outputs": [],
   "source": []
  },
  {
   "cell_type": "code",
   "execution_count": null,
   "metadata": {},
   "outputs": [],
   "source": []
  },
  {
   "cell_type": "code",
   "execution_count": null,
   "metadata": {},
   "outputs": [],
   "source": []
  },
  {
   "cell_type": "code",
   "execution_count": null,
   "metadata": {},
   "outputs": [],
   "source": []
  },
  {
   "cell_type": "code",
   "execution_count": null,
   "metadata": {},
   "outputs": [],
   "source": []
  },
  {
   "cell_type": "code",
   "execution_count": null,
   "metadata": {},
   "outputs": [],
   "source": []
  },
  {
   "cell_type": "code",
   "execution_count": null,
   "metadata": {},
   "outputs": [],
   "source": []
  },
  {
   "cell_type": "code",
   "execution_count": null,
   "metadata": {},
   "outputs": [],
   "source": []
  },
  {
   "cell_type": "code",
   "execution_count": null,
   "metadata": {},
   "outputs": [],
   "source": []
  },
  {
   "cell_type": "code",
   "execution_count": null,
   "metadata": {},
   "outputs": [],
   "source": []
  },
  {
   "cell_type": "code",
   "execution_count": null,
   "metadata": {},
   "outputs": [],
   "source": []
  },
  {
   "cell_type": "code",
   "execution_count": null,
   "metadata": {},
   "outputs": [],
   "source": []
  },
  {
   "cell_type": "code",
   "execution_count": null,
   "metadata": {},
   "outputs": [],
   "source": []
  },
  {
   "cell_type": "code",
   "execution_count": null,
   "metadata": {},
   "outputs": [],
   "source": []
  },
  {
   "cell_type": "code",
   "execution_count": null,
   "metadata": {},
   "outputs": [],
   "source": []
  },
  {
   "cell_type": "code",
   "execution_count": null,
   "metadata": {},
   "outputs": [],
   "source": []
  },
  {
   "cell_type": "code",
   "execution_count": null,
   "metadata": {},
   "outputs": [],
   "source": []
  },
  {
   "cell_type": "code",
   "execution_count": null,
   "metadata": {},
   "outputs": [],
   "source": []
  },
  {
   "cell_type": "code",
   "execution_count": null,
   "metadata": {},
   "outputs": [],
   "source": []
  },
  {
   "cell_type": "code",
   "execution_count": null,
   "metadata": {},
   "outputs": [],
   "source": []
  },
  {
   "cell_type": "code",
   "execution_count": null,
   "metadata": {},
   "outputs": [],
   "source": []
  },
  {
   "cell_type": "code",
   "execution_count": null,
   "metadata": {},
   "outputs": [],
   "source": []
  },
  {
   "cell_type": "raw",
   "metadata": {},
   "source": [
    "tuples = list(zip(*arrays))"
   ]
  },
  {
   "cell_type": "raw",
   "metadata": {},
   "source": [
    "index = pd.MultiIndex.from_tuples(tuples, names=['date', 'name'])\n"
   ]
  },
  {
   "cell_type": "raw",
   "metadata": {},
   "source": [
    "name_and_date = [info.create_name(product_names[i],date_list[i]) for i in range(len(product_names))]"
   ]
  },
  {
   "cell_type": "raw",
   "metadata": {
    "scrolled": true
   },
   "source": [
    "df_mp=  pd.DataFrame(data=list_of_mid_price,index=product_names).transpose()"
   ]
  },
  {
   "cell_type": "code",
   "execution_count": null,
   "metadata": {},
   "outputs": [],
   "source": []
  },
  {
   "cell_type": "raw",
   "metadata": {
    "scrolled": true
   },
   "source": [
    "pd.DataFrame(x['6AU8_6BU8'].values.T.ravel())"
   ]
  },
  {
   "cell_type": "code",
   "execution_count": null,
   "metadata": {},
   "outputs": [],
   "source": []
  },
  {
   "cell_type": "code",
   "execution_count": null,
   "metadata": {},
   "outputs": [],
   "source": []
  }
 ],
 "metadata": {
  "kernelspec": {
   "display_name": "Python 3",
   "language": "python",
   "name": "python3"
  },
  "language_info": {
   "codemirror_mode": {
    "name": "ipython",
    "version": 3
   },
   "file_extension": ".py",
   "mimetype": "text/x-python",
   "name": "python",
   "nbconvert_exporter": "python",
   "pygments_lexer": "ipython3",
   "version": "3.7.3"
  }
 },
 "nbformat": 4,
 "nbformat_minor": 2
}
