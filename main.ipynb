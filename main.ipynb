{
 "cells": [
  {
   "cell_type": "code",
   "execution_count": 6,
   "metadata": {},
   "outputs": [
    {
     "data": {
      "text/plain": [
       "<module 'src.auxiliary_functions' from '/home/ugur/python-projects/cefis2/src/auxiliary_functions.py'>"
      ]
     },
     "execution_count": 6,
     "metadata": {},
     "output_type": "execute_result"
    }
   ],
   "source": [
    "from importlib import reload\n",
    "reload(io)\n",
    "reload(info)\n",
    "reload(base)\n",
    "reload(aux)"
   ]
  },
  {
   "cell_type": "code",
   "execution_count": 1,
   "metadata": {},
   "outputs": [],
   "source": [
    "import pandas as pd\n",
    "import numpy as np\n",
    "import src.in_out as io\n",
    "import src.info as info\n",
    "import src.auxiliary_functions as aux\n",
    "import src.condition as con\n",
    "import src.base as base\n",
    "from itertools import combinations\n",
    "from src.spread import get_spread"
   ]
  },
  {
   "cell_type": "markdown",
   "metadata": {},
   "source": [
    "## Veri Hazırlama"
   ]
  },
  {
   "cell_type": "code",
   "execution_count": 2,
   "metadata": {},
   "outputs": [],
   "source": [
    "#Verilere ait path'ler alınıyor\n",
    "path_list=io.get_path('data')"
   ]
  },
  {
   "cell_type": "code",
   "execution_count": 3,
   "metadata": {
    "scrolled": true
   },
   "outputs": [],
   "source": [
    "#Okunacak sütun adları\n",
    "cols= [\"Time\",\"BID price\",\"ASK price\"]\n",
    "#Tüm veriler okunuyor\n",
    "master_data=io.read_allData(path_list, cols=cols)\n",
    "master_data.columns=['time','bid_price','ask_price','name','date']"
   ]
  },
  {
   "cell_type": "code",
   "execution_count": 4,
   "metadata": {},
   "outputs": [],
   "source": [
    "#date sütunu Timestamp'e dönüştürülüyor ve tarih ve saat bilgisi birleştiriliyor\n",
    "master_data['date']=pd.to_datetime(master_data['date'], errors='coerce')\n",
    "master_data['date'] += pd.to_timedelta(master_data.pop('time').astype(str))"
   ]
  },
  {
   "cell_type": "code",
   "execution_count": 5,
   "metadata": {},
   "outputs": [],
   "source": [
    "#zaman dilimi ekleniyor\n",
    "master_data['time_period']=master_data.date.dt.hour"
   ]
  },
  {
   "cell_type": "markdown",
   "metadata": {},
   "source": [
    "## Mid Price"
   ]
  },
  {
   "cell_type": "code",
   "execution_count": 6,
   "metadata": {},
   "outputs": [],
   "source": [
    "# mid price hesaplanıyor\n",
    "master_data['mid_price']=base.average_of_series(master_data.bid_price,master_data.ask_price)"
   ]
  },
  {
   "cell_type": "code",
   "execution_count": 7,
   "metadata": {},
   "outputs": [],
   "source": [
    "# spread hesaplama için master_data, uygun bir forma dönüştürülüyor\n",
    "df_mid_price=master_data.pivot(index='date', columns='name', values='mid_price')"
   ]
  },
  {
   "cell_type": "markdown",
   "metadata": {},
   "source": [
    "## Spread\n",
    "<img src=\"img/spread_flowchart.png\">"
   ]
  },
  {
   "cell_type": "code",
   "execution_count": 8,
   "metadata": {},
   "outputs": [],
   "source": [
    "values={'a_PNLTICK':1,\n",
    "'a_TICKSIZE':1,\n",
    "'b_PNLTICK':1,\n",
    "'b_TICKSIZE':1}"
   ]
  },
  {
   "cell_type": "code",
   "execution_count": 9,
   "metadata": {},
   "outputs": [],
   "source": [
    "# pair'lar alınıyor\n",
    "pairs=combinations(df_mid_price.columns, 2)"
   ]
  },
  {
   "cell_type": "code",
   "execution_count": 10,
   "metadata": {},
   "outputs": [],
   "source": [
    "#spread hesaplanıyor\n",
    "spread_list=[\n",
    "    base.groupby_date_time(df_mid_price.loc[:,pair]).apply(lambda x: get_spread(x,values))\\\n",
    "        for pair in pairs]\n",
    "df_spread=pd.concat(spread_list,axis=1).droplevel([0,1])"
   ]
  },
  {
   "cell_type": "code",
   "execution_count": 11,
   "metadata": {},
   "outputs": [],
   "source": [
    "#change alınıyor\n",
    "df_change=base.groupby_date_time(df_spread).apply(aux.find_change)\n",
    "df_change=df_change.droplevel([0,1])"
   ]
  },
  {
   "cell_type": "code",
   "execution_count": 153,
   "metadata": {},
   "outputs": [
    {
     "data": {
      "text/html": [
       "<div>\n",
       "<style scoped>\n",
       "    .dataframe tbody tr th:only-of-type {\n",
       "        vertical-align: middle;\n",
       "    }\n",
       "\n",
       "    .dataframe tbody tr th {\n",
       "        vertical-align: top;\n",
       "    }\n",
       "\n",
       "    .dataframe thead th {\n",
       "        text-align: right;\n",
       "    }\n",
       "</style>\n",
       "<table border=\"1\" class=\"dataframe\">\n",
       "  <thead>\n",
       "    <tr style=\"text-align: right;\">\n",
       "      <th></th>\n",
       "      <th>6AU8_6BU8</th>\n",
       "      <th>6AU8_6CU8</th>\n",
       "      <th>6BU8_6CU8</th>\n",
       "    </tr>\n",
       "    <tr>\n",
       "      <th>date</th>\n",
       "      <th></th>\n",
       "      <th></th>\n",
       "      <th></th>\n",
       "    </tr>\n",
       "  </thead>\n",
       "  <tbody>\n",
       "    <tr>\n",
       "      <td>2018-09-06 00:00:04</td>\n",
       "      <td>-0.000109</td>\n",
       "      <td>NaN</td>\n",
       "      <td>1.090000e-04</td>\n",
       "    </tr>\n",
       "    <tr>\n",
       "      <td>2018-09-06 00:00:05</td>\n",
       "      <td>0.000000</td>\n",
       "      <td>NaN</td>\n",
       "      <td>0.000000e+00</td>\n",
       "    </tr>\n",
       "    <tr>\n",
       "      <td>2018-09-06 00:00:06</td>\n",
       "      <td>0.000000</td>\n",
       "      <td>NaN</td>\n",
       "      <td>0.000000e+00</td>\n",
       "    </tr>\n",
       "    <tr>\n",
       "      <td>2018-09-06 00:00:07</td>\n",
       "      <td>0.000000</td>\n",
       "      <td>NaN</td>\n",
       "      <td>0.000000e+00</td>\n",
       "    </tr>\n",
       "    <tr>\n",
       "      <td>2018-09-06 00:00:08</td>\n",
       "      <td>0.000000</td>\n",
       "      <td>NaN</td>\n",
       "      <td>0.000000e+00</td>\n",
       "    </tr>\n",
       "    <tr>\n",
       "      <td>...</td>\n",
       "      <td>...</td>\n",
       "      <td>...</td>\n",
       "      <td>...</td>\n",
       "    </tr>\n",
       "    <tr>\n",
       "      <td>2018-09-07 23:58:59</td>\n",
       "      <td>-0.000012</td>\n",
       "      <td>-0.000012</td>\n",
       "      <td>1.110223e-16</td>\n",
       "    </tr>\n",
       "    <tr>\n",
       "      <td>2018-09-07 23:59:00</td>\n",
       "      <td>0.000000</td>\n",
       "      <td>NaN</td>\n",
       "      <td>0.000000e+00</td>\n",
       "    </tr>\n",
       "    <tr>\n",
       "      <td>2018-09-07 23:59:01</td>\n",
       "      <td>0.000000</td>\n",
       "      <td>NaN</td>\n",
       "      <td>0.000000e+00</td>\n",
       "    </tr>\n",
       "    <tr>\n",
       "      <td>2018-09-07 23:59:02</td>\n",
       "      <td>0.000000</td>\n",
       "      <td>NaN</td>\n",
       "      <td>0.000000e+00</td>\n",
       "    </tr>\n",
       "    <tr>\n",
       "      <td>2018-09-07 23:59:03</td>\n",
       "      <td>-0.000050</td>\n",
       "      <td>NaN</td>\n",
       "      <td>5.000000e-05</td>\n",
       "    </tr>\n",
       "  </tbody>\n",
       "</table>\n",
       "<p>78566 rows × 3 columns</p>\n",
       "</div>"
      ],
      "text/plain": [
       "                     6AU8_6BU8  6AU8_6CU8     6BU8_6CU8\n",
       "date                                                   \n",
       "2018-09-06 00:00:04  -0.000109        NaN  1.090000e-04\n",
       "2018-09-06 00:00:05   0.000000        NaN  0.000000e+00\n",
       "2018-09-06 00:00:06   0.000000        NaN  0.000000e+00\n",
       "2018-09-06 00:00:07   0.000000        NaN  0.000000e+00\n",
       "2018-09-06 00:00:08   0.000000        NaN  0.000000e+00\n",
       "...                        ...        ...           ...\n",
       "2018-09-07 23:58:59  -0.000012  -0.000012  1.110223e-16\n",
       "2018-09-07 23:59:00   0.000000        NaN  0.000000e+00\n",
       "2018-09-07 23:59:01   0.000000        NaN  0.000000e+00\n",
       "2018-09-07 23:59:02   0.000000        NaN  0.000000e+00\n",
       "2018-09-07 23:59:03  -0.000050        NaN  5.000000e-05\n",
       "\n",
       "[78566 rows x 3 columns]"
      ]
     },
     "execution_count": 153,
     "metadata": {},
     "output_type": "execute_result"
    }
   ],
   "source": [
    "df_change"
   ]
  },
  {
   "cell_type": "code",
   "execution_count": 156,
   "metadata": {},
   "outputs": [],
   "source": [
    "df= df_change['6AU8_6BU8']"
   ]
  },
  {
   "cell_type": "code",
   "execution_count": 162,
   "metadata": {},
   "outputs": [],
   "source": [
    "sonuc= pd.DataFrame([df,x]).T"
   ]
  },
  {
   "cell_type": "code",
   "execution_count": 168,
   "metadata": {},
   "outputs": [
    {
     "data": {
      "text/plain": [
       "0.0"
      ]
     },
     "execution_count": 168,
     "metadata": {},
     "output_type": "execute_result"
    }
   ],
   "source": [
    "df_change[pd.Timestamp]"
   ]
  },
  {
   "cell_type": "code",
   "execution_count": 160,
   "metadata": {},
   "outputs": [],
   "source": [
    "x=(df*df.shift()<0).cumsum()+1"
   ]
  },
  {
   "cell_type": "code",
   "execution_count": 164,
   "metadata": {},
   "outputs": [],
   "source": [
    "sonuc.to_excel('sonuc.xlsx')"
   ]
  },
  {
   "cell_type": "code",
   "execution_count": 123,
   "metadata": {},
   "outputs": [],
   "source": [
    "x.reset_index(inplace=True)"
   ]
  },
  {
   "cell_type": "code",
   "execution_count": 133,
   "metadata": {},
   "outputs": [
    {
     "data": {
      "text/html": [
       "<div>\n",
       "<style scoped>\n",
       "    .dataframe tbody tr th:only-of-type {\n",
       "        vertical-align: middle;\n",
       "    }\n",
       "\n",
       "    .dataframe tbody tr th {\n",
       "        vertical-align: top;\n",
       "    }\n",
       "\n",
       "    .dataframe thead th {\n",
       "        text-align: right;\n",
       "    }\n",
       "</style>\n",
       "<table border=\"1\" class=\"dataframe\">\n",
       "  <thead>\n",
       "    <tr style=\"text-align: right;\">\n",
       "      <th></th>\n",
       "      <th>urun</th>\n",
       "      <th>s</th>\n",
       "    </tr>\n",
       "  </thead>\n",
       "  <tbody>\n",
       "    <tr>\n",
       "      <td>0</td>\n",
       "      <td>-0.000109</td>\n",
       "      <td>-0.001199</td>\n",
       "    </tr>\n",
       "    <tr>\n",
       "      <td>1</td>\n",
       "      <td>-0.000109</td>\n",
       "      <td>-0.001199</td>\n",
       "    </tr>\n",
       "    <tr>\n",
       "      <td>2</td>\n",
       "      <td>-0.000109</td>\n",
       "      <td>-0.001199</td>\n",
       "    </tr>\n",
       "    <tr>\n",
       "      <td>3</td>\n",
       "      <td>-0.000109</td>\n",
       "      <td>-0.001199</td>\n",
       "    </tr>\n",
       "    <tr>\n",
       "      <td>4</td>\n",
       "      <td>-0.000109</td>\n",
       "      <td>-0.001199</td>\n",
       "    </tr>\n",
       "    <tr>\n",
       "      <td>...</td>\n",
       "      <td>...</td>\n",
       "      <td>...</td>\n",
       "    </tr>\n",
       "    <tr>\n",
       "      <td>78561</td>\n",
       "      <td>-0.000012</td>\n",
       "      <td>-0.000046</td>\n",
       "    </tr>\n",
       "    <tr>\n",
       "      <td>78562</td>\n",
       "      <td>-0.000012</td>\n",
       "      <td>-0.000046</td>\n",
       "    </tr>\n",
       "    <tr>\n",
       "      <td>78563</td>\n",
       "      <td>-0.000012</td>\n",
       "      <td>-0.000046</td>\n",
       "    </tr>\n",
       "    <tr>\n",
       "      <td>78564</td>\n",
       "      <td>-0.000012</td>\n",
       "      <td>-0.000046</td>\n",
       "    </tr>\n",
       "    <tr>\n",
       "      <td>78565</td>\n",
       "      <td>-0.000050</td>\n",
       "      <td>-0.000050</td>\n",
       "    </tr>\n",
       "  </tbody>\n",
       "</table>\n",
       "<p>78566 rows × 2 columns</p>\n",
       "</div>"
      ],
      "text/plain": [
       "           urun         s\n",
       "0     -0.000109 -0.001199\n",
       "1     -0.000109 -0.001199\n",
       "2     -0.000109 -0.001199\n",
       "3     -0.000109 -0.001199\n",
       "4     -0.000109 -0.001199\n",
       "...         ...       ...\n",
       "78561 -0.000012 -0.000046\n",
       "78562 -0.000012 -0.000046\n",
       "78563 -0.000012 -0.000046\n",
       "78564 -0.000012 -0.000046\n",
       "78565 -0.000050 -0.000050\n",
       "\n",
       "[78566 rows x 2 columns]"
      ]
     },
     "execution_count": 133,
     "metadata": {},
     "output_type": "execute_result"
    }
   ],
   "source": [
    "x.groupby(['sign']).transform('sum')"
   ]
  },
  {
   "cell_type": "code",
   "execution_count": 154,
   "metadata": {},
   "outputs": [
    {
     "data": {
      "text/html": [
       "<div>\n",
       "<style scoped>\n",
       "    .dataframe tbody tr th:only-of-type {\n",
       "        vertical-align: middle;\n",
       "    }\n",
       "\n",
       "    .dataframe tbody tr th {\n",
       "        vertical-align: top;\n",
       "    }\n",
       "\n",
       "    .dataframe thead th {\n",
       "        text-align: right;\n",
       "    }\n",
       "</style>\n",
       "<table border=\"1\" class=\"dataframe\">\n",
       "  <thead>\n",
       "    <tr style=\"text-align: right;\">\n",
       "      <th></th>\n",
       "      <th>date</th>\n",
       "      <th>urun</th>\n",
       "      <th>sign</th>\n",
       "      <th>s</th>\n",
       "    </tr>\n",
       "  </thead>\n",
       "  <tbody>\n",
       "    <tr>\n",
       "      <td>0</td>\n",
       "      <td>2018-09-06 00:00:04</td>\n",
       "      <td>-0.000109</td>\n",
       "      <td>1.0</td>\n",
       "      <td>-0.000109</td>\n",
       "    </tr>\n",
       "    <tr>\n",
       "      <td>1</td>\n",
       "      <td>2018-09-06 00:00:05</td>\n",
       "      <td>0.000000</td>\n",
       "      <td>1.0</td>\n",
       "      <td>-0.000109</td>\n",
       "    </tr>\n",
       "    <tr>\n",
       "      <td>2</td>\n",
       "      <td>2018-09-06 00:00:06</td>\n",
       "      <td>0.000000</td>\n",
       "      <td>1.0</td>\n",
       "      <td>-0.000109</td>\n",
       "    </tr>\n",
       "    <tr>\n",
       "      <td>3</td>\n",
       "      <td>2018-09-06 00:00:07</td>\n",
       "      <td>0.000000</td>\n",
       "      <td>1.0</td>\n",
       "      <td>-0.000109</td>\n",
       "    </tr>\n",
       "    <tr>\n",
       "      <td>4</td>\n",
       "      <td>2018-09-06 00:00:08</td>\n",
       "      <td>0.000000</td>\n",
       "      <td>1.0</td>\n",
       "      <td>-0.000109</td>\n",
       "    </tr>\n",
       "    <tr>\n",
       "      <td>...</td>\n",
       "      <td>...</td>\n",
       "      <td>...</td>\n",
       "      <td>...</td>\n",
       "      <td>...</td>\n",
       "    </tr>\n",
       "    <tr>\n",
       "      <td>78561</td>\n",
       "      <td>2018-09-07 23:58:59</td>\n",
       "      <td>-0.000012</td>\n",
       "      <td>5874.0</td>\n",
       "      <td>-0.000012</td>\n",
       "    </tr>\n",
       "    <tr>\n",
       "      <td>78562</td>\n",
       "      <td>2018-09-07 23:59:00</td>\n",
       "      <td>0.000000</td>\n",
       "      <td>5874.0</td>\n",
       "      <td>-0.000012</td>\n",
       "    </tr>\n",
       "    <tr>\n",
       "      <td>78563</td>\n",
       "      <td>2018-09-07 23:59:01</td>\n",
       "      <td>0.000000</td>\n",
       "      <td>5874.0</td>\n",
       "      <td>-0.000012</td>\n",
       "    </tr>\n",
       "    <tr>\n",
       "      <td>78564</td>\n",
       "      <td>2018-09-07 23:59:02</td>\n",
       "      <td>0.000000</td>\n",
       "      <td>5874.0</td>\n",
       "      <td>-0.000012</td>\n",
       "    </tr>\n",
       "    <tr>\n",
       "      <td>78565</td>\n",
       "      <td>2018-09-07 23:59:03</td>\n",
       "      <td>-0.000050</td>\n",
       "      <td>5875.0</td>\n",
       "      <td>-0.000050</td>\n",
       "    </tr>\n",
       "  </tbody>\n",
       "</table>\n",
       "<p>78566 rows × 4 columns</p>\n",
       "</div>"
      ],
      "text/plain": [
       "                     date      urun    sign         s\n",
       "0     2018-09-06 00:00:04 -0.000109     1.0 -0.000109\n",
       "1     2018-09-06 00:00:05  0.000000     1.0 -0.000109\n",
       "2     2018-09-06 00:00:06  0.000000     1.0 -0.000109\n",
       "3     2018-09-06 00:00:07  0.000000     1.0 -0.000109\n",
       "4     2018-09-06 00:00:08  0.000000     1.0 -0.000109\n",
       "...                   ...       ...     ...       ...\n",
       "78561 2018-09-07 23:58:59 -0.000012  5874.0 -0.000012\n",
       "78562 2018-09-07 23:59:00  0.000000  5874.0 -0.000012\n",
       "78563 2018-09-07 23:59:01  0.000000  5874.0 -0.000012\n",
       "78564 2018-09-07 23:59:02  0.000000  5874.0 -0.000012\n",
       "78565 2018-09-07 23:59:03 -0.000050  5875.0 -0.000050\n",
       "\n",
       "[78566 rows x 4 columns]"
      ]
     },
     "execution_count": 154,
     "metadata": {},
     "output_type": "execute_result"
    }
   ],
   "source": [
    "x"
   ]
  },
  {
   "cell_type": "code",
   "execution_count": 150,
   "metadata": {},
   "outputs": [
    {
     "data": {
      "text/plain": [
       "0       2018-09-06 00:00:04\n",
       "11      2018-09-06 00:00:15\n",
       "13      2018-09-06 00:00:17\n",
       "35      2018-09-06 00:00:39\n",
       "41      2018-09-06 00:00:45\n",
       "                ...        \n",
       "78554   2018-09-07 23:58:52\n",
       "78556   2018-09-07 23:58:54\n",
       "78559   2018-09-07 23:58:57\n",
       "78561   2018-09-07 23:58:59\n",
       "78565   2018-09-07 23:59:03\n",
       "Name: date, Length: 11758, dtype: datetime64[ns]"
      ]
     },
     "execution_count": 150,
     "metadata": {},
     "output_type": "execute_result"
    }
   ],
   "source": [
    "y"
   ]
  },
  {
   "cell_type": "code",
   "execution_count": 148,
   "metadata": {},
   "outputs": [
    {
     "data": {
      "text/plain": [
       "0            NaT\n",
       "11      00:00:11\n",
       "13      00:00:02\n",
       "35      00:00:22\n",
       "41      00:00:06\n",
       "          ...   \n",
       "78554   00:00:01\n",
       "78556   00:00:02\n",
       "78559   00:00:03\n",
       "78561   00:00:02\n",
       "78565   00:00:04\n",
       "Name: date, Length: 11758, dtype: timedelta64[ns]"
      ]
     },
     "execution_count": 148,
     "metadata": {},
     "output_type": "execute_result"
    }
   ],
   "source": [
    "zz"
   ]
  },
  {
   "cell_type": "code",
   "execution_count": 47,
   "metadata": {},
   "outputs": [],
   "source": [
    "def find_duramp(data):\n",
    "    \"\"\" (+),(-) yönde ya da sabit bir dalganın süresini hesaplar\n",
    "    Parameters:\n",
    "        data (pandas.Series): change\n",
    "    Returns:\n",
    "        pd.Series: Her bir yönde gerçekleşen değişimin süresi\n",
    "    \"\"\"\n",
    "    data = data.dropna()\n",
    "    size = len(data)\n",
    "    dur_list = size*[None]\n",
    "    amp_list = size*[None]\n",
    "    sign_negativ =0\n",
    "    sign_positive=0\n",
    "    amplitude = 0\n",
    "    #sign_zero=0\n",
    "    for i in range(0,size+1):\n",
    "        try:\n",
    "            change = data.iat[i]            \n",
    "        except:\n",
    "            if sign_positive>0:\n",
    "                dur_list[i-1] = sign_positive\n",
    "                amp_list[i-1] = amplitude\n",
    "            else:\n",
    "                if sign_negativ>0:\n",
    "                    dur_list[i-1] = sign_negativ\n",
    "                else:\n",
    "                    continue\n",
    "                \n",
    "        if change<0:\n",
    "            if (sign_positive==0 and sign_negativ==0 ) or (sign_positive==0 and sign_negativ>0):\n",
    "                sign_negativ+=1\n",
    "                amplitude +=change\n",
    "            if sign_positive>0:\n",
    "                amp_list[i-1]=amplitude\n",
    "                dur_list[i-1]=sign_positive\n",
    "                sign_positive=0\n",
    "                sign_negativ+=1\n",
    "                amplitude=change\n",
    "\n",
    "        elif change>0:\n",
    "            if (sign_negativ==0 and sign_positive==0 ) or (sign_negativ==0 and sign_positive>0):\n",
    "                amplitude+=change\n",
    "                sign_positive+=1\n",
    "            if sign_negativ>0:\n",
    "                amp_list[i-1]=amplitude\n",
    "                dur_list[i-1]=sign_negativ\n",
    "                sign_negativ=0\n",
    "                sign_positive+=1\n",
    "                amplitude=change\n",
    "        else:\n",
    "            if sign_negativ>0:\n",
    "                sign_negativ+=1\n",
    "            elif sign_positive>0:\n",
    "                sign_positive+=1\n",
    "            else:\n",
    "                continue\n",
    "            \n",
    "    series_dur = pd.Series(data=dur_list,name='duration',index=data.index).dropna()\n",
    "    series_amp = pd.Series(data=amp_list,name='amplitude',index=data.index).dropna()\n",
    "    print(pd.DataFrame(data=[series_dur,series_amp]).transpose())\n",
    "    return pd.DataFrame(data=[series_dur,series_amp]).transpose()"
   ]
  },
  {
   "cell_type": "code",
   "execution_count": null,
   "metadata": {},
   "outputs": [],
   "source": []
  }
 ],
 "metadata": {
  "kernelspec": {
   "display_name": "Python 3",
   "language": "python",
   "name": "python3"
  },
  "language_info": {
   "codemirror_mode": {
    "name": "ipython",
    "version": 3
   },
   "file_extension": ".py",
   "mimetype": "text/x-python",
   "name": "python",
   "nbconvert_exporter": "python",
   "pygments_lexer": "ipython3",
   "version": "3.7.3"
  }
 },
 "nbformat": 4,
 "nbformat_minor": 2
}
