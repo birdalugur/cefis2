{
 "cells": [
  {
   "cell_type": "code",
   "execution_count": 3,
   "metadata": {},
   "outputs": [],
   "source": [
    "import pandas as pd\n",
    "import numpy as np\n",
    "import src.in_out as io\n",
    "import src.info as info\n",
    "import src.auxiliary_functions as aux\n",
    "import src.condition as con\n",
    "import src.base as base\n",
    "from itertools import combinations\n",
    "from src.spread import get_spread\n",
    "import src.change as change"
   ]
  },
  {
   "cell_type": "markdown",
   "metadata": {},
   "source": [
    "## Veri Hazırlama"
   ]
  },
  {
   "cell_type": "code",
   "execution_count": 4,
   "metadata": {},
   "outputs": [],
   "source": [
    "#Verilere ait path'ler alınıyor\n",
    "path_list=io.get_path('data')"
   ]
  },
  {
   "cell_type": "code",
   "execution_count": 5,
   "metadata": {
    "scrolled": true
   },
   "outputs": [],
   "source": [
    "#Okunacak sütun adları\n",
    "cols= [\"Time\",\"BID price\",\"ASK price\"]\n",
    "#Tüm veriler okunuyor\n",
    "master_data=io.read_allData(path_list, cols=cols)\n",
    "master_data.columns=['time','bid_price','ask_price','name','date']"
   ]
  },
  {
   "cell_type": "code",
   "execution_count": 6,
   "metadata": {},
   "outputs": [],
   "source": [
    "#date sütunu Timestamp'e dönüştürülüyor ve tarih ve saat bilgisi birleştiriliyor\n",
    "master_data['date']=pd.to_datetime(master_data['date'], errors='coerce')\n",
    "master_data['date'] += pd.to_timedelta(master_data.pop('time').astype(str))"
   ]
  },
  {
   "cell_type": "code",
   "execution_count": 7,
   "metadata": {},
   "outputs": [],
   "source": [
    "#zaman dilimi ekleniyor\n",
    "master_data['time_period']=master_data.date.dt.hour"
   ]
  },
  {
   "cell_type": "markdown",
   "metadata": {},
   "source": [
    "## Mid Price"
   ]
  },
  {
   "cell_type": "code",
   "execution_count": 8,
   "metadata": {},
   "outputs": [],
   "source": [
    "# mid price hesaplanıyor\n",
    "master_data['mid_price']=base.average_of_series(master_data.bid_price,master_data.ask_price)"
   ]
  },
  {
   "cell_type": "code",
   "execution_count": 9,
   "metadata": {},
   "outputs": [],
   "source": [
    "# spread hesaplama için master_data, uygun bir forma dönüştürülüyor\n",
    "df_mid_price=master_data.pivot(index='date', columns='name', values='mid_price')"
   ]
  },
  {
   "cell_type": "markdown",
   "metadata": {},
   "source": [
    "## Spread\n",
    "<img src=\"img/spread_flowchart.png\">"
   ]
  },
  {
   "cell_type": "code",
   "execution_count": 10,
   "metadata": {},
   "outputs": [],
   "source": [
    "values={'a_PNLTICK':1,\n",
    "'a_TICKSIZE':1,\n",
    "'b_PNLTICK':1,\n",
    "'b_TICKSIZE':1}"
   ]
  },
  {
   "cell_type": "code",
   "execution_count": 27,
   "metadata": {},
   "outputs": [],
   "source": [
    "# pair'lar alınıyor\n",
    "pairs=combinations(df_mid_price.columns, 2)"
   ]
  },
  {
   "cell_type": "code",
   "execution_count": 12,
   "metadata": {},
   "outputs": [],
   "source": [
    "#spread hesaplanıyor\n",
    "spread_list=[\n",
    "    base.groupby_date_time(df_mid_price.loc[:,pair]).apply(lambda x: get_spread(x,values))\\\n",
    "        for pair in pairs]\n",
    "df_spread=pd.concat(spread_list,axis=1).droplevel([0,1])"
   ]
  },
  {
   "cell_type": "markdown",
   "metadata": {},
   "source": [
    "## Change"
   ]
  },
  {
   "cell_type": "code",
   "execution_count": 13,
   "metadata": {},
   "outputs": [],
   "source": [
    "#change alınıyor\n",
    "df_change=base.groupby_date_time(df_spread).apply(change.get_change)\n",
    "df_change=df_change.droplevel([0,1])"
   ]
  },
  {
   "cell_type": "markdown",
   "metadata": {},
   "source": [
    "## Sign"
   ]
  },
  {
   "cell_type": "code",
   "execution_count": 163,
   "metadata": {},
   "outputs": [],
   "source": [
    "#Dalgaları bulmak için change verileri işaretleniyor.\n",
    "sign_list=[sign(df_change.loc[:,pair]) for pair in df_change.columns]\n",
    "signed_change= pd.concat(sign_list,sort=True)"
   ]
  },
  {
   "cell_type": "code",
   "execution_count": 172,
   "metadata": {},
   "outputs": [
    {
     "data": {
      "text/html": [
       "<div>\n",
       "<style scoped>\n",
       "    .dataframe tbody tr th:only-of-type {\n",
       "        vertical-align: middle;\n",
       "    }\n",
       "\n",
       "    .dataframe tbody tr th {\n",
       "        vertical-align: top;\n",
       "    }\n",
       "\n",
       "    .dataframe thead th {\n",
       "        text-align: right;\n",
       "    }\n",
       "</style>\n",
       "<table border=\"1\" class=\"dataframe\">\n",
       "  <thead>\n",
       "    <tr style=\"text-align: right;\">\n",
       "      <th></th>\n",
       "      <th>6AU8_6BU8</th>\n",
       "      <th>6AU8_6CU8</th>\n",
       "      <th>6BU8_6CU8</th>\n",
       "      <th>sign</th>\n",
       "    </tr>\n",
       "    <tr>\n",
       "      <th>date</th>\n",
       "      <th></th>\n",
       "      <th></th>\n",
       "      <th></th>\n",
       "      <th></th>\n",
       "    </tr>\n",
       "  </thead>\n",
       "  <tbody>\n",
       "    <tr>\n",
       "      <th>2018-09-06 00:00:04</th>\n",
       "      <td>-0.000109</td>\n",
       "      <td>NaN</td>\n",
       "      <td>NaN</td>\n",
       "      <td>1</td>\n",
       "    </tr>\n",
       "    <tr>\n",
       "      <th>2018-09-06 00:00:05</th>\n",
       "      <td>0.000000</td>\n",
       "      <td>NaN</td>\n",
       "      <td>NaN</td>\n",
       "      <td>1</td>\n",
       "    </tr>\n",
       "    <tr>\n",
       "      <th>2018-09-06 00:00:06</th>\n",
       "      <td>0.000000</td>\n",
       "      <td>NaN</td>\n",
       "      <td>NaN</td>\n",
       "      <td>1</td>\n",
       "    </tr>\n",
       "    <tr>\n",
       "      <th>2018-09-06 00:00:07</th>\n",
       "      <td>0.000000</td>\n",
       "      <td>NaN</td>\n",
       "      <td>NaN</td>\n",
       "      <td>1</td>\n",
       "    </tr>\n",
       "    <tr>\n",
       "      <th>2018-09-06 00:00:08</th>\n",
       "      <td>0.000000</td>\n",
       "      <td>NaN</td>\n",
       "      <td>NaN</td>\n",
       "      <td>1</td>\n",
       "    </tr>\n",
       "    <tr>\n",
       "      <th>...</th>\n",
       "      <td>...</td>\n",
       "      <td>...</td>\n",
       "      <td>...</td>\n",
       "      <td>...</td>\n",
       "    </tr>\n",
       "    <tr>\n",
       "      <th>2018-09-07 23:58:59</th>\n",
       "      <td>NaN</td>\n",
       "      <td>NaN</td>\n",
       "      <td>1.110223e-16</td>\n",
       "      <td>8595</td>\n",
       "    </tr>\n",
       "    <tr>\n",
       "      <th>2018-09-07 23:59:00</th>\n",
       "      <td>NaN</td>\n",
       "      <td>NaN</td>\n",
       "      <td>0.000000e+00</td>\n",
       "      <td>8595</td>\n",
       "    </tr>\n",
       "    <tr>\n",
       "      <th>2018-09-07 23:59:01</th>\n",
       "      <td>NaN</td>\n",
       "      <td>NaN</td>\n",
       "      <td>0.000000e+00</td>\n",
       "      <td>8595</td>\n",
       "    </tr>\n",
       "    <tr>\n",
       "      <th>2018-09-07 23:59:02</th>\n",
       "      <td>NaN</td>\n",
       "      <td>NaN</td>\n",
       "      <td>0.000000e+00</td>\n",
       "      <td>8595</td>\n",
       "    </tr>\n",
       "    <tr>\n",
       "      <th>2018-09-07 23:59:03</th>\n",
       "      <td>NaN</td>\n",
       "      <td>NaN</td>\n",
       "      <td>5.000000e-05</td>\n",
       "      <td>8595</td>\n",
       "    </tr>\n",
       "  </tbody>\n",
       "</table>\n",
       "<p>235698 rows × 4 columns</p>\n",
       "</div>"
      ],
      "text/plain": [
       "                     6AU8_6BU8  6AU8_6CU8     6BU8_6CU8  sign\n",
       "date                                                         \n",
       "2018-09-06 00:00:04  -0.000109        NaN           NaN     1\n",
       "2018-09-06 00:00:05   0.000000        NaN           NaN     1\n",
       "2018-09-06 00:00:06   0.000000        NaN           NaN     1\n",
       "2018-09-06 00:00:07   0.000000        NaN           NaN     1\n",
       "2018-09-06 00:00:08   0.000000        NaN           NaN     1\n",
       "...                        ...        ...           ...   ...\n",
       "2018-09-07 23:58:59        NaN        NaN  1.110223e-16  8595\n",
       "2018-09-07 23:59:00        NaN        NaN  0.000000e+00  8595\n",
       "2018-09-07 23:59:01        NaN        NaN  0.000000e+00  8595\n",
       "2018-09-07 23:59:02        NaN        NaN  0.000000e+00  8595\n",
       "2018-09-07 23:59:03        NaN        NaN  5.000000e-05  8595\n",
       "\n",
       "[235698 rows x 4 columns]"
      ]
     },
     "execution_count": 172,
     "metadata": {},
     "output_type": "execute_result"
    }
   ],
   "source": [
    "signed_change"
   ]
  },
  {
   "cell_type": "markdown",
   "metadata": {},
   "source": [
    "## Amplitude"
   ]
  },
  {
   "cell_type": "code",
   "execution_count": 31,
   "metadata": {},
   "outputs": [
    {
     "name": "stderr",
     "output_type": "stream",
     "text": [
      "c:\\users\\ugur.eren\\python codes\\environments\\inflation_env\\lib\\site-packages\\pandas\\core\\series.py:856: RuntimeWarning: invalid value encountered in sign\n",
      "  result = getattr(ufunc, method)(*inputs, **kwargs)\n"
     ]
    }
   ],
   "source": [
    "amplitude_list=[]\n",
    "for pair in df_change.columns:\n",
    "    signed=change.sign(df_change[pair])\n",
    "    date=signed.groupby('sign').apply(change.last_time)\n",
    "    df=signed.groupby('sign').transform('sum')\n",
    "    amp=df.loc[date]\n",
    "    amplitude_list.append(amp)"
   ]
  },
  {
   "cell_type": "code",
   "execution_count": 32,
   "metadata": {},
   "outputs": [],
   "source": [
    "df_amplitude = pd.concat(amplitude_list,axis=1)"
   ]
  },
  {
   "cell_type": "markdown",
   "metadata": {},
   "source": [
    "# Sonuçlar Excele Yazdırılıyor"
   ]
  },
  {
   "cell_type": "code",
   "execution_count": 46,
   "metadata": {},
   "outputs": [],
   "source": [
    "df_mid_price.to_excel('out/mid_price.xlsx')\n",
    "df_spread.to_excel('out/spread.xlsx')\n",
    "df_change.to_excel('out/change.xlsx')\n",
    "df_amplitude.to_excel('out/amplitude.xlsx')"
   ]
  }
 ],
 "metadata": {
  "kernelspec": {
   "display_name": "Python 3",
   "language": "python",
   "name": "python3"
  },
  "language_info": {
   "codemirror_mode": {
    "name": "ipython",
    "version": 3
   },
   "file_extension": ".py",
   "mimetype": "text/x-python",
   "name": "python",
   "nbconvert_exporter": "python",
   "pygments_lexer": "ipython3",
   "version": "3.7.5"
  }
 },
 "nbformat": 4,
 "nbformat_minor": 2
}
