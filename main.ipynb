{
 "cells": [
  {
   "cell_type": "code",
   "execution_count": null,
   "metadata": {},
   "outputs": [],
   "source": [
    "from importlib import reload\n",
    "reload(change)\n",
    "reload(base)"
   ]
  },
  {
   "cell_type": "code",
   "execution_count": 1,
   "metadata": {},
   "outputs": [],
   "source": [
    "import pandas as pd\n",
    "import numpy as np\n",
    "import src.in_out as io\n",
    "import src.info as info\n",
    "import src.condition as con\n",
    "import src.base as base\n",
    "from itertools import combinations\n",
    "from src.spread import get_spread\n",
    "import src.change as change"
   ]
  },
  {
   "cell_type": "markdown",
   "metadata": {},
   "source": [
    "## Veri Hazırlama"
   ]
  },
  {
   "cell_type": "code",
   "execution_count": 2,
   "metadata": {},
   "outputs": [],
   "source": [
    "#Verilere ait path'ler alınıyor\n",
    "path_list=io.get_path('data')"
   ]
  },
  {
   "cell_type": "code",
   "execution_count": 3,
   "metadata": {
    "scrolled": true
   },
   "outputs": [],
   "source": [
    "#Okunacak sütun adları\n",
    "cols= [\"Time\",\"BID price\",\"ASK price\"]\n",
    "#Tüm veriler okunuyor\n",
    "master_data=io.read_allData(path_list, cols=cols)\n",
    "master_data.columns=['time','bid_price','ask_price','name','date']"
   ]
  },
  {
   "cell_type": "code",
   "execution_count": 4,
   "metadata": {},
   "outputs": [],
   "source": [
    "#date sütunu Timestamp'e dönüştürülüyor ve tarih ve saat bilgisi birleştiriliyor\n",
    "master_data['date']=pd.to_datetime(master_data['date'], errors='coerce')\n",
    "master_data['date'] += pd.to_timedelta(master_data.pop('time').astype(str))"
   ]
  },
  {
   "cell_type": "code",
   "execution_count": 5,
   "metadata": {},
   "outputs": [],
   "source": [
    "#zaman dilimi ekleniyor\n",
    "master_data['time_period']=master_data.date.dt.hour"
   ]
  },
  {
   "cell_type": "markdown",
   "metadata": {},
   "source": [
    "## Mid Price"
   ]
  },
  {
   "cell_type": "code",
   "execution_count": 6,
   "metadata": {},
   "outputs": [],
   "source": [
    "# mid price hesaplanıyor\n",
    "master_data['mid_price']=base.average_of_series(master_data.bid_price,master_data.ask_price)"
   ]
  },
  {
   "cell_type": "code",
   "execution_count": 7,
   "metadata": {},
   "outputs": [],
   "source": [
    "# spread hesaplama için master_data, uygun bir forma dönüştürülüyor\n",
    "df_mid_price=master_data.pivot(index='date', columns='name', values='mid_price')"
   ]
  },
  {
   "cell_type": "markdown",
   "metadata": {},
   "source": [
    "## Spread\n",
    "<img src=\"img/spread_flowchart.png\">\n",
    "<br/>\n",
    "Spread, her bir saat için ayrı ayrı hesaplanmıştır"
   ]
  },
  {
   "cell_type": "code",
   "execution_count": 8,
   "metadata": {},
   "outputs": [],
   "source": [
    "values={'a_PNLTICK':1,\n",
    "'a_TICKSIZE':1,\n",
    "'b_PNLTICK':1,\n",
    "'b_TICKSIZE':1}"
   ]
  },
  {
   "cell_type": "code",
   "execution_count": 9,
   "metadata": {},
   "outputs": [],
   "source": [
    "# pair'lar alınıyor\n",
    "pairs=combinations(df_mid_price.columns, 2)"
   ]
  },
  {
   "cell_type": "code",
   "execution_count": 10,
   "metadata": {},
   "outputs": [],
   "source": [
    "#spread hesaplanıyor\n",
    "spread_list=[\n",
    "    base.groupby_date_time(df_mid_price.loc[:,pair]).apply(lambda x: get_spread(x,values))\\\n",
    "        for pair in pairs]\n",
    "df_spread=pd.concat(spread_list,axis=1).droplevel([0,1])"
   ]
  },
  {
   "cell_type": "markdown",
   "metadata": {},
   "source": [
    "## Change"
   ]
  },
  {
   "cell_type": "code",
   "execution_count": 11,
   "metadata": {},
   "outputs": [],
   "source": [
    "#change alınıyor\n",
    "df_change=base.groupby_date_time(df_spread).apply(change.get_change)\n",
    "df_change=df_change.droplevel([0,1])"
   ]
  },
  {
   "cell_type": "markdown",
   "metadata": {},
   "source": [
    "## Amplitude"
   ]
  },
  {
   "cell_type": "code",
   "execution_count": 58,
   "metadata": {},
   "outputs": [],
   "source": [
    "ab_grup=base.groupby_date_time(df_change['6AU8_6BU8'])"
   ]
  },
  {
   "cell_type": "code",
   "execution_count": 60,
   "metadata": {},
   "outputs": [],
   "source": [
    "ab_lst= list(ab_grup)"
   ]
  },
  {
   "cell_type": "code",
   "execution_count": 75,
   "metadata": {
    "scrolled": true
   },
   "outputs": [
    {
     "name": "stdout",
     "output_type": "stream",
     "text": [
      "0 days 00:00:01\n",
      "0 days 00:00:00\n",
      "0 days 00:00:00\n",
      "0 days 00:00:00\n",
      "0 days 00:00:00\n",
      "0 days 00:00:00\n",
      "0 days 00:00:00\n",
      "0 days 00:00:00\n",
      "0 days 00:00:00\n",
      "0 days 00:00:00\n",
      "0 days 00:00:00\n",
      "0 days 00:00:01\n",
      "0 days 00:00:00\n",
      "0 days 00:00:00\n",
      "0 days 00:00:00\n",
      "0 days 00:00:00\n",
      "0 days 00:00:01\n",
      "0 days 00:00:00\n",
      "0 days 00:00:00\n",
      "0 days 00:00:00\n",
      "0 days 00:00:00\n",
      "0 days 00:00:00\n"
     ]
    }
   ],
   "source": [
    "for i in range(len(ab_lst)):\n",
    "    sc=ab_lst[i][1]\n",
    "    sc=base.to_series(sc)\n",
    "    x=change.get_amplitude(sc)\n",
    "    print(x.duration.min())"
   ]
  },
  {
   "cell_type": "code",
   "execution_count": 76,
   "metadata": {},
   "outputs": [],
   "source": [
    "sc=ab_lst[1][1]"
   ]
  },
  {
   "cell_type": "code",
   "execution_count": 77,
   "metadata": {},
   "outputs": [],
   "source": [
    "sc=base.to_series(sc)"
   ]
  },
  {
   "cell_type": "code",
   "execution_count": 84,
   "metadata": {},
   "outputs": [],
   "source": [
    "sc=base.clean_data(sc)"
   ]
  },
  {
   "cell_type": "code",
   "execution_count": 88,
   "metadata": {},
   "outputs": [],
   "source": [
    "signed_sc=change.sign(sc)"
   ]
  },
  {
   "cell_type": "code",
   "execution_count": 90,
   "metadata": {},
   "outputs": [],
   "source": [
    "signed_scr = signed_sc.reset_index()"
   ]
  },
  {
   "cell_type": "code",
   "execution_count": 95,
   "metadata": {},
   "outputs": [],
   "source": [
    "signed_scr['duration']=signed_scr.date.diff()"
   ]
  },
  {
   "cell_type": "code",
   "execution_count": 101,
   "metadata": {},
   "outputs": [
    {
     "data": {
      "text/html": [
       "<div>\n",
       "<style scoped>\n",
       "    .dataframe tbody tr th:only-of-type {\n",
       "        vertical-align: middle;\n",
       "    }\n",
       "\n",
       "    .dataframe tbody tr th {\n",
       "        vertical-align: top;\n",
       "    }\n",
       "\n",
       "    .dataframe thead th {\n",
       "        text-align: right;\n",
       "    }\n",
       "</style>\n",
       "<table border=\"1\" class=\"dataframe\">\n",
       "  <thead>\n",
       "    <tr style=\"text-align: right;\">\n",
       "      <th></th>\n",
       "      <th>date</th>\n",
       "      <th>6AU8_6BU8</th>\n",
       "      <th>sign</th>\n",
       "      <th>duration</th>\n",
       "    </tr>\n",
       "  </thead>\n",
       "  <tbody>\n",
       "    <tr>\n",
       "      <th>0</th>\n",
       "      <td>2018-09-06 01:00:03</td>\n",
       "      <td>-0.000096</td>\n",
       "      <td>1</td>\n",
       "      <td>NaT</td>\n",
       "    </tr>\n",
       "    <tr>\n",
       "      <th>1</th>\n",
       "      <td>2018-09-06 01:00:40</td>\n",
       "      <td>0.000096</td>\n",
       "      <td>2</td>\n",
       "      <td>00:00:37</td>\n",
       "    </tr>\n",
       "    <tr>\n",
       "      <th>2</th>\n",
       "      <td>2018-09-06 01:00:47</td>\n",
       "      <td>-0.000096</td>\n",
       "      <td>3</td>\n",
       "      <td>00:00:07</td>\n",
       "    </tr>\n",
       "    <tr>\n",
       "      <th>3</th>\n",
       "      <td>2018-09-06 01:00:56</td>\n",
       "      <td>0.000050</td>\n",
       "      <td>4</td>\n",
       "      <td>00:00:09</td>\n",
       "    </tr>\n",
       "    <tr>\n",
       "      <th>4</th>\n",
       "      <td>2018-09-06 01:00:58</td>\n",
       "      <td>-0.000050</td>\n",
       "      <td>5</td>\n",
       "      <td>00:00:02</td>\n",
       "    </tr>\n",
       "    <tr>\n",
       "      <th>...</th>\n",
       "      <td>...</td>\n",
       "      <td>...</td>\n",
       "      <td>...</td>\n",
       "      <td>...</td>\n",
       "    </tr>\n",
       "    <tr>\n",
       "      <th>532</th>\n",
       "      <td>2018-09-06 01:59:52</td>\n",
       "      <td>0.000013</td>\n",
       "      <td>404</td>\n",
       "      <td>00:00:09</td>\n",
       "    </tr>\n",
       "    <tr>\n",
       "      <th>533</th>\n",
       "      <td>2018-09-06 01:59:53</td>\n",
       "      <td>0.000046</td>\n",
       "      <td>404</td>\n",
       "      <td>00:00:01</td>\n",
       "    </tr>\n",
       "    <tr>\n",
       "      <th>534</th>\n",
       "      <td>2018-09-06 01:59:54</td>\n",
       "      <td>-0.000097</td>\n",
       "      <td>405</td>\n",
       "      <td>00:00:01</td>\n",
       "    </tr>\n",
       "    <tr>\n",
       "      <th>535</th>\n",
       "      <td>2018-09-06 01:59:57</td>\n",
       "      <td>-0.000013</td>\n",
       "      <td>405</td>\n",
       "      <td>00:00:03</td>\n",
       "    </tr>\n",
       "    <tr>\n",
       "      <th>536</th>\n",
       "      <td>2018-09-06 01:59:58</td>\n",
       "      <td>-0.000046</td>\n",
       "      <td>405</td>\n",
       "      <td>00:00:01</td>\n",
       "    </tr>\n",
       "  </tbody>\n",
       "</table>\n",
       "<p>537 rows × 4 columns</p>\n",
       "</div>"
      ],
      "text/plain": [
       "                   date  6AU8_6BU8  sign duration\n",
       "0   2018-09-06 01:00:03  -0.000096     1      NaT\n",
       "1   2018-09-06 01:00:40   0.000096     2 00:00:37\n",
       "2   2018-09-06 01:00:47  -0.000096     3 00:00:07\n",
       "3   2018-09-06 01:00:56   0.000050     4 00:00:09\n",
       "4   2018-09-06 01:00:58  -0.000050     5 00:00:02\n",
       "..                  ...        ...   ...      ...\n",
       "532 2018-09-06 01:59:52   0.000013   404 00:00:09\n",
       "533 2018-09-06 01:59:53   0.000046   404 00:00:01\n",
       "534 2018-09-06 01:59:54  -0.000097   405 00:00:01\n",
       "535 2018-09-06 01:59:57  -0.000013   405 00:00:03\n",
       "536 2018-09-06 01:59:58  -0.000046   405 00:00:01\n",
       "\n",
       "[537 rows x 4 columns]"
      ]
     },
     "execution_count": 101,
     "metadata": {},
     "output_type": "execute_result"
    }
   ],
   "source": [
    "signed_scr"
   ]
  },
  {
   "cell_type": "code",
   "execution_count": 103,
   "metadata": {},
   "outputs": [],
   "source": [
    "amp=signed_scr.groupby('sign').agg({'date':change.last_time,'duration':'sum','6AU8_6BU8':'sum'})"
   ]
  },
  {
   "cell_type": "code",
   "execution_count": 109,
   "metadata": {},
   "outputs": [
    {
     "data": {
      "text/html": [
       "<div>\n",
       "<style scoped>\n",
       "    .dataframe tbody tr th:only-of-type {\n",
       "        vertical-align: middle;\n",
       "    }\n",
       "\n",
       "    .dataframe tbody tr th {\n",
       "        vertical-align: top;\n",
       "    }\n",
       "\n",
       "    .dataframe thead th {\n",
       "        text-align: right;\n",
       "    }\n",
       "</style>\n",
       "<table border=\"1\" class=\"dataframe\">\n",
       "  <thead>\n",
       "    <tr style=\"text-align: right;\">\n",
       "      <th></th>\n",
       "      <th>date</th>\n",
       "      <th>duration</th>\n",
       "      <th>6AU8_6BU8</th>\n",
       "    </tr>\n",
       "    <tr>\n",
       "      <th>sign</th>\n",
       "      <th></th>\n",
       "      <th></th>\n",
       "      <th></th>\n",
       "    </tr>\n",
       "  </thead>\n",
       "  <tbody>\n",
       "    <tr>\n",
       "      <th>1</th>\n",
       "      <td>2018-09-06 01:00:03</td>\n",
       "      <td>00:00:00</td>\n",
       "      <td>-0.000096</td>\n",
       "    </tr>\n",
       "    <tr>\n",
       "      <th>2</th>\n",
       "      <td>2018-09-06 01:00:40</td>\n",
       "      <td>00:00:37</td>\n",
       "      <td>0.000096</td>\n",
       "    </tr>\n",
       "    <tr>\n",
       "      <th>3</th>\n",
       "      <td>2018-09-06 01:00:47</td>\n",
       "      <td>00:00:07</td>\n",
       "      <td>-0.000096</td>\n",
       "    </tr>\n",
       "    <tr>\n",
       "      <th>4</th>\n",
       "      <td>2018-09-06 01:00:56</td>\n",
       "      <td>00:00:09</td>\n",
       "      <td>0.000050</td>\n",
       "    </tr>\n",
       "    <tr>\n",
       "      <th>5</th>\n",
       "      <td>2018-09-06 01:00:58</td>\n",
       "      <td>00:00:02</td>\n",
       "      <td>-0.000050</td>\n",
       "    </tr>\n",
       "    <tr>\n",
       "      <th>...</th>\n",
       "      <td>...</td>\n",
       "      <td>...</td>\n",
       "      <td>...</td>\n",
       "    </tr>\n",
       "    <tr>\n",
       "      <th>401</th>\n",
       "      <td>2018-09-06 01:59:40</td>\n",
       "      <td>00:00:01</td>\n",
       "      <td>-0.000059</td>\n",
       "    </tr>\n",
       "    <tr>\n",
       "      <th>402</th>\n",
       "      <td>2018-09-06 01:59:41</td>\n",
       "      <td>00:00:01</td>\n",
       "      <td>0.000059</td>\n",
       "    </tr>\n",
       "    <tr>\n",
       "      <th>403</th>\n",
       "      <td>2018-09-06 01:59:43</td>\n",
       "      <td>00:00:02</td>\n",
       "      <td>-0.000059</td>\n",
       "    </tr>\n",
       "    <tr>\n",
       "      <th>404</th>\n",
       "      <td>2018-09-06 01:59:53</td>\n",
       "      <td>00:00:10</td>\n",
       "      <td>0.000059</td>\n",
       "    </tr>\n",
       "    <tr>\n",
       "      <th>405</th>\n",
       "      <td>2018-09-06 01:59:58</td>\n",
       "      <td>00:00:05</td>\n",
       "      <td>-0.000156</td>\n",
       "    </tr>\n",
       "  </tbody>\n",
       "</table>\n",
       "<p>405 rows × 3 columns</p>\n",
       "</div>"
      ],
      "text/plain": [
       "                    date duration  6AU8_6BU8\n",
       "sign                                        \n",
       "1    2018-09-06 01:00:03 00:00:00  -0.000096\n",
       "2    2018-09-06 01:00:40 00:00:37   0.000096\n",
       "3    2018-09-06 01:00:47 00:00:07  -0.000096\n",
       "4    2018-09-06 01:00:56 00:00:09   0.000050\n",
       "5    2018-09-06 01:00:58 00:00:02  -0.000050\n",
       "...                  ...      ...        ...\n",
       "401  2018-09-06 01:59:40 00:00:01  -0.000059\n",
       "402  2018-09-06 01:59:41 00:00:01   0.000059\n",
       "403  2018-09-06 01:59:43 00:00:02  -0.000059\n",
       "404  2018-09-06 01:59:53 00:00:10   0.000059\n",
       "405  2018-09-06 01:59:58 00:00:05  -0.000156\n",
       "\n",
       "[405 rows x 3 columns]"
      ]
     },
     "execution_count": 109,
     "metadata": {},
     "output_type": "execute_result"
    }
   ],
   "source": [
    "amp"
   ]
  },
  {
   "cell_type": "code",
   "execution_count": null,
   "metadata": {},
   "outputs": [],
   "source": []
  },
  {
   "cell_type": "code",
   "execution_count": 19,
   "metadata": {},
   "outputs": [],
   "source": [
    "all_pairs_of_amplitude=[]"
   ]
  },
  {
   "cell_type": "code",
   "execution_count": 20,
   "metadata": {},
   "outputs": [],
   "source": [
    "for pair_change in df_change:   #Her bir pair alınıyor\n",
    "    pair_group = list(base.groupby_date_time(df_change[pair_change])) #gün ve saate göre gruplanıyor\n",
    "    sub_amplitudes=[]\n",
    "    for i in range(len(pair_group)):\n",
    "        sub_change=base.to_series(pair_group[i][1])\n",
    "        sub_amplitudes.append(change.get_amplitude(sub_change)) #pair'a ait her alt grubun amplitudu'u hesaplanıyor\n",
    "    all_pairs_of_amplitude.append(pd.concat(sub_amplitudes)) # alt amplitude'lar birleştiriliyor"
   ]
  },
  {
   "cell_type": "markdown",
   "metadata": {},
   "source": [
    "#### 1. Amplitude'u hesaplanan tüm pair'lar all_pairs_of_amplitude adlı dizide tutuluyor.  Hepsi tek DataFrame'de birleştirilmek istenirse aşağıdaki kod çalıştırılabilir."
   ]
  },
  {
   "cell_type": "code",
   "execution_count": null,
   "metadata": {},
   "outputs": [],
   "source": [
    "from functools import reduce\n",
    "\n",
    "df_final = reduce(lambda left,right: pd.merge(left,right,on=['date','duration'],how='outer'), all_pairs_of_amplitude)\n",
    "\n",
    "df_final # NaN'lar birleştirmeden dolayı. ÖNEMSİZ ! 6AU8_6CU8, 2018-09-06 00:00:49 dan başladığından öncesi NaN"
   ]
  },
  {
   "cell_type": "markdown",
   "metadata": {},
   "source": [
    "#### 2. Henüz condition uygulanmamış sonuçlar excel'e yazdırabilir."
   ]
  },
  {
   "cell_type": "code",
   "execution_count": null,
   "metadata": {},
   "outputs": [],
   "source": [
    "df_mid_price.to_excel('out/mid_price.xlsx',)\n",
    "df_spread.to_excel('out/spread.xlsx')\n",
    "df_change.to_excel('out/change.xlsx')\n",
    "df_final.to_excel('out/amplitude.xlsx')"
   ]
  },
  {
   "cell_type": "markdown",
   "metadata": {},
   "source": [
    "# Koşula Göre Amplitude ve Duration Verisinin Yeniden Düzenlenmesi"
   ]
  },
  {
   "cell_type": "code",
   "execution_count": 34,
   "metadata": {},
   "outputs": [],
   "source": [
    "#Önce condition modülümüzü import ediyoruz.\n",
    "import src.condition as condition"
   ]
  },
  {
   "cell_type": "code",
   "execution_count": 39,
   "metadata": {},
   "outputs": [],
   "source": [
    "# Hesaplayacağımız verileri saklayabilmek için boş bir dizi yarattık\n",
    "condition_data = []"
   ]
  },
  {
   "cell_type": "code",
   "execution_count": 41,
   "metadata": {},
   "outputs": [],
   "source": [
    "# Python'a ait lambda ifadelerini kullanabilmek için basit bir fonksiyon yazdık\n",
    "def uygula(data):\n",
    "    \"\"\"parametre olarak gelen 'data' daki indeksi kaldırır.\n",
    "       percentile(.6) ya göre koşul uygulandı.\n",
    "       percentile silinip yerine medyan() yazılırsa, koşulu medyana göre hesaplar.\n",
    "       ya da percentile'ın '.6' olan parametresi değiştirilebilir.\n",
    "    \"\"\"\n",
    "    data = data.reset_index(drop=True)\n",
    "    signs = condition.Sign(data).percentile(.6) #\n",
    "    return condition.apply(data,signs)"
   ]
  },
  {
   "cell_type": "code",
   "execution_count": 68,
   "metadata": {
    "scrolled": true
   },
   "outputs": [
    {
     "name": "stdout",
     "output_type": "stream",
     "text": [
      "duration= {'pozitif': 7.0, 'negatif': nan}\n",
      "amplitude= {'pozitif': 9.649999999994385e-05, 'negatif': -5.8999999999809205e-05}\n",
      "duration= {'pozitif': 5.0, 'negatif': nan}\n",
      "amplitude= {'pozitif': 0.00010899999999969268, 'negatif': -9.649999999994385e-05}\n",
      "duration= {'pozitif': 4.0, 'negatif': nan}\n",
      "amplitude= {'pozitif': 0.00010899999999991472, 'negatif': -5.900000000014227e-05}\n",
      "duration= {'pozitif': 12.0, 'negatif': nan}\n",
      "amplitude= {'pozitif': 9.649999999994385e-05, 'negatif': -5.900000000003125e-05}\n",
      "duration= {'pozitif': 5.0, 'negatif': nan}\n",
      "amplitude= {'pozitif': 9.649999999994385e-05, 'negatif': -5.8999999999809205e-05}\n",
      "duration= {'pozitif': 6.0, 'negatif': nan}\n",
      "amplitude= {'pozitif': 9.649999999994385e-05, 'negatif': -5.0000000000105516e-05}\n",
      "duration= {'pozitif': 8.0, 'negatif': nan}\n",
      "amplitude= {'pozitif': 6.150000000004763e-05, 'negatif': -6.14999999999366e-05}\n",
      "duration= {'pozitif': 5.0, 'negatif': nan}\n",
      "amplitude= {'pozitif': 9.999999999976694e-05, 'negatif': -6.14999999999366e-05}\n",
      "duration= {'pozitif': 4.0, 'negatif': nan}\n",
      "amplitude= {'pozitif': 0.00010000000000003338, 'negatif': -6.14999999999366e-05}\n",
      "duration= {'pozitif': 13.199999999999989, 'negatif': nan}\n",
      "amplitude= {'pozitif': 6.14999999999366e-05, 'negatif': -5.690000000000427e-05}\n",
      "duration= {'pozitif': 6.0, 'negatif': nan}\n",
      "amplitude= {'pozitif': 6.150000000004763e-05, 'negatif': -6.14999999999366e-05}\n",
      "duration= {'pozitif': 7.0, 'negatif': nan}\n",
      "amplitude= {'pozitif': 6.150000000004763e-05, 'negatif': -6.14999999999366e-05}\n",
      "duration= {'pozitif': 11.0, 'negatif': nan}\n",
      "amplitude= {'pozitif': 3.5000000000451337e-06, 'negatif': -3.4999999999341114e-06}\n",
      "duration= {'pozitif': 12.0, 'negatif': nan}\n",
      "amplitude= {'pozitif': 3.5000000000451337e-06, 'negatif': -3.5000000000451337e-06}\n",
      "duration= {'pozitif': 9.599999999999994, 'negatif': nan}\n",
      "amplitude= {'pozitif': 3.5000000000451337e-06, 'negatif': -3.5000000000451337e-06}\n",
      "duration= {'pozitif': 16.199999999999996, 'negatif': nan}\n",
      "amplitude= {'pozitif': 3.5000000000451337e-06, 'negatif': -3.4999999999341114e-06}\n",
      "duration= {'pozitif': 10.0, 'negatif': nan}\n",
      "amplitude= {'pozitif': 3.5000000000451337e-06, 'negatif': -3.5000000000451337e-06}\n",
      "duration= {'pozitif': 9.0, 'negatif': nan}\n",
      "amplitude= {'pozitif': 3.5000000000451337e-06, 'negatif': -3.5000000000451337e-06}\n",
      "duration= {'pozitif': 9.0, 'negatif': nan}\n",
      "amplitude= {'pozitif': 4.999999999999449e-05, 'negatif': -3.849999999994136e-05}\n",
      "duration= {'pozitif': 9.0, 'negatif': nan}\n",
      "amplitude= {'pozitif': 4.999999999999449e-05, 'negatif': -3.850000000005238e-05}\n",
      "duration= {'pozitif': 8.0, 'negatif': nan}\n",
      "amplitude= {'pozitif': 3.850000000005238e-05, 'negatif': -3.849999999994136e-05}\n",
      "duration= {'pozitif': 14.399999999999991, 'negatif': nan}\n",
      "amplitude= {'pozitif': 4.999999999999449e-05, 'negatif': -3.309999999996383e-05}\n",
      "duration= {'pozitif': 7.0, 'negatif': nan}\n",
      "amplitude= {'pozitif': 4.999999999999449e-05, 'negatif': -3.849999999994136e-05}\n",
      "duration= {'pozitif': 7.800000000000011, 'negatif': nan}\n",
      "amplitude= {'pozitif': 4.999999999999449e-05, 'negatif': -3.850000000005238e-05}\n",
      "duration= {'pozitif': 7.0, 'negatif': nan}\n",
      "amplitude= {'pozitif': 9.999999999998899e-05, 'negatif': -5.0000000000105516e-05}\n",
      "duration= {'pozitif': 5.0, 'negatif': nan}\n",
      "amplitude= {'pozitif': 0.00010899999999991472, 'negatif': -5.9000000000253294e-05}\n",
      "duration= {'pozitif': 4.0, 'negatif': nan}\n",
      "amplitude= {'pozitif': 0.00010899999999991472, 'negatif': -9.819999999998173e-05}\n",
      "duration= {'pozitif': 11.599999999999994, 'negatif': nan}\n",
      "amplitude= {'pozitif': 9.999999999998899e-05, 'negatif': -5.900000000003125e-05}\n",
      "duration= {'pozitif': 5.0, 'negatif': nan}\n",
      "amplitude= {'pozitif': 9.999999999998899e-05, 'negatif': -5.0000000000105516e-05}\n",
      "duration= {'pozitif': 6.0, 'negatif': nan}\n",
      "amplitude= {'pozitif': 9.999999999998899e-05, 'negatif': -5.899999999992023e-05}\n",
      "duration= {'pozitif': 7.0, 'negatif': nan}\n",
      "amplitude= {'pozitif': 9.999999999998899e-05, 'negatif': -4.999999999999449e-05}\n",
      "duration= {'pozitif': 5.0, 'negatif': nan}\n",
      "amplitude= {'pozitif': 9.999999999998899e-05, 'negatif': -5.0000000000105516e-05}\n",
      "duration= {'pozitif': 4.0, 'negatif': nan}\n",
      "amplitude= {'pozitif': 9.999999999998899e-05, 'negatif': -9.999999999976694e-05}\n",
      "duration= {'pozitif': 12.0, 'negatif': nan}\n",
      "amplitude= {'pozitif': 9.999999999990016e-05, 'negatif': -5.0000000000105516e-05}\n",
      "duration= {'pozitif': 5.0, 'negatif': nan}\n",
      "amplitude= {'pozitif': 9.999999999998899e-05, 'negatif': -5.0000000000105516e-05}\n",
      "duration= {'pozitif': 6.0, 'negatif': nan}\n",
      "amplitude= {'pozitif': 9.999999999998899e-05, 'negatif': -5.0000000000105516e-05}\n"
     ]
    }
   ],
   "source": [
    "# bir for döngüsü ile tüm pairlara erişiyoruz\n",
    "for data in all_pairs_of_amplitude:\n",
    "    #groupby içerisindeki floor metoduyla veriyi neye göre gruplayacağımızı belirtiyoruz.\n",
    "    #Burada groupby 2 parametre aldı. ilk parametre ile 'güne göre', 2. parametre ile de 'saate' göre\n",
    "    #ayırıp, 'uygula' metodunu her gruba ayrı ayrı uygulayacağını belirttik\n",
    "    \"\"\" 'd' -> day\n",
    "        '2h' -> 2şer saat\n",
    "        'h'-> birer saat\n",
    "        'nd' ->n güne böl\n",
    "        'nh' -> n saate böl gibi        \n",
    "    \"\"\" \n",
    "    \"\"\".apply metodu ile yapmak istediğimiz işlemi belirtiyoruz\n",
    "        lambda x : uygula(x) -> her bir grubu sırayla\n",
    "        x olarak adlandır ve uygula fonksiyonuna parametre olarak gönder\n",
    "    \"\"\"\n",
    "    result = data.groupby([data.date.dt.floor('d'),data.date.dt.floor('2h')])\\\n",
    "        .apply(lambda x : uygula(x)).droplevel([0,1])\n",
    "    #son olarak hesaplanan verileri condition_data adlı listeye atmasını söylüyoruz\n",
    "    condition_data.append(result)"
   ]
  },
  {
   "cell_type": "code",
   "execution_count": 71,
   "metadata": {
    "scrolled": true
   },
   "outputs": [],
   "source": [
    "# percentile(0.6)'a göre hesaplanmış olan 1. pairi görüntüleyelim"
   ]
  },
  {
   "cell_type": "code",
   "execution_count": 72,
   "metadata": {},
   "outputs": [
    {
     "data": {
      "text/html": [
       "<div>\n",
       "<style scoped>\n",
       "    .dataframe tbody tr th:only-of-type {\n",
       "        vertical-align: middle;\n",
       "    }\n",
       "\n",
       "    .dataframe tbody tr th {\n",
       "        vertical-align: top;\n",
       "    }\n",
       "\n",
       "    .dataframe thead th {\n",
       "        text-align: right;\n",
       "    }\n",
       "</style>\n",
       "<table border=\"1\" class=\"dataframe\">\n",
       "  <thead>\n",
       "    <tr style=\"text-align: right;\">\n",
       "      <th></th>\n",
       "      <th>date</th>\n",
       "      <th>duration</th>\n",
       "      <th>6AU8_6BU8</th>\n",
       "    </tr>\n",
       "  </thead>\n",
       "  <tbody>\n",
       "    <tr>\n",
       "      <td>0</td>\n",
       "      <td>2018-09-06 00:00:17</td>\n",
       "      <td>00:00:13</td>\n",
       "      <td>-0.000218</td>\n",
       "    </tr>\n",
       "    <tr>\n",
       "      <td>1</td>\n",
       "      <td>2018-09-06 00:00:39</td>\n",
       "      <td>00:00:22</td>\n",
       "      <td>0.000050</td>\n",
       "    </tr>\n",
       "    <tr>\n",
       "      <td>2</td>\n",
       "      <td>2018-09-06 00:00:53</td>\n",
       "      <td>00:00:14</td>\n",
       "      <td>-0.000109</td>\n",
       "    </tr>\n",
       "    <tr>\n",
       "      <td>3</td>\n",
       "      <td>2018-09-06 00:01:01</td>\n",
       "      <td>00:00:08</td>\n",
       "      <td>0.000096</td>\n",
       "    </tr>\n",
       "    <tr>\n",
       "      <td>4</td>\n",
       "      <td>2018-09-06 00:01:22</td>\n",
       "      <td>00:00:21</td>\n",
       "      <td>-0.000159</td>\n",
       "    </tr>\n",
       "    <tr>\n",
       "      <td>...</td>\n",
       "      <td>...</td>\n",
       "      <td>...</td>\n",
       "      <td>...</td>\n",
       "    </tr>\n",
       "    <tr>\n",
       "      <td>347</td>\n",
       "      <td>2018-09-07 23:56:50</td>\n",
       "      <td>00:00:16</td>\n",
       "      <td>-0.000062</td>\n",
       "    </tr>\n",
       "    <tr>\n",
       "      <td>348</td>\n",
       "      <td>2018-09-07 23:57:25</td>\n",
       "      <td>00:00:35</td>\n",
       "      <td>0.000062</td>\n",
       "    </tr>\n",
       "    <tr>\n",
       "      <td>349</td>\n",
       "      <td>2018-09-07 23:58:50</td>\n",
       "      <td>00:01:25</td>\n",
       "      <td>-0.000200</td>\n",
       "    </tr>\n",
       "    <tr>\n",
       "      <td>350</td>\n",
       "      <td>2018-09-07 23:58:54</td>\n",
       "      <td>00:00:04</td>\n",
       "      <td>0.000111</td>\n",
       "    </tr>\n",
       "    <tr>\n",
       "      <td>351</td>\n",
       "      <td>2018-09-07 23:59:03</td>\n",
       "      <td>00:00:09</td>\n",
       "      <td>-0.000111</td>\n",
       "    </tr>\n",
       "  </tbody>\n",
       "</table>\n",
       "<p>4403 rows × 3 columns</p>\n",
       "</div>"
      ],
      "text/plain": [
       "                   date duration  6AU8_6BU8\n",
       "0   2018-09-06 00:00:17 00:00:13  -0.000218\n",
       "1   2018-09-06 00:00:39 00:00:22   0.000050\n",
       "2   2018-09-06 00:00:53 00:00:14  -0.000109\n",
       "3   2018-09-06 00:01:01 00:00:08   0.000096\n",
       "4   2018-09-06 00:01:22 00:00:21  -0.000159\n",
       "..                  ...      ...        ...\n",
       "347 2018-09-07 23:56:50 00:00:16  -0.000062\n",
       "348 2018-09-07 23:57:25 00:00:35   0.000062\n",
       "349 2018-09-07 23:58:50 00:01:25  -0.000200\n",
       "350 2018-09-07 23:58:54 00:00:04   0.000111\n",
       "351 2018-09-07 23:59:03 00:00:09  -0.000111\n",
       "\n",
       "[4403 rows x 3 columns]"
      ]
     },
     "execution_count": 72,
     "metadata": {},
     "output_type": "execute_result"
    }
   ],
   "source": [
    "condition_data[0]"
   ]
  }
 ],
 "metadata": {
  "kernelspec": {
   "display_name": "Python 3",
   "language": "python",
   "name": "python3"
  },
  "language_info": {
   "codemirror_mode": {
    "name": "ipython",
    "version": 3
   },
   "file_extension": ".py",
   "mimetype": "text/x-python",
   "name": "python",
   "nbconvert_exporter": "python",
   "pygments_lexer": "ipython3",
   "version": "3.7.5"
  }
 },
 "nbformat": 4,
 "nbformat_minor": 2
}
