{
 "cells": [
  {
   "cell_type": "markdown",
   "metadata": {
    "scrolled": true
   },
   "source": [
    "! jt -r"
   ]
  },
  {
   "cell_type": "raw",
   "metadata": {},
   "source": [
    "from importlib import reload\n",
    "reload(aux)\n",
    "reload(con)\n",
    "reload(dt)\n",
    "reload(info)"
   ]
  },
  {
   "cell_type": "code",
   "execution_count": 1,
   "metadata": {},
   "outputs": [],
   "source": [
    "import pandas as pd\n",
    "import src.daily_data as dt\n",
    "import src.auxiliary_functions as aux\n",
    "import src.condition as con\n",
    "from datetime import time, datetime,date\n",
    "import src.info as info\n",
    "import src.in_out as io\n",
    "import numpy as np\n",
    "from src.density import Density, draw\n",
    "import itertools"
   ]
  },
  {
   "cell_type": "markdown",
   "metadata": {},
   "source": [
    "# Hazırlık Aşaması"
   ]
  },
  {
   "cell_type": "markdown",
   "metadata": {},
   "source": [
    "**data** klasöründeki tüm dosya yolları alınıyor\n",
    "```python\n",
    ">>> path_list\n",
    "Out []:\n",
    " ['C:\\\\Users\\\\ugur.eren\\\\Python Codes\\\\cefis2\\\\data\\\\20180906_6A_U8.xlsx',\n",
    " 'C:\\\\Users\\\\ugur.eren\\\\Python Codes\\\\cefis2\\\\data\\\\20180906_6B_U8.xlsx',\n",
    " 'C:\\\\Users\\\\ugur.eren\\\\Python Codes\\\\cefis2\\\\data\\\\20180906_6C_U8.xlsx',\n",
    " 'C:\\\\Users\\\\ugur.eren\\\\Python Codes\\\\cefis2\\\\data\\\\20180907_6A_U8.xlsx',\n",
    " 'C:\\\\Users\\\\ugur.eren\\\\Python Codes\\\\cefis2\\\\data\\\\20180907_6B_U8.xlsx',\n",
    " 'C:\\\\Users\\\\ugur.eren\\\\Python Codes\\\\cefis2\\\\data\\\\20180907_6C_U8.xlsx']\n",
    "```"
   ]
  },
  {
   "cell_type": "code",
   "execution_count": 2,
   "metadata": {},
   "outputs": [],
   "source": [
    "path_list = io.get_path('C:\\\\Users\\\\ugur.eren\\\\Python Codes\\\\cefis2\\\\data\\\\')"
   ]
  },
  {
   "cell_type": "markdown",
   "metadata": {},
   "source": [
    "Ürün adları sırayla alınıyor\n",
    "```py\n",
    ">>> product_names\n",
    "Out[]:\n",
    "['6AU8', '6BU8', '6CU8', '6AU8', '6BU8', '6CU8']```"
   ]
  },
  {
   "cell_type": "code",
   "execution_count": 3,
   "metadata": {},
   "outputs": [],
   "source": [
    "product_names = [info.get_productName(path) for path in path_list]"
   ]
  },
  {
   "cell_type": "markdown",
   "metadata": {},
   "source": [
    "Tarihler sırayla alınıyor\n",
    "```py\n",
    ">>> date_list\n",
    "Out[]:\n",
    "[Timestamp('2018-09-06 00:00:00'),\n",
    " Timestamp('2018-09-06 00:00:00'),\n",
    " Timestamp('2018-09-06 00:00:00'),\n",
    " Timestamp('2018-09-07 00:00:00'),\n",
    " Timestamp('2018-09-07 00:00:00'),\n",
    " Timestamp('2018-09-07 00:00:00')]\n",
    "```"
   ]
  },
  {
   "cell_type": "code",
   "execution_count": 4,
   "metadata": {},
   "outputs": [],
   "source": [
    "date_list = [info.get_productDate(path) for path in path_list]"
   ]
  },
  {
   "cell_type": "markdown",
   "metadata": {},
   "source": [
    "Hangi sütunlardaki verileri alacağımızı aşağıdaki listede belirityoruz"
   ]
  },
  {
   "cell_type": "code",
   "execution_count": 5,
   "metadata": {},
   "outputs": [],
   "source": [
    "cols= [\"Time\",\"BID price\",\"ASK price\"]"
   ]
  },
  {
   "cell_type": "markdown",
   "metadata": {},
   "source": [
    "Dosyalardan veriler dataframe olarak okunuyor ve listeye atılıyor.\n",
    "Okunan_veriler'in yapısı: <br/>\n",
    "```py\n",
    "list(pd.DataFrame,pd.DataFrame.....)\n",
    "```"
   ]
  },
  {
   "cell_type": "code",
   "execution_count": 6,
   "metadata": {},
   "outputs": [],
   "source": [
    "okunan_veriler = [pd.read_excel(path,usecols=cols) for path in path_list]"
   ]
  },
  {
   "cell_type": "markdown",
   "metadata": {},
   "source": [
    "Her bir DataFrame'deki sütunlar yeniden adlandırılıyor"
   ]
  },
  {
   "cell_type": "code",
   "execution_count": 7,
   "metadata": {},
   "outputs": [],
   "source": [
    "columns=['time','bid_price','ask_price']"
   ]
  },
  {
   "cell_type": "code",
   "execution_count": 8,
   "metadata": {},
   "outputs": [],
   "source": [
    "for df in okunan_veriler:\n",
    "    df.columns = columns"
   ]
  },
  {
   "cell_type": "code",
   "execution_count": 9,
   "metadata": {},
   "outputs": [],
   "source": [
    "time_stamp = okunan_veriler[0].time"
   ]
  },
  {
   "cell_type": "markdown",
   "metadata": {},
   "source": [
    "# Mid Price Hesaplama ve Saatlik Bölme "
   ]
  },
  {
   "cell_type": "markdown",
   "metadata": {},
   "source": [
    "hesaplanan her bir mid_price **list_of_mid_price** adlı listeye atılıyor. Listenin yapısı aşağıdaki gibidir:\n",
    "```py\n",
    "list(pd.Series,pd.Series,pd.Series...)\n",
    "```"
   ]
  },
  {
   "cell_type": "code",
   "execution_count": 10,
   "metadata": {},
   "outputs": [],
   "source": [
    "list_of_mid_price = list(map(info.get_mid_price,okunan_veriler))"
   ]
  },
  {
   "cell_type": "markdown",
   "metadata": {},
   "source": [
    "Bulunan mid price hiyerarşik indeksleme ile tek DataFrame'de birleştiriliyor."
   ]
  },
  {
   "cell_type": "code",
   "execution_count": 11,
   "metadata": {},
   "outputs": [],
   "source": [
    "arrays = [date_list,product_names]"
   ]
  },
  {
   "cell_type": "code",
   "execution_count": 12,
   "metadata": {
    "scrolled": true
   },
   "outputs": [],
   "source": [
    "df_mp = pd.DataFrame(data=list_of_mid_price, index = arrays)"
   ]
  },
  {
   "cell_type": "markdown",
   "metadata": {},
   "source": [
    "Bu dataframe zaman sütunu eklenip saatlik olarak bölünüyor."
   ]
  },
  {
   "cell_type": "code",
   "execution_count": 13,
   "metadata": {},
   "outputs": [],
   "source": [
    "df_mp_t = df_mp.T"
   ]
  },
  {
   "cell_type": "code",
   "execution_count": 14,
   "metadata": {},
   "outputs": [],
   "source": [
    "df_mp_t['time'] = time_stamp"
   ]
  },
  {
   "cell_type": "markdown",
   "metadata": {},
   "source": [
    "```py\n",
    ">>> len(list_of_hourly_mp)\n",
    "Out[]: 23\n",
    ">>> df.columns.levels\n",
    "Out[]:FrozenList([[2018-09-06 00:00:00, 2018-09-07 00:00:00, 'time'], ['6AU8', '6BU8', '6CU8', '']])\n",
    "```"
   ]
  },
  {
   "cell_type": "code",
   "execution_count": 15,
   "metadata": {},
   "outputs": [],
   "source": [
    "list_of_hourly_mp = info.split_df(df_mp_t,23)"
   ]
  },
  {
   "cell_type": "markdown",
   "metadata": {},
   "source": [
    "----"
   ]
  },
  {
   "cell_type": "markdown",
   "metadata": {},
   "source": [
    "# Ürünler Eşleştiriliyor"
   ]
  },
  {
   "cell_type": "markdown",
   "metadata": {},
   "source": [
    "```python\n",
    ">>> non_duplicate_dates\n",
    "Out[]:[Timestamp('2018-09-06 00:00:00'), Timestamp('2018-09-07 00:00:00')]\n",
    ">>> non_duplicate_names\n",
    "Out[]:['6AU8', '6BU8', '6CU8']\n",
    ">>> paired_products\n",
    "Out[]: [('6AU8', '6BU8'), ('6AU8', '6CU8'), ('6BU8', '6CU8')]\n",
    "```"
   ]
  },
  {
   "cell_type": "code",
   "execution_count": 16,
   "metadata": {},
   "outputs": [],
   "source": [
    "non_duplicate_dates = list(dict.fromkeys(date_list)) #tekrar eden tarihler kaldırıldı."
   ]
  },
  {
   "cell_type": "code",
   "execution_count": 17,
   "metadata": {},
   "outputs": [],
   "source": [
    "non_duplicate_names = list(dict.fromkeys(product_names)) #tekrar eden ürünler kaldırıldı."
   ]
  },
  {
   "cell_type": "code",
   "execution_count": 18,
   "metadata": {},
   "outputs": [],
   "source": [
    "paired_products = list(itertools.combinations(non_duplicate_names, 2)) #2'li kombinasyon kullanılarak ürünler eşleştiriliyor."
   ]
  },
  {
   "cell_type": "markdown",
   "metadata": {},
   "source": [
    "----"
   ]
  },
  {
   "cell_type": "markdown",
   "metadata": {},
   "source": [
    "# Spread Hesaplanıyor"
   ]
  },
  {
   "cell_type": "markdown",
   "metadata": {},
   "source": [
    "**list_of_hourly_mp** da hiyerarşi şu şekildedir: <br/>\n",
    "* Önce saate erişiriz\n",
    "* İkinci olarak tarihe erişiriz\n",
    "* Son olarak ürüne erişiriz <br/>\n",
    "**Buna göre spread hesaplamak için aşağıdaki yol izlenir:** <br/>\n",
    "    1. Her bir saate eriş\n",
    "    2. Her bir tarihe eriş\n",
    "    3. Pairleri al\n",
    "    4. *spread_hesapla(pair): return pd.Series*\n",
    "    "
   ]
  },
  {
   "cell_type": "code",
   "execution_count": 19,
   "metadata": {},
   "outputs": [],
   "source": [
    "values={'a_PNLTICK':10,\n",
    "'a_TICKSIZE':0.0001,\n",
    "'b_PNLTICK':6.25,\n",
    "'b_TICKSIZE':0.0001}"
   ]
  },
  {
   "cell_type": "code",
   "execution_count": 20,
   "metadata": {
    "scrolled": true
   },
   "outputs": [],
   "source": [
    "def spread_al(df):\n",
    "    spread_dict = {}\n",
    "    for date in non_duplicate_dates:\n",
    "        for pair in paired_products:\n",
    "            mp_1 = df[pd.Timestamp(date)][pair[0]]\n",
    "            mp_2 = df[pd.Timestamp(date)][pair[1]]\n",
    "            spread_dict[(date,pair[0]+\"_\"+pair[1])] = aux.find_spread(mp_1,mp_2,values)\n",
    "    new_df = pd.DataFrame(spread_dict)\n",
    "    new_df['time'] = df.time\n",
    "    return new_df"
   ]
  },
  {
   "cell_type": "code",
   "execution_count": 21,
   "metadata": {},
   "outputs": [],
   "source": [
    "spread = [spread_al(df) for df in list_of_hourly_mp]"
   ]
  },
  {
   "cell_type": "markdown",
   "metadata": {},
   "source": [
    "----"
   ]
  },
  {
   "cell_type": "markdown",
   "metadata": {},
   "source": [
    "# Change Hesaplanıyor"
   ]
  },
  {
   "cell_type": "code",
   "execution_count": 22,
   "metadata": {},
   "outputs": [],
   "source": [
    "pairs = [pair[0]+'_'+pair[1] for pair in paired_products]"
   ]
  },
  {
   "cell_type": "code",
   "execution_count": 23,
   "metadata": {},
   "outputs": [],
   "source": [
    "def change_al(df):\n",
    "    change_dict = {}\n",
    "    for date in non_duplicate_dates:\n",
    "        for pair in pairs:\n",
    "            sub_df = df[date][pair]            \n",
    "            change_dict[(date,pair)] = aux.find_change(sub_df)\n",
    "    new_df = pd.DataFrame(change_dict)\n",
    "    new_df['time'] = df.time\n",
    "    return new_df"
   ]
  },
  {
   "cell_type": "code",
   "execution_count": 135,
   "metadata": {
    "scrolled": true
   },
   "outputs": [],
   "source": [
    "change_list = [change_al(df) for df in spread]"
   ]
  },
  {
   "cell_type": "markdown",
   "metadata": {},
   "source": [
    "---"
   ]
  },
  {
   "cell_type": "markdown",
   "metadata": {},
   "source": [
    "# Duration ve Amplitude Hesaplanıyor"
   ]
  },
  {
   "cell_type": "markdown",
   "metadata": {},
   "source": [
    "Hesaplama ile birlikte birleştirme de yapılıyor.\n",
    "Birleştirme koşulu: <br/>\n",
    "1. Ürünler aynı olacak\n",
    "2. Tarihler farklı olacak\n",
    "3. Saat dilimi aynı olacak"
   ]
  },
  {
   "cell_type": "code",
   "execution_count": 132,
   "metadata": {},
   "outputs": [],
   "source": [
    "def unnamed1(df):\n",
    "    lengt = df.shape[1]\n",
    "    df_list = []\n",
    "    for i in range(lengt):\n",
    "        df_list.append(aux.find_duramp(df.iloc[:,1]))\n",
    "    return pd.concat(df_list).dropna()"
   ]
  },
  {
   "cell_type": "code",
   "execution_count": 184,
   "metadata": {},
   "outputs": [],
   "source": [
    "def unnamed2(df):\n",
    "    new_df = duzenle(df)\n",
    "    product = {}\n",
    "    for pair in pairs:\n",
    "        product[pair] = unnamed1(new_df[pair])\n",
    "    return product"
   ]
  },
  {
   "cell_type": "code",
   "execution_count": 185,
   "metadata": {},
   "outputs": [],
   "source": [
    "def duzenle(df):\n",
    "    new_df = df.set_index('time')\n",
    "    new_df = new_df.T.reset_index(level=0,drop=True).T\n",
    "    return new_df"
   ]
  },
  {
   "cell_type": "code",
   "execution_count": 186,
   "metadata": {
    "scrolled": true
   },
   "outputs": [],
   "source": [
    "duramp = [unnamed2(change) for change in change_list]"
   ]
  },
  {
   "cell_type": "code",
   "execution_count": null,
   "metadata": {},
   "outputs": [],
   "source": []
  },
  {
   "cell_type": "code",
   "execution_count": null,
   "metadata": {},
   "outputs": [],
   "source": []
  },
  {
   "cell_type": "raw",
   "metadata": {},
   "source": []
  },
  {
   "cell_type": "raw",
   "metadata": {},
   "source": []
  },
  {
   "cell_type": "raw",
   "metadata": {},
   "source": []
  },
  {
   "cell_type": "raw",
   "metadata": {},
   "source": []
  },
  {
   "cell_type": "raw",
   "metadata": {},
   "source": [
    "5. Her bir **DailyData** örneği ürünlere göre ayrı ayrı gruplandırılıyor. <br>\n",
    "    (['**6AU8_6BU8**': [gunluk veriler...], '**6AU8_6CU8**':[gunluk veriler...], '**6BU8_6CU8**':[gunluk veriler...]])"
   ]
  },
  {
   "cell_type": "raw",
   "metadata": {},
   "source": [
    "products"
   ]
  },
  {
   "cell_type": "raw",
   "metadata": {},
   "source": [
    "for data in spread_list:\n",
    "    if product in products:\n",
    "        products[product].append(gunluk)\n",
    "    else:\n",
    "        products[gunluk.name] = [gunluk]"
   ]
  },
  {
   "cell_type": "raw",
   "metadata": {},
   "source": [
    "**combined_days :**  key-value olarak ürün adları ve verileri içerir <br />\n",
    "**combined_days_detail :** key-value olarak ürün adları ve verilere ait istatistiksel bilgileri içerir <br />\n",
    "**combined_days_con :** key-value olarak ürün adları ve median koşuluna göre yeniden düzenlenmiş verileri içerir <br />\n",
    "* 6BU8_6CU8'e ait verilere erişmek için:<br />\n",
    " ```python\n",
    "combined_days_detail['6BU8_6CU8']\n",
    "```\n",
    "* 6BU8_6CU8'e ait 18:00:00-19:00:00 saatleri arası verilere erişmek için: <br />\n",
    " ```python\n",
    "combined_days['6BU8_6CU8'].loc[time(18)]\n",
    "```"
   ]
  },
  {
   "cell_type": "raw",
   "metadata": {},
   "source": [
    "combined_days = {}\n",
    "combined_days_detail = {}\n",
    "combined_days_con = {}\n",
    "combined_days_con_detail = {}"
   ]
  },
  {
   "cell_type": "raw",
   "metadata": {
    "scrolled": false
   },
   "source": [
    "stop=False\n",
    "i=0\n",
    "while products:\n",
    "    urun = products.popitem()\n",
    "    df = dt.get_all_data(urun[1]).dropna()\n",
    "    con_df = con.scan(df)\n",
    "    combined_days[urun[0]] = df\n",
    "    combined_days_con[urun[0]] = con_df\n",
    "#    combined_days_detail[urun[0]] = aux.get_detail(df)\n",
    "#     combined_days_con_detail[urun[0]] = aux.get_detail(con_df)"
   ]
  },
  {
   "cell_type": "raw",
   "metadata": {},
   "source": [
    "a = [1,2,3,4]"
   ]
  },
  {
   "cell_type": "raw",
   "metadata": {},
   "source": []
  },
  {
   "cell_type": "raw",
   "metadata": {},
   "source": [
    "Hesaplanmış ürün adları ve saat bilgisi alınıyor"
   ]
  },
  {
   "cell_type": "raw",
   "metadata": {},
   "source": [
    "all_products = list(combined_days.keys())"
   ]
  },
  {
   "cell_type": "raw",
   "metadata": {
    "scrolled": true
   },
   "source": [
    "hour_series = pd.date_range('2018-01-01-18', periods=23, freq='H').time"
   ]
  },
  {
   "cell_type": "raw",
   "metadata": {},
   "source": [
    "all_density:\n",
    "```json\n",
    "{\"6BU8_6CU8\": {\"18:00:00\": \"Density Object\", \"19:00:00\": \"Density Object\"...},\n",
    " \"6AU8_6CU8\":{\"18:00:00\": \"Density Object\", \"19:00:00\": \"Density Object\"...},\n",
    " ....}\n",
    "```"
   ]
  },
  {
   "cell_type": "raw",
   "metadata": {},
   "source": [
    "all_density= {}"
   ]
  },
  {
   "cell_type": "raw",
   "metadata": {
    "scrolled": true
   },
   "source": [
    "for product in all_products:\n",
    "    densities = {}\n",
    "    for hour in hour_series:\n",
    "        df = combined_days[product].loc[hour]\n",
    "        densities[hour]= Density(df)\n",
    "    all_density[product] = densities"
   ]
  },
  {
   "cell_type": "raw",
   "metadata": {},
   "source": [
    "--------------------------------"
   ]
  },
  {
   "cell_type": "raw",
   "metadata": {},
   "source": [
    "# Example"
   ]
  },
  {
   "cell_type": "raw",
   "metadata": {},
   "source": [
    "data_of_the_eighteenth_clock = all_density['6AU8_6BU8'][time(18)]"
   ]
  },
  {
   "cell_type": "raw",
   "metadata": {},
   "source": [
    "data_of_the_eighteenth_clock.data"
   ]
  },
  {
   "cell_type": "raw",
   "metadata": {},
   "source": [
    "data_of_the_eighteenth_clock.density_data"
   ]
  },
  {
   "cell_type": "raw",
   "metadata": {
    "scrolled": false
   },
   "source": [
    "data_of_the_eighteenth_clock.draw()"
   ]
  },
  {
   "cell_type": "raw",
   "metadata": {},
   "source": []
  },
  {
   "cell_type": "code",
   "execution_count": null,
   "metadata": {},
   "outputs": [],
   "source": []
  },
  {
   "cell_type": "code",
   "execution_count": null,
   "metadata": {},
   "outputs": [],
   "source": []
  },
  {
   "cell_type": "code",
   "execution_count": null,
   "metadata": {},
   "outputs": [],
   "source": []
  },
  {
   "cell_type": "code",
   "execution_count": null,
   "metadata": {},
   "outputs": [],
   "source": []
  },
  {
   "cell_type": "code",
   "execution_count": null,
   "metadata": {},
   "outputs": [],
   "source": []
  },
  {
   "cell_type": "code",
   "execution_count": null,
   "metadata": {},
   "outputs": [],
   "source": []
  },
  {
   "cell_type": "code",
   "execution_count": null,
   "metadata": {},
   "outputs": [],
   "source": []
  },
  {
   "cell_type": "code",
   "execution_count": null,
   "metadata": {},
   "outputs": [],
   "source": []
  },
  {
   "cell_type": "code",
   "execution_count": null,
   "metadata": {},
   "outputs": [],
   "source": []
  },
  {
   "cell_type": "code",
   "execution_count": null,
   "metadata": {},
   "outputs": [],
   "source": []
  },
  {
   "cell_type": "code",
   "execution_count": null,
   "metadata": {},
   "outputs": [],
   "source": []
  },
  {
   "cell_type": "code",
   "execution_count": null,
   "metadata": {},
   "outputs": [],
   "source": []
  },
  {
   "cell_type": "code",
   "execution_count": null,
   "metadata": {},
   "outputs": [],
   "source": []
  },
  {
   "cell_type": "code",
   "execution_count": null,
   "metadata": {},
   "outputs": [],
   "source": []
  },
  {
   "cell_type": "code",
   "execution_count": null,
   "metadata": {},
   "outputs": [],
   "source": []
  },
  {
   "cell_type": "code",
   "execution_count": null,
   "metadata": {},
   "outputs": [],
   "source": []
  },
  {
   "cell_type": "code",
   "execution_count": null,
   "metadata": {},
   "outputs": [],
   "source": []
  },
  {
   "cell_type": "code",
   "execution_count": null,
   "metadata": {},
   "outputs": [],
   "source": []
  },
  {
   "cell_type": "code",
   "execution_count": null,
   "metadata": {},
   "outputs": [],
   "source": []
  },
  {
   "cell_type": "code",
   "execution_count": null,
   "metadata": {},
   "outputs": [],
   "source": []
  },
  {
   "cell_type": "code",
   "execution_count": null,
   "metadata": {},
   "outputs": [],
   "source": []
  },
  {
   "cell_type": "code",
   "execution_count": null,
   "metadata": {},
   "outputs": [],
   "source": []
  },
  {
   "cell_type": "code",
   "execution_count": null,
   "metadata": {},
   "outputs": [],
   "source": []
  },
  {
   "cell_type": "raw",
   "metadata": {},
   "source": [
    "tuples = list(zip(*arrays))"
   ]
  },
  {
   "cell_type": "raw",
   "metadata": {},
   "source": [
    "index = pd.MultiIndex.from_tuples(tuples, names=['date', 'name'])\n"
   ]
  },
  {
   "cell_type": "raw",
   "metadata": {},
   "source": [
    "name_and_date = [info.create_name(product_names[i],date_list[i]) for i in range(len(product_names))]"
   ]
  },
  {
   "cell_type": "raw",
   "metadata": {
    "scrolled": true
   },
   "source": [
    "df_mp=  pd.DataFrame(data=list_of_mid_price,index=product_names).transpose()"
   ]
  },
  {
   "cell_type": "code",
   "execution_count": null,
   "metadata": {},
   "outputs": [],
   "source": []
  },
  {
   "cell_type": "raw",
   "metadata": {
    "scrolled": true
   },
   "source": [
    "pd.DataFrame(x['6AU8_6BU8'].values.T.ravel())"
   ]
  },
  {
   "cell_type": "code",
   "execution_count": null,
   "metadata": {},
   "outputs": [],
   "source": []
  },
  {
   "cell_type": "code",
   "execution_count": null,
   "metadata": {},
   "outputs": [],
   "source": []
  }
 ],
 "metadata": {
  "kernelspec": {
   "display_name": "Python 3",
   "language": "python",
   "name": "python3"
  },
  "language_info": {
   "codemirror_mode": {
    "name": "ipython",
    "version": 3
   },
   "file_extension": ".py",
   "mimetype": "text/x-python",
   "name": "python",
   "nbconvert_exporter": "python",
   "pygments_lexer": "ipython3",
   "version": "3.7.3"
  }
 },
 "nbformat": 4,
 "nbformat_minor": 2
}
