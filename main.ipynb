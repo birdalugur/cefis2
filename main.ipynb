{
 "cells": [
  {
   "cell_type": "code",
   "execution_count": 6,
   "metadata": {},
   "outputs": [
    {
     "data": {
      "text/plain": [
       "<module 'src.auxiliary_functions' from '/home/ugur/python-projects/cefis2/src/auxiliary_functions.py'>"
      ]
     },
     "execution_count": 6,
     "metadata": {},
     "output_type": "execute_result"
    }
   ],
   "source": [
    "from importlib import reload\n",
    "reload(io)\n",
    "reload(info)\n",
    "reload(base)\n",
    "reload(aux)"
   ]
  },
  {
   "cell_type": "code",
   "execution_count": 1,
   "metadata": {},
   "outputs": [],
   "source": [
    "import pandas as pd\n",
    "import numpy as np\n",
    "import src.in_out as io\n",
    "import src.info as info\n",
    "import src.auxiliary_functions as aux\n",
    "import src.condition as con\n",
    "import src.base as base\n",
    "from itertools import combinations\n",
    "from src.spread import get_spread"
   ]
  },
  {
   "cell_type": "markdown",
   "metadata": {},
   "source": [
    "## Veri Hazırlama"
   ]
  },
  {
   "cell_type": "code",
   "execution_count": 2,
   "metadata": {},
   "outputs": [],
   "source": [
    "#Verilere ait path'ler alınıyor\n",
    "path_list=io.get_path('data')"
   ]
  },
  {
   "cell_type": "code",
   "execution_count": 3,
   "metadata": {
    "scrolled": true
   },
   "outputs": [],
   "source": [
    "#Okunacak sütun adları\n",
    "cols= [\"Time\",\"BID price\",\"ASK price\"]\n",
    "#Tüm veriler okunuyor\n",
    "master_data=io.read_allData(path_list, cols=cols)\n",
    "master_data.columns=['time','bid_price','ask_price','name','date']"
   ]
  },
  {
   "cell_type": "code",
   "execution_count": 4,
   "metadata": {},
   "outputs": [],
   "source": [
    "#date sütunu Timestamp'e dönüştürülüyor ve tarih ve saat bilgisi birleştiriliyor\n",
    "master_data['date']=pd.to_datetime(master_data['date'], errors='coerce')\n",
    "master_data['date'] += pd.to_timedelta(master_data.pop('time').astype(str))"
   ]
  },
  {
   "cell_type": "code",
   "execution_count": 5,
   "metadata": {},
   "outputs": [],
   "source": [
    "#zaman dilimi ekleniyor\n",
    "master_data['time_period']=master_data.date.dt.hour"
   ]
  },
  {
   "cell_type": "markdown",
   "metadata": {},
   "source": [
    "## Mid Price"
   ]
  },
  {
   "cell_type": "code",
   "execution_count": 6,
   "metadata": {},
   "outputs": [],
   "source": [
    "# mid price hesaplanıyor\n",
    "master_data['mid_price']=base.average_of_series(master_data.bid_price,master_data.ask_price)"
   ]
  },
  {
   "cell_type": "code",
   "execution_count": 7,
   "metadata": {},
   "outputs": [],
   "source": [
    "# spread hesaplama için master_data, uygun bir forma dönüştürülüyor\n",
    "df_mid_price=master_data.pivot(index='date', columns='name', values='mid_price')"
   ]
  },
  {
   "cell_type": "markdown",
   "metadata": {},
   "source": [
    "## Spread\n",
    "<img src=\"img/spread_flowchart.png\">"
   ]
  },
  {
   "cell_type": "code",
   "execution_count": 8,
   "metadata": {},
   "outputs": [],
   "source": [
    "values={'a_PNLTICK':1,\n",
    "'a_TICKSIZE':1,\n",
    "'b_PNLTICK':1,\n",
    "'b_TICKSIZE':1}"
   ]
  },
  {
   "cell_type": "code",
   "execution_count": 9,
   "metadata": {},
   "outputs": [],
   "source": [
    "# pair'lar alınıyor\n",
    "pairs=combinations(df_mid_price.columns, 2)"
   ]
  },
  {
   "cell_type": "code",
   "execution_count": 10,
   "metadata": {},
   "outputs": [],
   "source": [
    "#spread hesaplanıyor\n",
    "spread_list=[\n",
    "    base.groupby_date_time(df_mid_price.loc[:,pair]).apply(lambda x: get_spread(x,values))\\\n",
    "        for pair in pairs]\n",
    "df_spread=pd.concat(spread_list,axis=1).droplevel([0,1])"
   ]
  },
  {
   "cell_type": "code",
   "execution_count": 143,
   "metadata": {},
   "outputs": [],
   "source": [
    "#change alınıyor\n",
    "df_change=base.groupby_date_time(df_spread).apply(aux.find_change)\n",
    "df_change=df_change.droplevel([0,1])"
   ]
  },
  {
   "cell_type": "code",
   "execution_count": null,
   "metadata": {},
   "outputs": [],
   "source": []
  },
  {
   "cell_type": "code",
   "execution_count": 167,
   "metadata": {},
   "outputs": [
    {
     "data": {
      "text/html": [
       "<div>\n",
       "<style scoped>\n",
       "    .dataframe tbody tr th:only-of-type {\n",
       "        vertical-align: middle;\n",
       "    }\n",
       "\n",
       "    .dataframe tbody tr th {\n",
       "        vertical-align: top;\n",
       "    }\n",
       "\n",
       "    .dataframe thead th {\n",
       "        text-align: right;\n",
       "    }\n",
       "</style>\n",
       "<table border=\"1\" class=\"dataframe\">\n",
       "  <thead>\n",
       "    <tr style=\"text-align: right;\">\n",
       "      <th></th>\n",
       "      <th>6AU8_6BU8</th>\n",
       "      <th>6AU8_6CU8</th>\n",
       "      <th>6BU8_6CU8</th>\n",
       "    </tr>\n",
       "    <tr>\n",
       "      <th>date</th>\n",
       "      <th></th>\n",
       "      <th></th>\n",
       "      <th></th>\n",
       "    </tr>\n",
       "  </thead>\n",
       "  <tbody>\n",
       "    <tr>\n",
       "      <th>2018-09-06 00:00:04</th>\n",
       "      <td>-0.000109</td>\n",
       "      <td>NaN</td>\n",
       "      <td>1.090000e-04</td>\n",
       "    </tr>\n",
       "    <tr>\n",
       "      <th>2018-09-06 00:00:05</th>\n",
       "      <td>0.000000</td>\n",
       "      <td>NaN</td>\n",
       "      <td>0.000000e+00</td>\n",
       "    </tr>\n",
       "    <tr>\n",
       "      <th>2018-09-06 00:00:06</th>\n",
       "      <td>0.000000</td>\n",
       "      <td>NaN</td>\n",
       "      <td>0.000000e+00</td>\n",
       "    </tr>\n",
       "    <tr>\n",
       "      <th>2018-09-06 00:00:07</th>\n",
       "      <td>0.000000</td>\n",
       "      <td>NaN</td>\n",
       "      <td>0.000000e+00</td>\n",
       "    </tr>\n",
       "    <tr>\n",
       "      <th>2018-09-06 00:00:08</th>\n",
       "      <td>0.000000</td>\n",
       "      <td>NaN</td>\n",
       "      <td>0.000000e+00</td>\n",
       "    </tr>\n",
       "    <tr>\n",
       "      <th>...</th>\n",
       "      <td>...</td>\n",
       "      <td>...</td>\n",
       "      <td>...</td>\n",
       "    </tr>\n",
       "    <tr>\n",
       "      <th>2018-09-07 23:58:59</th>\n",
       "      <td>-0.000012</td>\n",
       "      <td>-0.000012</td>\n",
       "      <td>1.110223e-16</td>\n",
       "    </tr>\n",
       "    <tr>\n",
       "      <th>2018-09-07 23:59:00</th>\n",
       "      <td>0.000000</td>\n",
       "      <td>NaN</td>\n",
       "      <td>0.000000e+00</td>\n",
       "    </tr>\n",
       "    <tr>\n",
       "      <th>2018-09-07 23:59:01</th>\n",
       "      <td>0.000000</td>\n",
       "      <td>NaN</td>\n",
       "      <td>0.000000e+00</td>\n",
       "    </tr>\n",
       "    <tr>\n",
       "      <th>2018-09-07 23:59:02</th>\n",
       "      <td>0.000000</td>\n",
       "      <td>NaN</td>\n",
       "      <td>0.000000e+00</td>\n",
       "    </tr>\n",
       "    <tr>\n",
       "      <th>2018-09-07 23:59:03</th>\n",
       "      <td>-0.000050</td>\n",
       "      <td>NaN</td>\n",
       "      <td>5.000000e-05</td>\n",
       "    </tr>\n",
       "  </tbody>\n",
       "</table>\n",
       "<p>78566 rows × 3 columns</p>\n",
       "</div>"
      ],
      "text/plain": [
       "                     6AU8_6BU8  6AU8_6CU8     6BU8_6CU8\n",
       "date                                                   \n",
       "2018-09-06 00:00:04  -0.000109        NaN  1.090000e-04\n",
       "2018-09-06 00:00:05   0.000000        NaN  0.000000e+00\n",
       "2018-09-06 00:00:06   0.000000        NaN  0.000000e+00\n",
       "2018-09-06 00:00:07   0.000000        NaN  0.000000e+00\n",
       "2018-09-06 00:00:08   0.000000        NaN  0.000000e+00\n",
       "...                        ...        ...           ...\n",
       "2018-09-07 23:58:59  -0.000012  -0.000012  1.110223e-16\n",
       "2018-09-07 23:59:00   0.000000        NaN  0.000000e+00\n",
       "2018-09-07 23:59:01   0.000000        NaN  0.000000e+00\n",
       "2018-09-07 23:59:02   0.000000        NaN  0.000000e+00\n",
       "2018-09-07 23:59:03  -0.000050        NaN  5.000000e-05\n",
       "\n",
       "[78566 rows x 3 columns]"
      ]
     },
     "execution_count": 167,
     "metadata": {},
     "output_type": "execute_result"
    }
   ],
   "source": [
    "df_change"
   ]
  },
  {
   "cell_type": "code",
   "execution_count": 76,
   "metadata": {},
   "outputs": [],
   "source": []
  },
  {
   "cell_type": "code",
   "execution_count": null,
   "metadata": {},
   "outputs": [],
   "source": []
  }
 ],
 "metadata": {
  "kernelspec": {
   "display_name": "Python 3",
   "language": "python",
   "name": "python3"
  },
  "language_info": {
   "codemirror_mode": {
    "name": "ipython",
    "version": 3
   },
   "file_extension": ".py",
   "mimetype": "text/x-python",
   "name": "python",
   "nbconvert_exporter": "python",
   "pygments_lexer": "ipython3",
   "version": "3.7.5"
  }
 },
 "nbformat": 4,
 "nbformat_minor": 2
}
