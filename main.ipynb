{
 "cells": [
  {
   "cell_type": "code",
   "execution_count": null,
   "metadata": {},
   "outputs": [],
   "source": [
    "import pandas as pd\n",
    "import numpy as np\n",
    "import src.in_out as io\n",
    "import src.info as info\n",
    "import src.condition as con\n",
    "import src.base as base\n",
    "from itertools import combinations\n",
    "from src.spread import get_spread\n",
    "import src.change as change"
   ]
  },
  {
   "cell_type": "markdown",
   "metadata": {},
   "source": [
    "## Veri Hazırlama"
   ]
  },
  {
   "cell_type": "code",
   "execution_count": null,
   "metadata": {},
   "outputs": [],
   "source": [
    "#Verilere ait path'ler alınıyor\n",
    "path_list=io.get_path('data')"
   ]
  },
  {
   "cell_type": "code",
   "execution_count": null,
   "metadata": {
    "scrolled": true
   },
   "outputs": [],
   "source": [
    "#Okunacak sütun adları\n",
    "cols= [\"Time\",\"BID price\",\"ASK price\"]\n",
    "#Tüm veriler okunuyor\n",
    "master_data=io.read_allData(path_list, cols=cols)\n",
    "master_data.columns=['time','bid_price','ask_price','name','date']"
   ]
  },
  {
   "cell_type": "code",
   "execution_count": null,
   "metadata": {},
   "outputs": [],
   "source": [
    "#date sütunu Timestamp'e dönüştürülüyor ve tarih ve saat bilgisi birleştiriliyor\n",
    "master_data['date']=pd.to_datetime(master_data['date'], errors='coerce')\n",
    "master_data['date'] += pd.to_timedelta(master_data.pop('time').astype(str))"
   ]
  },
  {
   "cell_type": "code",
   "execution_count": null,
   "metadata": {},
   "outputs": [],
   "source": [
    "#zaman dilimi ekleniyor\n",
    "master_data['time_period']=master_data.date.dt.hour"
   ]
  },
  {
   "cell_type": "markdown",
   "metadata": {},
   "source": [
    "## Mid Price"
   ]
  },
  {
   "cell_type": "code",
   "execution_count": null,
   "metadata": {},
   "outputs": [],
   "source": [
    "# mid price hesaplanıyor\n",
    "master_data['mid_price']=base.average_of_series(master_data.bid_price,master_data.ask_price)"
   ]
  },
  {
   "cell_type": "code",
   "execution_count": null,
   "metadata": {},
   "outputs": [],
   "source": [
    "# spread hesaplama için master_data, uygun bir forma dönüştürülüyor\n",
    "df_mid_price=master_data.pivot(index='date', columns='name', values='mid_price')"
   ]
  },
  {
   "cell_type": "markdown",
   "metadata": {},
   "source": [
    "## Spread\n",
    "<img src=\"img/spread_flowchart.png\">\n",
    "<br/>\n",
    "Spread, her bir saat için ayrı ayrı hesaplanmıştır"
   ]
  },
  {
   "cell_type": "code",
   "execution_count": null,
   "metadata": {},
   "outputs": [],
   "source": [
    "values={'a_PNLTICK':1,\n",
    "'a_TICKSIZE':1,\n",
    "'b_PNLTICK':1,\n",
    "'b_TICKSIZE':1}"
   ]
  },
  {
   "cell_type": "code",
   "execution_count": null,
   "metadata": {},
   "outputs": [],
   "source": [
    "# pair'lar alınıyor\n",
    "pairs=combinations(df_mid_price.columns, 2)"
   ]
  },
  {
   "cell_type": "code",
   "execution_count": null,
   "metadata": {},
   "outputs": [],
   "source": [
    "#spread hesaplanıyor\n",
    "spread_list=[\n",
    "    base.groupby_date_time(df_mid_price.loc[:,pair]).apply(lambda x: get_spread(x,values))\\\n",
    "        for pair in pairs]\n",
    "df_spread=pd.concat(spread_list,axis=1).droplevel([0,1])"
   ]
  },
  {
   "cell_type": "markdown",
   "metadata": {},
   "source": [
    "## Change"
   ]
  },
  {
   "cell_type": "code",
   "execution_count": null,
   "metadata": {},
   "outputs": [],
   "source": [
    "#change alınıyor\n",
    "df_change=base.groupby_date_time(df_spread).apply(change.get_change)\n",
    "df_change=df_change.droplevel([0,1])"
   ]
  },
  {
   "cell_type": "markdown",
   "metadata": {},
   "source": [
    "## Amplitude"
   ]
  },
  {
   "cell_type": "code",
   "execution_count": null,
   "metadata": {},
   "outputs": [],
   "source": [
    "all_pairs_of_amplitude=[]"
   ]
  },
  {
   "cell_type": "code",
   "execution_count": null,
   "metadata": {},
   "outputs": [],
   "source": [
    "for pair_change in df_change:   #Her bir pair alınıyor\n",
    "    pair_group = list(base.groupby_date_time(df_change[pair_change])) #gün ve saate göre gruplanıyor\n",
    "    sub_amplitudes=[]\n",
    "    for i in range(len(pair_group)):\n",
    "        sub_change=base.to_series(pair_group[i][1])\n",
    "        sub_amplitudes.append(change.get_amplitude(sub_change)) #pair'a ait her alt grubun amplitudu'u hesaplanıyor\n",
    "    all_pairs_of_amplitude.append(pd.concat(sub_amplitudes)) # alt amplitude'lar birleştiriliyor"
   ]
  },
  {
   "cell_type": "markdown",
   "metadata": {},
   "source": [
    "#### 1. Amplitude'u hesaplanan tüm pair'lar all_pairs_of_amplitude adlı dizide tutuluyor.  Hepsi tek DataFrame'de birleştirilmek istenirse aşağıdaki kod çalıştırılabilir."
   ]
  },
  {
   "cell_type": "code",
   "execution_count": null,
   "metadata": {},
   "outputs": [],
   "source": [
    "from functools import reduce\n",
    "\n",
    "df_final = reduce(lambda left,right: pd.merge(left,right,on=['date','duration'],how='outer'), all_pairs_of_amplitude)\n",
    "\n",
    "df_final # NaN'lar birleştirmeden dolayı. ÖNEMSİZ ! 6AU8_6CU8, 2018-09-06 00:00:49 dan başladığından öncesi NaN"
   ]
  },
  {
   "cell_type": "markdown",
   "metadata": {},
   "source": [
    "# Koşula Göre Amplitude ve Duration Verisinin Yeniden Düzenlenmesi"
   ]
  },
  {
   "cell_type": "code",
   "execution_count": null,
   "metadata": {},
   "outputs": [],
   "source": [
    "#Önce condition modülümüzü import ediyoruz.\n",
    "import src.condition as condition"
   ]
  },
  {
   "cell_type": "code",
   "execution_count": null,
   "metadata": {},
   "outputs": [],
   "source": [
    "# Hesaplayacağımız verileri saklayabilmek için boş bir dizi yarattık\n",
    "condition_data = []"
   ]
  },
  {
   "cell_type": "code",
   "execution_count": null,
   "metadata": {},
   "outputs": [],
   "source": [
    "# Python'a ait lambda ifadelerini kullanabilmek için basit bir fonksiyon yazdık\n",
    "def uygula(data):\n",
    "    \"\"\"parametre olarak gelen 'data' daki indeksi kaldırır.\n",
    "       percentile(.6) ya göre koşul uygulandı.\n",
    "       percentile silinip yerine medyan() yazılırsa, koşulu medyana göre hesaplar.\n",
    "       ya da percentile'ın '.6' olan parametresi değiştirilebilir.\n",
    "    \"\"\"\n",
    "    data = data.reset_index(drop=True)\n",
    "    signs = condition.Sign(data).percentile(.6) #\n",
    "    return condition.apply(data,signs)"
   ]
  },
  {
   "cell_type": "code",
   "execution_count": null,
   "metadata": {
    "scrolled": true
   },
   "outputs": [],
   "source": [
    "# bir for döngüsü ile tüm pairlara erişiyoruz\n",
    "for data in all_pairs_of_amplitude:\n",
    "    #groupby içerisindeki floor metoduyla veriyi neye göre gruplayacağımızı belirtiyoruz.\n",
    "    #Burada groupby 2 parametre aldı. ilk parametre ile 'güne göre', 2. parametre ile de 'saate' göre\n",
    "    #ayırıp, 'uygula' metodunu her gruba ayrı ayrı uygulayacağını belirttik\n",
    "    \"\"\" 'd' -> day\n",
    "        '2h' -> 2şer saat\n",
    "        'h'-> birer saat\n",
    "        'nd' ->n güne böl\n",
    "        'nh' -> n saate böl gibi        \n",
    "    \"\"\" \n",
    "    \"\"\".apply metodu ile yapmak istediğimiz işlemi belirtiyoruz\n",
    "        lambda x : uygula(x) -> her bir grubu sırayla\n",
    "        x olarak adlandır ve uygula fonksiyonuna parametre olarak gönder\n",
    "    \"\"\"\n",
    "    result = data.groupby([data.date.dt.floor('d'),data.date.dt.floor('h')])\\\n",
    "        .apply(lambda x : uygula(x)).droplevel([0,1])\n",
    "    #son olarak hesaplanan verileri condition_data adlı listeye atmasını söylüyoruz\n",
    "    condition_data.append(result)"
   ]
  },
  {
   "cell_type": "code",
   "execution_count": null,
   "metadata": {
    "scrolled": true
   },
   "outputs": [],
   "source": [
    "# 1. pairi görüntüleyelim"
   ]
  },
  {
   "cell_type": "code",
   "execution_count": null,
   "metadata": {},
   "outputs": [],
   "source": [
    "condition_data[0]"
   ]
  },
  {
   "cell_type": "markdown",
   "metadata": {},
   "source": [
    "## Aralık Oluşturma"
   ]
  },
  {
   "cell_type": "markdown",
   "metadata": {},
   "source": [
    "Pair'lerden biri olan **6AU8_6BU8**'deki verileri aralığa yerleştirelim. Bunun için **interval** modülündeki **set_range** ve **set_timeRange** fonksiyonlarını kullanacağız.\n",
    "<span style=\"text-decoration:underline\">amplitude</span> için **set_range**, <span style=\"text-decoration:underline\">duration</span> için ise **set_timeRange** kullanacağız. Duration'nın veri tipi **timedelta64** olduğundan ayrı bir metot yazıldı.<br/>\n",
    "Fonksiyonlar **data**, **value**, ve **method** olmak üzere 3 parametre alarak çalışır. Parametreler hakkında kısa bilgi:\n",
    "1. **data** : aralığa yerleştirilecek veriler. örn. duration veya amplitude\n",
    "2. **method** : aralık oluşturma yöntemini burada belirtiyoruz. **2** çeşit aralık oluşturma yöntemi var. **'width'** ve **'size'**\n",
    "   *  **width** : yöntemi seçilirse her bir aralığın genişliği **value** değeri kadardır.\n",
    "   *  **size** : yöntemi seçilirse **@value** adet aralık oluşturur. Her aralığın genişliği aynıdır.\n",
    "   *  **value** : yöntem 'width' ise aralık genişliğini, 'size' ise aralık adetini belirtir."
   ]
  },
  {
   "cell_type": "markdown",
   "metadata": {},
   "source": [
    "**6AU8_6BU8** pair'ini alalım. Duration'ı **5'er sn'lik aralıklara** yerleştirelim. Amplitude verisini ise **aralık sayısı 100 olacak** ve **her aralığın genişliği eşit** olacak şekilde aralıklara yerleştirelim. Böylece her iki yöntemi de görmüş olacağız"
   ]
  },
  {
   "cell_type": "code",
   "execution_count": null,
   "metadata": {
    "scrolled": true
   },
   "outputs": [],
   "source": [
    "# 6AU8_6BU8, condition_data adlı dizinin 0. elemanı\n",
    "ab = condition_data[0]\n",
    "ab"
   ]
  },
  {
   "cell_type": "code",
   "execution_count": null,
   "metadata": {},
   "outputs": [],
   "source": [
    "#6AU8_6BU8 'den duration ve amplitude sütunları alınıyor\n",
    "duration = ab['duration']\n",
    "amplitude = ab['6AU8_6BU8']"
   ]
  },
  {
   "cell_type": "code",
   "execution_count": null,
   "metadata": {},
   "outputs": [],
   "source": [
    "# interval modülünden, kullanacağımız fonksiyonları import ediyoruz\n",
    "from src.interval import set_range, set_timeRange"
   ]
  },
  {
   "cell_type": "code",
   "execution_count": null,
   "metadata": {},
   "outputs": [],
   "source": [
    "# duration için her biri 5'er sn'lik aralık oluşturuyoruz.\n",
    "new_duration=set_timeRange(data=duration, value=5, method='width')\n",
    "new_duration"
   ]
  },
  {
   "cell_type": "code",
   "execution_count": null,
   "metadata": {},
   "outputs": [],
   "source": [
    "# amplitude için her biri eşit büyüklükte 100 adet aralık oluşturuldu ve veriler aralıklara yerleştirildi\n",
    "new_amplitude = set_range(data=amplitude, value=100, method='size')\n",
    "new_amplitude"
   ]
  },
  {
   "cell_type": "code",
   "execution_count": null,
   "metadata": {},
   "outputs": [],
   "source": [
    "#pandas'ın concat metodunu kullarak hesapladığımız aralıkları DataFrame'de gösterdik\n",
    "pd.concat([new_duration,new_amplitude],axis=1)"
   ]
  },
  {
   "cell_type": "markdown",
   "metadata": {},
   "source": [
    "Yukarıda görüldüğü gibi verilerimizi aralığa yerleştirdik. Fakat her biri Interval türünden olduğundan dolayı hareket alanımızı kısıtlayacaktır.\n",
    "Örneğin aşağıdaki gibi sütun verileriyle bir toplama işlemi gerçekleştirmek istediğimizi varsayalım :\n",
    "```python\n",
    "new_amplitude.sum()\n",
    "```\n",
    "Bu hamlemiz aşağıdaki hata ile sonuçlanacktır:\n",
    "```\n",
    "TypeError: Categorical cannot perform the operation sum\n",
    "```\n",
    "Aralık tanımlamadaki amaç, bu verileri **kategorilendirmek** olduğundan, her bir aralığın yalnızca **sağ değeri** ya da **ortalamasıyla** çalışmamız işlemlerimizin sonucunu etkilemeyecektir. Bize istatistiksel hesaplamalar veya grafik işlemlerinde kolaylık sağlayacaktır.<br/>\n",
    "\n",
    "Şimdi duration ve amplitude aralıklarının ortalamasını aşağıdaki gibi alalım. Önce **interval** modülümüzden **get_mid** fonksiyonumuzu import edelim."
   ]
  },
  {
   "cell_type": "code",
   "execution_count": null,
   "metadata": {},
   "outputs": [],
   "source": [
    "from src.interval import get_mid"
   ]
  },
  {
   "cell_type": "code",
   "execution_count": null,
   "metadata": {},
   "outputs": [],
   "source": [
    "#Amplitude için aralıkların ortalamasını al ve veriyi float'a dönüştür\n",
    "new_amplitude=get_mid(new_amplitude).astype('float64')"
   ]
  },
  {
   "cell_type": "code",
   "execution_count": null,
   "metadata": {},
   "outputs": [],
   "source": [
    "#Duration için aralıkların ortalamasını al ve veriyi timedelta64'e dönüştür\n",
    "new_duration=get_mid(new_duration).astype('timedelta64')"
   ]
  },
  {
   "cell_type": "code",
   "execution_count": null,
   "metadata": {},
   "outputs": [],
   "source": [
    "#Verileri  DataFrame ile gösterelim ve 'new_ab' adlı değişkende saklayalım\n",
    "new_ab=pd.concat([new_duration,new_amplitude],axis=1)\n",
    "new_ab"
   ]
  },
  {
   "cell_type": "markdown",
   "metadata": {},
   "source": [
    "Aralık işlemleri bu kadar. Şimdi oluşturduğumuz **new_ab** ile **Density İşlemleri**'ni gerçekleştireceğiz."
   ]
  },
  {
   "cell_type": "markdown",
   "metadata": {},
   "source": [
    "## Density"
   ]
  },
  {
   "cell_type": "code",
   "execution_count": null,
   "metadata": {},
   "outputs": [],
   "source": [
    "%load_ext autoreload"
   ]
  },
  {
   "cell_type": "code",
   "execution_count": null,
   "metadata": {},
   "outputs": [],
   "source": [
    "%autoreload"
   ]
  },
  {
   "cell_type": "markdown",
   "metadata": {},
   "source": [
    "### 1. Joint Density\n",
    "Bu bölümde aşağıdaki işlemler yapılmaktadır:\n",
    "1. **get_frequency:** Her bir  {duration,amplitude} değerinden kaç tane olduğunu bulma işlemidir. Örneğin duration'ı 5 amplitude'u 10 olan 133 veri var, duration:5 amplitude:7 olan 23 veri var. **Parametre olarak** yalnızca **duration** ve **amplitude** içeren bir **DataFrame** alır. \n",
    "2. **joint_density:** Her bir frekansın, toplam frekansa bölünerek tabloda ilgili yere yerleştirilmiş halidir.Daha sonra bu tablonun yatay ve dikey toplamlarını alarak **marginal density** elde edilecektir. **Parametre olarak** yalnızca **duration** ve **amplitude** içeren bir **DataFrame** alır. \n",
    "\n",
    "**density** modülünden kullanacağımız fonksiyonları import edelim ve işlemleri gerçekleştirelim"
   ]
  },
  {
   "cell_type": "code",
   "execution_count": null,
   "metadata": {},
   "outputs": [],
   "source": [
    "from src.density import get_frequency, joint_density"
   ]
  },
  {
   "cell_type": "code",
   "execution_count": null,
   "metadata": {},
   "outputs": [],
   "source": [
    "# frekans hesaplanıyor\n",
    "get_frequency(new_ab)"
   ]
  },
  {
   "cell_type": "code",
   "execution_count": null,
   "metadata": {
    "scrolled": true
   },
   "outputs": [],
   "source": [
    "#joint density hesaplanıyor ve joint adlı bir değişkende saklanıyor\n",
    "joint=joint_density(new_ab)\n",
    "joint"
   ]
  },
  {
   "cell_type": "markdown",
   "metadata": {},
   "source": [
    "Şimdi bulduğumuz **joint density**'nin **yataydaki ve dikeydeki toplamını** alalım. Fakat bulacağımız toplamları, aşağıdaki **Marjinal Density** tablosundaki gibi, tekrardan joint dataframe'ine aktarmayacağız. **vertical_total** ve **horizontal_total** adlı iki değişkende tutacağız. Daha sonra ise bunları kullanarak **Conditional Density** hesaplayacağız.\n",
    "```\n",
    "Örnek Tablo\n",
    "| xy           | 4             | 6             | 8             | yatay toplam |\n",
    "|--------------|---------------|---------------|---------------|--------------|\n",
    "| 1            | 0,07547169811 | 0,2830188679  | 0,1320754717  | 0,4905660377 |\n",
    "| 2            | 0,05031446541 | 0,07547169811 | 0,1446540881  | 0,2704402516 |\n",
    "| 3            | 0,1257861635  | 0,04402515723 | 0,06918238994 | 0,2389937107 |\n",
    "| dikey toplam | 0,251572327   | 0,4025157233  | 0,3459119497  | 1            |\n",
    "```\n",
    "Ayrıca aşağıda bulacağımız **vertical_total** ve **horizontal_total**'in toplamı **1'e eşittir**."
   ]
  },
  {
   "cell_type": "code",
   "execution_count": null,
   "metadata": {
    "scrolled": true
   },
   "outputs": [],
   "source": [
    "# Dikey toplam\n",
    "vertical_total = joint.agg('sum') #agg metodu pandas'a ait\n",
    "vertical_total"
   ]
  },
  {
   "cell_type": "code",
   "execution_count": null,
   "metadata": {
    "scrolled": true
   },
   "outputs": [],
   "source": [
    "#Yatay toplam\n",
    "horizontal_total = joint.agg('sum',axis=1)\n",
    "horizontal_total"
   ]
  },
  {
   "cell_type": "markdown",
   "metadata": {},
   "source": [
    "### 2. Conditional Density\n",
    "Conditional Density 2 şekilde hesaplanır. x eksenine veya y eksenine göre(x:duration, y:amplitude temsil eder).<br/>\n",
    "1. **Conditional Density / y** için: joint density'deki(**joint**) her değer, karşılık gelen dikey toplama(**vertical_total**) bölünerek hesaplanır.\n",
    "2. **Conditional Density / x** için: joint density'deki(**joint**) her değer, karşılık gelen yatay toplama(**horizontal_total**) bölünerek hesaplanır.\n",
    "```\n",
    "Örnek Tablo (Conditional Density / y)\n",
    "| xy | 4   | 6        | 8        |\n",
    "|----|-----|----------|----------|\n",
    "| 1  | 0,3 | 0,703125 | 0,381... |\n",
    "| 2  | 0,2 | 0,1875   | 0,418..  |\n",
    "| 3  | 0,5 | 0,109375 | 0,2      |\n",
    "|    | 1   | 1        | 1        |\n",
    "```"
   ]
  },
  {
   "cell_type": "code",
   "execution_count": null,
   "metadata": {
    "scrolled": true
   },
   "outputs": [],
   "source": [
    "# Conditional Density / y\n",
    "(joint/vertical_total)"
   ]
  },
  {
   "cell_type": "code",
   "execution_count": null,
   "metadata": {},
   "outputs": [],
   "source": [
    "# Conditional Density / x\n",
    "(joint.T/horizontal_total)"
   ]
  },
  {
   "cell_type": "code",
   "execution_count": null,
   "metadata": {},
   "outputs": [],
   "source": []
  },
  {
   "cell_type": "code",
   "execution_count": null,
   "metadata": {},
   "outputs": [],
   "source": []
  }
 ],
 "metadata": {
  "kernelspec": {
   "display_name": "Python 3",
   "language": "python",
   "name": "python3"
  },
  "language_info": {
   "codemirror_mode": {
    "name": "ipython",
    "version": 3
   },
   "file_extension": ".py",
   "mimetype": "text/x-python",
   "name": "python",
   "nbconvert_exporter": "python",
   "pygments_lexer": "ipython3",
   "version": "3.7.3"
  }
 },
 "nbformat": 4,
 "nbformat_minor": 2
}
