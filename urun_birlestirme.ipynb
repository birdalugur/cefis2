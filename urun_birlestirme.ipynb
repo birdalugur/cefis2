{
 "cells": [
  {
   "cell_type": "code",
   "execution_count": 1,
   "metadata": {},
   "outputs": [],
   "source": [
    "import pandas as pd\n",
    "import numpy as np\n",
    "import src.in_out as io\n",
    "import src.info as info\n",
    "import src.auxiliary_functions as aux\n",
    "import src.condition as con\n",
    "from itertools import combinations"
   ]
  },
  {
   "cell_type": "code",
   "execution_count": 2,
   "metadata": {},
   "outputs": [],
   "source": [
    "#Veriler, tarih ve ürün adları ile okunuyor ve birleştiriliyor\n",
    "path_list=io.get_path('data')\n",
    "cols= [\"Time\",\"BID price\",\"ASK price\"]\n",
    "master_data=pd.concat((pd.read_excel(file,usecols=cols).\\\n",
    "                       assign(name=info.get_productName(file),date=info.get_productDate(file)\n",
    "                             ) for file in path_list)).reset_index(drop=True)\n",
    "master_data.columns=['time','bid_price','ask_price','name','date']"
   ]
  },
  {
   "cell_type": "code",
   "execution_count": 3,
   "metadata": {},
   "outputs": [],
   "source": [
    "#date sütunu Timestamp'e dönüştürülüyor\n",
    "master_data['date']=pd.to_datetime(master_data['date'], errors='coerce')"
   ]
  },
  {
   "cell_type": "code",
   "execution_count": 4,
   "metadata": {},
   "outputs": [],
   "source": [
    "#tarih ve saat bilgisi birleştiriliyor\n",
    "master_data['date'] += pd.to_timedelta(master_data.pop('time').astype(str))"
   ]
  },
  {
   "cell_type": "code",
   "execution_count": 5,
   "metadata": {},
   "outputs": [],
   "source": [
    "#zaman dilimi ekleniyor\n",
    "master_data['time_period']=master_data.date.dt.hour"
   ]
  },
  {
   "cell_type": "code",
   "execution_count": 6,
   "metadata": {},
   "outputs": [],
   "source": [
    "# mid price hesaplanıyor\n",
    "master_data['mid_price']=aux.get_mid_price(master_data)"
   ]
  },
  {
   "cell_type": "code",
   "execution_count": 7,
   "metadata": {},
   "outputs": [],
   "source": [
    "# spread hesaplama için master_data, uygun bir forma dönüştürülüyor\n",
    "df_mid_price=master_data.pivot(index='date', columns='name', values='mid_price')"
   ]
  },
  {
   "cell_type": "markdown",
   "metadata": {},
   "source": [
    "## Spread\n",
    "<img src=\"img/spread_flowchart.png\">"
   ]
  },
  {
   "cell_type": "code",
   "execution_count": null,
   "metadata": {},
   "outputs": [],
   "source": [
    "values={'a_PNLTICK':1,\n",
    "'a_TICKSIZE':1,\n",
    "'b_PNLTICK':1,\n",
    "'b_TICKSIZE':1}"
   ]
  },
  {
   "cell_type": "code",
   "execution_count": 223,
   "metadata": {},
   "outputs": [],
   "source": [
    "# pair'lar alınıyor\n",
    "pairs=combinations(df_mid_price.columns, 2)"
   ]
  },
  {
   "cell_type": "code",
   "execution_count": 224,
   "metadata": {},
   "outputs": [],
   "source": [
    "spread_list=[get_spread(df_mid_price.loc[:,pair],values) for pair in pairs]\n",
    "df_spread=pd.concat(spread_list,axis=1)"
   ]
  },
  {
   "cell_type": "code",
   "execution_count": 226,
   "metadata": {},
   "outputs": [
    {
     "data": {
      "text/html": [
       "<div>\n",
       "<style scoped>\n",
       "    .dataframe tbody tr th:only-of-type {\n",
       "        vertical-align: middle;\n",
       "    }\n",
       "\n",
       "    .dataframe tbody tr th {\n",
       "        vertical-align: top;\n",
       "    }\n",
       "\n",
       "    .dataframe thead th {\n",
       "        text-align: right;\n",
       "    }\n",
       "</style>\n",
       "<table border=\"1\" class=\"dataframe\">\n",
       "  <thead>\n",
       "    <tr style=\"text-align: right;\">\n",
       "      <th></th>\n",
       "      <th>6AU8_6BU8</th>\n",
       "      <th>6AU8_6CU8</th>\n",
       "      <th>6BU8_6CU8</th>\n",
       "    </tr>\n",
       "    <tr>\n",
       "      <th>date</th>\n",
       "      <th></th>\n",
       "      <th></th>\n",
       "      <th></th>\n",
       "    </tr>\n",
       "  </thead>\n",
       "  <tbody>\n",
       "    <tr>\n",
       "      <th>2018-09-06 00:00:00</th>\n",
       "      <td>0.000000</td>\n",
       "      <td>0.000000</td>\n",
       "      <td>0.000000</td>\n",
       "    </tr>\n",
       "    <tr>\n",
       "      <th>2018-09-06 00:00:01</th>\n",
       "      <td>0.000000</td>\n",
       "      <td>0.000000</td>\n",
       "      <td>0.000000</td>\n",
       "    </tr>\n",
       "    <tr>\n",
       "      <th>2018-09-06 00:00:02</th>\n",
       "      <td>0.000000</td>\n",
       "      <td>0.000000</td>\n",
       "      <td>0.000000</td>\n",
       "    </tr>\n",
       "    <tr>\n",
       "      <th>2018-09-06 00:00:03</th>\n",
       "      <td>0.000000</td>\n",
       "      <td>0.000000</td>\n",
       "      <td>0.000000</td>\n",
       "    </tr>\n",
       "    <tr>\n",
       "      <th>2018-09-06 00:00:04</th>\n",
       "      <td>-0.000109</td>\n",
       "      <td>0.000000</td>\n",
       "      <td>0.000109</td>\n",
       "    </tr>\n",
       "    <tr>\n",
       "      <th>...</th>\n",
       "      <td>...</td>\n",
       "      <td>...</td>\n",
       "      <td>...</td>\n",
       "    </tr>\n",
       "    <tr>\n",
       "      <th>2018-09-07 23:59:55</th>\n",
       "      <td>-0.000138</td>\n",
       "      <td>0.000962</td>\n",
       "      <td>0.001100</td>\n",
       "    </tr>\n",
       "    <tr>\n",
       "      <th>2018-09-07 23:59:56</th>\n",
       "      <td>-0.000138</td>\n",
       "      <td>0.000962</td>\n",
       "      <td>0.001100</td>\n",
       "    </tr>\n",
       "    <tr>\n",
       "      <th>2018-09-07 23:59:57</th>\n",
       "      <td>-0.000138</td>\n",
       "      <td>0.000962</td>\n",
       "      <td>0.001100</td>\n",
       "    </tr>\n",
       "    <tr>\n",
       "      <th>2018-09-07 23:59:58</th>\n",
       "      <td>-0.000138</td>\n",
       "      <td>0.000962</td>\n",
       "      <td>0.001100</td>\n",
       "    </tr>\n",
       "    <tr>\n",
       "      <th>2018-09-07 23:59:59</th>\n",
       "      <td>-0.000138</td>\n",
       "      <td>0.000962</td>\n",
       "      <td>0.001100</td>\n",
       "    </tr>\n",
       "  </tbody>\n",
       "</table>\n",
       "<p>79200 rows × 3 columns</p>\n",
       "</div>"
      ],
      "text/plain": [
       "                     6AU8_6BU8  6AU8_6CU8  6BU8_6CU8\n",
       "date                                                \n",
       "2018-09-06 00:00:00   0.000000   0.000000   0.000000\n",
       "2018-09-06 00:00:01   0.000000   0.000000   0.000000\n",
       "2018-09-06 00:00:02   0.000000   0.000000   0.000000\n",
       "2018-09-06 00:00:03   0.000000   0.000000   0.000000\n",
       "2018-09-06 00:00:04  -0.000109   0.000000   0.000109\n",
       "...                        ...        ...        ...\n",
       "2018-09-07 23:59:55  -0.000138   0.000962   0.001100\n",
       "2018-09-07 23:59:56  -0.000138   0.000962   0.001100\n",
       "2018-09-07 23:59:57  -0.000138   0.000962   0.001100\n",
       "2018-09-07 23:59:58  -0.000138   0.000962   0.001100\n",
       "2018-09-07 23:59:59  -0.000138   0.000962   0.001100\n",
       "\n",
       "[79200 rows x 3 columns]"
      ]
     },
     "execution_count": 226,
     "metadata": {},
     "output_type": "execute_result"
    }
   ],
   "source": [
    "df_spread"
   ]
  },
  {
   "cell_type": "code",
   "execution_count": 191,
   "metadata": {},
   "outputs": [],
   "source": [
    "def get_spread(df_mp,values):\n",
    "    df_mp=df_mp.reset_index()\n",
    "    mp_group=df_mp.groupby([df_mp.date.dt.floor('d'),df_mp.date.dt.hour])\n",
    "    spread_series=mp_group.apply(lambda x : find_spread(x,values))\n",
    "    df_spread=pd.DataFrame(spread_series).droplevel([0,1])\n",
    "    return df_spread"
   ]
  },
  {
   "cell_type": "code",
   "execution_count": 161,
   "metadata": {},
   "outputs": [],
   "source": [
    "def find_spread(pair,values):\n",
    "    \"\"\"6A ve 6B verisinden SPREAD verisini üretir.\n",
    "    Parameters:\n",
    "        pair(pandas.DataFrame):\n",
    "        values(dict): ticksize değerleri\n",
    "    Returns:\n",
    "        pd.Series: Hesaplanmış spread verisi\n",
    "    \"\"\"\n",
    "    a_series=pair.iloc[:,1]\n",
    "    b_series=pair.iloc[:,2]\n",
    "    atick = values['a_PNLTICK']/values['a_TICKSIZE']\n",
    "    btick = values['b_PNLTICK']/values['b_TICKSIZE']\n",
    "    size = len(a_series)\n",
    "    spread = size*[0]\n",
    "    for i in range(size): \n",
    "        try:\n",
    "            spread[i+1] = (((a_series.iat[i+1] - a_series.iat[i])*atick) - ((b_series.iat[i+1] - b_series.iat[i])*btick)) +spread[i] \n",
    "        except:            \n",
    "            pass        \n",
    "    return pd.Series(data=spread,index=pair.date,name=a_series.name+'_'+b_series.name)"
   ]
  },
  {
   "cell_type": "code",
   "execution_count": 167,
   "metadata": {},
   "outputs": [],
   "source": []
  },
  {
   "cell_type": "code",
   "execution_count": null,
   "metadata": {},
   "outputs": [],
   "source": []
  }
 ],
 "metadata": {
  "kernelspec": {
   "display_name": "Python 3",
   "language": "python",
   "name": "python3"
  },
  "language_info": {
   "codemirror_mode": {
    "name": "ipython",
    "version": 3
   },
   "file_extension": ".py",
   "mimetype": "text/x-python",
   "name": "python",
   "nbconvert_exporter": "python",
   "pygments_lexer": "ipython3",
   "version": "3.7.5"
  }
 },
 "nbformat": 4,
 "nbformat_minor": 2
}
