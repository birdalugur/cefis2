{
 "cells": [
  {
   "cell_type": "code",
   "execution_count": 3,
   "metadata": {},
   "outputs": [],
   "source": [
    "import pandas as pd\n",
    "import src.auxiliary_functions as aux\n",
    "import src.condition as con\n",
    "from datetime import time, datetime,date\n",
    "import src.info as info\n",
    "import src.in_out as io\n",
    "import numpy as np\n",
    "import itertools\n",
    "import src.graphic as graph\n",
    "from glob import glob"
   ]
  },
  {
   "cell_type": "code",
   "execution_count": 253,
   "metadata": {},
   "outputs": [],
   "source": [
    "#Veriler, tarih ve ürün adları ile okunuyor ve birleştiriliyor\n",
    "path_list=io.get_path('data')\n",
    "cols= [\"Time\",\"BID price\",\"ASK price\"]\n",
    "master_data=pd.concat((pd.read_excel(file,usecols=cols).\\\n",
    "                       assign(name=info.get_productName(file),date=info.get_productDate(file)\n",
    "                             ) for file in path_list)).reset_index(drop=True)\n",
    "master_data.columns=['time','bid_price','ask_price','name','date']"
   ]
  },
  {
   "cell_type": "code",
   "execution_count": 258,
   "metadata": {},
   "outputs": [],
   "source": [
    "#date sütunu Timestamp'e dönüştürülüyor\n",
    "master_data['date']=pd.to_datetime(master_data['date'], errors='coerce')"
   ]
  },
  {
   "cell_type": "code",
   "execution_count": 254,
   "metadata": {},
   "outputs": [],
   "source": [
    "#tarih ve saat bilgisi birleştiriliyor\n",
    "master_data['date'] += pd.to_timedelta(master_data.pop('time').astype(str))"
   ]
  },
  {
   "cell_type": "code",
   "execution_count": 284,
   "metadata": {},
   "outputs": [],
   "source": [
    "#zaman dilimi ekleniyor\n",
    "master_data['time_period']=master_data.date.dt.hour"
   ]
  },
  {
   "cell_type": "code",
   "execution_count": 256,
   "metadata": {},
   "outputs": [],
   "source": [
    "# mid price hesaplanıyor\n",
    "master_data['mid_price']=aux.get_mid_price(master_data)"
   ]
  },
  {
   "cell_type": "code",
   "execution_count": 305,
   "metadata": {},
   "outputs": [],
   "source": [
    "group=master_data.groupby(master_data.date.dt.date)"
   ]
  },
  {
   "cell_type": "code",
   "execution_count": 307,
   "metadata": {
    "scrolled": false
   },
   "outputs": [
    {
     "data": {
      "text/html": [
       "<div>\n",
       "<style scoped>\n",
       "    .dataframe tbody tr th:only-of-type {\n",
       "        vertical-align: middle;\n",
       "    }\n",
       "\n",
       "    .dataframe tbody tr th {\n",
       "        vertical-align: top;\n",
       "    }\n",
       "\n",
       "    .dataframe thead th {\n",
       "        text-align: right;\n",
       "    }\n",
       "</style>\n",
       "<table border=\"1\" class=\"dataframe\">\n",
       "  <thead>\n",
       "    <tr style=\"text-align: right;\">\n",
       "      <th></th>\n",
       "      <th>bid_price</th>\n",
       "      <th>ask_price</th>\n",
       "      <th>name</th>\n",
       "      <th>date</th>\n",
       "      <th>mid_price</th>\n",
       "      <th>time_period</th>\n",
       "    </tr>\n",
       "  </thead>\n",
       "  <tbody>\n",
       "    <tr>\n",
       "      <th>0</th>\n",
       "      <td>0.668949</td>\n",
       "      <td>0.7193</td>\n",
       "      <td>6AU8</td>\n",
       "      <td>2018-09-06 18:00:00</td>\n",
       "      <td>0.694125</td>\n",
       "      <td>18</td>\n",
       "    </tr>\n",
       "    <tr>\n",
       "      <th>1</th>\n",
       "      <td>0.668856</td>\n",
       "      <td>0.7194</td>\n",
       "      <td>6AU8</td>\n",
       "      <td>2018-09-06 18:00:01</td>\n",
       "      <td>0.694128</td>\n",
       "      <td>18</td>\n",
       "    </tr>\n",
       "    <tr>\n",
       "      <th>2</th>\n",
       "      <td>0.668856</td>\n",
       "      <td>0.7193</td>\n",
       "      <td>6AU8</td>\n",
       "      <td>2018-09-06 18:00:02</td>\n",
       "      <td>0.694078</td>\n",
       "      <td>18</td>\n",
       "    </tr>\n",
       "    <tr>\n",
       "      <th>3</th>\n",
       "      <td>0.668856</td>\n",
       "      <td>0.7193</td>\n",
       "      <td>6AU8</td>\n",
       "      <td>2018-09-06 18:00:03</td>\n",
       "      <td>0.694078</td>\n",
       "      <td>18</td>\n",
       "    </tr>\n",
       "    <tr>\n",
       "      <th>4</th>\n",
       "      <td>0.668856</td>\n",
       "      <td>0.7193</td>\n",
       "      <td>6AU8</td>\n",
       "      <td>2018-09-06 18:00:04</td>\n",
       "      <td>0.694078</td>\n",
       "      <td>18</td>\n",
       "    </tr>\n",
       "    <tr>\n",
       "      <th>...</th>\n",
       "      <td>...</td>\n",
       "      <td>...</td>\n",
       "      <td>...</td>\n",
       "      <td>...</td>\n",
       "      <td>...</td>\n",
       "      <td>...</td>\n",
       "    </tr>\n",
       "    <tr>\n",
       "      <th>237595</th>\n",
       "      <td>0.719500</td>\n",
       "      <td>0.7196</td>\n",
       "      <td>6CU8</td>\n",
       "      <td>2018-09-07 04:59:55</td>\n",
       "      <td>0.719550</td>\n",
       "      <td>4</td>\n",
       "    </tr>\n",
       "    <tr>\n",
       "      <th>237596</th>\n",
       "      <td>0.719500</td>\n",
       "      <td>0.7196</td>\n",
       "      <td>6CU8</td>\n",
       "      <td>2018-09-07 04:59:56</td>\n",
       "      <td>0.719550</td>\n",
       "      <td>4</td>\n",
       "    </tr>\n",
       "    <tr>\n",
       "      <th>237597</th>\n",
       "      <td>0.719500</td>\n",
       "      <td>0.7196</td>\n",
       "      <td>6CU8</td>\n",
       "      <td>2018-09-07 04:59:57</td>\n",
       "      <td>0.719550</td>\n",
       "      <td>4</td>\n",
       "    </tr>\n",
       "    <tr>\n",
       "      <th>237598</th>\n",
       "      <td>0.719500</td>\n",
       "      <td>0.7196</td>\n",
       "      <td>6CU8</td>\n",
       "      <td>2018-09-07 04:59:58</td>\n",
       "      <td>0.719550</td>\n",
       "      <td>4</td>\n",
       "    </tr>\n",
       "    <tr>\n",
       "      <th>237599</th>\n",
       "      <td>0.719500</td>\n",
       "      <td>0.7196</td>\n",
       "      <td>6CU8</td>\n",
       "      <td>2018-09-07 04:59:59</td>\n",
       "      <td>0.719550</td>\n",
       "      <td>4</td>\n",
       "    </tr>\n",
       "  </tbody>\n",
       "</table>\n",
       "<p>237600 rows × 6 columns</p>\n",
       "</div>"
      ],
      "text/plain": [
       "        bid_price  ask_price  name                date  mid_price  time_period\n",
       "0        0.668949     0.7193  6AU8 2018-09-06 18:00:00   0.694125           18\n",
       "1        0.668856     0.7194  6AU8 2018-09-06 18:00:01   0.694128           18\n",
       "2        0.668856     0.7193  6AU8 2018-09-06 18:00:02   0.694078           18\n",
       "3        0.668856     0.7193  6AU8 2018-09-06 18:00:03   0.694078           18\n",
       "4        0.668856     0.7193  6AU8 2018-09-06 18:00:04   0.694078           18\n",
       "...           ...        ...   ...                 ...        ...          ...\n",
       "237595   0.719500     0.7196  6CU8 2018-09-07 04:59:55   0.719550            4\n",
       "237596   0.719500     0.7196  6CU8 2018-09-07 04:59:56   0.719550            4\n",
       "237597   0.719500     0.7196  6CU8 2018-09-07 04:59:57   0.719550            4\n",
       "237598   0.719500     0.7196  6CU8 2018-09-07 04:59:58   0.719550            4\n",
       "237599   0.719500     0.7196  6CU8 2018-09-07 04:59:59   0.719550            4\n",
       "\n",
       "[237600 rows x 6 columns]"
      ]
     },
     "execution_count": 307,
     "metadata": {},
     "output_type": "execute_result"
    }
   ],
   "source": [
    "master_data"
   ]
  },
  {
   "cell_type": "code",
   "execution_count": null,
   "metadata": {},
   "outputs": [],
   "source": []
  }
 ],
 "metadata": {
  "kernelspec": {
   "display_name": "Python 3",
   "language": "python",
   "name": "python3"
  },
  "language_info": {
   "codemirror_mode": {
    "name": "ipython",
    "version": 3
   },
   "file_extension": ".py",
   "mimetype": "text/x-python",
   "name": "python",
   "nbconvert_exporter": "python",
   "pygments_lexer": "ipython3",
   "version": "3.7.5"
  }
 },
 "nbformat": 4,
 "nbformat_minor": 2
}
