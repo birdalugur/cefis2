{
 "cells": [
  {
   "cell_type": "markdown",
   "metadata": {
    "scrolled": true
   },
   "source": [
    "! jt -r"
   ]
  },
  {
   "cell_type": "code",
   "execution_count": 37,
   "metadata": {},
   "outputs": [
    {
     "data": {
      "text/plain": [
       "<module 'src.density' from 'C:\\\\Users\\\\ugur.eren\\\\Python Codes\\\\cefis2\\\\src\\\\density.py'>"
      ]
     },
     "execution_count": 37,
     "metadata": {},
     "output_type": "execute_result"
    }
   ],
   "source": [
    "from importlib import reload\n",
    "reload(aux)\n",
    "reload(con)\n",
    "reload(dt)\n",
    "reload (den)"
   ]
  },
  {
   "cell_type": "code",
   "execution_count": 38,
   "metadata": {},
   "outputs": [],
   "source": [
    "import pandas as pd\n",
    "import src.daily_data as dt\n",
    "import src.auxiliary_functions as aux\n",
    "import src.condition as con\n",
    "from datetime import time, datetime\n",
    "import src.info as info\n",
    "import src.in_out as io\n",
    "import numpy as np\n",
    "from src.density import Density, draw"
   ]
  },
  {
   "cell_type": "markdown",
   "metadata": {},
   "source": [
    "1. **data** klasöründeki tüm dosya yolları alınıyor"
   ]
  },
  {
   "cell_type": "code",
   "execution_count": 5,
   "metadata": {},
   "outputs": [],
   "source": [
    "path_list = io.get_path('C:\\\\Users\\\\ugur.eren\\\\Python Codes\\\\cefis2\\\\data\\\\')"
   ]
  },
  {
   "cell_type": "markdown",
   "metadata": {},
   "source": [
    "2. *Her bir path'de bulunan veriler **dataframe** olarak alınıyor. Her bir df, **split_df** metodu ile saatlik olarak **23** ayrı df'e bölünüyor. Bölünmüş her bir df'in **mid_price**'ı hesaplanıp yeni bir sütun olarak **df**'e ekleniyor.* **get_info** metodu her bir path için bu verileri kullanarak bir **info** örneği oluşturup döndürür. Her bir **info** örneği, aşağıdaki özelliklere sahiptir:<br>\n",
    "    * Okunan dosyanın tarihi\n",
    "    * Ürünün adı\n",
    "    * Okunan dosyaya ait yol\n",
    "    * Tüm verileri içeren dataframe\n",
    "    * Saatlik olarak bölünmüş dataframe listesi\n"
   ]
  },
  {
   "cell_type": "code",
   "execution_count": 6,
   "metadata": {},
   "outputs": [],
   "source": [
    "infolist = [info.get_info(path) for path in path_list]"
   ]
  },
  {
   "cell_type": "markdown",
   "metadata": {},
   "source": [
    "3. Burada, oluşturulan infolar arasında bir **eşleştirme** yapılmaktadır. Çünkü her bir **spread** hesabının hangi veriler kullanılarak yapılacağı bilinmelidir. Eşleşen infolar, tuple çiftleri olarak tutulmakta.\n",
    "  Elimizde 2018:09:06 tarihinin 6A,6B,6C ürünlerine ait verileri olsun. Bu durumda 6A-6B, 6A-6C, 6B-6C arasında 3 adet spread hesaplanacaktır. Hesaplama öncesi bu eşleştirme, **daily_data** modülünün **to_match_days** metoduyla yapılmaktadır."
   ]
  },
  {
   "cell_type": "code",
   "execution_count": 7,
   "metadata": {},
   "outputs": [],
   "source": [
    "paired_days = dt.to_match_days(infolist)"
   ]
  },
  {
   "cell_type": "markdown",
   "metadata": {},
   "source": [
    "4.  **daily_datas**: GünlükVeri örneklerinin tutulduğu liste <br />\n",
    "**dt.to_match_hour** metodu ile her bir eşleşmiş çiftin mid_price'ları saatlik olarak alınıp birleştiriliyor. <br />\n",
    "**gunluk_veri**: **tarih**, her bir saate ait **change**,**spread**,**amplitude**,**duration**,**urun adları**...vs içeriyor <br />\n",
    "**paired_hours:** 23 adet df içerir. her bir df mid_price çifti içerir"
   ]
  },
  {
   "cell_type": "code",
   "execution_count": 8,
   "metadata": {},
   "outputs": [],
   "source": [
    "daily_data = []"
   ]
  },
  {
   "cell_type": "code",
   "execution_count": 9,
   "metadata": {
    "scrolled": true
   },
   "outputs": [],
   "source": [
    "for pair in paired_days:\n",
    "    product = pair[0].product + \"_\" + pair[1].product   # urun adi\n",
    "    paired_hours=dt.to_match_hour(pair[0],pair[1])\n",
    "    gunluk_veri = dt.DailyData(mid_price_list=paired_hours,date=pair[0].date, name= product)\n",
    "    gunluk_veri.spread_hesapla()\n",
    "    daily_data.append(gunluk_veri)"
   ]
  },
  {
   "cell_type": "markdown",
   "metadata": {},
   "source": [
    "5. Her bir **DailyData** örneği ürünlere göre ayrı ayrı gruplandırılıyor. <br>\n",
    "    (['**6AU8_6BU8**': [gunluk veriler...], '**6AU8_6CU8**':[gunluk veriler...], '**6BU8_6CU8**':[gunluk veriler...]])"
   ]
  },
  {
   "cell_type": "code",
   "execution_count": 10,
   "metadata": {},
   "outputs": [],
   "source": [
    "products={}"
   ]
  },
  {
   "cell_type": "code",
   "execution_count": 11,
   "metadata": {},
   "outputs": [],
   "source": [
    "for gunluk in daily_data:\n",
    "    if gunluk.name in products:\n",
    "        products[gunluk.name].append(gunluk)\n",
    "    else:\n",
    "        products[gunluk.name] = [gunluk]"
   ]
  },
  {
   "cell_type": "markdown",
   "metadata": {},
   "source": [
    "**combined_days :**  key-value olarak ürün adları ve verileri içerir <br />\n",
    "**combined_days_detail :** key-value olarak ürün adları ve verilere ait istatistiksel bilgileri içerir <br />\n",
    "**combined_days_con :** key-value olarak ürün adları ve median koşuluna göre yeniden düzenlenmiş verileri içerir <br />\n",
    "* 6BU8_6CU8'e ait verilere erişmek için:<br />\n",
    " ```python\n",
    "combined_days_detail['6BU8_6CU8']\n",
    "```\n",
    "* 6BU8_6CU8'e ait 18:00:00-19:00:00 saatleri arası verilere erişmek için: <br />\n",
    " ```python\n",
    "combined_days['6BU8_6CU8'].loc[time(18)]\n",
    "```"
   ]
  },
  {
   "cell_type": "code",
   "execution_count": 12,
   "metadata": {},
   "outputs": [],
   "source": [
    "combined_days = {}\n",
    "combined_days_detail = {}\n",
    "combined_days_con = {}\n",
    "combined_days_con_detail = {}"
   ]
  },
  {
   "cell_type": "code",
   "execution_count": 13,
   "metadata": {
    "scrolled": true
   },
   "outputs": [],
   "source": [
    "stop=False\n",
    "i=0\n",
    "while products:\n",
    "    urun = products.popitem()\n",
    "    df = dt.get_all_data(urun[1]).dropna()\n",
    "    con_df = con.scan(df)\n",
    "    combined_days[urun[0]] = df\n",
    "    combined_days_con[urun[0]] = con_df\n",
    "#    combined_days_detail[urun[0]] = aux.get_detail(df)\n",
    "#     combined_days_con_detail[urun[0]] = aux.get_detail(con_df)"
   ]
  },
  {
   "cell_type": "code",
   "execution_count": null,
   "metadata": {},
   "outputs": [],
   "source": []
  },
  {
   "cell_type": "code",
   "execution_count": null,
   "metadata": {},
   "outputs": [],
   "source": []
  },
  {
   "cell_type": "code",
   "execution_count": null,
   "metadata": {},
   "outputs": [],
   "source": []
  },
  {
   "cell_type": "code",
   "execution_count": null,
   "metadata": {},
   "outputs": [],
   "source": []
  },
  {
   "cell_type": "markdown",
   "metadata": {},
   "source": [
    "Hesaplanmış ürün adları ve saat bilgisi alınıyor"
   ]
  },
  {
   "cell_type": "code",
   "execution_count": 14,
   "metadata": {},
   "outputs": [],
   "source": [
    "all_products = list(combined_days.keys())"
   ]
  },
  {
   "cell_type": "code",
   "execution_count": 15,
   "metadata": {
    "scrolled": true
   },
   "outputs": [],
   "source": [
    "hour_series = pd.date_range('2018-01-01-18', periods=23, freq='H').time"
   ]
  },
  {
   "cell_type": "markdown",
   "metadata": {},
   "source": [
    "all_density:\n",
    "```json\n",
    "{\"6BU8_6CU8\": {\"18:00:00\": \"Density Object\", \"19:00:00\": \"Density Object\"...},\n",
    " \"6AU8_6CU8\":{\"18:00:00\": \"Density Object\", \"19:00:00\": \"Density Object\"...},\n",
    " ....}\n",
    "```"
   ]
  },
  {
   "cell_type": "code",
   "execution_count": 18,
   "metadata": {},
   "outputs": [],
   "source": [
    "all_density= {}"
   ]
  },
  {
   "cell_type": "code",
   "execution_count": 19,
   "metadata": {
    "scrolled": true
   },
   "outputs": [],
   "source": [
    "for product in all_products:\n",
    "    densities = {}\n",
    "    for hour in hour_series:\n",
    "        df = combined_days[product].loc[hour]\n",
    "        densities[hour]= Density(df)\n",
    "    all_density[product] = densities"
   ]
  },
  {
   "cell_type": "markdown",
   "metadata": {},
   "source": [
    "--------------------------------"
   ]
  },
  {
   "cell_type": "markdown",
   "metadata": {},
   "source": [
    "# Example"
   ]
  },
  {
   "cell_type": "code",
   "execution_count": 42,
   "metadata": {},
   "outputs": [],
   "source": [
    "dens = all_density['6AU8_6BU8'][time(20)]"
   ]
  },
  {
   "cell_type": "code",
   "execution_count": 43,
   "metadata": {
    "scrolled": true
   },
   "outputs": [],
   "source": [
    "kosullu = dens.get_distribution(choice='amplitude')"
   ]
  },
  {
   "cell_type": "code",
   "execution_count": 44,
   "metadata": {
    "scrolled": true
   },
   "outputs": [],
   "source": [
    "df = kosullu.reset_index()"
   ]
  },
  {
   "cell_type": "code",
   "execution_count": 46,
   "metadata": {
    "scrolled": true
   },
   "outputs": [
    {
     "data": {
      "text/plain": [
       "21.25000000000876"
      ]
     },
     "execution_count": 46,
     "metadata": {},
     "output_type": "execute_result"
    }
   ],
   "source": [
    "df.amplitude.max()"
   ]
  },
  {
   "cell_type": "code",
   "execution_count": 47,
   "metadata": {},
   "outputs": [
    {
     "data": {
      "application/vnd.plotly.v1+json": {
       "config": {
        "plotlyServerURL": "https://plot.ly"
       },
       "data": [
        {
         "opacity": 0.5,
         "type": "mesh3d",
         "x": [
          1,
          1,
          1,
          1,
          1,
          1,
          1,
          1,
          1,
          1,
          1,
          1,
          1,
          1,
          1,
          1,
          1,
          1,
          1,
          1,
          1,
          1,
          1,
          1,
          1,
          1,
          1,
          1,
          1,
          1,
          1,
          1,
          1,
          1,
          1,
          1,
          1,
          1,
          2,
          2,
          2,
          2,
          2,
          2,
          2,
          2,
          2,
          2,
          2,
          2,
          2,
          2,
          2,
          2,
          2,
          2,
          2,
          2,
          2,
          2,
          2,
          2,
          2,
          2,
          2,
          2,
          2,
          2,
          3,
          3,
          3,
          3,
          3,
          3,
          3,
          3,
          3,
          3,
          3,
          3,
          3,
          3,
          3,
          3,
          3,
          3,
          3,
          3,
          3,
          3,
          3,
          3,
          3,
          4,
          4,
          4,
          4,
          4,
          4,
          4,
          4,
          4,
          4,
          4,
          4,
          4,
          4,
          4,
          4,
          4,
          4,
          4,
          4,
          4,
          5,
          5,
          5,
          5,
          5,
          5,
          5,
          5,
          5,
          5,
          5,
          5,
          5,
          5,
          5,
          6,
          6,
          6,
          6,
          6,
          6,
          6,
          6,
          6,
          6,
          6,
          6,
          6,
          7,
          7,
          7,
          7,
          7,
          7,
          7,
          7,
          7,
          7,
          7,
          8,
          8,
          8,
          8,
          8,
          8,
          8,
          8,
          8,
          8,
          8,
          8,
          9,
          9,
          9,
          9,
          9,
          9,
          9,
          10,
          10,
          10,
          10,
          10,
          10,
          10,
          11,
          11,
          11,
          11,
          11,
          11,
          12,
          12,
          12,
          12,
          12,
          12,
          12,
          13,
          13,
          13,
          13,
          13,
          13,
          13,
          13,
          14,
          14,
          14,
          14,
          14,
          14,
          14,
          14,
          14,
          15,
          15,
          15,
          15,
          15,
          15,
          15,
          15,
          15,
          16,
          16,
          16,
          16,
          17,
          17,
          17,
          17,
          17,
          17,
          18,
          18,
          18,
          18,
          19,
          19,
          20,
          21,
          22,
          22,
          23,
          23,
          23,
          23,
          24,
          24,
          25,
          25,
          25,
          26,
          26,
          26,
          26,
          27,
          27,
          28,
          28,
          29,
          30,
          30,
          31,
          31,
          31,
          32,
          32,
          33,
          34,
          34,
          37,
          37,
          38,
          39,
          40,
          44,
          47,
          53,
          55,
          58,
          69,
          80,
          82,
          85
         ],
         "y": [
          -13.125000000005492,
          -10.000000000010001,
          -9.999999999998899,
          -9.374999999992028,
          -6.875000000006182,
          -6.250000000013188,
          -6.249999999985434,
          -4.999999999999449,
          -4.999999999999446,
          -3.750000000024567,
          -3.750000000013465,
          -3.749999999985711,
          -3.1250000000065947,
          -3.125000000006594,
          -3.124999999992717,
          -1.8750000000067324,
          -1.2500000000137401,
          3.124999999992717,
          3.125000000006594,
          3.1250000000065947,
          3.749999999985709,
          3.750000000013465,
          4.999999999999446,
          4.999999999999449,
          4.999999999999453,
          6.249999999985434,
          6.250000000013188,
          6.2500000000131894,
          6.875000000006182,
          8.12499999999217,
          9.999999999998892,
          9.999999999998899,
          9.999999999998906,
          10.000000000010001,
          12.499999999998623,
          13.125000000002718,
          13.74999999998461,
          19.999999999997797,
          -12.499999999998622,
          -9.999999999998899,
          -9.999999999998892,
          -8.125000000006043,
          -6.875000000006189,
          -6.249999999985434,
          -4.999999999999453,
          -4.999999999999449,
          -4.9999999999994476,
          -3.125000000006594,
          -3.124999999992717,
          -1.875000000006736,
          -1.8750000000067324,
          1.8749999999928546,
          3.124999999992717,
          3.125000000006594,
          3.1250000000065947,
          3.750000000013472,
          3.750000000024567,
          4.999999999999446,
          4.999999999999449,
          6.250000000013188,
          6.874999999992298,
          6.874999999992305,
          6.875000000006182,
          8.124999999992166,
          9.999999999998899,
          11.250000000012637,
          13.125000000002718,
          19.999999999997797,
          -13.125000000016595,
          -13.124999999991616,
          -9.999999999998899,
          -8.12500000000604,
          -8.12499999999217,
          -6.250000000013188,
          -6.249999999999311,
          -4.999999999999453,
          -4.999999999999449,
          -4.999999999999446,
          -3.125000000006594,
          -3.124999999992717,
          3.124999999992717,
          3.125000000006594,
          3.1250000000065947,
          3.750000000013465,
          3.750000000013472,
          4.999999999999446,
          4.999999999999449,
          5.000000000010551,
          6.250000000013188,
          9.999999999998899,
          13.749999999984595,
          13.74999999998461,
          19.999999999997797,
          -13.125000000002718,
          -10.000000000010001,
          -9.999999999998899,
          -9.999999999998892,
          -9.375000000005905,
          -6.874999999992305,
          -6.2500000000131894,
          -6.249999999985434,
          -4.999999999999449,
          -3.125000000006594,
          -3.124999999992717,
          3.124999999992717,
          3.1250000000065947,
          4.999999999999446,
          4.999999999999449,
          6.874999999992305,
          6.875000000006182,
          9.999999999998899,
          11.250000000012639,
          13.125000000005492,
          16.250000000012086,
          -13.124999999991616,
          -10.000000000010001,
          -9.999999999998899,
          -8.124999999992166,
          -6.250000000013188,
          -6.249999999985434,
          -4.999999999999449,
          -3.1250000000065947,
          -3.125000000006594,
          1.249999999985988,
          3.125000000006594,
          6.250000000013188,
          9.999999999998899,
          13.74999999998461,
          21.25000000000876,
          -9.999999999998899,
          -9.999999999998892,
          -6.249999999985434,
          -4.999999999999449,
          -4.999999999999446,
          -3.1250000000065947,
          -3.125000000006594,
          3.124999999992717,
          3.1250000000065947,
          6.250000000013188,
          9.999999999998899,
          11.250000000023737,
          13.749999999984608,
          -12.499999999998622,
          -9.999999999998899,
          -9.999999999998892,
          -6.250000000013188,
          -6.249999999985434,
          -4.999999999999449,
          -4.999999999999446,
          3.124999999992717,
          6.249999999985434,
          6.250000000013188,
          14.999999999998346,
          -13.125000000005492,
          -9.999999999998892,
          -9.375000000005905,
          -4.999999999999449,
          -4.999999999999446,
          -3.124999999992717,
          3.124999999992717,
          4.999999999999449,
          6.250000000013191,
          9.999999999998892,
          9.999999999998899,
          13.124999999991616,
          -9.999999999998899,
          -7.499999999999176,
          -6.2500000000131894,
          -3.124999999992717,
          1.874999999992852,
          3.124999999992717,
          6.249999999985434,
          -9.999999999998892,
          -3.125000000006594,
          -3.124999999992717,
          3.125000000006594,
          3.1250000000065947,
          6.249999999985434,
          9.999999999998899,
          -9.999999999998899,
          -3.125000000006594,
          3.1250000000065947,
          3.749999999999588,
          6.249999999985434,
          8.74999999999626,
          -13.125000000005492,
          -11.250000000012639,
          -9.999999999998892,
          -8.125000000006043,
          -5.000000000010552,
          6.874999999992305,
          16.250000000012086,
          -11.87499999999175,
          -9.999999999998899,
          -9.375000000005912,
          -8.124999999992166,
          4.999999999999449,
          6.2500000000131894,
          9.999999999998899,
          16.250000000012086,
          -6.2500000000131894,
          -6.250000000013188,
          -4.999999999999449,
          -4.999999999999446,
          1.8749999999928546,
          3.1250000000065947,
          4.999999999999449,
          9.999999999998899,
          12.499999999998622,
          -9.999999999998899,
          -8.125000000017145,
          -4.999999999999449,
          3.750000000024567,
          4.999999999999449,
          6.249999999985434,
          6.2500000000131894,
          13.124999999991616,
          14.374999999991473,
          -6.249999999999312,
          -3.124999999992717,
          3.124999999992717,
          6.250000000013188,
          -30.000000000007798,
          -16.249999999984333,
          -3.125000000006594,
          6.249999999999311,
          6.2500000000131894,
          6.875000000017284,
          -13.124999999991616,
          -9.999999999998899,
          3.125000000006594,
          8.12500000000604,
          -6.249999999999311,
          4.999999999999446,
          19.999999999997797,
          -3.125000000006594,
          -3.124999999992717,
          6.249999999985434,
          -4.999999999999446,
          -3.124999999992717,
          9.374999999992028,
          9.999999999998899,
          3.750000000013465,
          9.999999999998895,
          -9.999999999998899,
          -6.250000000013188,
          4.999999999999449,
          -19.999999999997797,
          -12.499999999998623,
          -10.62499999999189,
          3.125000000006594,
          3.750000000013465,
          13.124999999991616,
          -9.999999999998899,
          -6.875000000006182,
          13.125000000005492,
          -6.874999999992304,
          3.124999999992717,
          4.999999999999449,
          9.999999999998899,
          11.249999999984883,
          4.999999999999449,
          13.124999999991608,
          6.249999999985434,
          -9.999999999998899,
          9.999999999998899,
          4.999999999999449,
          5.000000000010552,
          -19.999999999997797,
          -3.1250000000065947,
          -20.62500000000189,
          -9.999999999998899,
          3.125000000006594,
          6.875000000006185,
          16.249999999984333,
          -11.249999999984883,
          -16.250000000012086,
          -19.999999999997797,
          16.250000000012086,
          -3.124999999992717
         ],
         "z": [
          0.6080000000000001,
          0.6080000000000001,
          4.864000000000001,
          0.30400000000000005,
          0.6080000000000001,
          0.6080000000000001,
          0.6080000000000001,
          2.4320000000000004,
          1.8240000000000005,
          0.30400000000000005,
          0.6080000000000001,
          0.6080000000000001,
          0.9120000000000003,
          2.1280000000000006,
          2.1280000000000006,
          0.30400000000000005,
          0.30400000000000005,
          3.952000000000001,
          2.1280000000000006,
          0.9120000000000003,
          0.30400000000000005,
          0.30400000000000005,
          0.30400000000000005,
          2.4320000000000004,
          0.30400000000000005,
          0.30400000000000005,
          0.30400000000000005,
          0.9120000000000003,
          0.30400000000000005,
          0.30400000000000005,
          0.30400000000000005,
          3.3440000000000007,
          0.30400000000000005,
          0.30400000000000005,
          0.30400000000000005,
          0.30400000000000005,
          0.30400000000000005,
          0.30400000000000005,
          0.5084745762711865,
          3.559322033898306,
          0.5084745762711865,
          0.5084745762711865,
          0.5084745762711865,
          0.5084745762711865,
          1.016949152542373,
          1.5254237288135595,
          0.5084745762711865,
          1.5254237288135595,
          2.033898305084746,
          0.5084745762711865,
          0.5084745762711865,
          0.5084745762711865,
          1.5254237288135595,
          1.016949152542373,
          1.016949152542373,
          0.5084745762711865,
          0.5084745762711865,
          2.5423728813559325,
          2.033898305084746,
          1.5254237288135595,
          0.5084745762711865,
          0.5084745762711865,
          0.5084745762711865,
          0.5084745762711865,
          1.5254237288135595,
          0.5084745762711865,
          0.5084745762711865,
          0.5084745762711865,
          0.6410256410256409,
          0.6410256410256409,
          1.2820512820512817,
          0.6410256410256409,
          0.6410256410256409,
          0.6410256410256409,
          0.6410256410256409,
          1.2820512820512817,
          0.6410256410256409,
          0.6410256410256409,
          1.2820512820512817,
          1.2820512820512817,
          3.205128205128205,
          0.6410256410256409,
          0.6410256410256409,
          0.6410256410256409,
          1.2820512820512817,
          0.6410256410256409,
          1.2820512820512817,
          0.6410256410256409,
          0.6410256410256409,
          3.205128205128205,
          0.6410256410256409,
          0.6410256410256409,
          0.6410256410256409,
          0.6176470588235294,
          0.6176470588235294,
          2.4705882352941178,
          0.6176470588235294,
          0.6176470588235294,
          0.6176470588235294,
          0.6176470588235294,
          0.6176470588235294,
          1.8529411764705883,
          0.6176470588235294,
          1.8529411764705883,
          0.6176470588235294,
          0.6176470588235294,
          1.8529411764705883,
          1.2352941176470589,
          1.2352941176470589,
          0.6176470588235294,
          1.8529411764705883,
          0.6176470588235294,
          0.6176470588235294,
          0.6176470588235294,
          0.625,
          0.625,
          0.625,
          0.625,
          0.625,
          0.625,
          0.625,
          2.5,
          0.625,
          0.625,
          0.625,
          1.25,
          3.75,
          0.625,
          0.625,
          3.0588235294117654,
          0.7647058823529413,
          0.7647058823529413,
          0.7647058823529413,
          0.7647058823529413,
          0.7647058823529413,
          0.7647058823529413,
          0.7647058823529413,
          0.7647058823529413,
          0.7647058823529413,
          1.5294117647058827,
          0.7647058823529413,
          0.7647058823529413,
          0.6875,
          2.0625,
          0.6875,
          0.6875,
          1.375,
          0.6875,
          1.375,
          0.6875,
          0.6875,
          1.375,
          0.6875,
          0.8571428571428572,
          0.8571428571428572,
          0.8571428571428572,
          0.8571428571428572,
          0.8571428571428572,
          0.8571428571428572,
          0.8571428571428572,
          0.8571428571428572,
          0.8571428571428572,
          1.7142857142857144,
          1.7142857142857144,
          0.8571428571428572,
          1,
          1,
          1,
          1,
          1,
          1,
          1,
          1,
          1,
          1,
          1,
          1,
          1,
          1,
          1,
          1,
          1,
          1,
          1,
          1,
          1,
          1,
          1,
          1,
          1,
          1,
          1,
          0.888888888888889,
          0.888888888888889,
          0.888888888888889,
          0.888888888888889,
          0.888888888888889,
          0.888888888888889,
          1.777777777777778,
          0.888888888888889,
          0.8181818181818183,
          1.6363636363636367,
          1.6363636363636367,
          0.8181818181818183,
          0.8181818181818183,
          0.8181818181818183,
          0.8181818181818183,
          0.8181818181818183,
          0.8181818181818183,
          1,
          1,
          1,
          1,
          1,
          1,
          1,
          1,
          1,
          1,
          1,
          1,
          1,
          1,
          1,
          1,
          1,
          1,
          1,
          1.3333333333333333,
          1.3333333333333333,
          0.6666666666666666,
          0.6666666666666666,
          1,
          1,
          1,
          1,
          1,
          1,
          1,
          1,
          1,
          1,
          1,
          1,
          1,
          1,
          1,
          1,
          1,
          1,
          1,
          1,
          1,
          1.3333333333333335,
          0.6666666666666667,
          1,
          1,
          1,
          1,
          1,
          1,
          1,
          1,
          1,
          1,
          1,
          1,
          1,
          1,
          1,
          1,
          1,
          1,
          1,
          1,
          1,
          1,
          1,
          1,
          1
         ]
        }
       ],
       "layout": {
        "margin": {
         "b": 10,
         "l": 10,
         "r": 10,
         "t": 10
        },
        "scene": {
         "xaxis": {
          "backgroundcolor": "rgb(200, 200, 230)",
          "gridcolor": "white",
          "showbackground": true,
          "zerolinecolor": "white"
         },
         "yaxis": {
          "backgroundcolor": "rgb(230, 200,230)",
          "gridcolor": "white",
          "range": [
           -30.000000000007798,
           21.25000000000876
          ],
          "showbackground": true,
          "zerolinecolor": "white"
         },
         "zaxis": {
          "backgroundcolor": "rgb(230, 230,200)",
          "gridcolor": "white",
          "showbackground": true,
          "zerolinecolor": "white"
         }
        },
        "template": {
         "data": {
          "bar": [
           {
            "error_x": {
             "color": "#2a3f5f"
            },
            "error_y": {
             "color": "#2a3f5f"
            },
            "marker": {
             "line": {
              "color": "#E5ECF6",
              "width": 0.5
             }
            },
            "type": "bar"
           }
          ],
          "barpolar": [
           {
            "marker": {
             "line": {
              "color": "#E5ECF6",
              "width": 0.5
             }
            },
            "type": "barpolar"
           }
          ],
          "carpet": [
           {
            "aaxis": {
             "endlinecolor": "#2a3f5f",
             "gridcolor": "white",
             "linecolor": "white",
             "minorgridcolor": "white",
             "startlinecolor": "#2a3f5f"
            },
            "baxis": {
             "endlinecolor": "#2a3f5f",
             "gridcolor": "white",
             "linecolor": "white",
             "minorgridcolor": "white",
             "startlinecolor": "#2a3f5f"
            },
            "type": "carpet"
           }
          ],
          "choropleth": [
           {
            "colorbar": {
             "outlinewidth": 0,
             "ticks": ""
            },
            "type": "choropleth"
           }
          ],
          "contour": [
           {
            "colorbar": {
             "outlinewidth": 0,
             "ticks": ""
            },
            "colorscale": [
             [
              0,
              "#0d0887"
             ],
             [
              0.1111111111111111,
              "#46039f"
             ],
             [
              0.2222222222222222,
              "#7201a8"
             ],
             [
              0.3333333333333333,
              "#9c179e"
             ],
             [
              0.4444444444444444,
              "#bd3786"
             ],
             [
              0.5555555555555556,
              "#d8576b"
             ],
             [
              0.6666666666666666,
              "#ed7953"
             ],
             [
              0.7777777777777778,
              "#fb9f3a"
             ],
             [
              0.8888888888888888,
              "#fdca26"
             ],
             [
              1,
              "#f0f921"
             ]
            ],
            "type": "contour"
           }
          ],
          "contourcarpet": [
           {
            "colorbar": {
             "outlinewidth": 0,
             "ticks": ""
            },
            "type": "contourcarpet"
           }
          ],
          "heatmap": [
           {
            "colorbar": {
             "outlinewidth": 0,
             "ticks": ""
            },
            "colorscale": [
             [
              0,
              "#0d0887"
             ],
             [
              0.1111111111111111,
              "#46039f"
             ],
             [
              0.2222222222222222,
              "#7201a8"
             ],
             [
              0.3333333333333333,
              "#9c179e"
             ],
             [
              0.4444444444444444,
              "#bd3786"
             ],
             [
              0.5555555555555556,
              "#d8576b"
             ],
             [
              0.6666666666666666,
              "#ed7953"
             ],
             [
              0.7777777777777778,
              "#fb9f3a"
             ],
             [
              0.8888888888888888,
              "#fdca26"
             ],
             [
              1,
              "#f0f921"
             ]
            ],
            "type": "heatmap"
           }
          ],
          "heatmapgl": [
           {
            "colorbar": {
             "outlinewidth": 0,
             "ticks": ""
            },
            "colorscale": [
             [
              0,
              "#0d0887"
             ],
             [
              0.1111111111111111,
              "#46039f"
             ],
             [
              0.2222222222222222,
              "#7201a8"
             ],
             [
              0.3333333333333333,
              "#9c179e"
             ],
             [
              0.4444444444444444,
              "#bd3786"
             ],
             [
              0.5555555555555556,
              "#d8576b"
             ],
             [
              0.6666666666666666,
              "#ed7953"
             ],
             [
              0.7777777777777778,
              "#fb9f3a"
             ],
             [
              0.8888888888888888,
              "#fdca26"
             ],
             [
              1,
              "#f0f921"
             ]
            ],
            "type": "heatmapgl"
           }
          ],
          "histogram": [
           {
            "marker": {
             "colorbar": {
              "outlinewidth": 0,
              "ticks": ""
             }
            },
            "type": "histogram"
           }
          ],
          "histogram2d": [
           {
            "colorbar": {
             "outlinewidth": 0,
             "ticks": ""
            },
            "colorscale": [
             [
              0,
              "#0d0887"
             ],
             [
              0.1111111111111111,
              "#46039f"
             ],
             [
              0.2222222222222222,
              "#7201a8"
             ],
             [
              0.3333333333333333,
              "#9c179e"
             ],
             [
              0.4444444444444444,
              "#bd3786"
             ],
             [
              0.5555555555555556,
              "#d8576b"
             ],
             [
              0.6666666666666666,
              "#ed7953"
             ],
             [
              0.7777777777777778,
              "#fb9f3a"
             ],
             [
              0.8888888888888888,
              "#fdca26"
             ],
             [
              1,
              "#f0f921"
             ]
            ],
            "type": "histogram2d"
           }
          ],
          "histogram2dcontour": [
           {
            "colorbar": {
             "outlinewidth": 0,
             "ticks": ""
            },
            "colorscale": [
             [
              0,
              "#0d0887"
             ],
             [
              0.1111111111111111,
              "#46039f"
             ],
             [
              0.2222222222222222,
              "#7201a8"
             ],
             [
              0.3333333333333333,
              "#9c179e"
             ],
             [
              0.4444444444444444,
              "#bd3786"
             ],
             [
              0.5555555555555556,
              "#d8576b"
             ],
             [
              0.6666666666666666,
              "#ed7953"
             ],
             [
              0.7777777777777778,
              "#fb9f3a"
             ],
             [
              0.8888888888888888,
              "#fdca26"
             ],
             [
              1,
              "#f0f921"
             ]
            ],
            "type": "histogram2dcontour"
           }
          ],
          "mesh3d": [
           {
            "colorbar": {
             "outlinewidth": 0,
             "ticks": ""
            },
            "type": "mesh3d"
           }
          ],
          "parcoords": [
           {
            "line": {
             "colorbar": {
              "outlinewidth": 0,
              "ticks": ""
             }
            },
            "type": "parcoords"
           }
          ],
          "scatter": [
           {
            "marker": {
             "colorbar": {
              "outlinewidth": 0,
              "ticks": ""
             }
            },
            "type": "scatter"
           }
          ],
          "scatter3d": [
           {
            "line": {
             "colorbar": {
              "outlinewidth": 0,
              "ticks": ""
             }
            },
            "marker": {
             "colorbar": {
              "outlinewidth": 0,
              "ticks": ""
             }
            },
            "type": "scatter3d"
           }
          ],
          "scattercarpet": [
           {
            "marker": {
             "colorbar": {
              "outlinewidth": 0,
              "ticks": ""
             }
            },
            "type": "scattercarpet"
           }
          ],
          "scattergeo": [
           {
            "marker": {
             "colorbar": {
              "outlinewidth": 0,
              "ticks": ""
             }
            },
            "type": "scattergeo"
           }
          ],
          "scattergl": [
           {
            "marker": {
             "colorbar": {
              "outlinewidth": 0,
              "ticks": ""
             }
            },
            "type": "scattergl"
           }
          ],
          "scattermapbox": [
           {
            "marker": {
             "colorbar": {
              "outlinewidth": 0,
              "ticks": ""
             }
            },
            "type": "scattermapbox"
           }
          ],
          "scatterpolar": [
           {
            "marker": {
             "colorbar": {
              "outlinewidth": 0,
              "ticks": ""
             }
            },
            "type": "scatterpolar"
           }
          ],
          "scatterpolargl": [
           {
            "marker": {
             "colorbar": {
              "outlinewidth": 0,
              "ticks": ""
             }
            },
            "type": "scatterpolargl"
           }
          ],
          "scatterternary": [
           {
            "marker": {
             "colorbar": {
              "outlinewidth": 0,
              "ticks": ""
             }
            },
            "type": "scatterternary"
           }
          ],
          "surface": [
           {
            "colorbar": {
             "outlinewidth": 0,
             "ticks": ""
            },
            "colorscale": [
             [
              0,
              "#0d0887"
             ],
             [
              0.1111111111111111,
              "#46039f"
             ],
             [
              0.2222222222222222,
              "#7201a8"
             ],
             [
              0.3333333333333333,
              "#9c179e"
             ],
             [
              0.4444444444444444,
              "#bd3786"
             ],
             [
              0.5555555555555556,
              "#d8576b"
             ],
             [
              0.6666666666666666,
              "#ed7953"
             ],
             [
              0.7777777777777778,
              "#fb9f3a"
             ],
             [
              0.8888888888888888,
              "#fdca26"
             ],
             [
              1,
              "#f0f921"
             ]
            ],
            "type": "surface"
           }
          ],
          "table": [
           {
            "cells": {
             "fill": {
              "color": "#EBF0F8"
             },
             "line": {
              "color": "white"
             }
            },
            "header": {
             "fill": {
              "color": "#C8D4E3"
             },
             "line": {
              "color": "white"
             }
            },
            "type": "table"
           }
          ]
         },
         "layout": {
          "annotationdefaults": {
           "arrowcolor": "#2a3f5f",
           "arrowhead": 0,
           "arrowwidth": 1
          },
          "colorscale": {
           "diverging": [
            [
             0,
             "#8e0152"
            ],
            [
             0.1,
             "#c51b7d"
            ],
            [
             0.2,
             "#de77ae"
            ],
            [
             0.3,
             "#f1b6da"
            ],
            [
             0.4,
             "#fde0ef"
            ],
            [
             0.5,
             "#f7f7f7"
            ],
            [
             0.6,
             "#e6f5d0"
            ],
            [
             0.7,
             "#b8e186"
            ],
            [
             0.8,
             "#7fbc41"
            ],
            [
             0.9,
             "#4d9221"
            ],
            [
             1,
             "#276419"
            ]
           ],
           "sequential": [
            [
             0,
             "#0d0887"
            ],
            [
             0.1111111111111111,
             "#46039f"
            ],
            [
             0.2222222222222222,
             "#7201a8"
            ],
            [
             0.3333333333333333,
             "#9c179e"
            ],
            [
             0.4444444444444444,
             "#bd3786"
            ],
            [
             0.5555555555555556,
             "#d8576b"
            ],
            [
             0.6666666666666666,
             "#ed7953"
            ],
            [
             0.7777777777777778,
             "#fb9f3a"
            ],
            [
             0.8888888888888888,
             "#fdca26"
            ],
            [
             1,
             "#f0f921"
            ]
           ],
           "sequentialminus": [
            [
             0,
             "#0d0887"
            ],
            [
             0.1111111111111111,
             "#46039f"
            ],
            [
             0.2222222222222222,
             "#7201a8"
            ],
            [
             0.3333333333333333,
             "#9c179e"
            ],
            [
             0.4444444444444444,
             "#bd3786"
            ],
            [
             0.5555555555555556,
             "#d8576b"
            ],
            [
             0.6666666666666666,
             "#ed7953"
            ],
            [
             0.7777777777777778,
             "#fb9f3a"
            ],
            [
             0.8888888888888888,
             "#fdca26"
            ],
            [
             1,
             "#f0f921"
            ]
           ]
          },
          "colorway": [
           "#636efa",
           "#EF553B",
           "#00cc96",
           "#ab63fa",
           "#FFA15A",
           "#19d3f3",
           "#FF6692",
           "#B6E880",
           "#FF97FF",
           "#FECB52"
          ],
          "font": {
           "color": "#2a3f5f"
          },
          "geo": {
           "bgcolor": "white",
           "lakecolor": "white",
           "landcolor": "#E5ECF6",
           "showlakes": true,
           "showland": true,
           "subunitcolor": "white"
          },
          "hoverlabel": {
           "align": "left"
          },
          "hovermode": "closest",
          "mapbox": {
           "style": "light"
          },
          "paper_bgcolor": "white",
          "plot_bgcolor": "#E5ECF6",
          "polar": {
           "angularaxis": {
            "gridcolor": "white",
            "linecolor": "white",
            "ticks": ""
           },
           "bgcolor": "#E5ECF6",
           "radialaxis": {
            "gridcolor": "white",
            "linecolor": "white",
            "ticks": ""
           }
          },
          "scene": {
           "xaxis": {
            "backgroundcolor": "#E5ECF6",
            "gridcolor": "white",
            "gridwidth": 2,
            "linecolor": "white",
            "showbackground": true,
            "ticks": "",
            "zerolinecolor": "white"
           },
           "yaxis": {
            "backgroundcolor": "#E5ECF6",
            "gridcolor": "white",
            "gridwidth": 2,
            "linecolor": "white",
            "showbackground": true,
            "ticks": "",
            "zerolinecolor": "white"
           },
           "zaxis": {
            "backgroundcolor": "#E5ECF6",
            "gridcolor": "white",
            "gridwidth": 2,
            "linecolor": "white",
            "showbackground": true,
            "ticks": "",
            "zerolinecolor": "white"
           }
          },
          "shapedefaults": {
           "line": {
            "color": "#2a3f5f"
           }
          },
          "ternary": {
           "aaxis": {
            "gridcolor": "white",
            "linecolor": "white",
            "ticks": ""
           },
           "baxis": {
            "gridcolor": "white",
            "linecolor": "white",
            "ticks": ""
           },
           "bgcolor": "#E5ECF6",
           "caxis": {
            "gridcolor": "white",
            "linecolor": "white",
            "ticks": ""
           }
          },
          "title": {
           "x": 0.05
          },
          "xaxis": {
           "automargin": true,
           "gridcolor": "white",
           "linecolor": "white",
           "ticks": "",
           "zerolinecolor": "white",
           "zerolinewidth": 2
          },
          "yaxis": {
           "automargin": true,
           "gridcolor": "white",
           "linecolor": "white",
           "ticks": "",
           "zerolinecolor": "white",
           "zerolinewidth": 2
          }
         }
        },
        "width": 700
       }
      },
      "text/html": [
       "<div>\n",
       "        \n",
       "        \n",
       "            <div id=\"73581d89-1a02-405b-8087-0f36118c1c70\" class=\"plotly-graph-div\" style=\"height:525px; width:700px;\"></div>\n",
       "            <script type=\"text/javascript\">\n",
       "                require([\"plotly\"], function(Plotly) {\n",
       "                    window.PLOTLYENV=window.PLOTLYENV || {};\n",
       "                    \n",
       "                if (document.getElementById(\"73581d89-1a02-405b-8087-0f36118c1c70\")) {\n",
       "                    Plotly.newPlot(\n",
       "                        '73581d89-1a02-405b-8087-0f36118c1c70',\n",
       "                        [{\"opacity\": 0.5, \"type\": \"mesh3d\", \"x\": [1.0, 1.0, 1.0, 1.0, 1.0, 1.0, 1.0, 1.0, 1.0, 1.0, 1.0, 1.0, 1.0, 1.0, 1.0, 1.0, 1.0, 1.0, 1.0, 1.0, 1.0, 1.0, 1.0, 1.0, 1.0, 1.0, 1.0, 1.0, 1.0, 1.0, 1.0, 1.0, 1.0, 1.0, 1.0, 1.0, 1.0, 1.0, 2.0, 2.0, 2.0, 2.0, 2.0, 2.0, 2.0, 2.0, 2.0, 2.0, 2.0, 2.0, 2.0, 2.0, 2.0, 2.0, 2.0, 2.0, 2.0, 2.0, 2.0, 2.0, 2.0, 2.0, 2.0, 2.0, 2.0, 2.0, 2.0, 2.0, 3.0, 3.0, 3.0, 3.0, 3.0, 3.0, 3.0, 3.0, 3.0, 3.0, 3.0, 3.0, 3.0, 3.0, 3.0, 3.0, 3.0, 3.0, 3.0, 3.0, 3.0, 3.0, 3.0, 3.0, 3.0, 4.0, 4.0, 4.0, 4.0, 4.0, 4.0, 4.0, 4.0, 4.0, 4.0, 4.0, 4.0, 4.0, 4.0, 4.0, 4.0, 4.0, 4.0, 4.0, 4.0, 4.0, 5.0, 5.0, 5.0, 5.0, 5.0, 5.0, 5.0, 5.0, 5.0, 5.0, 5.0, 5.0, 5.0, 5.0, 5.0, 6.0, 6.0, 6.0, 6.0, 6.0, 6.0, 6.0, 6.0, 6.0, 6.0, 6.0, 6.0, 6.0, 7.0, 7.0, 7.0, 7.0, 7.0, 7.0, 7.0, 7.0, 7.0, 7.0, 7.0, 8.0, 8.0, 8.0, 8.0, 8.0, 8.0, 8.0, 8.0, 8.0, 8.0, 8.0, 8.0, 9.0, 9.0, 9.0, 9.0, 9.0, 9.0, 9.0, 10.0, 10.0, 10.0, 10.0, 10.0, 10.0, 10.0, 11.0, 11.0, 11.0, 11.0, 11.0, 11.0, 12.0, 12.0, 12.0, 12.0, 12.0, 12.0, 12.0, 13.0, 13.0, 13.0, 13.0, 13.0, 13.0, 13.0, 13.0, 14.0, 14.0, 14.0, 14.0, 14.0, 14.0, 14.0, 14.0, 14.0, 15.0, 15.0, 15.0, 15.0, 15.0, 15.0, 15.0, 15.0, 15.0, 16.0, 16.0, 16.0, 16.0, 17.0, 17.0, 17.0, 17.0, 17.0, 17.0, 18.0, 18.0, 18.0, 18.0, 19.0, 19.0, 20.0, 21.0, 22.0, 22.0, 23.0, 23.0, 23.0, 23.0, 24.0, 24.0, 25.0, 25.0, 25.0, 26.0, 26.0, 26.0, 26.0, 27.0, 27.0, 28.0, 28.0, 29.0, 30.0, 30.0, 31.0, 31.0, 31.0, 32.0, 32.0, 33.0, 34.0, 34.0, 37.0, 37.0, 38.0, 39.0, 40.0, 44.0, 47.0, 53.0, 55.0, 58.0, 69.0, 80.0, 82.0, 85.0], \"y\": [-13.125000000005492, -10.000000000010001, -9.999999999998899, -9.374999999992028, -6.875000000006182, -6.250000000013188, -6.249999999985434, -4.999999999999449, -4.999999999999446, -3.750000000024567, -3.750000000013465, -3.749999999985711, -3.1250000000065947, -3.125000000006594, -3.124999999992717, -1.8750000000067324, -1.2500000000137401, 3.124999999992717, 3.125000000006594, 3.1250000000065947, 3.749999999985709, 3.750000000013465, 4.999999999999446, 4.999999999999449, 4.999999999999453, 6.249999999985434, 6.250000000013188, 6.2500000000131894, 6.875000000006182, 8.12499999999217, 9.999999999998892, 9.999999999998899, 9.999999999998906, 10.000000000010001, 12.499999999998623, 13.125000000002718, 13.74999999998461, 19.999999999997797, -12.499999999998622, -9.999999999998899, -9.999999999998892, -8.125000000006043, -6.875000000006189, -6.249999999985434, -4.999999999999453, -4.999999999999449, -4.9999999999994476, -3.125000000006594, -3.124999999992717, -1.875000000006736, -1.8750000000067324, 1.8749999999928546, 3.124999999992717, 3.125000000006594, 3.1250000000065947, 3.750000000013472, 3.750000000024567, 4.999999999999446, 4.999999999999449, 6.250000000013188, 6.874999999992298, 6.874999999992305, 6.875000000006182, 8.124999999992166, 9.999999999998899, 11.250000000012637, 13.125000000002718, 19.999999999997797, -13.125000000016595, -13.124999999991616, -9.999999999998899, -8.12500000000604, -8.12499999999217, -6.250000000013188, -6.249999999999311, -4.999999999999453, -4.999999999999449, -4.999999999999446, -3.125000000006594, -3.124999999992717, 3.124999999992717, 3.125000000006594, 3.1250000000065947, 3.750000000013465, 3.750000000013472, 4.999999999999446, 4.999999999999449, 5.000000000010551, 6.250000000013188, 9.999999999998899, 13.749999999984595, 13.74999999998461, 19.999999999997797, -13.125000000002718, -10.000000000010001, -9.999999999998899, -9.999999999998892, -9.375000000005905, -6.874999999992305, -6.2500000000131894, -6.249999999985434, -4.999999999999449, -3.125000000006594, -3.124999999992717, 3.124999999992717, 3.1250000000065947, 4.999999999999446, 4.999999999999449, 6.874999999992305, 6.875000000006182, 9.999999999998899, 11.250000000012639, 13.125000000005492, 16.250000000012086, -13.124999999991616, -10.000000000010001, -9.999999999998899, -8.124999999992166, -6.250000000013188, -6.249999999985434, -4.999999999999449, -3.1250000000065947, -3.125000000006594, 1.249999999985988, 3.125000000006594, 6.250000000013188, 9.999999999998899, 13.74999999998461, 21.25000000000876, -9.999999999998899, -9.999999999998892, -6.249999999985434, -4.999999999999449, -4.999999999999446, -3.1250000000065947, -3.125000000006594, 3.124999999992717, 3.1250000000065947, 6.250000000013188, 9.999999999998899, 11.250000000023737, 13.749999999984608, -12.499999999998622, -9.999999999998899, -9.999999999998892, -6.250000000013188, -6.249999999985434, -4.999999999999449, -4.999999999999446, 3.124999999992717, 6.249999999985434, 6.250000000013188, 14.999999999998346, -13.125000000005492, -9.999999999998892, -9.375000000005905, -4.999999999999449, -4.999999999999446, -3.124999999992717, 3.124999999992717, 4.999999999999449, 6.250000000013191, 9.999999999998892, 9.999999999998899, 13.124999999991616, -9.999999999998899, -7.499999999999176, -6.2500000000131894, -3.124999999992717, 1.874999999992852, 3.124999999992717, 6.249999999985434, -9.999999999998892, -3.125000000006594, -3.124999999992717, 3.125000000006594, 3.1250000000065947, 6.249999999985434, 9.999999999998899, -9.999999999998899, -3.125000000006594, 3.1250000000065947, 3.749999999999588, 6.249999999985434, 8.74999999999626, -13.125000000005492, -11.250000000012639, -9.999999999998892, -8.125000000006043, -5.000000000010552, 6.874999999992305, 16.250000000012086, -11.87499999999175, -9.999999999998899, -9.375000000005912, -8.124999999992166, 4.999999999999449, 6.2500000000131894, 9.999999999998899, 16.250000000012086, -6.2500000000131894, -6.250000000013188, -4.999999999999449, -4.999999999999446, 1.8749999999928546, 3.1250000000065947, 4.999999999999449, 9.999999999998899, 12.499999999998622, -9.999999999998899, -8.125000000017145, -4.999999999999449, 3.750000000024567, 4.999999999999449, 6.249999999985434, 6.2500000000131894, 13.124999999991616, 14.374999999991473, -6.249999999999312, -3.124999999992717, 3.124999999992717, 6.250000000013188, -30.000000000007798, -16.249999999984333, -3.125000000006594, 6.249999999999311, 6.2500000000131894, 6.875000000017284, -13.124999999991616, -9.999999999998899, 3.125000000006594, 8.12500000000604, -6.249999999999311, 4.999999999999446, 19.999999999997797, -3.125000000006594, -3.124999999992717, 6.249999999985434, -4.999999999999446, -3.124999999992717, 9.374999999992028, 9.999999999998899, 3.750000000013465, 9.999999999998895, -9.999999999998899, -6.250000000013188, 4.999999999999449, -19.999999999997797, -12.499999999998623, -10.62499999999189, 3.125000000006594, 3.750000000013465, 13.124999999991616, -9.999999999998899, -6.875000000006182, 13.125000000005492, -6.874999999992304, 3.124999999992717, 4.999999999999449, 9.999999999998899, 11.249999999984883, 4.999999999999449, 13.124999999991608, 6.249999999985434, -9.999999999998899, 9.999999999998899, 4.999999999999449, 5.000000000010552, -19.999999999997797, -3.1250000000065947, -20.62500000000189, -9.999999999998899, 3.125000000006594, 6.875000000006185, 16.249999999984333, -11.249999999984883, -16.250000000012086, -19.999999999997797, 16.250000000012086, -3.124999999992717], \"z\": [0.6080000000000001, 0.6080000000000001, 4.864000000000001, 0.30400000000000005, 0.6080000000000001, 0.6080000000000001, 0.6080000000000001, 2.4320000000000004, 1.8240000000000005, 0.30400000000000005, 0.6080000000000001, 0.6080000000000001, 0.9120000000000003, 2.1280000000000006, 2.1280000000000006, 0.30400000000000005, 0.30400000000000005, 3.952000000000001, 2.1280000000000006, 0.9120000000000003, 0.30400000000000005, 0.30400000000000005, 0.30400000000000005, 2.4320000000000004, 0.30400000000000005, 0.30400000000000005, 0.30400000000000005, 0.9120000000000003, 0.30400000000000005, 0.30400000000000005, 0.30400000000000005, 3.3440000000000007, 0.30400000000000005, 0.30400000000000005, 0.30400000000000005, 0.30400000000000005, 0.30400000000000005, 0.30400000000000005, 0.5084745762711865, 3.559322033898306, 0.5084745762711865, 0.5084745762711865, 0.5084745762711865, 0.5084745762711865, 1.016949152542373, 1.5254237288135595, 0.5084745762711865, 1.5254237288135595, 2.033898305084746, 0.5084745762711865, 0.5084745762711865, 0.5084745762711865, 1.5254237288135595, 1.016949152542373, 1.016949152542373, 0.5084745762711865, 0.5084745762711865, 2.5423728813559325, 2.033898305084746, 1.5254237288135595, 0.5084745762711865, 0.5084745762711865, 0.5084745762711865, 0.5084745762711865, 1.5254237288135595, 0.5084745762711865, 0.5084745762711865, 0.5084745762711865, 0.6410256410256409, 0.6410256410256409, 1.2820512820512817, 0.6410256410256409, 0.6410256410256409, 0.6410256410256409, 0.6410256410256409, 1.2820512820512817, 0.6410256410256409, 0.6410256410256409, 1.2820512820512817, 1.2820512820512817, 3.205128205128205, 0.6410256410256409, 0.6410256410256409, 0.6410256410256409, 1.2820512820512817, 0.6410256410256409, 1.2820512820512817, 0.6410256410256409, 0.6410256410256409, 3.205128205128205, 0.6410256410256409, 0.6410256410256409, 0.6410256410256409, 0.6176470588235294, 0.6176470588235294, 2.4705882352941178, 0.6176470588235294, 0.6176470588235294, 0.6176470588235294, 0.6176470588235294, 0.6176470588235294, 1.8529411764705883, 0.6176470588235294, 1.8529411764705883, 0.6176470588235294, 0.6176470588235294, 1.8529411764705883, 1.2352941176470589, 1.2352941176470589, 0.6176470588235294, 1.8529411764705883, 0.6176470588235294, 0.6176470588235294, 0.6176470588235294, 0.625, 0.625, 0.625, 0.625, 0.625, 0.625, 0.625, 2.5, 0.625, 0.625, 0.625, 1.25, 3.75, 0.625, 0.625, 3.0588235294117654, 0.7647058823529413, 0.7647058823529413, 0.7647058823529413, 0.7647058823529413, 0.7647058823529413, 0.7647058823529413, 0.7647058823529413, 0.7647058823529413, 0.7647058823529413, 1.5294117647058827, 0.7647058823529413, 0.7647058823529413, 0.6875, 2.0625, 0.6875, 0.6875, 1.375, 0.6875, 1.375, 0.6875, 0.6875, 1.375, 0.6875, 0.8571428571428572, 0.8571428571428572, 0.8571428571428572, 0.8571428571428572, 0.8571428571428572, 0.8571428571428572, 0.8571428571428572, 0.8571428571428572, 0.8571428571428572, 1.7142857142857144, 1.7142857142857144, 0.8571428571428572, 1.0, 1.0, 1.0, 1.0, 1.0, 1.0, 1.0, 1.0, 1.0, 1.0, 1.0, 1.0, 1.0, 1.0, 1.0, 1.0, 1.0, 1.0, 1.0, 1.0, 1.0, 1.0, 1.0, 1.0, 1.0, 1.0, 1.0, 0.888888888888889, 0.888888888888889, 0.888888888888889, 0.888888888888889, 0.888888888888889, 0.888888888888889, 1.777777777777778, 0.888888888888889, 0.8181818181818183, 1.6363636363636367, 1.6363636363636367, 0.8181818181818183, 0.8181818181818183, 0.8181818181818183, 0.8181818181818183, 0.8181818181818183, 0.8181818181818183, 1.0, 1.0, 1.0, 1.0, 1.0, 1.0, 1.0, 1.0, 1.0, 1.0, 1.0, 1.0, 1.0, 1.0, 1.0, 1.0, 1.0, 1.0, 1.0, 1.3333333333333333, 1.3333333333333333, 0.6666666666666666, 0.6666666666666666, 1.0, 1.0, 1.0, 1.0, 1.0, 1.0, 1.0, 1.0, 1.0, 1.0, 1.0, 1.0, 1.0, 1.0, 1.0, 1.0, 1.0, 1.0, 1.0, 1.0, 1.0, 1.3333333333333335, 0.6666666666666667, 1.0, 1.0, 1.0, 1.0, 1.0, 1.0, 1.0, 1.0, 1.0, 1.0, 1.0, 1.0, 1.0, 1.0, 1.0, 1.0, 1.0, 1.0, 1.0, 1.0, 1.0, 1.0, 1.0, 1.0, 1.0]}],\n",
       "                        {\"margin\": {\"b\": 10, \"l\": 10, \"r\": 10, \"t\": 10}, \"scene\": {\"xaxis\": {\"backgroundcolor\": \"rgb(200, 200, 230)\", \"gridcolor\": \"white\", \"showbackground\": true, \"zerolinecolor\": \"white\"}, \"yaxis\": {\"backgroundcolor\": \"rgb(230, 200,230)\", \"gridcolor\": \"white\", \"range\": [-30.000000000007798, 21.25000000000876], \"showbackground\": true, \"zerolinecolor\": \"white\"}, \"zaxis\": {\"backgroundcolor\": \"rgb(230, 230,200)\", \"gridcolor\": \"white\", \"showbackground\": true, \"zerolinecolor\": \"white\"}}, \"template\": {\"data\": {\"bar\": [{\"error_x\": {\"color\": \"#2a3f5f\"}, \"error_y\": {\"color\": \"#2a3f5f\"}, \"marker\": {\"line\": {\"color\": \"#E5ECF6\", \"width\": 0.5}}, \"type\": \"bar\"}], \"barpolar\": [{\"marker\": {\"line\": {\"color\": \"#E5ECF6\", \"width\": 0.5}}, \"type\": \"barpolar\"}], \"carpet\": [{\"aaxis\": {\"endlinecolor\": \"#2a3f5f\", \"gridcolor\": \"white\", \"linecolor\": \"white\", \"minorgridcolor\": \"white\", \"startlinecolor\": \"#2a3f5f\"}, \"baxis\": {\"endlinecolor\": \"#2a3f5f\", \"gridcolor\": \"white\", \"linecolor\": \"white\", \"minorgridcolor\": \"white\", \"startlinecolor\": \"#2a3f5f\"}, \"type\": \"carpet\"}], \"choropleth\": [{\"colorbar\": {\"outlinewidth\": 0, \"ticks\": \"\"}, \"type\": \"choropleth\"}], \"contour\": [{\"colorbar\": {\"outlinewidth\": 0, \"ticks\": \"\"}, \"colorscale\": [[0.0, \"#0d0887\"], [0.1111111111111111, \"#46039f\"], [0.2222222222222222, \"#7201a8\"], [0.3333333333333333, \"#9c179e\"], [0.4444444444444444, \"#bd3786\"], [0.5555555555555556, \"#d8576b\"], [0.6666666666666666, \"#ed7953\"], [0.7777777777777778, \"#fb9f3a\"], [0.8888888888888888, \"#fdca26\"], [1.0, \"#f0f921\"]], \"type\": \"contour\"}], \"contourcarpet\": [{\"colorbar\": {\"outlinewidth\": 0, \"ticks\": \"\"}, \"type\": \"contourcarpet\"}], \"heatmap\": [{\"colorbar\": {\"outlinewidth\": 0, \"ticks\": \"\"}, \"colorscale\": [[0.0, \"#0d0887\"], [0.1111111111111111, \"#46039f\"], [0.2222222222222222, \"#7201a8\"], [0.3333333333333333, \"#9c179e\"], [0.4444444444444444, \"#bd3786\"], [0.5555555555555556, \"#d8576b\"], [0.6666666666666666, \"#ed7953\"], [0.7777777777777778, \"#fb9f3a\"], [0.8888888888888888, \"#fdca26\"], [1.0, \"#f0f921\"]], \"type\": \"heatmap\"}], \"heatmapgl\": [{\"colorbar\": {\"outlinewidth\": 0, \"ticks\": \"\"}, \"colorscale\": [[0.0, \"#0d0887\"], [0.1111111111111111, \"#46039f\"], [0.2222222222222222, \"#7201a8\"], [0.3333333333333333, \"#9c179e\"], [0.4444444444444444, \"#bd3786\"], [0.5555555555555556, \"#d8576b\"], [0.6666666666666666, \"#ed7953\"], [0.7777777777777778, \"#fb9f3a\"], [0.8888888888888888, \"#fdca26\"], [1.0, \"#f0f921\"]], \"type\": \"heatmapgl\"}], \"histogram\": [{\"marker\": {\"colorbar\": {\"outlinewidth\": 0, \"ticks\": \"\"}}, \"type\": \"histogram\"}], \"histogram2d\": [{\"colorbar\": {\"outlinewidth\": 0, \"ticks\": \"\"}, \"colorscale\": [[0.0, \"#0d0887\"], [0.1111111111111111, \"#46039f\"], [0.2222222222222222, \"#7201a8\"], [0.3333333333333333, \"#9c179e\"], [0.4444444444444444, \"#bd3786\"], [0.5555555555555556, \"#d8576b\"], [0.6666666666666666, \"#ed7953\"], [0.7777777777777778, \"#fb9f3a\"], [0.8888888888888888, \"#fdca26\"], [1.0, \"#f0f921\"]], \"type\": \"histogram2d\"}], \"histogram2dcontour\": [{\"colorbar\": {\"outlinewidth\": 0, \"ticks\": \"\"}, \"colorscale\": [[0.0, \"#0d0887\"], [0.1111111111111111, \"#46039f\"], [0.2222222222222222, \"#7201a8\"], [0.3333333333333333, \"#9c179e\"], [0.4444444444444444, \"#bd3786\"], [0.5555555555555556, \"#d8576b\"], [0.6666666666666666, \"#ed7953\"], [0.7777777777777778, \"#fb9f3a\"], [0.8888888888888888, \"#fdca26\"], [1.0, \"#f0f921\"]], \"type\": \"histogram2dcontour\"}], \"mesh3d\": [{\"colorbar\": {\"outlinewidth\": 0, \"ticks\": \"\"}, \"type\": \"mesh3d\"}], \"parcoords\": [{\"line\": {\"colorbar\": {\"outlinewidth\": 0, \"ticks\": \"\"}}, \"type\": \"parcoords\"}], \"scatter\": [{\"marker\": {\"colorbar\": {\"outlinewidth\": 0, \"ticks\": \"\"}}, \"type\": \"scatter\"}], \"scatter3d\": [{\"line\": {\"colorbar\": {\"outlinewidth\": 0, \"ticks\": \"\"}}, \"marker\": {\"colorbar\": {\"outlinewidth\": 0, \"ticks\": \"\"}}, \"type\": \"scatter3d\"}], \"scattercarpet\": [{\"marker\": {\"colorbar\": {\"outlinewidth\": 0, \"ticks\": \"\"}}, \"type\": \"scattercarpet\"}], \"scattergeo\": [{\"marker\": {\"colorbar\": {\"outlinewidth\": 0, \"ticks\": \"\"}}, \"type\": \"scattergeo\"}], \"scattergl\": [{\"marker\": {\"colorbar\": {\"outlinewidth\": 0, \"ticks\": \"\"}}, \"type\": \"scattergl\"}], \"scattermapbox\": [{\"marker\": {\"colorbar\": {\"outlinewidth\": 0, \"ticks\": \"\"}}, \"type\": \"scattermapbox\"}], \"scatterpolar\": [{\"marker\": {\"colorbar\": {\"outlinewidth\": 0, \"ticks\": \"\"}}, \"type\": \"scatterpolar\"}], \"scatterpolargl\": [{\"marker\": {\"colorbar\": {\"outlinewidth\": 0, \"ticks\": \"\"}}, \"type\": \"scatterpolargl\"}], \"scatterternary\": [{\"marker\": {\"colorbar\": {\"outlinewidth\": 0, \"ticks\": \"\"}}, \"type\": \"scatterternary\"}], \"surface\": [{\"colorbar\": {\"outlinewidth\": 0, \"ticks\": \"\"}, \"colorscale\": [[0.0, \"#0d0887\"], [0.1111111111111111, \"#46039f\"], [0.2222222222222222, \"#7201a8\"], [0.3333333333333333, \"#9c179e\"], [0.4444444444444444, \"#bd3786\"], [0.5555555555555556, \"#d8576b\"], [0.6666666666666666, \"#ed7953\"], [0.7777777777777778, \"#fb9f3a\"], [0.8888888888888888, \"#fdca26\"], [1.0, \"#f0f921\"]], \"type\": \"surface\"}], \"table\": [{\"cells\": {\"fill\": {\"color\": \"#EBF0F8\"}, \"line\": {\"color\": \"white\"}}, \"header\": {\"fill\": {\"color\": \"#C8D4E3\"}, \"line\": {\"color\": \"white\"}}, \"type\": \"table\"}]}, \"layout\": {\"annotationdefaults\": {\"arrowcolor\": \"#2a3f5f\", \"arrowhead\": 0, \"arrowwidth\": 1}, \"colorscale\": {\"diverging\": [[0, \"#8e0152\"], [0.1, \"#c51b7d\"], [0.2, \"#de77ae\"], [0.3, \"#f1b6da\"], [0.4, \"#fde0ef\"], [0.5, \"#f7f7f7\"], [0.6, \"#e6f5d0\"], [0.7, \"#b8e186\"], [0.8, \"#7fbc41\"], [0.9, \"#4d9221\"], [1, \"#276419\"]], \"sequential\": [[0.0, \"#0d0887\"], [0.1111111111111111, \"#46039f\"], [0.2222222222222222, \"#7201a8\"], [0.3333333333333333, \"#9c179e\"], [0.4444444444444444, \"#bd3786\"], [0.5555555555555556, \"#d8576b\"], [0.6666666666666666, \"#ed7953\"], [0.7777777777777778, \"#fb9f3a\"], [0.8888888888888888, \"#fdca26\"], [1.0, \"#f0f921\"]], \"sequentialminus\": [[0.0, \"#0d0887\"], [0.1111111111111111, \"#46039f\"], [0.2222222222222222, \"#7201a8\"], [0.3333333333333333, \"#9c179e\"], [0.4444444444444444, \"#bd3786\"], [0.5555555555555556, \"#d8576b\"], [0.6666666666666666, \"#ed7953\"], [0.7777777777777778, \"#fb9f3a\"], [0.8888888888888888, \"#fdca26\"], [1.0, \"#f0f921\"]]}, \"colorway\": [\"#636efa\", \"#EF553B\", \"#00cc96\", \"#ab63fa\", \"#FFA15A\", \"#19d3f3\", \"#FF6692\", \"#B6E880\", \"#FF97FF\", \"#FECB52\"], \"font\": {\"color\": \"#2a3f5f\"}, \"geo\": {\"bgcolor\": \"white\", \"lakecolor\": \"white\", \"landcolor\": \"#E5ECF6\", \"showlakes\": true, \"showland\": true, \"subunitcolor\": \"white\"}, \"hoverlabel\": {\"align\": \"left\"}, \"hovermode\": \"closest\", \"mapbox\": {\"style\": \"light\"}, \"paper_bgcolor\": \"white\", \"plot_bgcolor\": \"#E5ECF6\", \"polar\": {\"angularaxis\": {\"gridcolor\": \"white\", \"linecolor\": \"white\", \"ticks\": \"\"}, \"bgcolor\": \"#E5ECF6\", \"radialaxis\": {\"gridcolor\": \"white\", \"linecolor\": \"white\", \"ticks\": \"\"}}, \"scene\": {\"xaxis\": {\"backgroundcolor\": \"#E5ECF6\", \"gridcolor\": \"white\", \"gridwidth\": 2, \"linecolor\": \"white\", \"showbackground\": true, \"ticks\": \"\", \"zerolinecolor\": \"white\"}, \"yaxis\": {\"backgroundcolor\": \"#E5ECF6\", \"gridcolor\": \"white\", \"gridwidth\": 2, \"linecolor\": \"white\", \"showbackground\": true, \"ticks\": \"\", \"zerolinecolor\": \"white\"}, \"zaxis\": {\"backgroundcolor\": \"#E5ECF6\", \"gridcolor\": \"white\", \"gridwidth\": 2, \"linecolor\": \"white\", \"showbackground\": true, \"ticks\": \"\", \"zerolinecolor\": \"white\"}}, \"shapedefaults\": {\"line\": {\"color\": \"#2a3f5f\"}}, \"ternary\": {\"aaxis\": {\"gridcolor\": \"white\", \"linecolor\": \"white\", \"ticks\": \"\"}, \"baxis\": {\"gridcolor\": \"white\", \"linecolor\": \"white\", \"ticks\": \"\"}, \"bgcolor\": \"#E5ECF6\", \"caxis\": {\"gridcolor\": \"white\", \"linecolor\": \"white\", \"ticks\": \"\"}}, \"title\": {\"x\": 0.05}, \"xaxis\": {\"automargin\": true, \"gridcolor\": \"white\", \"linecolor\": \"white\", \"ticks\": \"\", \"zerolinecolor\": \"white\", \"zerolinewidth\": 2}, \"yaxis\": {\"automargin\": true, \"gridcolor\": \"white\", \"linecolor\": \"white\", \"ticks\": \"\", \"zerolinecolor\": \"white\", \"zerolinewidth\": 2}}}, \"width\": 700},\n",
       "                        {\"responsive\": true}\n",
       "                    ).then(function(){\n",
       "                            \n",
       "var gd = document.getElementById('73581d89-1a02-405b-8087-0f36118c1c70');\n",
       "var x = new MutationObserver(function (mutations, observer) {{\n",
       "        var display = window.getComputedStyle(gd).display;\n",
       "        if (!display || display === 'none') {{\n",
       "            console.log([gd, 'removed!']);\n",
       "            Plotly.purge(gd);\n",
       "            observer.disconnect();\n",
       "        }}\n",
       "}});\n",
       "\n",
       "// Listen for the removal of the full notebook cells\n",
       "var notebookContainer = gd.closest('#notebook-container');\n",
       "if (notebookContainer) {{\n",
       "    x.observe(notebookContainer, {childList: true});\n",
       "}}\n",
       "\n",
       "// Listen for the clearing of the current output cell\n",
       "var outputEl = gd.closest('.output');\n",
       "if (outputEl) {{\n",
       "    x.observe(outputEl, {childList: true});\n",
       "}}\n",
       "\n",
       "                        })\n",
       "                };\n",
       "                });\n",
       "            </script>\n",
       "        </div>"
      ]
     },
     "metadata": {},
     "output_type": "display_data"
    }
   ],
   "source": [
    "den.draw(df)"
   ]
  },
  {
   "cell_type": "code",
   "execution_count": null,
   "metadata": {},
   "outputs": [],
   "source": []
  }
 ],
 "metadata": {
  "kernelspec": {
   "display_name": "Python 3",
   "language": "python",
   "name": "python3"
  },
  "language_info": {
   "codemirror_mode": {
    "name": "ipython",
    "version": 3
   },
   "file_extension": ".py",
   "mimetype": "text/x-python",
   "name": "python",
   "nbconvert_exporter": "python",
   "pygments_lexer": "ipython3",
   "version": "3.7.3"
  }
 },
 "nbformat": 4,
 "nbformat_minor": 2
}
