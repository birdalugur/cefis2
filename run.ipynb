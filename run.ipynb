{
 "cells": [
  {
   "cell_type": "markdown",
   "metadata": {
    "scrolled": true
   },
   "source": [
    "! jt -r"
   ]
  },
  {
   "cell_type": "code",
   "execution_count": 159,
   "metadata": {},
   "outputs": [
    {
     "data": {
      "text/plain": [
       "<module 'src.daily_data' from 'C:\\\\Users\\\\ugur.eren\\\\Python Codes\\\\cefis2\\\\src\\\\daily_data.py'>"
      ]
     },
     "execution_count": 159,
     "metadata": {},
     "output_type": "execute_result"
    }
   ],
   "source": [
    "from importlib import reload\n",
    "reload(aux)\n",
    "reload(con)\n",
    "reload(dt)"
   ]
  },
  {
   "cell_type": "code",
   "execution_count": 160,
   "metadata": {},
   "outputs": [],
   "source": [
    "import pandas as pd\n",
    "import src.daily_data as dt\n",
    "import src.auxiliary_functions as aux\n",
    "import src.condition as con\n",
    "from datetime import time, datetime\n",
    "import src.info as info\n",
    "import src.in_out as io\n",
    "import src.density as den"
   ]
  },
  {
   "cell_type": "markdown",
   "metadata": {},
   "source": [
    "1. **data** klasöründeki tüm dosya yolları alınıyor"
   ]
  },
  {
   "cell_type": "code",
   "execution_count": 2,
   "metadata": {},
   "outputs": [],
   "source": [
    "path_list = io.get_path('C:\\\\Users\\\\ugur.eren\\\\Python Codes\\\\cefis2\\\\data\\\\')"
   ]
  },
  {
   "cell_type": "markdown",
   "metadata": {},
   "source": [
    "2. *Her bir path'de bulunan veriler **dataframe** olarak alınıyor. Her bir df, **split_df** metodu ile saatlik olarak **23** ayrı df'e bölünüyor. Bölünmüş her bir df'in **mid_price**'ı hesaplanıp yeni bir sütun olarak **df**'e ekleniyor.* **get_info** metodu her bir path için bu verileri kullanarak bir **info** örneği oluşturup döndürür. Her bir **info** örneği, aşağıdaki özelliklere sahiptir:<br>\n",
    "    * Okunan dosyanın tarihi\n",
    "    * Ürünün adı\n",
    "    * Okunan dosyaya ait yol\n",
    "    * Tüm verileri içeren dataframe\n",
    "    * Saatlik olarak bölünmüş dataframe listesi\n"
   ]
  },
  {
   "cell_type": "code",
   "execution_count": 3,
   "metadata": {},
   "outputs": [],
   "source": [
    "infolist = [info.get_info(path) for path in path_list]"
   ]
  },
  {
   "cell_type": "markdown",
   "metadata": {},
   "source": [
    "3. Burada, oluşturulan infolar arasında bir **eşleştirme** yapılmaktadır. Çünkü her bir **spread** hesabının hangi veriler kullanılarak yapılacağı bilinmelidir. Eşleşen infolar, tuple çiftleri olarak tutulmakta.\n",
    "> Elimizde 2018:09:06 tarihinin 6A,6B,6C ürünlerine ait verileri olsun. Bu durumda 6A-6B, 6A-6C, 6B-6C arasında 3 adet spread hesaplanacaktır. Hesaplama öncesi bu eşleştirme, **daily_data** modülünün **to_match_days** metoduyla yapılmaktadır."
   ]
  },
  {
   "cell_type": "code",
   "execution_count": 4,
   "metadata": {},
   "outputs": [],
   "source": [
    "paired_days = dt.to_match_days(infolist)"
   ]
  },
  {
   "cell_type": "markdown",
   "metadata": {},
   "source": [
    "4.  **gunluk_veriler**: GünlükVeri örneklerinin tutulduğu liste <br />\n",
    "**dt.to_match_hour** metodu ile her bir eşleşmiş çiftin mid_price'ları saatlik olarak alınıyor. <br />\n",
    "**gunluk_veri**: **tarih**, her bir saate ait **change**,**spread**,**amplitude**,**duration**,**urun adları**...vs içeriyor"
   ]
  },
  {
   "cell_type": "code",
   "execution_count": 5,
   "metadata": {
    "scrolled": true
   },
   "outputs": [],
   "source": [
    "gunluk_veriler = []"
   ]
  },
  {
   "cell_type": "code",
   "execution_count": 6,
   "metadata": {},
   "outputs": [],
   "source": [
    "for pair in paired_days:\n",
    "    product = pair[0].product + \"_\" + pair[1].product\n",
    "    paired_hours=dt.to_match_hour(pair[0],pair[1])\n",
    "    gunluk_veri = dt.GunlukVeri(saatik_data=paired_hours,tarih=pair[0].date, name= product)\n",
    "    gunluk_veri.spread_hesapla()\n",
    "    gunluk_veriler.append(gunluk_veri)"
   ]
  },
  {
   "cell_type": "markdown",
   "metadata": {},
   "source": [
    "5. Her bir **GunlukVeri** örneği ürünlere göre ayrı ayrı gruplandırılıyor. <br>\n",
    "   > (['**6AU8_6BU8**': [gunluk veriler...], '**6AU8_6CU8**':[gunluk veriler...], '**6BU8_6CU8**':[gunluk veriler...]])"
   ]
  },
  {
   "cell_type": "code",
   "execution_count": 161,
   "metadata": {},
   "outputs": [],
   "source": [
    "products={}"
   ]
  },
  {
   "cell_type": "code",
   "execution_count": 162,
   "metadata": {},
   "outputs": [],
   "source": [
    "for gunluk in gunluk_veriler:\n",
    "    if gunluk.name in products:\n",
    "        products[gunluk.name].append(gunluk)\n",
    "    else:        \n",
    "        products[gunluk.name] = [gunluk]"
   ]
  },
  {
   "cell_type": "code",
   "execution_count": 163,
   "metadata": {},
   "outputs": [],
   "source": [
    "combined_days = {}\n",
    "combined_days_detail = {}\n",
    "combined_days_con = {}\n",
    "combined_days_con_detail = {}"
   ]
  },
  {
   "cell_type": "code",
   "execution_count": 164,
   "metadata": {
    "scrolled": true
   },
   "outputs": [],
   "source": [
    "stop=False\n",
    "while not stop:\n",
    "    try:\n",
    "        urun = products.popitem()\n",
    "    except:\n",
    "        stop=True\n",
    "    df = dt.get_all_data(urun[1]).dropna()\n",
    "    con_df = con.scan(df)\n",
    "    combined_days[urun[0]] = df\n",
    "    combined_days_con[urun[0]] = con_df\n",
    "    combined_days_detail[urun[0]] = aux.get_detail(df)\n",
    "    combined_days_con_detail[urun[0]] = aux.get_detail(con_df)"
   ]
  },
  {
   "cell_type": "code",
   "execution_count": null,
   "metadata": {},
   "outputs": [],
   "source": []
  },
  {
   "cell_type": "code",
   "execution_count": 184,
   "metadata": {},
   "outputs": [],
   "source": [
    "all_products = list(combined_days.keys())"
   ]
  },
  {
   "cell_type": "code",
   "execution_count": 195,
   "metadata": {
    "scrolled": true
   },
   "outputs": [],
   "source": [
    "hour_series = pd.date_range('2018-01-01-18', periods=23, freq='H').time"
   ]
  },
  {
   "cell_type": "code",
   "execution_count": 198,
   "metadata": {},
   "outputs": [],
   "source": [
    "cd_density= {}"
   ]
  },
  {
   "cell_type": "code",
   "execution_count": null,
   "metadata": {},
   "outputs": [],
   "source": []
  },
  {
   "cell_type": "code",
   "execution_count": 200,
   "metadata": {
    "scrolled": true
   },
   "outputs": [],
   "source": [
    "for product in all_products:\n",
    "    densities = []\n",
    "    for hour in hour_series:\n",
    "        df = combined_days[product].loc[hour]\n",
    "        density = den.calc_density(df)\n",
    "        densities.append(density)\n",
    "    cd_density[product] = pd.concat(densities,keys=hour_series)"
   ]
  },
  {
   "cell_type": "code",
   "execution_count": null,
   "metadata": {},
   "outputs": [],
   "source": []
  },
  {
   "cell_type": "code",
   "execution_count": null,
   "metadata": {},
   "outputs": [],
   "source": []
  },
  {
   "cell_type": "code",
   "execution_count": null,
   "metadata": {},
   "outputs": [],
   "source": []
  },
  {
   "cell_type": "code",
   "execution_count": null,
   "metadata": {},
   "outputs": [],
   "source": []
  },
  {
   "cell_type": "code",
   "execution_count": null,
   "metadata": {},
   "outputs": [],
   "source": []
  }
 ],
 "metadata": {
  "kernelspec": {
   "display_name": "Python 3",
   "language": "python",
   "name": "python3"
  },
  "language_info": {
   "codemirror_mode": {
    "name": "ipython",
    "version": 3
   },
   "file_extension": ".py",
   "mimetype": "text/x-python",
   "name": "python",
   "nbconvert_exporter": "python",
   "pygments_lexer": "ipython3",
   "version": "3.7.3"
  }
 },
 "nbformat": 4,
 "nbformat_minor": 2
}
