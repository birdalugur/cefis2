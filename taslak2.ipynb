{
 "cells": [
  {
   "cell_type": "code",
   "execution_count": 1,
   "metadata": {},
   "outputs": [],
   "source": [
    "import pandas as pd"
   ]
  },
  {
   "cell_type": "code",
   "execution_count": 2,
   "metadata": {},
   "outputs": [],
   "source": [
    "data = pd.read_excel('example_data.xlsx')\n",
    "amp=data.amplitude"
   ]
  },
  {
   "cell_type": "code",
   "execution_count": 32,
   "metadata": {
    "scrolled": true
   },
   "outputs": [],
   "source": [
    "class A():\n",
    "    def __init__(self, data, pn = False,**kwargs):\n",
    "        self.arguments=kwargs\n",
    "        self.data = data\n",
    "        self.__pn   = pn\n",
    "        self.median = None\n",
    "        self.percentile=None\n",
    "        \n",
    "        if self.__pn==False:\n",
    "            self.median = self._median\n",
    "            self.percentile = self._percentile\n",
    "        elif self.__pn == True:\n",
    "            self.median = self._pn_median\n",
    "            self.percentile = self._pn_percentile\n",
    "     \n",
    "    \n",
    "    def _median(self):\n",
    "        return self.data.median()\n",
    "    \n",
    "    def _pn_median(self) -> dict:\n",
    "        \"\"\"Pozitif ve negatif'i ayrı hesaplar\n",
    "        \"\"\"\n",
    "        return {'pozitif':\n",
    "                self.data[self.data>0].median(), \\\n",
    "                    'negatif':\n",
    "                        self.data[self.data<0].median()}\n",
    "    \n",
    "    \n",
    "    def _percentile(self):\n",
    "        \"\"\"Tüm medyanı hesaplar (+,- ayırmaz)\n",
    "        \"\"\"\n",
    "        return self.data.quantile(self.arguments['percentile'])\n",
    "    \n",
    "    def _pn_percentile(self, percent_value : float) -> dict:\n",
    "        \"\"\"Pozitif ve negatif'i ayrı hesaplar\n",
    "        \"\"\"\n",
    "        return {'pozitif':\n",
    "                self.data[self.data<0].quantile(self.arguments['percentile']), \\\n",
    "                    'negatif':\n",
    "                        self.data[self.data>0].quantile(self.arguments['percentile'])}\n",
    "    "
   ]
  },
  {
   "cell_type": "code",
   "execution_count": null,
   "metadata": {},
   "outputs": [],
   "source": []
  },
  {
   "cell_type": "code",
   "execution_count": 38,
   "metadata": {},
   "outputs": [
    {
     "data": {
      "text/plain": [
       "0.5"
      ]
     },
     "execution_count": 38,
     "metadata": {},
     "output_type": "execute_result"
    }
   ],
   "source": [
    "A(amp,percentile=0.5).percentile()"
   ]
  },
  {
   "cell_type": "code",
   "execution_count": null,
   "metadata": {},
   "outputs": [],
   "source": []
  },
  {
   "cell_type": "code",
   "execution_count": 28,
   "metadata": {},
   "outputs": [],
   "source": [
    "class B(A):\n",
    "    def __init__(self,data,pn=False,**kwargs):\n",
    "        super().__init__(data,pn,**kwargs)\n",
    "        self.condition_value=self.median()\n",
    "        \n",
    "        \n",
    "        def get_bools(self) -> pd.Series:\n",
    "            bools=self.data.apply(lambda x : is_provide(x))\n",
    "            bools[0]=False\n",
    "            return bools\n",
    "        \n",
    "        def is_provide(x):\n",
    "            return abs(x)<=condition_value"
   ]
  },
  {
   "cell_type": "code",
   "execution_count": null,
   "metadata": {},
   "outputs": [],
   "source": []
  },
  {
   "cell_type": "code",
   "execution_count": null,
   "metadata": {},
   "outputs": [],
   "source": []
  },
  {
   "cell_type": "code",
   "execution_count": 11,
   "metadata": {},
   "outputs": [],
   "source": [
    "class B(A):\n",
    "    def __init__(self,data,func):\n",
    "        super().__init__(data)\n",
    "        self._func=getattr(self,func)\n",
    "        #self.val = eval('self._func()')"
   ]
  },
  {
   "cell_type": "code",
   "execution_count": 13,
   "metadata": {},
   "outputs": [],
   "source": [
    "x=B(amp,'median')"
   ]
  },
  {
   "cell_type": "code",
   "execution_count": 16,
   "metadata": {},
   "outputs": [
    {
     "data": {
      "text/plain": [
       "0.5"
      ]
     },
     "execution_count": 16,
     "metadata": {},
     "output_type": "execute_result"
    }
   ],
   "source": [
    "x.median()"
   ]
  },
  {
   "cell_type": "code",
   "execution_count": null,
   "metadata": {},
   "outputs": [],
   "source": []
  },
  {
   "cell_type": "code",
   "execution_count": 81,
   "metadata": {},
   "outputs": [],
   "source": [
    "class C(A):\n",
    "    def __init__(self,data, func):\n",
    "        super().__init__(data)\n",
    "        self._func=getattr(self,func)\n",
    "        self.val = eval('self._func()')"
   ]
  },
  {
   "cell_type": "code",
   "execution_count": null,
   "metadata": {},
   "outputs": [],
   "source": []
  },
  {
   "cell_type": "code",
   "execution_count": 82,
   "metadata": {},
   "outputs": [],
   "source": [
    "def _get_bools(data) -> pd.Series:\n",
    "        bools=data.apply(_is_provide)\n",
    "        bools[0]=False\n",
    "        return bools "
   ]
  },
  {
   "cell_type": "code",
   "execution_count": 83,
   "metadata": {},
   "outputs": [],
   "source": [
    "def _is_provide(x,measure=5):\n",
    "        return abs(x)<=measure"
   ]
  },
  {
   "cell_type": "code",
   "execution_count": null,
   "metadata": {},
   "outputs": [],
   "source": []
  },
  {
   "cell_type": "code",
   "execution_count": null,
   "metadata": {},
   "outputs": [],
   "source": []
  },
  {
   "cell_type": "code",
   "execution_count": 6,
   "metadata": {},
   "outputs": [],
   "source": [
    "class Sign():\n",
    "    def __init__(self,data):\n",
    "        self.data = data"
   ]
  },
  {
   "cell_type": "code",
   "execution_count": 13,
   "metadata": {},
   "outputs": [],
   "source": [
    "class SignSeries(Sign):\n",
    "    def __init__(self,data,func):\n",
    "        super().__init__(data)\n",
    "        self.ksl = B(data,func)"
   ]
  },
  {
   "cell_type": "code",
   "execution_count": 14,
   "metadata": {},
   "outputs": [],
   "source": [
    "class SignDataFrame():\n",
    "    def __init__(self,data):\n",
    "        super().__init__(data)"
   ]
  },
  {
   "cell_type": "code",
   "execution_count": null,
   "metadata": {},
   "outputs": [],
   "source": []
  },
  {
   "cell_type": "code",
   "execution_count": 15,
   "metadata": {},
   "outputs": [],
   "source": [
    "def _isaretle(obj):\n",
    "    if isinstance(obj, pd.Series):\n",
    "\n",
    "        klass = SignSeries\n",
    "    elif isinstance(obj, pd.DataFrame):\n",
    "\n",
    "        klass = SignDataFrame\n",
    "    else:  # pragma: no cover\n",
    "        raise TypeError(\"invalid type: {}\".format(obj))\n",
    "\n",
    "    return klass(obj)"
   ]
  },
  {
   "cell_type": "code",
   "execution_count": 16,
   "metadata": {},
   "outputs": [],
   "source": [
    "def isaretle(data):\n",
    "    return _isaretle(data)"
   ]
  },
  {
   "cell_type": "code",
   "execution_count": 18,
   "metadata": {},
   "outputs": [
    {
     "ename": "TypeError",
     "evalue": "__init__() missing 1 required positional argument: 'func'",
     "output_type": "error",
     "traceback": [
      "\u001b[0;31m---------------------------------------------------------------------------\u001b[0m",
      "\u001b[0;31mTypeError\u001b[0m                                 Traceback (most recent call last)",
      "\u001b[0;32m<ipython-input-18-d783c076cb8f>\u001b[0m in \u001b[0;36m<module>\u001b[0;34m\u001b[0m\n\u001b[0;32m----> 1\u001b[0;31m \u001b[0misaretle\u001b[0m\u001b[0;34m(\u001b[0m\u001b[0mamp\u001b[0m\u001b[0;34m)\u001b[0m\u001b[0;34m\u001b[0m\u001b[0;34m\u001b[0m\u001b[0m\n\u001b[0m",
      "\u001b[0;32m<ipython-input-16-aebf4dca885f>\u001b[0m in \u001b[0;36misaretle\u001b[0;34m(data)\u001b[0m\n\u001b[1;32m      1\u001b[0m \u001b[0;32mdef\u001b[0m \u001b[0misaretle\u001b[0m\u001b[0;34m(\u001b[0m\u001b[0mdata\u001b[0m\u001b[0;34m)\u001b[0m\u001b[0;34m:\u001b[0m\u001b[0;34m\u001b[0m\u001b[0;34m\u001b[0m\u001b[0m\n\u001b[0;32m----> 2\u001b[0;31m     \u001b[0;32mreturn\u001b[0m \u001b[0m_isaretle\u001b[0m\u001b[0;34m(\u001b[0m\u001b[0mdata\u001b[0m\u001b[0;34m)\u001b[0m\u001b[0;34m\u001b[0m\u001b[0;34m\u001b[0m\u001b[0m\n\u001b[0m",
      "\u001b[0;32m<ipython-input-15-f543bafec6c2>\u001b[0m in \u001b[0;36m_isaretle\u001b[0;34m(obj)\u001b[0m\n\u001b[1;32m      9\u001b[0m         \u001b[0;32mraise\u001b[0m \u001b[0mTypeError\u001b[0m\u001b[0;34m(\u001b[0m\u001b[0;34m\"invalid type: {}\"\u001b[0m\u001b[0;34m.\u001b[0m\u001b[0mformat\u001b[0m\u001b[0;34m(\u001b[0m\u001b[0mobj\u001b[0m\u001b[0;34m)\u001b[0m\u001b[0;34m)\u001b[0m\u001b[0;34m\u001b[0m\u001b[0;34m\u001b[0m\u001b[0m\n\u001b[1;32m     10\u001b[0m \u001b[0;34m\u001b[0m\u001b[0m\n\u001b[0;32m---> 11\u001b[0;31m     \u001b[0;32mreturn\u001b[0m \u001b[0mklass\u001b[0m\u001b[0;34m(\u001b[0m\u001b[0mobj\u001b[0m\u001b[0;34m)\u001b[0m\u001b[0;34m\u001b[0m\u001b[0;34m\u001b[0m\u001b[0m\n\u001b[0m",
      "\u001b[0;31mTypeError\u001b[0m: __init__() missing 1 required positional argument: 'func'"
     ]
    }
   ],
   "source": [
    "isaretle(amp)"
   ]
  },
  {
   "cell_type": "code",
   "execution_count": null,
   "metadata": {},
   "outputs": [],
   "source": []
  },
  {
   "cell_type": "code",
   "execution_count": null,
   "metadata": {},
   "outputs": [],
   "source": [
    "exec(func, {\"squareRoot\": sqrt, \"pow\": pow, \"__builtins__\": None, \"print\": print})"
   ]
  },
  {
   "cell_type": "code",
   "execution_count": null,
   "metadata": {},
   "outputs": [],
   "source": []
  }
 ],
 "metadata": {
  "kernelspec": {
   "display_name": "Python 3",
   "language": "python",
   "name": "python3"
  },
  "language_info": {
   "codemirror_mode": {
    "name": "ipython",
    "version": 3
   },
   "file_extension": ".py",
   "mimetype": "text/x-python",
   "name": "python",
   "nbconvert_exporter": "python",
   "pygments_lexer": "ipython3",
   "version": "3.7.3"
  }
 },
 "nbformat": 4,
 "nbformat_minor": 2
}
