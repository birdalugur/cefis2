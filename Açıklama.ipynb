{
 "cells": [
  {
   "cell_type": "code",
   "execution_count": 1,
   "metadata": {},
   "outputs": [],
   "source": [
    "import pandas as pd\n",
    "import numpy as np"
   ]
  },
  {
   "cell_type": "markdown",
   "metadata": {},
   "source": [
    "## Üzerinde Çalışacağımız Veriyi Alalım"
   ]
  },
  {
   "cell_type": "code",
   "execution_count": 31,
   "metadata": {},
   "outputs": [],
   "source": [
    "data = pd.read_excel('example_data.xlsx')\n",
    "data.duration=pd.to_timedelta(data.duration.astype(str))"
   ]
  },
  {
   "cell_type": "code",
   "execution_count": 32,
   "metadata": {},
   "outputs": [
    {
     "data": {
      "text/html": [
       "<div>\n",
       "<style scoped>\n",
       "    .dataframe tbody tr th:only-of-type {\n",
       "        vertical-align: middle;\n",
       "    }\n",
       "\n",
       "    .dataframe tbody tr th {\n",
       "        vertical-align: top;\n",
       "    }\n",
       "\n",
       "    .dataframe thead th {\n",
       "        text-align: right;\n",
       "    }\n",
       "</style>\n",
       "<table border=\"1\" class=\"dataframe\">\n",
       "  <thead>\n",
       "    <tr style=\"text-align: right;\">\n",
       "      <th></th>\n",
       "      <th>date</th>\n",
       "      <th>duration</th>\n",
       "      <th>amplitude</th>\n",
       "    </tr>\n",
       "  </thead>\n",
       "  <tbody>\n",
       "    <tr>\n",
       "      <th>0</th>\n",
       "      <td>2018-09-06 00:00:17</td>\n",
       "      <td>00:00:13</td>\n",
       "      <td>-2</td>\n",
       "    </tr>\n",
       "    <tr>\n",
       "      <th>1</th>\n",
       "      <td>2018-09-06 00:00:39</td>\n",
       "      <td>00:00:22</td>\n",
       "      <td>3</td>\n",
       "    </tr>\n",
       "    <tr>\n",
       "      <th>2</th>\n",
       "      <td>2018-09-06 00:00:48</td>\n",
       "      <td>00:00:09</td>\n",
       "      <td>-1</td>\n",
       "    </tr>\n",
       "    <tr>\n",
       "      <th>3</th>\n",
       "      <td>2018-09-06 00:00:49</td>\n",
       "      <td>00:00:01</td>\n",
       "      <td>4</td>\n",
       "    </tr>\n",
       "    <tr>\n",
       "      <th>4</th>\n",
       "      <td>2018-09-06 00:00:50</td>\n",
       "      <td>00:00:01</td>\n",
       "      <td>-7</td>\n",
       "    </tr>\n",
       "    <tr>\n",
       "      <th>5</th>\n",
       "      <td>2018-09-06 00:00:51</td>\n",
       "      <td>00:00:01</td>\n",
       "      <td>7</td>\n",
       "    </tr>\n",
       "    <tr>\n",
       "      <th>6</th>\n",
       "      <td>2018-09-06 00:00:53</td>\n",
       "      <td>00:00:02</td>\n",
       "      <td>-9</td>\n",
       "    </tr>\n",
       "    <tr>\n",
       "      <th>7</th>\n",
       "      <td>2018-09-06 00:01:01</td>\n",
       "      <td>00:00:08</td>\n",
       "      <td>7</td>\n",
       "    </tr>\n",
       "    <tr>\n",
       "      <th>8</th>\n",
       "      <td>2018-09-06 00:01:04</td>\n",
       "      <td>00:00:03</td>\n",
       "      <td>-11</td>\n",
       "    </tr>\n",
       "    <tr>\n",
       "      <th>9</th>\n",
       "      <td>2018-09-06 00:01:05</td>\n",
       "      <td>00:00:01</td>\n",
       "      <td>5</td>\n",
       "    </tr>\n",
       "    <tr>\n",
       "      <th>10</th>\n",
       "      <td>2018-09-06 00:01:17</td>\n",
       "      <td>00:00:12</td>\n",
       "      <td>-2</td>\n",
       "    </tr>\n",
       "    <tr>\n",
       "      <th>11</th>\n",
       "      <td>2018-09-06 00:01:21</td>\n",
       "      <td>00:00:04</td>\n",
       "      <td>8</td>\n",
       "    </tr>\n",
       "    <tr>\n",
       "      <th>12</th>\n",
       "      <td>2018-09-06 00:01:22</td>\n",
       "      <td>00:00:01</td>\n",
       "      <td>-1</td>\n",
       "    </tr>\n",
       "    <tr>\n",
       "      <th>13</th>\n",
       "      <td>2018-09-06 00:01:24</td>\n",
       "      <td>00:00:02</td>\n",
       "      <td>2</td>\n",
       "    </tr>\n",
       "    <tr>\n",
       "      <th>14</th>\n",
       "      <td>2018-09-06 00:02:11</td>\n",
       "      <td>00:00:47</td>\n",
       "      <td>-9</td>\n",
       "    </tr>\n",
       "    <tr>\n",
       "      <th>15</th>\n",
       "      <td>2018-09-06 00:02:31</td>\n",
       "      <td>00:00:20</td>\n",
       "      <td>6</td>\n",
       "    </tr>\n",
       "    <tr>\n",
       "      <th>16</th>\n",
       "      <td>2018-09-06 00:02:35</td>\n",
       "      <td>00:00:04</td>\n",
       "      <td>-16</td>\n",
       "    </tr>\n",
       "    <tr>\n",
       "      <th>17</th>\n",
       "      <td>2018-09-06 00:04:01</td>\n",
       "      <td>00:01:26</td>\n",
       "      <td>4</td>\n",
       "    </tr>\n",
       "    <tr>\n",
       "      <th>18</th>\n",
       "      <td>2018-09-06 00:04:07</td>\n",
       "      <td>00:00:06</td>\n",
       "      <td>-2</td>\n",
       "    </tr>\n",
       "    <tr>\n",
       "      <th>19</th>\n",
       "      <td>2018-09-06 00:04:12</td>\n",
       "      <td>00:00:05</td>\n",
       "      <td>19</td>\n",
       "    </tr>\n",
       "  </tbody>\n",
       "</table>\n",
       "</div>"
      ],
      "text/plain": [
       "                  date duration  amplitude\n",
       "0  2018-09-06 00:00:17 00:00:13         -2\n",
       "1  2018-09-06 00:00:39 00:00:22          3\n",
       "2  2018-09-06 00:00:48 00:00:09         -1\n",
       "3  2018-09-06 00:00:49 00:00:01          4\n",
       "4  2018-09-06 00:00:50 00:00:01         -7\n",
       "5  2018-09-06 00:00:51 00:00:01          7\n",
       "6  2018-09-06 00:00:53 00:00:02         -9\n",
       "7  2018-09-06 00:01:01 00:00:08          7\n",
       "8  2018-09-06 00:01:04 00:00:03        -11\n",
       "9  2018-09-06 00:01:05 00:00:01          5\n",
       "10 2018-09-06 00:01:17 00:00:12         -2\n",
       "11 2018-09-06 00:01:21 00:00:04          8\n",
       "12 2018-09-06 00:01:22 00:00:01         -1\n",
       "13 2018-09-06 00:01:24 00:00:02          2\n",
       "14 2018-09-06 00:02:11 00:00:47         -9\n",
       "15 2018-09-06 00:02:31 00:00:20          6\n",
       "16 2018-09-06 00:02:35 00:00:04        -16\n",
       "17 2018-09-06 00:04:01 00:01:26          4\n",
       "18 2018-09-06 00:04:07 00:00:06         -2\n",
       "19 2018-09-06 00:04:12 00:00:05         19"
      ]
     },
     "execution_count": 32,
     "metadata": {},
     "output_type": "execute_result"
    }
   ],
   "source": [
    "data"
   ]
  },
  {
   "cell_type": "markdown",
   "metadata": {},
   "source": [
    "## Ne Yapmak İstiyoruz?\n",
    "1. Yukarıdaki veriyi belirli bir koşula göre işaretlemek istiyoruz. Peki neden?\n",
    " * **Cevap:** İşaretleri kullanarak bu veri üzerinde çeşitli işlemler gerçekleştirebiliriz\n",
    " * **Örnek:** ```python df.groupby('sign').sum()```"
   ]
  },
  {
   "cell_type": "markdown",
   "metadata": {},
   "source": [
    "## Peki neye göre ve nasıl işaretleyeceğiz?\n",
    "1. İşaretleme işlemi belirli bir amaca hizmet etmeli\n",
    "2. Bazı **koşullara** göre yapılmalı.\n",
    " * **Örnek:** Amplitude değeri mutlak değerce 4'ten küçük ise, bu dalgayı kendinden önceki dalga ile birleştir.\n",
    "3. Bu durumda 'hangi veri 4'ten küçük hangisi değil' bunun bir **boolean listesine** ihtiyacımız olacak"
   ]
  },
  {
   "cell_type": "markdown",
   "metadata": {},
   "source": [
    "## Olası Durumlar Neler?\n",
    "1. İşaretleme işlemi bir **seriye** veya **dataframe**'e uygulanabilir.\n",
    "2. Yalnızca '**duration**' ya da yalnızca '**amplitude**' dikkate alınabilir\n",
    "3. **Her iki sütun** da dikkate alınarak bu işlem gerçekleştirilebilir."
   ]
  },
  {
   "cell_type": "markdown",
   "metadata": {},
   "source": [
    "## Koşulu sağlayan boolean listesini bulmak ile İşaretlemek tamamen FARKLI !"
   ]
  },
  {
   "cell_type": "markdown",
   "metadata": {},
   "source": [
    "### Bir örnek :\n",
    "* **pozitif amplitude** 4 ten küçün **negatif amplitude 5** ten küçük ise bir önceki dalga ile birleştirelim"
   ]
  },
  {
   "cell_type": "code",
   "execution_count": 33,
   "metadata": {},
   "outputs": [
    {
     "data": {
      "text/plain": [
       "0     -2\n",
       "1      3\n",
       "2     -1\n",
       "3      4\n",
       "4     -7\n",
       "5      7\n",
       "6     -9\n",
       "7      7\n",
       "8    -11\n",
       "9      5\n",
       "10    -2\n",
       "11     8\n",
       "12    -1\n",
       "13     2\n",
       "14    -9\n",
       "15     6\n",
       "16   -16\n",
       "17     4\n",
       "18    -2\n",
       "19    19\n",
       "Name: amplitude, dtype: int64"
      ]
     },
     "execution_count": 33,
     "metadata": {},
     "output_type": "execute_result"
    }
   ],
   "source": [
    "amplitude = data.amplitude\n",
    "amplitude"
   ]
  },
  {
   "cell_type": "markdown",
   "metadata": {},
   "source": [
    "### Koşulu sağlayan durumların listesini alalım"
   ]
  },
  {
   "cell_type": "code",
   "execution_count": 34,
   "metadata": {},
   "outputs": [
    {
     "data": {
      "text/plain": [
       "0     False\n",
       "1      True\n",
       "2      True\n",
       "3      True\n",
       "4     False\n",
       "5     False\n",
       "6     False\n",
       "7     False\n",
       "8     False\n",
       "9     False\n",
       "10     True\n",
       "11    False\n",
       "12     True\n",
       "13     True\n",
       "14    False\n",
       "15    False\n",
       "16    False\n",
       "17     True\n",
       "18     True\n",
       "19    False\n",
       "Name: amplitude, dtype: bool"
      ]
     },
     "execution_count": 34,
     "metadata": {},
     "output_type": "execute_result"
    }
   ],
   "source": [
    "bool_list= get_bools(amplitude,pozitive_measure=4,negative_measure=5)\n",
    "bool_list"
   ]
  },
  {
   "cell_type": "markdown",
   "metadata": {},
   "source": [
    "### Şimdi işaretle metoduna amplitude verisini ve bool_list'i verip, koşulu sağlayan işaretleri alacağım"
   ]
  },
  {
   "cell_type": "code",
   "execution_count": 35,
   "metadata": {},
   "outputs": [
    {
     "data": {
      "text/plain": [
       "0      1\n",
       "1      1\n",
       "2      1\n",
       "3      1\n",
       "4      1\n",
       "5      2\n",
       "6      3\n",
       "7      4\n",
       "8      5\n",
       "9      6\n",
       "10     6\n",
       "11     6\n",
       "12     6\n",
       "13     6\n",
       "14     7\n",
       "15     8\n",
       "16     9\n",
       "17     9\n",
       "18     9\n",
       "19    10\n",
       "Name: amplitude, dtype: int32"
      ]
     },
     "execution_count": 35,
     "metadata": {},
     "output_type": "execute_result"
    }
   ],
   "source": [
    "sign_list = sign_data(amplitude,bool_list)\n",
    "sign_list"
   ]
  },
  {
   "cell_type": "markdown",
   "metadata": {},
   "source": [
    "### SONUÇ"
   ]
  },
  {
   "cell_type": "code",
   "execution_count": 37,
   "metadata": {},
   "outputs": [],
   "source": [
    "result=data"
   ]
  },
  {
   "cell_type": "code",
   "execution_count": 38,
   "metadata": {},
   "outputs": [
    {
     "data": {
      "text/html": [
       "<div>\n",
       "<style scoped>\n",
       "    .dataframe tbody tr th:only-of-type {\n",
       "        vertical-align: middle;\n",
       "    }\n",
       "\n",
       "    .dataframe tbody tr th {\n",
       "        vertical-align: top;\n",
       "    }\n",
       "\n",
       "    .dataframe thead th {\n",
       "        text-align: right;\n",
       "    }\n",
       "</style>\n",
       "<table border=\"1\" class=\"dataframe\">\n",
       "  <thead>\n",
       "    <tr style=\"text-align: right;\">\n",
       "      <th></th>\n",
       "      <th>date</th>\n",
       "      <th>duration</th>\n",
       "      <th>amplitude</th>\n",
       "      <th>sign</th>\n",
       "    </tr>\n",
       "  </thead>\n",
       "  <tbody>\n",
       "    <tr>\n",
       "      <th>0</th>\n",
       "      <td>2018-09-06 00:00:17</td>\n",
       "      <td>00:00:13</td>\n",
       "      <td>-2</td>\n",
       "      <td>1</td>\n",
       "    </tr>\n",
       "    <tr>\n",
       "      <th>1</th>\n",
       "      <td>2018-09-06 00:00:39</td>\n",
       "      <td>00:00:22</td>\n",
       "      <td>3</td>\n",
       "      <td>1</td>\n",
       "    </tr>\n",
       "    <tr>\n",
       "      <th>2</th>\n",
       "      <td>2018-09-06 00:00:48</td>\n",
       "      <td>00:00:09</td>\n",
       "      <td>-1</td>\n",
       "      <td>1</td>\n",
       "    </tr>\n",
       "    <tr>\n",
       "      <th>3</th>\n",
       "      <td>2018-09-06 00:00:49</td>\n",
       "      <td>00:00:01</td>\n",
       "      <td>4</td>\n",
       "      <td>1</td>\n",
       "    </tr>\n",
       "    <tr>\n",
       "      <th>4</th>\n",
       "      <td>2018-09-06 00:00:50</td>\n",
       "      <td>00:00:01</td>\n",
       "      <td>-7</td>\n",
       "      <td>1</td>\n",
       "    </tr>\n",
       "    <tr>\n",
       "      <th>5</th>\n",
       "      <td>2018-09-06 00:00:51</td>\n",
       "      <td>00:00:01</td>\n",
       "      <td>7</td>\n",
       "      <td>2</td>\n",
       "    </tr>\n",
       "    <tr>\n",
       "      <th>6</th>\n",
       "      <td>2018-09-06 00:00:53</td>\n",
       "      <td>00:00:02</td>\n",
       "      <td>-9</td>\n",
       "      <td>3</td>\n",
       "    </tr>\n",
       "    <tr>\n",
       "      <th>7</th>\n",
       "      <td>2018-09-06 00:01:01</td>\n",
       "      <td>00:00:08</td>\n",
       "      <td>7</td>\n",
       "      <td>4</td>\n",
       "    </tr>\n",
       "    <tr>\n",
       "      <th>8</th>\n",
       "      <td>2018-09-06 00:01:04</td>\n",
       "      <td>00:00:03</td>\n",
       "      <td>-11</td>\n",
       "      <td>5</td>\n",
       "    </tr>\n",
       "    <tr>\n",
       "      <th>9</th>\n",
       "      <td>2018-09-06 00:01:05</td>\n",
       "      <td>00:00:01</td>\n",
       "      <td>5</td>\n",
       "      <td>6</td>\n",
       "    </tr>\n",
       "    <tr>\n",
       "      <th>10</th>\n",
       "      <td>2018-09-06 00:01:17</td>\n",
       "      <td>00:00:12</td>\n",
       "      <td>-2</td>\n",
       "      <td>6</td>\n",
       "    </tr>\n",
       "    <tr>\n",
       "      <th>11</th>\n",
       "      <td>2018-09-06 00:01:21</td>\n",
       "      <td>00:00:04</td>\n",
       "      <td>8</td>\n",
       "      <td>6</td>\n",
       "    </tr>\n",
       "    <tr>\n",
       "      <th>12</th>\n",
       "      <td>2018-09-06 00:01:22</td>\n",
       "      <td>00:00:01</td>\n",
       "      <td>-1</td>\n",
       "      <td>6</td>\n",
       "    </tr>\n",
       "    <tr>\n",
       "      <th>13</th>\n",
       "      <td>2018-09-06 00:01:24</td>\n",
       "      <td>00:00:02</td>\n",
       "      <td>2</td>\n",
       "      <td>6</td>\n",
       "    </tr>\n",
       "    <tr>\n",
       "      <th>14</th>\n",
       "      <td>2018-09-06 00:02:11</td>\n",
       "      <td>00:00:47</td>\n",
       "      <td>-9</td>\n",
       "      <td>7</td>\n",
       "    </tr>\n",
       "    <tr>\n",
       "      <th>15</th>\n",
       "      <td>2018-09-06 00:02:31</td>\n",
       "      <td>00:00:20</td>\n",
       "      <td>6</td>\n",
       "      <td>8</td>\n",
       "    </tr>\n",
       "    <tr>\n",
       "      <th>16</th>\n",
       "      <td>2018-09-06 00:02:35</td>\n",
       "      <td>00:00:04</td>\n",
       "      <td>-16</td>\n",
       "      <td>9</td>\n",
       "    </tr>\n",
       "    <tr>\n",
       "      <th>17</th>\n",
       "      <td>2018-09-06 00:04:01</td>\n",
       "      <td>00:01:26</td>\n",
       "      <td>4</td>\n",
       "      <td>9</td>\n",
       "    </tr>\n",
       "    <tr>\n",
       "      <th>18</th>\n",
       "      <td>2018-09-06 00:04:07</td>\n",
       "      <td>00:00:06</td>\n",
       "      <td>-2</td>\n",
       "      <td>9</td>\n",
       "    </tr>\n",
       "    <tr>\n",
       "      <th>19</th>\n",
       "      <td>2018-09-06 00:04:12</td>\n",
       "      <td>00:00:05</td>\n",
       "      <td>19</td>\n",
       "      <td>10</td>\n",
       "    </tr>\n",
       "  </tbody>\n",
       "</table>\n",
       "</div>"
      ],
      "text/plain": [
       "                  date duration  amplitude  sign\n",
       "0  2018-09-06 00:00:17 00:00:13         -2     1\n",
       "1  2018-09-06 00:00:39 00:00:22          3     1\n",
       "2  2018-09-06 00:00:48 00:00:09         -1     1\n",
       "3  2018-09-06 00:00:49 00:00:01          4     1\n",
       "4  2018-09-06 00:00:50 00:00:01         -7     1\n",
       "5  2018-09-06 00:00:51 00:00:01          7     2\n",
       "6  2018-09-06 00:00:53 00:00:02         -9     3\n",
       "7  2018-09-06 00:01:01 00:00:08          7     4\n",
       "8  2018-09-06 00:01:04 00:00:03        -11     5\n",
       "9  2018-09-06 00:01:05 00:00:01          5     6\n",
       "10 2018-09-06 00:01:17 00:00:12         -2     6\n",
       "11 2018-09-06 00:01:21 00:00:04          8     6\n",
       "12 2018-09-06 00:01:22 00:00:01         -1     6\n",
       "13 2018-09-06 00:01:24 00:00:02          2     6\n",
       "14 2018-09-06 00:02:11 00:00:47         -9     7\n",
       "15 2018-09-06 00:02:31 00:00:20          6     8\n",
       "16 2018-09-06 00:02:35 00:00:04        -16     9\n",
       "17 2018-09-06 00:04:01 00:01:26          4     9\n",
       "18 2018-09-06 00:04:07 00:00:06         -2     9\n",
       "19 2018-09-06 00:04:12 00:00:05         19    10"
      ]
     },
     "execution_count": 38,
     "metadata": {},
     "output_type": "execute_result"
    }
   ],
   "source": [
    "result['sign']= sign_list\n",
    "result"
   ]
  },
  {
   "cell_type": "markdown",
   "metadata": {},
   "source": [
    "## Boolean Listesi Alma Kuralları\n",
    "Yukarıda koşul olarak negatif ve pozitif değerleri manuel girdik. Fakat bu değerler Belirli fonksiyonlara göre alınmalı:\n",
    "1. negatif_medyan\n",
    "2. pozitif_medyan\n",
    "3. genel_medyan ve genel_percentile\n",
    "4. negatif percentile pozitif percentile\n",
    "5. ve ileride ekleneilecek yeni fonksiyonlar\n",
    "\n",
    "#### Aynı Zamanda\n",
    "\n",
    "1. Yalnızca **amplitude** ya da **duration** a bu koşulları uygulamak isteyebiliriz\n",
    "2. Her ikisine uygulamak isteyebiliriz\n",
    "3. Farklı sütunlara farklı koşullar koyabiliriz"
   ]
  },
  {
   "cell_type": "markdown",
   "metadata": {},
   "source": [
    "## Verileri işaretledikten sonra..."
   ]
  },
  {
   "cell_type": "markdown",
   "metadata": {},
   "source": [
    "### 1. Her bir işareti kendi arasında toplayıp yeni dalgaları bulabiliriz"
   ]
  },
  {
   "cell_type": "code",
   "execution_count": 42,
   "metadata": {},
   "outputs": [],
   "source": [
    "from src.change import last_time"
   ]
  },
  {
   "cell_type": "code",
   "execution_count": 46,
   "metadata": {},
   "outputs": [
    {
     "data": {
      "text/html": [
       "<div>\n",
       "<style scoped>\n",
       "    .dataframe tbody tr th:only-of-type {\n",
       "        vertical-align: middle;\n",
       "    }\n",
       "\n",
       "    .dataframe tbody tr th {\n",
       "        vertical-align: top;\n",
       "    }\n",
       "\n",
       "    .dataframe thead th {\n",
       "        text-align: right;\n",
       "    }\n",
       "</style>\n",
       "<table border=\"1\" class=\"dataframe\">\n",
       "  <thead>\n",
       "    <tr style=\"text-align: right;\">\n",
       "      <th></th>\n",
       "      <th>date</th>\n",
       "      <th>duration</th>\n",
       "      <th>amplitude</th>\n",
       "    </tr>\n",
       "    <tr>\n",
       "      <th>sign</th>\n",
       "      <th></th>\n",
       "      <th></th>\n",
       "      <th></th>\n",
       "    </tr>\n",
       "  </thead>\n",
       "  <tbody>\n",
       "    <tr>\n",
       "      <th>1</th>\n",
       "      <td>2018-09-06 00:00:50</td>\n",
       "      <td>00:00:46</td>\n",
       "      <td>-3</td>\n",
       "    </tr>\n",
       "    <tr>\n",
       "      <th>2</th>\n",
       "      <td>2018-09-06 00:00:51</td>\n",
       "      <td>00:00:01</td>\n",
       "      <td>7</td>\n",
       "    </tr>\n",
       "    <tr>\n",
       "      <th>3</th>\n",
       "      <td>2018-09-06 00:00:53</td>\n",
       "      <td>00:00:02</td>\n",
       "      <td>-9</td>\n",
       "    </tr>\n",
       "    <tr>\n",
       "      <th>4</th>\n",
       "      <td>2018-09-06 00:01:01</td>\n",
       "      <td>00:00:08</td>\n",
       "      <td>7</td>\n",
       "    </tr>\n",
       "    <tr>\n",
       "      <th>5</th>\n",
       "      <td>2018-09-06 00:01:04</td>\n",
       "      <td>00:00:03</td>\n",
       "      <td>-11</td>\n",
       "    </tr>\n",
       "    <tr>\n",
       "      <th>6</th>\n",
       "      <td>2018-09-06 00:01:24</td>\n",
       "      <td>00:00:20</td>\n",
       "      <td>12</td>\n",
       "    </tr>\n",
       "    <tr>\n",
       "      <th>7</th>\n",
       "      <td>2018-09-06 00:02:11</td>\n",
       "      <td>00:00:47</td>\n",
       "      <td>-9</td>\n",
       "    </tr>\n",
       "    <tr>\n",
       "      <th>8</th>\n",
       "      <td>2018-09-06 00:02:31</td>\n",
       "      <td>00:00:20</td>\n",
       "      <td>6</td>\n",
       "    </tr>\n",
       "    <tr>\n",
       "      <th>9</th>\n",
       "      <td>2018-09-06 00:04:07</td>\n",
       "      <td>00:01:36</td>\n",
       "      <td>-14</td>\n",
       "    </tr>\n",
       "    <tr>\n",
       "      <th>10</th>\n",
       "      <td>2018-09-06 00:04:12</td>\n",
       "      <td>00:00:05</td>\n",
       "      <td>19</td>\n",
       "    </tr>\n",
       "  </tbody>\n",
       "</table>\n",
       "</div>"
      ],
      "text/plain": [
       "                    date duration  amplitude\n",
       "sign                                        \n",
       "1    2018-09-06 00:00:50 00:00:46         -3\n",
       "2    2018-09-06 00:00:51 00:00:01          7\n",
       "3    2018-09-06 00:00:53 00:00:02         -9\n",
       "4    2018-09-06 00:01:01 00:00:08          7\n",
       "5    2018-09-06 00:01:04 00:00:03        -11\n",
       "6    2018-09-06 00:01:24 00:00:20         12\n",
       "7    2018-09-06 00:02:11 00:00:47         -9\n",
       "8    2018-09-06 00:02:31 00:00:20          6\n",
       "9    2018-09-06 00:04:07 00:01:36        -14\n",
       "10   2018-09-06 00:04:12 00:00:05         19"
      ]
     },
     "execution_count": 46,
     "metadata": {},
     "output_type": "execute_result"
    }
   ],
   "source": [
    "result.groupby('sign').agg({'date':last_time,'duration':'sum','amplitude':'sum'})"
   ]
  },
  {
   "cell_type": "markdown",
   "metadata": {},
   "source": [
    "### 2. Ortalamasını alabiliriz"
   ]
  },
  {
   "cell_type": "code",
   "execution_count": 47,
   "metadata": {},
   "outputs": [
    {
     "data": {
      "text/html": [
       "<div>\n",
       "<style scoped>\n",
       "    .dataframe tbody tr th:only-of-type {\n",
       "        vertical-align: middle;\n",
       "    }\n",
       "\n",
       "    .dataframe tbody tr th {\n",
       "        vertical-align: top;\n",
       "    }\n",
       "\n",
       "    .dataframe thead th {\n",
       "        text-align: right;\n",
       "    }\n",
       "</style>\n",
       "<table border=\"1\" class=\"dataframe\">\n",
       "  <thead>\n",
       "    <tr style=\"text-align: right;\">\n",
       "      <th></th>\n",
       "      <th>amplitude</th>\n",
       "    </tr>\n",
       "    <tr>\n",
       "      <th>sign</th>\n",
       "      <th></th>\n",
       "    </tr>\n",
       "  </thead>\n",
       "  <tbody>\n",
       "    <tr>\n",
       "      <th>1</th>\n",
       "      <td>-0.600000</td>\n",
       "    </tr>\n",
       "    <tr>\n",
       "      <th>2</th>\n",
       "      <td>7.000000</td>\n",
       "    </tr>\n",
       "    <tr>\n",
       "      <th>3</th>\n",
       "      <td>-9.000000</td>\n",
       "    </tr>\n",
       "    <tr>\n",
       "      <th>4</th>\n",
       "      <td>7.000000</td>\n",
       "    </tr>\n",
       "    <tr>\n",
       "      <th>5</th>\n",
       "      <td>-11.000000</td>\n",
       "    </tr>\n",
       "    <tr>\n",
       "      <th>6</th>\n",
       "      <td>2.400000</td>\n",
       "    </tr>\n",
       "    <tr>\n",
       "      <th>7</th>\n",
       "      <td>-9.000000</td>\n",
       "    </tr>\n",
       "    <tr>\n",
       "      <th>8</th>\n",
       "      <td>6.000000</td>\n",
       "    </tr>\n",
       "    <tr>\n",
       "      <th>9</th>\n",
       "      <td>-4.666667</td>\n",
       "    </tr>\n",
       "    <tr>\n",
       "      <th>10</th>\n",
       "      <td>19.000000</td>\n",
       "    </tr>\n",
       "  </tbody>\n",
       "</table>\n",
       "</div>"
      ],
      "text/plain": [
       "      amplitude\n",
       "sign           \n",
       "1     -0.600000\n",
       "2      7.000000\n",
       "3     -9.000000\n",
       "4      7.000000\n",
       "5    -11.000000\n",
       "6      2.400000\n",
       "7     -9.000000\n",
       "8      6.000000\n",
       "9     -4.666667\n",
       "10    19.000000"
      ]
     },
     "execution_count": 47,
     "metadata": {},
     "output_type": "execute_result"
    }
   ],
   "source": [
    "result.groupby('sign').mean()"
   ]
  },
  {
   "cell_type": "markdown",
   "metadata": {},
   "source": [
    "# Koşul Sınıfı"
   ]
  },
  {
   "cell_type": "markdown",
   "metadata": {},
   "source": [
    "Boolean listesini alabilmek için öyle bir sınıf olmalı ki,\n",
    "1. Hem pd.**Series** ile hem pd.**DataFrame** ile çalışabilmeli\n",
    "2. Koşul tipini (**fonksiyonu**) seçebilmeliyiz\n",
    "3. **+** ve **-** değerler ile ayrı ayrı çalışması gerektiğini ya da gerekmediğini belirtebilmeliyiz\n",
    "4. Eğer dataframe ile çalışıyorsak **hangi sütunlara** hangi **fonksiyonları** uygulayacağını belirtebilmeliyiz.\n",
    "5. Bazı fonksiyonlar **parametre** alıyor percentile(0.5) gibi"
   ]
  },
  {
   "cell_type": "markdown",
   "metadata": {},
   "source": [
    "## İşaretleme Sınıfı"
   ]
  },
  {
   "cell_type": "markdown",
   "metadata": {},
   "source": [
    "1. İşaretleme amacı farklı olabilir\n",
    "2. Örnekte yalnızca yeni dalgaları bulduk. Fakat **change** verisinden **amplitude** ve **duratin** hesaplanırken de işaretle tekniği kullanıldı\n"
   ]
  },
  {
   "cell_type": "code",
   "execution_count": null,
   "metadata": {},
   "outputs": [],
   "source": []
  },
  {
   "cell_type": "markdown",
   "metadata": {},
   "source": [
    "```python\n",
    "ornek= KosulSınıfı(data, ['amplitude':median,'duration':percentile],percentile_value=5)\n",
    "ornek_bool=ornek.get_bool()```\n",
    "\n",
    "```python\n",
    "ornek2= KosulSınıfı(data, median)\n",
    "ornek_bool2=ornek2.get_bool()```\n"
   ]
  },
  {
   "cell_type": "code",
   "execution_count": null,
   "metadata": {},
   "outputs": [],
   "source": [
    "İsaretleSınıfı(ornek_bool,data)"
   ]
  },
  {
   "cell_type": "code",
   "execution_count": null,
   "metadata": {},
   "outputs": [],
   "source": []
  },
  {
   "cell_type": "code",
   "execution_count": null,
   "metadata": {},
   "outputs": [],
   "source": []
  },
  {
   "cell_type": "code",
   "execution_count": 11,
   "metadata": {},
   "outputs": [],
   "source": [
    "def get_bools(data : pd.Series, negative_measure : float, pozitive_measure : float) -> pd.Series:\n",
    "    bools=data.apply(condition_amp,pozitive_measure=pozitive_measure,negative_measure=negative_measure)\n",
    "    bools[0]=False\n",
    "    return bools"
   ]
  },
  {
   "cell_type": "code",
   "execution_count": 12,
   "metadata": {},
   "outputs": [],
   "source": [
    "def condition_amp(x,negative_measure,pozitive_measure):\n",
    "    if x <0:\n",
    "        return abs(x)<=negative_measure\n",
    "    if x >0:\n",
    "        return abs(x)<=pozitive_measure"
   ]
  },
  {
   "cell_type": "code",
   "execution_count": 16,
   "metadata": {},
   "outputs": [],
   "source": [
    "def sign_data(data : pd.Series, bools : pd.Series) -> pd.Series:\n",
    "    a=data.mask(bools).fillna(method='ffill')\n",
    "    return np.sign(a).diff().ne(0).cumsum()"
   ]
  },
  {
   "cell_type": "code",
   "execution_count": null,
   "metadata": {},
   "outputs": [],
   "source": []
  }
 ],
 "metadata": {
  "kernelspec": {
   "display_name": "Python 3",
   "language": "python",
   "name": "python3"
  },
  "language_info": {
   "codemirror_mode": {
    "name": "ipython",
    "version": 3
   },
   "file_extension": ".py",
   "mimetype": "text/x-python",
   "name": "python",
   "nbconvert_exporter": "python",
   "pygments_lexer": "ipython3",
   "version": "3.7.5"
  }
 },
 "nbformat": 4,
 "nbformat_minor": 2
}
