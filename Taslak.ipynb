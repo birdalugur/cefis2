{
 "cells": [
  {
   "cell_type": "code",
   "execution_count": 2,
   "metadata": {},
   "outputs": [],
   "source": [
    "import pandas as pd"
   ]
  },
  {
   "cell_type": "markdown",
   "metadata": {},
   "source": [
    "# AMAÇ"
   ]
  },
  {
   "cell_type": "markdown",
   "metadata": {},
   "source": [
    "Aşağıda, bir ürüne ait değişimin miktarını ve süresini gösteren bir tablo verilmiştir. (date,duration,amplitude)<br/>\n",
    "Negatif ve pozitif amplitude değerlerinin her biri bir dalgayı göstermektedir.<br/>\n",
    "Bazı koşullara göre bu dalgaları birleştirmek istiyoruz. Tabloda koşul olarak **amplitude<=5** kullanıldı.<br/>\n",
    "**0.satırda** negatif bir dalga var **-2**<br/>\n",
    "**1.satırda** pozitif bir dalga var ama değeri **3**. Koşulumuzu sağladığından **1** olarak işaretledik ve bu dalgaları<br/>\n",
    "**4.satıra** kadar birleştirdik. Daha sonra pozitif yönde **7** lik dalga var ve koşulu sağlamıyor.<br/>"
   ]
  },
  {
   "cell_type": "markdown",
   "metadata": {},
   "source": [
    "<img src=\"img/condition.png\">"
   ]
  },
  {
   "cell_type": "markdown",
   "metadata": {},
   "source": [
    "# Taslak"
   ]
  },
  {
   "cell_type": "code",
   "execution_count": 217,
   "metadata": {},
   "outputs": [],
   "source": [
    "class KosulFonksiyonları:\n",
    "    \n",
    "    def __init__(self, data,pozitif_negatif =False):\n",
    "        self.data = data\n",
    "        self.pozitif_negatif = pozitif_negatif\n",
    "        \n",
    "        \n",
    "        \n",
    "        \n",
    "    def set_func(self, func,value=None):\n",
    "        if self.pozitif_negatif==False:\n",
    "            if func == 'median':\n",
    "                self.measure = self.median()\n",
    "            elif func == 'percentile':\n",
    "                self.measure = self.percentile(value)\n",
    "            else:\n",
    "                pass\n",
    "        else:\n",
    "            if func == 'median':\n",
    "                self.measure = self.median_pn()\n",
    "            elif func == 'percentile':\n",
    "                self.measure = self.percentile_pn(value)\n",
    "            else:\n",
    "                pass\n",
    "        return self.measure\n",
    "    \n",
    "    def median(self):\n",
    "        if pozitif_negatif == True:\n",
    "            median_pn()\n",
    "        else:\n",
    "            _median()\n",
    "    \n",
    "    def _median(self):\n",
    "        \"\"\"Tüm medyanı hesaplar (+,- ayırmaz)\n",
    "        \"\"\"\n",
    "        return self.data.median()\n",
    "    \n",
    "    def percentile(self,percent_values):\n",
    "        \"\"\"Tüm medyanı hesaplar (+,- ayırmaz)\n",
    "        \"\"\"\n",
    "        return self.data.quantile(percent_values)\n",
    "    \n",
    "    # pozitif, negatif ayırmadan hesaplar <<<<<<<<<<<<<<<<<<<<<<<<<<<<<<<<<<<<<<<<<<<<<<<<\n",
    "    \n",
    "    # pozitif, negatif ayrı hesaplar >>>>>>>>>>>>>>>>>>>>>>>>>>>>>>>>>>>>>>>>>>>>>>>>>>>>>\n",
    "    def median_pn(self) -> dict:\n",
    "        \"\"\"Pozitif ve negatif'i ayrı hesaplar\n",
    "        \"\"\"\n",
    "        return {'pozitif':\n",
    "                self._pozitive_median(self.data), \\\n",
    "                    'negatif':\n",
    "                        self._negative_median(self.data)}\n",
    "    \n",
    "    \n",
    "    def percentile_pn(self, percentile_value : float) -> dict:\n",
    "        \"\"\"Pozitif ve negatif'i ayrı hesaplar\n",
    "        \"\"\"\n",
    "        return {'pozitif':\n",
    "                self._pozitive_percentile(self.data,percentile_value), \\\n",
    "                    'negatif':\n",
    "                        self._negative_percentile(self.data,percentile_value)}\n",
    "    # pozitif, negatif ayrı hesaplar <<<<<<<<<<<<<<<<<<<<<<<<<<<<<<<<<<<<<<<<<<<<<<<<<<<<<<\n",
    "\n",
    "    \n",
    "    # pozitif, negatif ayrı hesaplar >>>>>>>>>>>>>>>>>>>>>>>>>>>>>>>>>>>>>>>>>>>>>>>>>>>>>\n",
    "    def _pozitive_median(self,data : pd.Series) -> float:\n",
    "        \"\"\"Pozitif medyanı döndürür.\n",
    "        \"\"\"\n",
    "        return data[data>0].median()\n",
    "    \n",
    "    def _negative_median(self,data : pd.Series) -> float:\n",
    "        \"\"\"Negatif medyanı döndürür\n",
    "        \"\"\"\n",
    "        return data[data<0].median()\n",
    "    \n",
    "    def _negative_percentile(self,data : pd.Series, percent_value : float = None) -> float:\n",
    "        return data[data<0].quantile(percent_value)\n",
    "    \n",
    "    def _pozitive_percentile(self,data : pd.Series, percent_value : float = None) -> float:\n",
    "        return data[data>0].quantile(percent_value)\n",
    "    # pozitif, negatif ayrı hesaplar <<<<<<<<<<<<<<<<<<<<<<<<<<<<<<<<<<<<<<<<<<<<<<<<<<<<<<"
   ]
  },
  {
   "cell_type": "code",
   "execution_count": 226,
   "metadata": {},
   "outputs": [],
   "source": [
    "class Condition(KosulFonksiyonları):\n",
    "    \"\"\"Verideki her bir satırın, seçilen koşulu sağlayıp sağlamadığını bulun.\n",
    "    \"\"\"\n",
    "\n",
    "    def __init__(self, data : pd.Series = None, function=None, pozitif_negatif=False) -> None :\n",
    "        \n",
    "            super().__init__(data,pozitif_negatif)\n",
    "            self.function = function\n",
    "            \n",
    "            self.measure = super().function()\n",
    "                       \n",
    "            if pozitif_negatif ==False:\n",
    "                self.get_bools  = self._get_bools\n",
    "                self.is_provide = self._is_provide                \n",
    "            else:\n",
    "                self.get_bools  = self._pn_get_bools\n",
    "                self.is_provide = self._pn_is_provide\n",
    "           \n",
    "    def _get_bools(self) -> pd.Series:\n",
    "        bools=self.data.apply(self.is_provide)\n",
    "        bools[0]=False\n",
    "        return bools    \n",
    "    \n",
    "    \n",
    "    def _is_provide(x,measure):\n",
    "        return abs(x)<=measure\n",
    "    \n",
    "    def _pn_is_provide(x):\n",
    "        if x <0:\n",
    "            return abs(x)<=measure['negatif']\n",
    "        if x >0:\n",
    "            return abs(x)<=pozitive_measure['pozitif']"
   ]
  },
  {
   "cell_type": "code",
   "execution_count": null,
   "metadata": {},
   "outputs": [],
   "source": []
  },
  {
   "cell_type": "code",
   "execution_count": 1,
   "metadata": {},
   "outputs": [
    {
     "ename": "NameError",
     "evalue": "name 'Condition' is not defined",
     "output_type": "error",
     "traceback": [
      "\u001b[1;31m---------------------------------------------------------------------------\u001b[0m",
      "\u001b[1;31mNameError\u001b[0m                                 Traceback (most recent call last)",
      "\u001b[1;32m<ipython-input-1-674b5ec25d4a>\u001b[0m in \u001b[0;36m<module>\u001b[1;34m\u001b[0m\n\u001b[1;32m----> 1\u001b[1;33m \u001b[0mx\u001b[0m\u001b[1;33m=\u001b[0m\u001b[0mCondition\u001b[0m\u001b[1;33m(\u001b[0m\u001b[0mamp\u001b[0m\u001b[1;33m,\u001b[0m\u001b[0mfunction\u001b[0m\u001b[1;33m=\u001b[0m\u001b[0mKosulFonksiyonları\u001b[0m\u001b[1;33m.\u001b[0m\u001b[0mmedian\u001b[0m\u001b[1;33m,\u001b[0m\u001b[0mpozitif_negatif\u001b[0m\u001b[1;33m=\u001b[0m\u001b[1;32mFalse\u001b[0m\u001b[1;33m)\u001b[0m\u001b[1;33m\u001b[0m\u001b[1;33m\u001b[0m\u001b[0m\n\u001b[0m",
      "\u001b[1;31mNameError\u001b[0m: name 'Condition' is not defined"
     ]
    }
   ],
   "source": [
    "x=Condition(amp,function=KosulFonksiyonları.median,pozitif_negatif=False)"
   ]
  },
  {
   "cell_type": "code",
   "execution_count": 216,
   "metadata": {},
   "outputs": [],
   "source": [
    "x.func=KosulFonksiyonları.median"
   ]
  },
  {
   "cell_type": "code",
   "execution_count": null,
   "metadata": {},
   "outputs": [],
   "source": []
  },
  {
   "cell_type": "code",
   "execution_count": 155,
   "metadata": {},
   "outputs": [],
   "source": [
    "def get_bools(data : pd.Series, negative_measure : float) -> pd.Series:\n",
    "    bools=data.apply(condition_amp)\n",
    "    bools[0]=False\n",
    "    return bools"
   ]
  },
  {
   "cell_type": "code",
   "execution_count": 159,
   "metadata": {},
   "outputs": [],
   "source": [
    "def condition_amp(x,negative_measure=4):\n",
    "    return abs(x)<=negative_measure\n",
    "        "
   ]
  },
  {
   "cell_type": "code",
   "execution_count": 160,
   "metadata": {},
   "outputs": [
    {
     "data": {
      "text/plain": [
       "0     False\n",
       "1      True\n",
       "2      True\n",
       "3      True\n",
       "4     False\n",
       "5     False\n",
       "6     False\n",
       "7     False\n",
       "8     False\n",
       "9     False\n",
       "10     True\n",
       "11    False\n",
       "12     True\n",
       "13     True\n",
       "14    False\n",
       "15    False\n",
       "16    False\n",
       "17     True\n",
       "18     True\n",
       "19    False\n",
       "Name: amplitude, dtype: bool"
      ]
     },
     "execution_count": 160,
     "metadata": {},
     "output_type": "execute_result"
    }
   ],
   "source": [
    "get_bools(amp,5)"
   ]
  },
  {
   "cell_type": "code",
   "execution_count": 131,
   "metadata": {},
   "outputs": [],
   "source": [
    "x=Condition(amp)"
   ]
  },
  {
   "cell_type": "code",
   "execution_count": 132,
   "metadata": {},
   "outputs": [
    {
     "data": {
      "text/plain": [
       "0.5"
      ]
     },
     "execution_count": 132,
     "metadata": {},
     "output_type": "execute_result"
    }
   ],
   "source": [
    "x.median()"
   ]
  },
  {
   "cell_type": "code",
   "execution_count": 133,
   "metadata": {},
   "outputs": [
    {
     "ename": "TypeError",
     "evalue": "bad operand type for abs(): 'Condition'",
     "output_type": "error",
     "traceback": [
      "\u001b[1;31m---------------------------------------------------------------------------\u001b[0m",
      "\u001b[1;31mTypeError\u001b[0m                                 Traceback (most recent call last)",
      "\u001b[1;32m<ipython-input-133-ab2113d610e0>\u001b[0m in \u001b[0;36m<module>\u001b[1;34m\u001b[0m\n\u001b[1;32m----> 1\u001b[1;33m \u001b[0mx\u001b[0m\u001b[1;33m.\u001b[0m\u001b[0mget_bools\u001b[0m\u001b[1;33m(\u001b[0m\u001b[0mx\u001b[0m\u001b[1;33m.\u001b[0m\u001b[0mmedian\u001b[0m\u001b[1;33m(\u001b[0m\u001b[1;33m)\u001b[0m\u001b[1;33m)\u001b[0m\u001b[1;33m\u001b[0m\u001b[1;33m\u001b[0m\u001b[0m\n\u001b[0m",
      "\u001b[1;32m<ipython-input-130-13fba1737405>\u001b[0m in \u001b[0;36m_get_bools\u001b[1;34m(self, measure)\u001b[0m\n\u001b[0;32m     13\u001b[0m \u001b[1;33m\u001b[0m\u001b[0m\n\u001b[0;32m     14\u001b[0m     \u001b[1;32mdef\u001b[0m \u001b[0m_get_bools\u001b[0m\u001b[1;33m(\u001b[0m\u001b[0mself\u001b[0m\u001b[1;33m,\u001b[0m \u001b[0mmeasure\u001b[0m\u001b[1;33m)\u001b[0m \u001b[1;33m->\u001b[0m \u001b[0mpd\u001b[0m\u001b[1;33m.\u001b[0m\u001b[0mSeries\u001b[0m\u001b[1;33m:\u001b[0m\u001b[1;33m\u001b[0m\u001b[1;33m\u001b[0m\u001b[0m\n\u001b[1;32m---> 15\u001b[1;33m         \u001b[0mbools\u001b[0m\u001b[1;33m=\u001b[0m\u001b[0mself\u001b[0m\u001b[1;33m.\u001b[0m\u001b[0mdata\u001b[0m\u001b[1;33m.\u001b[0m\u001b[0mapply\u001b[0m\u001b[1;33m(\u001b[0m\u001b[0mself\u001b[0m\u001b[1;33m.\u001b[0m\u001b[0mis_provide\u001b[0m\u001b[1;33m)\u001b[0m\u001b[1;33m\u001b[0m\u001b[1;33m\u001b[0m\u001b[0m\n\u001b[0m\u001b[0;32m     16\u001b[0m         \u001b[0mbools\u001b[0m\u001b[1;33m[\u001b[0m\u001b[1;36m0\u001b[0m\u001b[1;33m]\u001b[0m\u001b[1;33m=\u001b[0m\u001b[1;32mFalse\u001b[0m\u001b[1;33m\u001b[0m\u001b[1;33m\u001b[0m\u001b[0m\n\u001b[0;32m     17\u001b[0m         \u001b[1;32mreturn\u001b[0m \u001b[0mbools\u001b[0m\u001b[1;33m\u001b[0m\u001b[1;33m\u001b[0m\u001b[0m\n",
      "\u001b[1;32mc:\\users\\ugur.eren\\python codes\\environments\\inflation_env\\lib\\site-packages\\pandas\\core\\series.py\u001b[0m in \u001b[0;36mapply\u001b[1;34m(self, func, convert_dtype, args, **kwds)\u001b[0m\n\u001b[0;32m   4043\u001b[0m             \u001b[1;32melse\u001b[0m\u001b[1;33m:\u001b[0m\u001b[1;33m\u001b[0m\u001b[1;33m\u001b[0m\u001b[0m\n\u001b[0;32m   4044\u001b[0m                 \u001b[0mvalues\u001b[0m \u001b[1;33m=\u001b[0m \u001b[0mself\u001b[0m\u001b[1;33m.\u001b[0m\u001b[0mastype\u001b[0m\u001b[1;33m(\u001b[0m\u001b[0mobject\u001b[0m\u001b[1;33m)\u001b[0m\u001b[1;33m.\u001b[0m\u001b[0mvalues\u001b[0m\u001b[1;33m\u001b[0m\u001b[1;33m\u001b[0m\u001b[0m\n\u001b[1;32m-> 4045\u001b[1;33m                 \u001b[0mmapped\u001b[0m \u001b[1;33m=\u001b[0m \u001b[0mlib\u001b[0m\u001b[1;33m.\u001b[0m\u001b[0mmap_infer\u001b[0m\u001b[1;33m(\u001b[0m\u001b[0mvalues\u001b[0m\u001b[1;33m,\u001b[0m \u001b[0mf\u001b[0m\u001b[1;33m,\u001b[0m \u001b[0mconvert\u001b[0m\u001b[1;33m=\u001b[0m\u001b[0mconvert_dtype\u001b[0m\u001b[1;33m)\u001b[0m\u001b[1;33m\u001b[0m\u001b[1;33m\u001b[0m\u001b[0m\n\u001b[0m\u001b[0;32m   4046\u001b[0m \u001b[1;33m\u001b[0m\u001b[0m\n\u001b[0;32m   4047\u001b[0m         \u001b[1;32mif\u001b[0m \u001b[0mlen\u001b[0m\u001b[1;33m(\u001b[0m\u001b[0mmapped\u001b[0m\u001b[1;33m)\u001b[0m \u001b[1;32mand\u001b[0m \u001b[0misinstance\u001b[0m\u001b[1;33m(\u001b[0m\u001b[0mmapped\u001b[0m\u001b[1;33m[\u001b[0m\u001b[1;36m0\u001b[0m\u001b[1;33m]\u001b[0m\u001b[1;33m,\u001b[0m \u001b[0mSeries\u001b[0m\u001b[1;33m)\u001b[0m\u001b[1;33m:\u001b[0m\u001b[1;33m\u001b[0m\u001b[1;33m\u001b[0m\u001b[0m\n",
      "\u001b[1;32mpandas/_libs/lib.pyx\u001b[0m in \u001b[0;36mpandas._libs.lib.map_infer\u001b[1;34m()\u001b[0m\n",
      "\u001b[1;32m<ipython-input-130-13fba1737405>\u001b[0m in \u001b[0;36m_is_provide\u001b[1;34m(x, measure)\u001b[0m\n\u001b[0;32m     23\u001b[0m \u001b[1;33m\u001b[0m\u001b[0m\n\u001b[0;32m     24\u001b[0m     \u001b[1;32mdef\u001b[0m \u001b[0m_is_provide\u001b[0m\u001b[1;33m(\u001b[0m\u001b[0mx\u001b[0m\u001b[1;33m,\u001b[0m\u001b[0mmeasure\u001b[0m\u001b[1;33m)\u001b[0m\u001b[1;33m:\u001b[0m\u001b[1;33m\u001b[0m\u001b[1;33m\u001b[0m\u001b[0m\n\u001b[1;32m---> 25\u001b[1;33m         \u001b[1;32mreturn\u001b[0m \u001b[0mabs\u001b[0m\u001b[1;33m(\u001b[0m\u001b[0mx\u001b[0m\u001b[1;33m)\u001b[0m\u001b[1;33m<=\u001b[0m\u001b[0mmeasure\u001b[0m\u001b[1;33m\u001b[0m\u001b[1;33m\u001b[0m\u001b[0m\n\u001b[0m\u001b[0;32m     26\u001b[0m \u001b[1;33m\u001b[0m\u001b[0m\n\u001b[0;32m     27\u001b[0m     \u001b[1;32mdef\u001b[0m \u001b[0m_pn_is_provide\u001b[0m\u001b[1;33m(\u001b[0m\u001b[0mx\u001b[0m\u001b[1;33m,\u001b[0m\u001b[0mnegative_measure\u001b[0m\u001b[1;33m=\u001b[0m\u001b[1;36m4\u001b[0m\u001b[1;33m,\u001b[0m\u001b[0mpozitive_measure\u001b[0m\u001b[1;33m=\u001b[0m\u001b[1;36m6\u001b[0m\u001b[1;33m)\u001b[0m\u001b[1;33m:\u001b[0m\u001b[1;33m\u001b[0m\u001b[1;33m\u001b[0m\u001b[0m\n",
      "\u001b[1;31mTypeError\u001b[0m: bad operand type for abs(): 'Condition'"
     ]
    }
   ],
   "source": [
    "x.get_bools(x.median())"
   ]
  },
  {
   "cell_type": "code",
   "execution_count": null,
   "metadata": {},
   "outputs": [],
   "source": []
  },
  {
   "cell_type": "code",
   "execution_count": 80,
   "metadata": {},
   "outputs": [
    {
     "data": {
      "text/plain": [
       "{'pozitif': 5.5, 'negatif': -4.5}"
      ]
     },
     "execution_count": 80,
     "metadata": {},
     "output_type": "execute_result"
    }
   ],
   "source": [
    "x.fonksiyonlar.median_pn()"
   ]
  },
  {
   "cell_type": "code",
   "execution_count": null,
   "metadata": {},
   "outputs": [],
   "source": []
  },
  {
   "cell_type": "code",
   "execution_count": null,
   "metadata": {},
   "outputs": [],
   "source": []
  },
  {
   "cell_type": "code",
   "execution_count": null,
   "metadata": {},
   "outputs": [],
   "source": []
  },
  {
   "cell_type": "code",
   "execution_count": null,
   "metadata": {},
   "outputs": [],
   "source": [
    "class Sign(Condition):\n",
    "    \"\"\"Veriyi çeşitli koşulları baz alarak yeniden düzenlemek isteyebilirsiniz.\n",
    "    \"\"\"\n",
    "\n",
    "    def __init__(self, data : pd.DataFrame = None) : \n",
    "        if isinstance(data, pd.Series):\n",
    "            super().__init__(data)\n",
    "        elif isinstance(data, pd.DataFrame):\n",
    "            pass\n",
    "          \n",
    "    \n",
    "        \n",
    "     \n",
    "    def implement(self) -> pd.DataFrame:\n",
    "        \"\"\" _condition_value'e göre dalgaları yeniden düzenler\n",
    "        \"\"\"\n",
    "        pass\n",
    "    \n",
    "    def sign_data(self) -> pd.Series:\n",
    "        \"\"\"Daha sonra işaretlere göre düzenlenmesi için Veriyi işaretler.\n",
    "        \"\"\"\n",
    "        pass"
   ]
  },
  {
   "cell_type": "markdown",
   "metadata": {},
   "source": [
    "# Class'ın Uygulanması"
   ]
  },
  {
   "cell_type": "code",
   "execution_count": null,
   "metadata": {},
   "outputs": [],
   "source": []
  },
  {
   "cell_type": "code",
   "execution_count": null,
   "metadata": {},
   "outputs": [],
   "source": []
  },
  {
   "cell_type": "code",
   "execution_count": null,
   "metadata": {},
   "outputs": [],
   "source": []
  }
 ],
 "metadata": {
  "kernelspec": {
   "display_name": "Python 3",
   "language": "python",
   "name": "python3"
  },
  "language_info": {
   "codemirror_mode": {
    "name": "ipython",
    "version": 3
   },
   "file_extension": ".py",
   "mimetype": "text/x-python",
   "name": "python",
   "nbconvert_exporter": "python",
   "pygments_lexer": "ipython3",
   "version": "3.7.5"
  }
 },
 "nbformat": 4,
 "nbformat_minor": 2
}
