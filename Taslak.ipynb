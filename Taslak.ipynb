{
 "cells": [
  {
   "cell_type": "code",
   "execution_count": null,
   "metadata": {},
   "outputs": [],
   "source": [
    "import pandas as pd"
   ]
  },
  {
   "cell_type": "markdown",
   "metadata": {},
   "source": [
    "# Taslak"
   ]
  },
  {
   "cell_type": "code",
   "execution_count": 184,
   "metadata": {},
   "outputs": [],
   "source": [
    "class Condition_Types:\n",
    "\n",
    "    def __init__(self, data : pd.DataFrame = None) -> None :\n",
    "        self._data=data\n",
    "    \n",
    "    def median(self) -> dict:\n",
    "        pass\n",
    "\n",
    "    def percentile(self, percentile_value : float) -> dict:\n",
    "        pass\n",
    "\n",
    "    def other_method(self):\n",
    "        pass\n",
    "    \n",
    "    def _pozitive_median(data : pd.Series) -> float:\n",
    "        \"\"\"Pozitif medyanı döndürür.\n",
    "        \"\"\"\n",
    "        return data[data>0].median()\n",
    "    \n",
    "    def _negative_median(data : pd.Series) -> float:\n",
    "        \"\"\"Negatif medyanı döndürür\n",
    "        \"\"\"\n",
    "        return data[data<0].median()\n",
    "    \n",
    "    def _negative_percentile(data : pd.Series, percent_value : float = None) -> float:\n",
    "        return data[data<0].quantile(value)\n",
    "    \n",
    "    def _pozitive_percentile(data : pd.Series, percent_value : float = None) -> float:\n",
    "        return data[data>0].quantile(value)"
   ]
  },
  {
   "cell_type": "code",
   "execution_count": 192,
   "metadata": {},
   "outputs": [],
   "source": [
    "class Condition():\n",
    "    \"\"\"Veriyi çeşitli koşulları baz alarak yeniden düzenlemek isteyebilirsiniz.\n",
    "    \"\"\"\n",
    "\n",
    "    def __init__(self, data : pd.DataFrame = None) :\n",
    "        self._data = data\n",
    "        self.types = Condition_Types(data)\n",
    "        self.values = None\n",
    "        \n",
    "     \n",
    "    def implement(self) -> pd.DataFrame:\n",
    "        \"\"\" _condition_value'e göre dalgaları yeniden düzenler\n",
    "        \"\"\"\n",
    "        pass"
   ]
  },
  {
   "cell_type": "markdown",
   "metadata": {},
   "source": [
    "# Class'ın Uygulanması"
   ]
  },
  {
   "cell_type": "code",
   "execution_count": 196,
   "metadata": {},
   "outputs": [],
   "source": [
    "condition = Condition('data')"
   ]
  },
  {
   "cell_type": "code",
   "execution_count": 197,
   "metadata": {},
   "outputs": [],
   "source": [
    "condition.values=condition.types.median()"
   ]
  },
  {
   "cell_type": "code",
   "execution_count": 198,
   "metadata": {},
   "outputs": [],
   "source": [
    "condition.implement()"
   ]
  },
  {
   "cell_type": "code",
   "execution_count": null,
   "metadata": {},
   "outputs": [],
   "source": []
  }
 ],
 "metadata": {
  "kernelspec": {
   "display_name": "Python 3",
   "language": "python",
   "name": "python3"
  },
  "language_info": {
   "codemirror_mode": {
    "name": "ipython",
    "version": 3
   },
   "file_extension": ".py",
   "mimetype": "text/x-python",
   "name": "python",
   "nbconvert_exporter": "python",
   "pygments_lexer": "ipython3",
   "version": "3.7.5"
  }
 },
 "nbformat": 4,
 "nbformat_minor": 2
}
