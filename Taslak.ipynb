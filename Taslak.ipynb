{
 "cells": [
  {
   "cell_type": "code",
   "execution_count": null,
   "metadata": {},
   "outputs": [],
   "source": [
    "import pandas as pd"
   ]
  },
  {
   "cell_type": "markdown",
   "metadata": {},
   "source": [
    "# AMAÇ"
   ]
  },
  {
   "cell_type": "markdown",
   "metadata": {},
   "source": [
    "Aşağıda, bir ürüne ait değişimin miktarını ve süresini gösteren bir tablo verilmiştir. (date,duration,amplitude)<br/>\n",
    "Negatif ve pozitif amplitude değerlerinin her biri bir dalgayı göstermektedir.<br/>\n",
    "Bazı koşullara göre bu dalgaları birleştirmek istiyoruz. Tabloda koşul olarak **amplitude<=5** kullanıldı.<br/>\n",
    "**0.satırda** negatif bir dalga var **-2**<br/>\n",
    "**1.satırda** pozitif bir dalga var ama değeri **3**. Koşulumuzu sağladığından **1** olarak işaretledik ve bu dalgaları<br/>\n",
    "**4.satıra** kadar birleştirdik. Daha sonra pozitif yönde **7** lik dalga var ve koşulu sağlamıyor.<br/>"
   ]
  },
  {
   "cell_type": "markdown",
   "metadata": {},
   "source": [
    "<img src=\"img/condition.png\">"
   ]
  },
  {
   "cell_type": "markdown",
   "metadata": {},
   "source": [
    "# Taslak"
   ]
  },
  {
   "cell_type": "code",
   "execution_count": 10,
   "metadata": {},
   "outputs": [],
   "source": [
    "class Condition:\n",
    "    \"\"\"Verideki her bir satırın, seçilen koşulu sağlayıp sağlamadığını bulun.\n",
    "    \"\"\"\n",
    "\n",
    "    def __init__(self, data : pd.DataFrame = None) -> None :\n",
    "            self.data = data\n",
    "            if isinstance(data,pd.DataFrame):\n",
    "                self._bool_list = []\n",
    "        \n",
    "    def get_bools(data : pd.Series, negative_measure : float, pozitive_measure : float) -> pd.Series:\n",
    "        bools=data.apply(condition_amp)\n",
    "        bools[0]=False\n",
    "        return bools\n",
    "    \n",
    "    def condition_amp(x,negative_measure=4,pozitive_measure=6):\n",
    "        if x <0:\n",
    "            return abs(x)<=negative_measure\n",
    "        if x >0:\n",
    "            return abs(x)<=pozitive_measure\n",
    "        \n",
    "    \n",
    "    def median(self) -> dict:\n",
    "        pass\n",
    "\n",
    "    def percentile(self, percentile_value : float) -> dict:\n",
    "        pass\n",
    "\n",
    "    def other_method(self):\n",
    "        pass\n",
    "    \n",
    "    def _pozitive_median(data : pd.Series) -> float:\n",
    "        \"\"\"Pozitif medyanı döndürür.\n",
    "        \"\"\"\n",
    "        return data[data>0].median()\n",
    "    \n",
    "    def _negative_median(data : pd.Series) -> float:\n",
    "        \"\"\"Negatif medyanı döndürür\n",
    "        \"\"\"\n",
    "        return data[data<0].median()\n",
    "    \n",
    "    def _negative_percentile(data : pd.Series, percent_value : float = None) -> float:\n",
    "        return data[data<0].quantile(value)\n",
    "    \n",
    "    def _pozitive_percentile(data : pd.Series, percent_value : float = None) -> float:\n",
    "        return data[data>0].quantile(value)"
   ]
  },
  {
   "cell_type": "code",
   "execution_count": null,
   "metadata": {},
   "outputs": [],
   "source": [
    "class Sign(Condition):\n",
    "    \"\"\"Veriyi çeşitli koşulları baz alarak yeniden düzenlemek isteyebilirsiniz.\n",
    "    \"\"\"\n",
    "\n",
    "    def __init__(self, data : pd.DataFrame = None) : \n",
    "        if isinstance(data, pd.Series):\n",
    "            super().__init__(data)\n",
    "        elif isinstance(data, pd.DataFrame):\n",
    "            pass\n",
    "          \n",
    "    \n",
    "        \n",
    "     \n",
    "    def implement(self) -> pd.DataFrame:\n",
    "        \"\"\" _condition_value'e göre dalgaları yeniden düzenler\n",
    "        \"\"\"\n",
    "        pass\n",
    "    \n",
    "    def sign_data(self) -> pd.Series:\n",
    "        \"\"\"Daha sonra işaretlere göre düzenlenmesi için Veriyi işaretler.\n",
    "        \"\"\"\n",
    "        pass"
   ]
  },
  {
   "cell_type": "markdown",
   "metadata": {},
   "source": [
    "# Class'ın Uygulanması"
   ]
  },
  {
   "cell_type": "code",
   "execution_count": 4,
   "metadata": {},
   "outputs": [],
   "source": [
    "data = pd.read_excel('example_data.xlsx')"
   ]
  },
  {
   "cell_type": "code",
   "execution_count": 14,
   "metadata": {},
   "outputs": [
    {
     "name": "stdout",
     "output_type": "stream",
     "text": [
      "0    2018-09-06 00:00:17\n",
      "1    2018-09-06 00:00:39\n",
      "2    2018-09-06 00:00:48\n",
      "3    2018-09-06 00:00:49\n",
      "4    2018-09-06 00:00:50\n",
      "5    2018-09-06 00:00:51\n",
      "6    2018-09-06 00:00:53\n",
      "7    2018-09-06 00:01:01\n",
      "8    2018-09-06 00:01:04\n",
      "9    2018-09-06 00:01:05\n",
      "10   2018-09-06 00:01:17\n",
      "11   2018-09-06 00:01:21\n",
      "12   2018-09-06 00:01:22\n",
      "13   2018-09-06 00:01:24\n",
      "14   2018-09-06 00:02:11\n",
      "15   2018-09-06 00:02:31\n",
      "16   2018-09-06 00:02:35\n",
      "17   2018-09-06 00:04:01\n",
      "18   2018-09-06 00:04:07\n",
      "19   2018-09-06 00:04:12\n",
      "Name: date, dtype: datetime64[ns]\n",
      "0     00:00:13\n",
      "1     00:00:22\n",
      "2     00:00:09\n",
      "3     00:00:01\n",
      "4     00:00:01\n",
      "5     00:00:01\n",
      "6     00:00:02\n",
      "7     00:00:08\n",
      "8     00:00:03\n",
      "9     00:00:01\n",
      "10    00:00:12\n",
      "11    00:00:04\n",
      "12    00:00:01\n",
      "13    00:00:02\n",
      "14    00:00:47\n",
      "15    00:00:20\n",
      "16    00:00:04\n",
      "17    00:01:26\n",
      "18    00:00:06\n",
      "19    00:00:05\n",
      "Name: duration, dtype: object\n",
      "0     -2\n",
      "1      3\n",
      "2     -1\n",
      "3      4\n",
      "4     -7\n",
      "5      7\n",
      "6     -9\n",
      "7      7\n",
      "8    -11\n",
      "9      5\n",
      "10    -2\n",
      "11     8\n",
      "12    -1\n",
      "13     2\n",
      "14    -9\n",
      "15     6\n",
      "16   -16\n",
      "17     4\n",
      "18    -2\n",
      "19    19\n",
      "Name: amplitude, dtype: int64\n"
     ]
    }
   ],
   "source": [
    "for i in data.columns:\n",
    "    print(data[i])"
   ]
  },
  {
   "cell_type": "code",
   "execution_count": null,
   "metadata": {},
   "outputs": [],
   "source": []
  },
  {
   "cell_type": "code",
   "execution_count": null,
   "metadata": {},
   "outputs": [],
   "source": []
  },
  {
   "cell_type": "code",
   "execution_count": null,
   "metadata": {},
   "outputs": [],
   "source": []
  },
  {
   "cell_type": "code",
   "execution_count": 1,
   "metadata": {},
   "outputs": [],
   "source": [
    "import pandas as pd\n",
    "import numpy as np"
   ]
  },
  {
   "cell_type": "code",
   "execution_count": null,
   "metadata": {},
   "outputs": [],
   "source": [
    "zzzzzzzzzzzzzzzzzzz"
   ]
  }
 ],
 "metadata": {
  "kernelspec": {
   "display_name": "Python 3",
   "language": "python",
   "name": "python3"
  },
  "language_info": {
   "codemirror_mode": {
    "name": "ipython",
    "version": 3
   },
   "file_extension": ".py",
   "mimetype": "text/x-python",
   "name": "python",
   "nbconvert_exporter": "python",
   "pygments_lexer": "ipython3",
   "version": "3.7.5"
  }
 },
 "nbformat": 4,
 "nbformat_minor": 2
}
