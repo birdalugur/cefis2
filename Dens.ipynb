{
 "cells": [
  {
   "cell_type": "code",
   "execution_count": 58,
   "metadata": {},
   "outputs": [],
   "source": [
    "from importlib import reload"
   ]
  },
  {
   "cell_type": "code",
   "execution_count": 59,
   "metadata": {
    "scrolled": true
   },
   "outputs": [
    {
     "data": {
      "text/plain": [
       "<module 'src.density' from 'C:\\\\Users\\\\ugur.eren\\\\Python Codes\\\\cefis2\\\\src\\\\density.py'>"
      ]
     },
     "execution_count": 59,
     "metadata": {},
     "output_type": "execute_result"
    }
   ],
   "source": [
    "reload(den)"
   ]
  },
  {
   "cell_type": "code",
   "execution_count": 60,
   "metadata": {},
   "outputs": [],
   "source": [
    "import pandas as pd\n",
    "import numpy as np\n",
    "import src.density as den"
   ]
  },
  {
   "cell_type": "code",
   "execution_count": 61,
   "metadata": {},
   "outputs": [],
   "source": [
    "cols = ['time period','duration','amplitude']"
   ]
  },
  {
   "cell_type": "code",
   "execution_count": 62,
   "metadata": {},
   "outputs": [],
   "source": [
    "veri = pd.read_csv('6AU8_6BU8.csv',usecols=cols, index_col = \"time period\")"
   ]
  },
  {
   "cell_type": "code",
   "execution_count": 63,
   "metadata": {
    "scrolled": true
   },
   "outputs": [],
   "source": [
    "data = veri.loc[\"18:00:00\"]"
   ]
  },
  {
   "cell_type": "code",
   "execution_count": null,
   "metadata": {},
   "outputs": [],
   "source": []
  },
  {
   "cell_type": "code",
   "execution_count": null,
   "metadata": {},
   "outputs": [],
   "source": []
  },
  {
   "cell_type": "code",
   "execution_count": 64,
   "metadata": {},
   "outputs": [],
   "source": [
    "creator = den.Interval('interval')"
   ]
  },
  {
   "cell_type": "code",
   "execution_count": 65,
   "metadata": {},
   "outputs": [],
   "source": [
    "aralik =  creator.convert_range(data)"
   ]
  },
  {
   "cell_type": "code",
   "execution_count": null,
   "metadata": {},
   "outputs": [],
   "source": []
  },
  {
   "cell_type": "code",
   "execution_count": 66,
   "metadata": {},
   "outputs": [],
   "source": [
    "veri = den.Density(aralik)"
   ]
  },
  {
   "cell_type": "code",
   "execution_count": 70,
   "metadata": {},
   "outputs": [
    {
     "data": {
      "text/plain": [
       "amplitude\n",
       "(-13.125, -12.784]    0.014599\n",
       "(-12.102, -11.761]    0.014599\n",
       "(-11.42, -11.08]      0.014599\n",
       "(-10.057, -9.716]     0.072993\n",
       "(-9.375, -9.034]      0.014599\n",
       "(-8.352, -8.011]      0.072993\n",
       "(-6.307, -5.966]      0.131387\n",
       "(-5.284, -4.943]      0.043796\n",
       "(-3.239, -2.898]      0.116788\n",
       "(-0.17, 0.17]         0.007299\n",
       "(2.898, 3.239]        0.087591\n",
       "(4.943, 5.284]        0.058394\n",
       "(5.966, 6.307]        0.145985\n",
       "(6.648, 6.989]        0.014599\n",
       "(8.011, 8.352]        0.087591\n",
       "(9.375, 9.716]        0.014599\n",
       "(9.716, 10.057]       0.058394\n",
       "(13.125, 13.466]      0.014599\n",
       "(20.284, 20.625]      0.014599\n",
       "dtype: float64"
      ]
     },
     "execution_count": 70,
     "metadata": {},
     "output_type": "execute_result"
    }
   ],
   "source": [
    "veri.conditional_density"
   ]
  },
  {
   "cell_type": "code",
   "execution_count": 16,
   "metadata": {},
   "outputs": [],
   "source": [
    "joint_density = veri.joint_density"
   ]
  },
  {
   "cell_type": "code",
   "execution_count": 18,
   "metadata": {},
   "outputs": [],
   "source": [
    "vertical_total_of_joint = veri.vertical_total_of_joint"
   ]
  },
  {
   "cell_type": "code",
   "execution_count": 19,
   "metadata": {},
   "outputs": [],
   "source": [
    "horizontal_total_of_joint = veri.horizontal_total_of_joint"
   ]
  },
  {
   "cell_type": "code",
   "execution_count": 56,
   "metadata": {},
   "outputs": [],
   "source": [
    " def conditional_density(self,choice):\n",
    "        \"\"\"Koşullu dağılımı döndürür\n",
    "        \"\"\"\n",
    "\n",
    "        #dataclass yalnızca, veriyi farklı şekillerde göstermek için kullanıldı.\n",
    "        #sözlükde kullanılabilirdi\n",
    "        @dataclass\n",
    "        class Gosterim:\n",
    "            normal:pd.DataFrame #grafikte bu kullanılacak\n",
    "            pivot:pd.DataFrame\n",
    "\n",
    "        #conditional density/y\n",
    "        if choice == 'amplitude':\n",
    "            con_density_table = self.joint_density/self.vertical_total_of_joint\n",
    "            con_density = con_density_table.stack().to_frame('conditional_distribution').swaplevel(0,1).sort_index()          \n",
    "            return Gosterim(con_density,con_density_table)\n",
    "\n",
    "        #conditional density/x\n",
    "        elif choice == 'duration':\n",
    "            con_density_table = (self.joint_density.T/self.horizontal_total_of_joint).T\n",
    "            con_density = con_density_table.stack().to_frame('conditional_distribution').swaplevel(0, 1, axis=0).sort_index()\n",
    "            return Gosterim(con_density_table,con_density)\n",
    "\n",
    "        else:\n",
    "            raise Exception(\n",
    "                \"choice, 'duration' ya da 'amplitude' olarak ayarlanmalıdır'\")"
   ]
  },
  {
   "cell_type": "code",
   "execution_count": 55,
   "metadata": {},
   "outputs": [],
   "source": [
    "def check_it():\n",
    "            distribution_of_pivot = distribution_of_pivot.transpose()\n",
    "            satir_toplami = distribution_of_pivot.agg('sum',axis=1)            \n",
    "            distribution_of_pivot['sum'] = satir_toplami\n",
    "            #             sutun_toplami=distribution_of_pivot.agg('sum')\n",
    "#             sutun_toplami.name = 'sum'\n",
    "#             distribution_of_pivot = distribution_of_pivot.append(sutun_toplami)"
   ]
  },
  {
   "cell_type": "code",
   "execution_count": null,
   "metadata": {},
   "outputs": [],
   "source": []
  },
  {
   "cell_type": "code",
   "execution_count": null,
   "metadata": {},
   "outputs": [],
   "source": []
  }
 ],
 "metadata": {
  "kernelspec": {
   "display_name": "Python 3",
   "language": "python",
   "name": "python3"
  },
  "language_info": {
   "codemirror_mode": {
    "name": "ipython",
    "version": 3
   },
   "file_extension": ".py",
   "mimetype": "text/x-python",
   "name": "python",
   "nbconvert_exporter": "python",
   "pygments_lexer": "ipython3",
   "version": "3.7.4"
  }
 },
 "nbformat": 4,
 "nbformat_minor": 4
}
