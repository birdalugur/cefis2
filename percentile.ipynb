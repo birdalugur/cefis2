{
 "cells": [
  {
   "cell_type": "markdown",
   "metadata": {},
   "source": [
    "! jt -r"
   ]
  },
  {
   "cell_type": "markdown",
   "metadata": {},
   "source": [
    "from importlib import reload\n",
    "reload(aux)\n",
    "reload(con)\n",
    "reload(info)"
   ]
  },
  {
   "cell_type": "code",
   "execution_count": 95,
   "metadata": {},
   "outputs": [],
   "source": [
    "from importlib import reload\n",
    "import pandas as pd\n",
    "import src.auxiliary_functions as aux\n",
    "import src.condition as con\n",
    "from datetime import time, datetime,date\n",
    "import src.info as info\n",
    "import src.in_out as io\n",
    "import numpy as np\n",
    "import itertools"
   ]
  },
  {
   "cell_type": "code",
   "execution_count": 94,
   "metadata": {},
   "outputs": [
    {
     "data": {
      "text/plain": [
       "<module 'src.condition' from 'C:\\\\Users\\\\ugur.eren\\\\Python Codes\\\\cefis2\\\\src\\\\condition.py'>"
      ]
     },
     "execution_count": 94,
     "metadata": {},
     "output_type": "execute_result"
    }
   ],
   "source": [
    "reload(con)"
   ]
  },
  {
   "cell_type": "markdown",
   "metadata": {},
   "source": [
    "# Hazırlık Aşaması"
   ]
  },
  {
   "cell_type": "markdown",
   "metadata": {},
   "source": [
    "**data** klasöründeki tüm dosya yolları alınıyor\n",
    "```python\n",
    ">>> path_list\n",
    "Out []:\n",
    " ['C:\\\\Users\\\\ugur.eren\\\\Python Codes\\\\cefis2\\\\data\\\\20180906_6A_U8.xlsx',\n",
    " 'C:\\\\Users\\\\ugur.eren\\\\Python Codes\\\\cefis2\\\\data\\\\20180906_6B_U8.xlsx',\n",
    " 'C:\\\\Users\\\\ugur.eren\\\\Python Codes\\\\cefis2\\\\data\\\\20180906_6C_U8.xlsx',\n",
    " 'C:\\\\Users\\\\ugur.eren\\\\Python Codes\\\\cefis2\\\\data\\\\20180907_6A_U8.xlsx',\n",
    " 'C:\\\\Users\\\\ugur.eren\\\\Python Codes\\\\cefis2\\\\data\\\\20180907_6B_U8.xlsx',\n",
    " 'C:\\\\Users\\\\ugur.eren\\\\Python Codes\\\\cefis2\\\\data\\\\20180907_6C_U8.xlsx']\n",
    "```"
   ]
  },
  {
   "cell_type": "code",
   "execution_count": 2,
   "metadata": {},
   "outputs": [],
   "source": [
    "path_list = io.get_path('C:\\\\Users\\\\ugur.eren\\\\Python Codes\\\\cefis2\\\\data\\\\')"
   ]
  },
  {
   "cell_type": "markdown",
   "metadata": {},
   "source": [
    "Ürün adları sırayla alınıyor\n",
    "```py\n",
    ">>> product_names\n",
    "Out[]:\n",
    "['6AU8', '6BU8', '6CU8', '6AU8', '6BU8', '6CU8']```"
   ]
  },
  {
   "cell_type": "code",
   "execution_count": 3,
   "metadata": {},
   "outputs": [],
   "source": [
    "product_names = [info.get_productName(path) for path in path_list]"
   ]
  },
  {
   "cell_type": "markdown",
   "metadata": {},
   "source": [
    "Tarihler sırayla alınıyor\n",
    "```py\n",
    ">>> date_list\n",
    "Out[]:\n",
    "[Timestamp('2018-09-06 00:00:00'),\n",
    " Timestamp('2018-09-06 00:00:00'),\n",
    " Timestamp('2018-09-06 00:00:00'),\n",
    " Timestamp('2018-09-07 00:00:00'),\n",
    " Timestamp('2018-09-07 00:00:00'),\n",
    " Timestamp('2018-09-07 00:00:00')]\n",
    "```"
   ]
  },
  {
   "cell_type": "code",
   "execution_count": 4,
   "metadata": {},
   "outputs": [
    {
     "data": {
      "text/plain": [
       "datetime.date(2018, 9, 6)"
      ]
     },
     "execution_count": 4,
     "metadata": {},
     "output_type": "execute_result"
    }
   ],
   "source": [
    "info.get_productDate('C:\\\\Users\\\\ugur.eren\\\\Python Codes\\\\cefis2\\\\data\\\\20180906_6A_U8.xlsx').date()"
   ]
  },
  {
   "cell_type": "code",
   "execution_count": 5,
   "metadata": {},
   "outputs": [],
   "source": [
    "date_list = [info.get_productDate(path) for path in path_list]"
   ]
  },
  {
   "cell_type": "markdown",
   "metadata": {},
   "source": [
    "Hangi sütunlardaki verileri alacağımızı aşağıdaki listede belirityoruz"
   ]
  },
  {
   "cell_type": "code",
   "execution_count": 6,
   "metadata": {},
   "outputs": [],
   "source": [
    "cols= [\"Time\",\"BID price\",\"ASK price\"]"
   ]
  },
  {
   "cell_type": "markdown",
   "metadata": {},
   "source": [
    "Dosyalardan veriler dataframe olarak okunuyor ve listeye atılıyor.\n",
    "Okunan_veriler'in yapısı: <br/>\n",
    "```py\n",
    "list(pd.DataFrame,pd.DataFrame.....)\n",
    "```"
   ]
  },
  {
   "cell_type": "code",
   "execution_count": 7,
   "metadata": {},
   "outputs": [],
   "source": [
    "okunan_veriler = [pd.read_excel(path,usecols=cols) for path in path_list]"
   ]
  },
  {
   "cell_type": "markdown",
   "metadata": {},
   "source": [
    "Her bir DataFrame'deki sütunlar yeniden adlandırılıyor"
   ]
  },
  {
   "cell_type": "code",
   "execution_count": 8,
   "metadata": {},
   "outputs": [],
   "source": [
    "columns=['time','bid_price','ask_price']"
   ]
  },
  {
   "cell_type": "code",
   "execution_count": 9,
   "metadata": {},
   "outputs": [],
   "source": [
    "for df in okunan_veriler:\n",
    "    df.columns = columns"
   ]
  },
  {
   "cell_type": "code",
   "execution_count": 10,
   "metadata": {},
   "outputs": [],
   "source": [
    "time_stamp = okunan_veriler[0].time"
   ]
  },
  {
   "cell_type": "markdown",
   "metadata": {},
   "source": [
    "# Mid Price Hesaplama ve Saatlik Bölme "
   ]
  },
  {
   "cell_type": "markdown",
   "metadata": {},
   "source": [
    "hesaplanan her bir mid_price **list_of_mid_price** adlı listeye atılıyor. Listenin yapısı aşağıdaki gibidir:\n",
    "```py\n",
    "list(pd.Series,pd.Series,pd.Series...)\n",
    "```"
   ]
  },
  {
   "cell_type": "code",
   "execution_count": 11,
   "metadata": {},
   "outputs": [],
   "source": [
    "list_of_mid_price = list(map(aux.get_mid_price,okunan_veriler))"
   ]
  },
  {
   "cell_type": "markdown",
   "metadata": {},
   "source": [
    "Bulunan mid price hiyerarşik indeksleme ile tek DataFrame'de birleştiriliyor."
   ]
  },
  {
   "cell_type": "code",
   "execution_count": 12,
   "metadata": {},
   "outputs": [],
   "source": [
    "arrays = [date_list,product_names]"
   ]
  },
  {
   "cell_type": "code",
   "execution_count": 13,
   "metadata": {
    "scrolled": true
   },
   "outputs": [],
   "source": [
    "df_mp = pd.DataFrame(data=list_of_mid_price, index = arrays)"
   ]
  },
  {
   "cell_type": "markdown",
   "metadata": {},
   "source": [
    "Bu dataframe zaman sütunu eklenip saatlik olarak bölünüyor."
   ]
  },
  {
   "cell_type": "code",
   "execution_count": 14,
   "metadata": {},
   "outputs": [],
   "source": [
    "df_mp_t = df_mp.T"
   ]
  },
  {
   "cell_type": "code",
   "execution_count": 15,
   "metadata": {},
   "outputs": [],
   "source": [
    "df_mp_t['time'] = time_stamp"
   ]
  },
  {
   "cell_type": "markdown",
   "metadata": {},
   "source": [
    "```py\n",
    ">>> len(list_of_hourly_mp)\n",
    "Out[]: 23\n",
    ">>> df.columns.levels\n",
    "Out[]:FrozenList([[2018-09-06 00:00:00, 2018-09-07 00:00:00, 'time'], ['6AU8', '6BU8', '6CU8', '']])\n",
    "```"
   ]
  },
  {
   "cell_type": "code",
   "execution_count": 16,
   "metadata": {},
   "outputs": [],
   "source": [
    "list_of_hourly_mp = aux.split_df(df_mp_t,23)"
   ]
  },
  {
   "cell_type": "markdown",
   "metadata": {},
   "source": [
    "----"
   ]
  },
  {
   "cell_type": "markdown",
   "metadata": {},
   "source": [
    "# Ürünler Eşleştiriliyor"
   ]
  },
  {
   "cell_type": "markdown",
   "metadata": {},
   "source": [
    "```python\n",
    ">>> non_duplicate_dates\n",
    "Out[]:[Timestamp('2018-09-06 00:00:00'), Timestamp('2018-09-07 00:00:00')]\n",
    ">>> non_duplicate_names\n",
    "Out[]:['6AU8', '6BU8', '6CU8']\n",
    ">>> paired_products\n",
    "Out[]: [('6AU8', '6BU8'), ('6AU8', '6CU8'), ('6BU8', '6CU8')]\n",
    "```"
   ]
  },
  {
   "cell_type": "code",
   "execution_count": 17,
   "metadata": {},
   "outputs": [],
   "source": [
    "non_duplicate_dates = list(dict.fromkeys(date_list)) #tekrar eden tarihler kaldırıldı."
   ]
  },
  {
   "cell_type": "code",
   "execution_count": 18,
   "metadata": {},
   "outputs": [],
   "source": [
    "non_duplicate_names = list(dict.fromkeys(product_names)) #tekrar eden ürünler kaldırıldı."
   ]
  },
  {
   "cell_type": "code",
   "execution_count": 19,
   "metadata": {},
   "outputs": [],
   "source": [
    "paired_products = list(itertools.combinations(non_duplicate_names, 2)) #2'li kombinasyon kullanılarak ürünler eşleştiriliyor."
   ]
  },
  {
   "cell_type": "markdown",
   "metadata": {},
   "source": [
    "----"
   ]
  },
  {
   "cell_type": "markdown",
   "metadata": {},
   "source": [
    "# Spread Hesaplanıyor"
   ]
  },
  {
   "cell_type": "markdown",
   "metadata": {},
   "source": [
    "**list_of_hourly_mp** da hiyerarşi şu şekildedir: <br/>\n",
    "* Önce saate erişiriz\n",
    "* İkinci olarak tarihe erişiriz\n",
    "* Son olarak ürüne erişiriz <br/>\n",
    "**Buna göre spread hesaplamak için aşağıdaki yol izlenir:** <br/>\n",
    "    1. Her bir saate eriş\n",
    "    2. Her bir tarihe eriş\n",
    "    3. Pairleri al\n",
    "    4. *spread_hesapla(pair): return pd.Series*\n",
    "    "
   ]
  },
  {
   "cell_type": "code",
   "execution_count": 20,
   "metadata": {},
   "outputs": [],
   "source": [
    "values={'a_PNLTICK':10,\n",
    "'a_TICKSIZE':0.0001,\n",
    "'b_PNLTICK':6.25,\n",
    "'b_TICKSIZE':0.0001}"
   ]
  },
  {
   "cell_type": "code",
   "execution_count": 21,
   "metadata": {
    "scrolled": true
   },
   "outputs": [],
   "source": [
    "def spread_al(df):\n",
    "    spread_dict = {}\n",
    "    for date in non_duplicate_dates:\n",
    "        for pair in paired_products:\n",
    "            mp_1 = df[pd.Timestamp(date)][pair[0]]\n",
    "            mp_2 = df[pd.Timestamp(date)][pair[1]]\n",
    "            spread_dict[(date,pair[0]+\"_\"+pair[1])] = aux.find_spread(mp_1,mp_2,values)\n",
    "    new_df = pd.DataFrame(spread_dict)\n",
    "    new_df['time'] = df.time\n",
    "    return new_df"
   ]
  },
  {
   "cell_type": "code",
   "execution_count": 22,
   "metadata": {},
   "outputs": [],
   "source": [
    "spread = [spread_al(df) for df in list_of_hourly_mp]"
   ]
  },
  {
   "cell_type": "markdown",
   "metadata": {},
   "source": [
    "----"
   ]
  },
  {
   "cell_type": "markdown",
   "metadata": {},
   "source": [
    "# Change Hesaplanıyor"
   ]
  },
  {
   "cell_type": "code",
   "execution_count": 23,
   "metadata": {},
   "outputs": [],
   "source": [
    "pairs = [pair[0]+'_'+pair[1] for pair in paired_products]"
   ]
  },
  {
   "cell_type": "code",
   "execution_count": 24,
   "metadata": {},
   "outputs": [],
   "source": [
    "def change_al(df):\n",
    "    change_dict = {}\n",
    "    for date in non_duplicate_dates:\n",
    "        for pair in pairs:\n",
    "            sub_df = df[date][pair]            \n",
    "            change_dict[(date,pair)] = aux.find_change(sub_df)\n",
    "    new_df = pd.DataFrame(change_dict)\n",
    "    new_df['time'] = df.time\n",
    "    return new_df"
   ]
  },
  {
   "cell_type": "code",
   "execution_count": 25,
   "metadata": {
    "scrolled": true
   },
   "outputs": [],
   "source": [
    "change_list = [change_al(df) for df in spread]"
   ]
  },
  {
   "cell_type": "markdown",
   "metadata": {},
   "source": [
    "---"
   ]
  },
  {
   "cell_type": "markdown",
   "metadata": {},
   "source": [
    "# Duration ve Amplitude Hesaplanıyor"
   ]
  },
  {
   "cell_type": "markdown",
   "metadata": {},
   "source": [
    "Hesaplama ile birlikte birleştirme de yapılıyor.\n",
    "Birleştirme koşulu: <br/>\n",
    "1. Ürünler aynı olacak\n",
    "2. Tarihler farklı olacak\n",
    "3. Saat dilimi aynı olacak"
   ]
  },
  {
   "cell_type": "code",
   "execution_count": 26,
   "metadata": {},
   "outputs": [],
   "source": [
    "def unnamed1(df):\n",
    "    lengt = df.shape[1]\n",
    "    df_list = []\n",
    "    for i in range(lengt):\n",
    "        df_list.append(aux.find_duramp(df.iloc[:,1]))\n",
    "    return pd.concat(df_list).dropna()"
   ]
  },
  {
   "cell_type": "code",
   "execution_count": 27,
   "metadata": {},
   "outputs": [],
   "source": [
    "def unnamed2(df):\n",
    "    new_df = duzenle(df)\n",
    "    product = {}\n",
    "    for pair in pairs:\n",
    "        product[pair] = unnamed1(new_df[pair])\n",
    "    return product"
   ]
  },
  {
   "cell_type": "code",
   "execution_count": 28,
   "metadata": {},
   "outputs": [],
   "source": [
    "def duzenle(df):\n",
    "    new_df = df.set_index('time')\n",
    "    new_df = new_df.T.reset_index(level=0,drop=True).T\n",
    "    return new_df"
   ]
  },
  {
   "cell_type": "code",
   "execution_count": 29,
   "metadata": {
    "scrolled": true
   },
   "outputs": [],
   "source": [
    "duramp = [unnamed2(change) for change in change_list]"
   ]
  },
  {
   "cell_type": "markdown",
   "metadata": {},
   "source": [
    "---"
   ]
  },
  {
   "cell_type": "markdown",
   "metadata": {},
   "source": [
    "# Medyanı baz alarak verileri yeniden düzenliyoruz"
   ]
  },
  {
   "cell_type": "markdown",
   "metadata": {},
   "source": [
    "**pozitif ve negatif medyan, duration ve amplitude için ayrı ayrı baz alınarak hesaplanmıştır**\n",
    "```py\n",
    ">>> edited_data.keys()\n",
    "Out[]: dict_keys(['6AU8_6BU8', '6AU8_6CU8', '6BU8_6CU8'])\n",
    "```\n",
    "Bir ürüne ait tüm veriye erişmek için:\n",
    "```py\n",
    "edited_data['6AU8_6BU8']\n",
    "```\n",
    "Bir ürünün belirli bir saatine ait veriye erişmek için:\n",
    "```py\n",
    "edited_data['6AU8_6BU8'].loc[time(18)]\n",
    "```"
   ]
  },
  {
   "cell_type": "code",
   "execution_count": 97,
   "metadata": {},
   "outputs": [],
   "source": [
    "hour_series = pd.date_range('2018-01-01-18', periods=23, freq='H').time"
   ]
  },
  {
   "cell_type": "markdown",
   "metadata": {},
   "source": [
    "-------------"
   ]
  },
  {
   "cell_type": "code",
   "execution_count": 98,
   "metadata": {},
   "outputs": [],
   "source": [
    "edited_data = {}"
   ]
  },
  {
   "cell_type": "code",
   "execution_count": 99,
   "metadata": {},
   "outputs": [],
   "source": [
    "unconditional = {}"
   ]
  },
  {
   "cell_type": "code",
   "execution_count": 102,
   "metadata": {},
   "outputs": [],
   "source": [
    "percentile_data = {}"
   ]
  },
  {
   "cell_type": "code",
   "execution_count": 103,
   "metadata": {},
   "outputs": [],
   "source": [
    "for pair in pairs:\n",
    "    con_list = []\n",
    "    con_percent_list=[]\n",
    "    uncon_list = []\n",
    "    for i in range(23):\n",
    "        current = duramp[i][pair]\n",
    "        con_df = con.single_scan(current)\n",
    "        con_df_percent = con.single_scan(current,condition='percentile',quantile_value=.25)\n",
    "        con_list.append(con_df)\n",
    "        uncon_list.append(current)\n",
    "        con_percent_list.append(con_df_percent)\n",
    "    edited_data[pair] = pd.concat(con_list,keys=hour_series)\n",
    "    unconditional[pair] = pd.concat(uncon_list,keys= hour_series)\n",
    "    percentile_data[pair] = pd.concat(con_percent_list,keys= hour_series)"
   ]
  },
  {
   "cell_type": "markdown",
   "metadata": {},
   "source": [
    "---"
   ]
  },
  {
   "cell_type": "markdown",
   "metadata": {},
   "source": [
    "# Dosyaya Yazılıyor"
   ]
  },
  {
   "cell_type": "code",
   "execution_count": 101,
   "metadata": {},
   "outputs": [
    {
     "name": "stdout",
     "output_type": "stream",
     "text": [
      "dosyaya yazılıyor:  6AU8_6BU8\n",
      "dosyaya yazılıyor:  6AU8_6CU8\n",
      "dosyaya yazılıyor:  6BU8_6CU8\n"
     ]
    }
   ],
   "source": [
    "for pair in pairs:\n",
    "        print(\"dosyaya yazılıyor: \",pair)\n",
    "        df = edited_data[pair].reset_index()\n",
    "        uncon_df = unconditional[pair].reset_index()\n",
    "        df.columns=['time_period','time','duration','amplitude']\n",
    "        uncon_df.columns=['time_period','time','duration','amplitude']\n",
    "        df.to_csv(pair+\".csv\")\n",
    "        uncon_df.to_csv(pair+\"_unconditional.csv\",index = False)"
   ]
  },
  {
   "cell_type": "code",
   "execution_count": null,
   "metadata": {},
   "outputs": [],
   "source": []
  }
 ],
 "metadata": {
  "kernelspec": {
   "display_name": "Python 3",
   "language": "python",
   "name": "python3"
  },
  "language_info": {
   "codemirror_mode": {
    "name": "ipython",
    "version": 3
   },
   "file_extension": ".py",
   "mimetype": "text/x-python",
   "name": "python",
   "nbconvert_exporter": "python",
   "pygments_lexer": "ipython3",
   "version": "3.7.4"
  }
 },
 "nbformat": 4,
 "nbformat_minor": 4
}
