{
 "cells": [
  {
   "cell_type": "code",
   "execution_count": null,
   "metadata": {},
   "outputs": [],
   "source": [
    "import pandas as pd\n",
    "import src.auxiliary_functions as aux\n",
    "from dataclasses import dataclass, field\n",
    "from datetime import datetime\n",
    "from typing import List"
   ]
  },
  {
   "cell_type": "code",
   "execution_count": null,
   "metadata": {},
   "outputs": [],
   "source": [
    "@dataclass\n",
    "class GunlukVeri:    \n",
    "    #eslesmis_info: tuple\n",
    "    saatik_data: list\n",
    "    tarih: datetime.date\n",
    "    name: str\n",
    "    time: List[pd.Series] = field(default_factory=list)\n",
    "    spread: List[pd.Series] = field(default_factory=list)\n",
    "    change: List[pd.Series] = field(default_factory=list)\n",
    "    duration: List[pd.Series] = field(default_factory=list)\n",
    "    amplitude: List[pd.Series] = field(default_factory=list)\n",
    "    df: pd.DataFrame = field(default=pd.DataFrame)\n",
    "        \n",
    "    def spread_hesapla(self):\n",
    "        for i in range(23):\n",
    "            self.time.append(self.saatik_data[i]['time'])\n",
    "            self.spread.append(aux.find_spread((self.saatik_data[i].iloc[:,1],self.saatik_data[i].iloc[:,2]),a_PNLTICK=10,a_TICKSIZE=0.0001,b_PNLTICK=6.25,b_TICKSIZE=0.0001))\n",
    "            self.change.append(aux.find_change(self.spread[i]))\n",
    "            self.duration.append(aux.find_duration(self.change[i]))\n",
    "            self.amplitude.append(aux.find_amplitude(self.change[i],self.duration[i]))\n",
    "        \n",
    "        \n",
    "    def get_df(self,hour_slice):\n",
    "        return pd.DataFrame(data=[self.spread[hour_slice],self.change[hour_slice],self.duration[hour_slice],self.amplitude[hour_slice]])"
   ]
  },
  {
   "cell_type": "code",
   "execution_count": null,
   "metadata": {},
   "outputs": [],
   "source": [
    "def to_match_days(infoList):\n",
    "    \"\"\"Aynı güne ait olan verileri tuple çiftleri olarak bulur ve listeye atar\n",
    "    Parameters:\n",
    "        infoList(list): Info örneklerinin bir listesi\n",
    "    Returns:\n",
    "        list: tuple çitlerinin bir listesi\n",
    "    \"\"\"\n",
    "    same=[]\n",
    "    size = len(infoList)\n",
    "    for i in range(size-1):\n",
    "        for k in range(i+1,size):\n",
    "            if (infoList[i].date==infoList[k].date) and (infoList[i].product!=infoList[k].product):\n",
    "                same.append((infoList[i],infoList[k]))\n",
    "    return same"
   ]
  },
  {
   "cell_type": "code",
   "execution_count": null,
   "metadata": {},
   "outputs": [],
   "source": [
    "def to_match_hour(info1,info2):\n",
    "    \"\"\"make hourly matching belonging to different products\n",
    "    Parameters:\n",
    "        info1, info2 (Info) :\n",
    "    Returns:\n",
    "        list: mid_price içeren saatlik df listesi\n",
    "    \"\"\"\n",
    "    saatlik =[]\n",
    "    for i in range(23):\n",
    "        d = {'time': info1.hourly_data[i].time,\n",
    "             info1.date.strftime('%m/%d/%Y_')+info1.product : info1.hourly_data[i].mid_price,\n",
    "             info2.date.strftime('%m/%d/%Y_')+info2.product : info2.hourly_data[i].mid_price }        \n",
    "        saatlik.append(pd.DataFrame(data=d).reset_index(drop=True))\n",
    "    return saatlik"
   ]
  },
  {
   "cell_type": "code",
   "execution_count": null,
   "metadata": {},
   "outputs": [],
   "source": []
  }
 ],
 "metadata": {
  "kernelspec": {
   "display_name": "Python 3",
   "language": "python",
   "name": "python3"
  },
  "language_info": {
   "codemirror_mode": {
    "name": "ipython",
    "version": 3
   },
   "file_extension": ".py",
   "mimetype": "text/x-python",
   "name": "python",
   "nbconvert_exporter": "python",
   "pygments_lexer": "ipython3",
   "version": "3.7.3"
  }
 },
 "nbformat": 4,
 "nbformat_minor": 2
}
