{
 "cells": [
  {
   "cell_type": "code",
   "execution_count": null,
   "metadata": {},
   "outputs": [],
   "source": [
    "import pandas as pd\n",
    "import auxiliary_functions as aux\n",
    "from dataclasses import dataclass\n",
    "from datetime import datetime"
   ]
  },
  {
   "cell_type": "code",
   "execution_count": null,
   "metadata": {},
   "outputs": [],
   "source": [
    "@dataclass\n",
    "class Info:\n",
    "    path: str\n",
    "    date: datetime.date\n",
    "    product: str\n",
    "    df: pd.DataFrame\n",
    "    hourly_data: list"
   ]
  },
  {
   "cell_type": "code",
   "execution_count": null,
   "metadata": {},
   "outputs": [],
   "source": [
    "def get_info(path):\n",
    "    __cols= [\"Time\",\"BID price\",\"ASK price\"]\n",
    "    split_text = __parse_path(path)\n",
    "    date=__findDate(split_text[0])\n",
    "    product=split_text[1] + split_text[2]\n",
    "    df = pd.read_excel(path,usecols=__cols)\n",
    "    df.columns=['time','bid_price','ask_price']\n",
    "    hourly_data = aux.split_df(df)\n",
    "    hourly_data=__calc_mp(hourly_data)\n",
    "    return Info(path,date,product,df=df,hourly_data=hourly_data)"
   ]
  },
  {
   "cell_type": "code",
   "execution_count": null,
   "metadata": {},
   "outputs": [],
   "source": [
    "def __calc_mp(hourly_data):\n",
    "    i=0\n",
    "    for data in hourly_data:\n",
    "        mp = aux.find_arithmeticMean(\"self.product\",data.bid_price, data.ask_price)\n",
    "        hourly_data[i]['mid_price'] = mp\n",
    "        i+=1\n",
    "    return hourly_data"
   ]
  },
  {
   "cell_type": "code",
   "execution_count": null,
   "metadata": {},
   "outputs": [],
   "source": [
    "def __parse_path(path):\n",
    "    return path.split('\\\\')[-1].split('.')[0].split('_')"
   ]
  },
  {
   "cell_type": "code",
   "execution_count": null,
   "metadata": {},
   "outputs": [],
   "source": [
    "def __findDate(date):\n",
    "    return pd.Timestamp(date).date()"
   ]
  }
 ],
 "metadata": {
  "kernelspec": {
   "display_name": "Python 3",
   "language": "python",
   "name": "python3"
  },
  "language_info": {
   "codemirror_mode": {
    "name": "ipython",
    "version": 3
   },
   "file_extension": ".py",
   "mimetype": "text/x-python",
   "name": "python",
   "nbconvert_exporter": "python",
   "pygments_lexer": "ipython3",
   "version": "3.7.3"
  }
 },
 "nbformat": 4,
 "nbformat_minor": 2
}
