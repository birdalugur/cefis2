{
 "cells": [
  {
   "cell_type": "code",
   "execution_count": 1,
   "metadata": {},
   "outputs": [],
   "source": [
    "import pandas as pd\n",
    "import numpy as np\n",
    "import src.density as den\n",
    "import src.graphic as graph"
   ]
  },
  {
   "cell_type": "markdown",
   "metadata": {},
   "source": [
    "# Veri Okunuyor"
   ]
  },
  {
   "cell_type": "code",
   "execution_count": 2,
   "metadata": {},
   "outputs": [],
   "source": [
    "cols = ['time_period','duration','amplitude']\n",
    "veri = pd.read_csv('6AU8_6BU8.csv',usecols=cols, index_col = 0)"
   ]
  },
  {
   "cell_type": "code",
   "execution_count": 4,
   "metadata": {},
   "outputs": [],
   "source": [
    "data = veri.loc[\"18:00:00\"]"
   ]
  },
  {
   "cell_type": "markdown",
   "metadata": {},
   "source": [
    "# Aralık Oluşturuluyor"
   ]
  },
  {
   "cell_type": "code",
   "execution_count": 6,
   "metadata": {},
   "outputs": [],
   "source": [
    "range_creator = den.Interval('interval')"
   ]
  },
  {
   "cell_type": "code",
   "execution_count": null,
   "metadata": {},
   "outputs": [],
   "source": [
    "range_data =  "
   ]
  },
  {
   "cell_type": "code",
   "execution_count": 14,
   "metadata": {
    "scrolled": false
   },
   "outputs": [
    {
     "data": {
      "text/html": [
       "<div>\n",
       "<style scoped>\n",
       "    .dataframe tbody tr th:only-of-type {\n",
       "        vertical-align: middle;\n",
       "    }\n",
       "\n",
       "    .dataframe tbody tr th {\n",
       "        vertical-align: top;\n",
       "    }\n",
       "\n",
       "    .dataframe thead th {\n",
       "        text-align: right;\n",
       "    }\n",
       "</style>\n",
       "<table border=\"1\" class=\"dataframe\">\n",
       "  <thead>\n",
       "    <tr style=\"text-align: right;\">\n",
       "      <th></th>\n",
       "      <th>duration</th>\n",
       "      <th>amplitude</th>\n",
       "    </tr>\n",
       "    <tr>\n",
       "      <th>time_period</th>\n",
       "      <th></th>\n",
       "      <th></th>\n",
       "    </tr>\n",
       "  </thead>\n",
       "  <tbody>\n",
       "    <tr>\n",
       "      <td>18:00:00</td>\n",
       "      <td>3.0</td>\n",
       "      <td>-11.250</td>\n",
       "    </tr>\n",
       "    <tr>\n",
       "      <td>18:00:00</td>\n",
       "      <td>9.0</td>\n",
       "      <td>10.000</td>\n",
       "    </tr>\n",
       "    <tr>\n",
       "      <td>18:00:00</td>\n",
       "      <td>2.0</td>\n",
       "      <td>-6.250</td>\n",
       "    </tr>\n",
       "    <tr>\n",
       "      <td>18:00:00</td>\n",
       "      <td>2.0</td>\n",
       "      <td>6.250</td>\n",
       "    </tr>\n",
       "    <tr>\n",
       "      <td>18:00:00</td>\n",
       "      <td>52.0</td>\n",
       "      <td>-6.250</td>\n",
       "    </tr>\n",
       "    <tr>\n",
       "      <td>...</td>\n",
       "      <td>...</td>\n",
       "      <td>...</td>\n",
       "    </tr>\n",
       "    <tr>\n",
       "      <td>16:00:00</td>\n",
       "      <td>18.0</td>\n",
       "      <td>-15.625</td>\n",
       "    </tr>\n",
       "    <tr>\n",
       "      <td>16:00:00</td>\n",
       "      <td>5.0</td>\n",
       "      <td>9.375</td>\n",
       "    </tr>\n",
       "    <tr>\n",
       "      <td>16:00:00</td>\n",
       "      <td>14.0</td>\n",
       "      <td>-11.250</td>\n",
       "    </tr>\n",
       "    <tr>\n",
       "      <td>16:00:00</td>\n",
       "      <td>10.0</td>\n",
       "      <td>11.250</td>\n",
       "    </tr>\n",
       "    <tr>\n",
       "      <td>16:00:00</td>\n",
       "      <td>5.0</td>\n",
       "      <td>-3.125</td>\n",
       "    </tr>\n",
       "  </tbody>\n",
       "</table>\n",
       "<p>10725 rows × 2 columns</p>\n",
       "</div>"
      ],
      "text/plain": [
       "             duration  amplitude\n",
       "time_period                     \n",
       "18:00:00          3.0    -11.250\n",
       "18:00:00          9.0     10.000\n",
       "18:00:00          2.0     -6.250\n",
       "18:00:00          2.0      6.250\n",
       "18:00:00         52.0     -6.250\n",
       "...               ...        ...\n",
       "16:00:00         18.0    -15.625\n",
       "16:00:00          5.0      9.375\n",
       "16:00:00         14.0    -11.250\n",
       "16:00:00         10.0     11.250\n",
       "16:00:00          5.0     -3.125\n",
       "\n",
       "[10725 rows x 2 columns]"
      ]
     },
     "execution_count": 14,
     "metadata": {},
     "output_type": "execute_result"
    }
   ],
   "source": [
    "veri"
   ]
  }
 ],
 "metadata": {
  "kernelspec": {
   "display_name": "Python 3",
   "language": "python",
   "name": "python3"
  },
  "language_info": {
   "codemirror_mode": {
    "name": "ipython",
    "version": 3
   },
   "file_extension": ".py",
   "mimetype": "text/x-python",
   "name": "python",
   "nbconvert_exporter": "python",
   "pygments_lexer": "ipython3",
   "version": "3.7.4"
  }
 },
 "nbformat": 4,
 "nbformat_minor": 2
}
