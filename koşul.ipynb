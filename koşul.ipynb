{
 "cells": [
  {
   "cell_type": "code",
   "execution_count": 2,
   "metadata": {},
   "outputs": [],
   "source": [
    "import pandas as pd\n",
    "import src.condition as con\n",
    "import numpy as np"
   ]
  },
  {
   "cell_type": "code",
   "execution_count": 39,
   "metadata": {
    "scrolled": true
   },
   "outputs": [],
   "source": [
    "data = pd.read_excel('example_data.xlsx')"
   ]
  },
  {
   "cell_type": "code",
   "execution_count": 41,
   "metadata": {},
   "outputs": [],
   "source": [
    "data.duration=pd.to_timedelta(data.duration.astype(str))"
   ]
  },
  {
   "cell_type": "code",
   "execution_count": 44,
   "metadata": {
    "scrolled": true
   },
   "outputs": [
    {
     "data": {
      "text/html": [
       "<div>\n",
       "<style scoped>\n",
       "    .dataframe tbody tr th:only-of-type {\n",
       "        vertical-align: middle;\n",
       "    }\n",
       "\n",
       "    .dataframe tbody tr th {\n",
       "        vertical-align: top;\n",
       "    }\n",
       "\n",
       "    .dataframe thead th {\n",
       "        text-align: right;\n",
       "    }\n",
       "</style>\n",
       "<table border=\"1\" class=\"dataframe\">\n",
       "  <thead>\n",
       "    <tr style=\"text-align: right;\">\n",
       "      <th></th>\n",
       "      <th>date</th>\n",
       "      <th>duration</th>\n",
       "      <th>amplitude</th>\n",
       "    </tr>\n",
       "  </thead>\n",
       "  <tbody>\n",
       "    <tr>\n",
       "      <th>0</th>\n",
       "      <td>2018-09-06 00:00:17</td>\n",
       "      <td>00:00:13</td>\n",
       "      <td>-2</td>\n",
       "    </tr>\n",
       "    <tr>\n",
       "      <th>1</th>\n",
       "      <td>2018-09-06 00:00:39</td>\n",
       "      <td>00:00:22</td>\n",
       "      <td>3</td>\n",
       "    </tr>\n",
       "    <tr>\n",
       "      <th>2</th>\n",
       "      <td>2018-09-06 00:00:48</td>\n",
       "      <td>00:00:09</td>\n",
       "      <td>-1</td>\n",
       "    </tr>\n",
       "    <tr>\n",
       "      <th>3</th>\n",
       "      <td>2018-09-06 00:00:49</td>\n",
       "      <td>00:00:01</td>\n",
       "      <td>4</td>\n",
       "    </tr>\n",
       "    <tr>\n",
       "      <th>4</th>\n",
       "      <td>2018-09-06 00:00:50</td>\n",
       "      <td>00:00:01</td>\n",
       "      <td>-7</td>\n",
       "    </tr>\n",
       "    <tr>\n",
       "      <th>5</th>\n",
       "      <td>2018-09-06 00:00:51</td>\n",
       "      <td>00:00:01</td>\n",
       "      <td>7</td>\n",
       "    </tr>\n",
       "    <tr>\n",
       "      <th>6</th>\n",
       "      <td>2018-09-06 00:00:53</td>\n",
       "      <td>00:00:02</td>\n",
       "      <td>-9</td>\n",
       "    </tr>\n",
       "    <tr>\n",
       "      <th>7</th>\n",
       "      <td>2018-09-06 00:01:01</td>\n",
       "      <td>00:00:08</td>\n",
       "      <td>7</td>\n",
       "    </tr>\n",
       "    <tr>\n",
       "      <th>8</th>\n",
       "      <td>2018-09-06 00:01:04</td>\n",
       "      <td>00:00:03</td>\n",
       "      <td>-11</td>\n",
       "    </tr>\n",
       "    <tr>\n",
       "      <th>9</th>\n",
       "      <td>2018-09-06 00:01:05</td>\n",
       "      <td>00:00:01</td>\n",
       "      <td>5</td>\n",
       "    </tr>\n",
       "    <tr>\n",
       "      <th>10</th>\n",
       "      <td>2018-09-06 00:01:17</td>\n",
       "      <td>00:00:12</td>\n",
       "      <td>-2</td>\n",
       "    </tr>\n",
       "    <tr>\n",
       "      <th>11</th>\n",
       "      <td>2018-09-06 00:01:21</td>\n",
       "      <td>00:00:04</td>\n",
       "      <td>8</td>\n",
       "    </tr>\n",
       "    <tr>\n",
       "      <th>12</th>\n",
       "      <td>2018-09-06 00:01:22</td>\n",
       "      <td>00:00:01</td>\n",
       "      <td>-1</td>\n",
       "    </tr>\n",
       "    <tr>\n",
       "      <th>13</th>\n",
       "      <td>2018-09-06 00:01:24</td>\n",
       "      <td>00:00:02</td>\n",
       "      <td>2</td>\n",
       "    </tr>\n",
       "    <tr>\n",
       "      <th>14</th>\n",
       "      <td>2018-09-06 00:02:11</td>\n",
       "      <td>00:00:47</td>\n",
       "      <td>-9</td>\n",
       "    </tr>\n",
       "    <tr>\n",
       "      <th>15</th>\n",
       "      <td>2018-09-06 00:02:31</td>\n",
       "      <td>00:00:20</td>\n",
       "      <td>6</td>\n",
       "    </tr>\n",
       "    <tr>\n",
       "      <th>16</th>\n",
       "      <td>2018-09-06 00:02:35</td>\n",
       "      <td>00:00:04</td>\n",
       "      <td>-16</td>\n",
       "    </tr>\n",
       "    <tr>\n",
       "      <th>17</th>\n",
       "      <td>2018-09-06 00:04:01</td>\n",
       "      <td>00:01:26</td>\n",
       "      <td>4</td>\n",
       "    </tr>\n",
       "    <tr>\n",
       "      <th>18</th>\n",
       "      <td>2018-09-06 00:04:07</td>\n",
       "      <td>00:00:06</td>\n",
       "      <td>-2</td>\n",
       "    </tr>\n",
       "    <tr>\n",
       "      <th>19</th>\n",
       "      <td>2018-09-06 00:04:12</td>\n",
       "      <td>00:00:05</td>\n",
       "      <td>19</td>\n",
       "    </tr>\n",
       "  </tbody>\n",
       "</table>\n",
       "</div>"
      ],
      "text/plain": [
       "                  date duration  amplitude\n",
       "0  2018-09-06 00:00:17 00:00:13         -2\n",
       "1  2018-09-06 00:00:39 00:00:22          3\n",
       "2  2018-09-06 00:00:48 00:00:09         -1\n",
       "3  2018-09-06 00:00:49 00:00:01          4\n",
       "4  2018-09-06 00:00:50 00:00:01         -7\n",
       "5  2018-09-06 00:00:51 00:00:01          7\n",
       "6  2018-09-06 00:00:53 00:00:02         -9\n",
       "7  2018-09-06 00:01:01 00:00:08          7\n",
       "8  2018-09-06 00:01:04 00:00:03        -11\n",
       "9  2018-09-06 00:01:05 00:00:01          5\n",
       "10 2018-09-06 00:01:17 00:00:12         -2\n",
       "11 2018-09-06 00:01:21 00:00:04          8\n",
       "12 2018-09-06 00:01:22 00:00:01         -1\n",
       "13 2018-09-06 00:01:24 00:00:02          2\n",
       "14 2018-09-06 00:02:11 00:00:47         -9\n",
       "15 2018-09-06 00:02:31 00:00:20          6\n",
       "16 2018-09-06 00:02:35 00:00:04        -16\n",
       "17 2018-09-06 00:04:01 00:01:26          4\n",
       "18 2018-09-06 00:04:07 00:00:06         -2\n",
       "19 2018-09-06 00:04:12 00:00:05         19"
      ]
     },
     "execution_count": 44,
     "metadata": {},
     "output_type": "execute_result"
    }
   ],
   "source": [
    "data"
   ]
  },
  {
   "cell_type": "code",
   "execution_count": 46,
   "metadata": {},
   "outputs": [],
   "source": [
    "bools_duration = data.duration.dt.seconds<4"
   ]
  },
  {
   "cell_type": "code",
   "execution_count": 53,
   "metadata": {},
   "outputs": [],
   "source": [
    "bools_amplitude = get_bools(data.amplitude,5,3)"
   ]
  },
  {
   "cell_type": "code",
   "execution_count": 54,
   "metadata": {},
   "outputs": [],
   "source": [
    "bools=bools_duration & bools_amplitude"
   ]
  },
  {
   "cell_type": "code",
   "execution_count": 56,
   "metadata": {},
   "outputs": [
    {
     "data": {
      "text/plain": [
       "0     False\n",
       "1     False\n",
       "2     False\n",
       "3      True\n",
       "4     False\n",
       "5     False\n",
       "6     False\n",
       "7     False\n",
       "8     False\n",
       "9      True\n",
       "10    False\n",
       "11    False\n",
       "12     True\n",
       "13     True\n",
       "14    False\n",
       "15    False\n",
       "16    False\n",
       "17    False\n",
       "18    False\n",
       "19    False\n",
       "dtype: bool"
      ]
     },
     "execution_count": 56,
     "metadata": {},
     "output_type": "execute_result"
    }
   ],
   "source": [
    "bools"
   ]
  },
  {
   "cell_type": "code",
   "execution_count": 48,
   "metadata": {},
   "outputs": [],
   "source": [
    "signs= sign_data(data.amplitude,bools)"
   ]
  },
  {
   "cell_type": "code",
   "execution_count": 50,
   "metadata": {},
   "outputs": [],
   "source": [
    "data['sign']=signs"
   ]
  },
  {
   "cell_type": "code",
   "execution_count": 66,
   "metadata": {},
   "outputs": [
    {
     "data": {
      "text/html": [
       "<div>\n",
       "<style scoped>\n",
       "    .dataframe tbody tr th:only-of-type {\n",
       "        vertical-align: middle;\n",
       "    }\n",
       "\n",
       "    .dataframe tbody tr th {\n",
       "        vertical-align: top;\n",
       "    }\n",
       "\n",
       "    .dataframe thead th {\n",
       "        text-align: right;\n",
       "    }\n",
       "</style>\n",
       "<table border=\"1\" class=\"dataframe\">\n",
       "  <thead>\n",
       "    <tr style=\"text-align: right;\">\n",
       "      <th></th>\n",
       "      <th>amplitude</th>\n",
       "      <th>duration</th>\n",
       "      <th>date</th>\n",
       "    </tr>\n",
       "    <tr>\n",
       "      <th>sign</th>\n",
       "      <th></th>\n",
       "      <th></th>\n",
       "      <th></th>\n",
       "    </tr>\n",
       "  </thead>\n",
       "  <tbody>\n",
       "    <tr>\n",
       "      <th>1</th>\n",
       "      <td>-2</td>\n",
       "      <td>00:00:13</td>\n",
       "      <td>2018-09-06 00:00:17</td>\n",
       "    </tr>\n",
       "    <tr>\n",
       "      <th>2</th>\n",
       "      <td>3</td>\n",
       "      <td>00:00:22</td>\n",
       "      <td>2018-09-06 00:00:39</td>\n",
       "    </tr>\n",
       "    <tr>\n",
       "      <th>3</th>\n",
       "      <td>-4</td>\n",
       "      <td>00:00:11</td>\n",
       "      <td>2018-09-06 00:00:50</td>\n",
       "    </tr>\n",
       "    <tr>\n",
       "      <th>4</th>\n",
       "      <td>7</td>\n",
       "      <td>00:00:01</td>\n",
       "      <td>2018-09-06 00:00:51</td>\n",
       "    </tr>\n",
       "    <tr>\n",
       "      <th>5</th>\n",
       "      <td>-9</td>\n",
       "      <td>00:00:02</td>\n",
       "      <td>2018-09-06 00:00:53</td>\n",
       "    </tr>\n",
       "    <tr>\n",
       "      <th>6</th>\n",
       "      <td>7</td>\n",
       "      <td>00:00:08</td>\n",
       "      <td>2018-09-06 00:01:01</td>\n",
       "    </tr>\n",
       "    <tr>\n",
       "      <th>7</th>\n",
       "      <td>-8</td>\n",
       "      <td>00:00:16</td>\n",
       "      <td>2018-09-06 00:01:17</td>\n",
       "    </tr>\n",
       "    <tr>\n",
       "      <th>8</th>\n",
       "      <td>9</td>\n",
       "      <td>00:00:07</td>\n",
       "      <td>2018-09-06 00:01:24</td>\n",
       "    </tr>\n",
       "    <tr>\n",
       "      <th>9</th>\n",
       "      <td>-9</td>\n",
       "      <td>00:00:47</td>\n",
       "      <td>2018-09-06 00:02:11</td>\n",
       "    </tr>\n",
       "    <tr>\n",
       "      <th>10</th>\n",
       "      <td>6</td>\n",
       "      <td>00:00:20</td>\n",
       "      <td>2018-09-06 00:02:31</td>\n",
       "    </tr>\n",
       "    <tr>\n",
       "      <th>11</th>\n",
       "      <td>-16</td>\n",
       "      <td>00:00:04</td>\n",
       "      <td>2018-09-06 00:02:35</td>\n",
       "    </tr>\n",
       "    <tr>\n",
       "      <th>12</th>\n",
       "      <td>4</td>\n",
       "      <td>00:01:26</td>\n",
       "      <td>2018-09-06 00:04:01</td>\n",
       "    </tr>\n",
       "    <tr>\n",
       "      <th>13</th>\n",
       "      <td>-2</td>\n",
       "      <td>00:00:06</td>\n",
       "      <td>2018-09-06 00:04:07</td>\n",
       "    </tr>\n",
       "    <tr>\n",
       "      <th>14</th>\n",
       "      <td>19</td>\n",
       "      <td>00:00:05</td>\n",
       "      <td>2018-09-06 00:04:12</td>\n",
       "    </tr>\n",
       "  </tbody>\n",
       "</table>\n",
       "</div>"
      ],
      "text/plain": [
       "      amplitude duration                date\n",
       "sign                                        \n",
       "1            -2 00:00:13 2018-09-06 00:00:17\n",
       "2             3 00:00:22 2018-09-06 00:00:39\n",
       "3            -4 00:00:11 2018-09-06 00:00:50\n",
       "4             7 00:00:01 2018-09-06 00:00:51\n",
       "5            -9 00:00:02 2018-09-06 00:00:53\n",
       "6             7 00:00:08 2018-09-06 00:01:01\n",
       "7            -8 00:00:16 2018-09-06 00:01:17\n",
       "8             9 00:00:07 2018-09-06 00:01:24\n",
       "9            -9 00:00:47 2018-09-06 00:02:11\n",
       "10            6 00:00:20 2018-09-06 00:02:31\n",
       "11          -16 00:00:04 2018-09-06 00:02:35\n",
       "12            4 00:01:26 2018-09-06 00:04:01\n",
       "13           -2 00:00:06 2018-09-06 00:04:07\n",
       "14           19 00:00:05 2018-09-06 00:04:12"
      ]
     },
     "execution_count": 66,
     "metadata": {},
     "output_type": "execute_result"
    }
   ],
   "source": [
    "data.groupby('sign').agg({'amplitude':'sum','duration':'sum','date':chg.last_time})"
   ]
  },
  {
   "cell_type": "code",
   "execution_count": 64,
   "metadata": {},
   "outputs": [],
   "source": [
    "import src.change as chg"
   ]
  },
  {
   "cell_type": "code",
   "execution_count": 49,
   "metadata": {},
   "outputs": [],
   "source": [
    "def get_bools(data : pd.Series, negative_measure : float, pozitive_measure : float) -> pd.Series:\n",
    "    bools=data.apply(condition_amp)\n",
    "    bools[0]=False\n",
    "    return bools"
   ]
  },
  {
   "cell_type": "code",
   "execution_count": 50,
   "metadata": {},
   "outputs": [],
   "source": [
    "def condition_amp(x,negative_measure=4,pozitive_measure=6):\n",
    "    if x <0:\n",
    "        return abs(x)<=negative_measure\n",
    "    if x >0:\n",
    "        return abs(x)<=pozitive_measure"
   ]
  },
  {
   "cell_type": "code",
   "execution_count": 51,
   "metadata": {},
   "outputs": [],
   "source": [
    "def sign_data(data : pd.Series, bools : pd.Series) -> pd.Series:\n",
    "    a=data.mask(bools).fillna(method='ffill')\n",
    "    return np.sign(a).diff().ne(0).cumsum()"
   ]
  },
  {
   "cell_type": "code",
   "execution_count": 51,
   "metadata": {},
   "outputs": [],
   "source": []
  },
  {
   "cell_type": "code",
   "execution_count": 52,
   "metadata": {},
   "outputs": [],
   "source": []
  },
  {
   "cell_type": "code",
   "execution_count": 55,
   "metadata": {},
   "outputs": [],
   "source": []
  },
  {
   "cell_type": "code",
   "execution_count": 56,
   "metadata": {},
   "outputs": [],
   "source": []
  }
 ],
 "metadata": {
  "kernelspec": {
   "display_name": "Python 3",
   "language": "python",
   "name": "python3"
  },
  "language_info": {
   "codemirror_mode": {
    "name": "ipython",
    "version": 3
   },
   "file_extension": ".py",
   "mimetype": "text/x-python",
   "name": "python",
   "nbconvert_exporter": "python",
   "pygments_lexer": "ipython3",
   "version": "3.7.5"
  }
 },
 "nbformat": 4,
 "nbformat_minor": 2
}
